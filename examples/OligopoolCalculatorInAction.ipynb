{
 "cells": [
  {
   "cell_type": "markdown",
   "metadata": {},
   "source": [
    "## `Oligopool Calculator` in Action!"
   ]
  },
  {
   "cell_type": "markdown",
   "metadata": {},
   "source": [
    "**Author** Ayaan Hossain\n",
    "\n",
    "**Updated** September 30, 2024"
   ]
  },
  {
   "cell_type": "markdown",
   "metadata": {},
   "source": [
    "This `jupyter` notebook will demonstrate the usage of `Oligopool Calculator` and describe its many functions."
   ]
  },
  {
   "cell_type": "markdown",
   "metadata": {},
   "source": [
    "### Table of Contents"
   ]
  },
  {
   "cell_type": "markdown",
   "metadata": {},
   "source": [
    "* [Notebook Setup](#Notebook-Setup)\n",
    "* [What is Oligopool Calculator?](#What-is-Oligopool-Calculator?)\n",
    "* [Design Mode Walthrough - An oligopool of 6K ribozyme variants](#Design-Mode-Walkthrough---An-oligopool-of-6K-ribozyme-variants)\n",
    "    * [Simulating the problem](#Simulating-the-problem)\n",
    "    * [Reviewing constraints and formulating gameplan](#Reviewing-constraints-and-formulating-gameplan)\n",
    "    * [Primer design review](#Primer-design-review)\n",
    "    * [Storing the plasmid background](#Storing-the-plasmid-background)\n",
    "    * [Designing the tri-compatible primers](#Designing-the-tri-compatible-primers)\n",
    "    * [Designing orthogonal barcodes](#Designing-orthogonal-barcodes)\n",
    "    * [Adding neutral motifs, spacers and finalizing library](#Adding-neutral-motifs,-spacers-and-finalizing-library)\n",
    "    * [Splitting and padding oligos](#Splitting-and-padding-oligos)"
   ]
  },
  {
   "cell_type": "markdown",
   "metadata": {},
   "source": [
    "### Notebook Setup"
   ]
  },
  {
   "cell_type": "markdown",
   "metadata": {},
   "source": [
    "We will need to have `Oligopool Calculator` installed to proceed. You can install it by uncommenting and executing the following cell."
   ]
  },
  {
   "cell_type": "code",
   "execution_count": 1,
   "metadata": {},
   "outputs": [],
   "source": [
    "# !pip install oligopool"
   ]
  },
  {
   "cell_type": "markdown",
   "metadata": {},
   "source": [
    "Let's import `oligopool`."
   ]
  },
  {
   "cell_type": "code",
   "execution_count": 2,
   "metadata": {},
   "outputs": [],
   "source": [
    "import oligopool as op"
   ]
  },
  {
   "cell_type": "markdown",
   "metadata": {},
   "source": [
    "We will need `numpy` to do some math, and we will use `pandas` as our data container."
   ]
  },
  {
   "cell_type": "code",
   "execution_count": 3,
   "metadata": {},
   "outputs": [],
   "source": [
    "import numpy  as np\n",
    "import pandas as pd"
   ]
  },
  {
   "cell_type": "markdown",
   "metadata": {},
   "source": [
    "We will also need `matplotlib`/`seaborn` for plotting."
   ]
  },
  {
   "cell_type": "code",
   "execution_count": 4,
   "metadata": {},
   "outputs": [],
   "source": [
    "import matplotlib.pyplot as plt\n",
    "import seaborn as sns"
   ]
  },
  {
   "cell_type": "markdown",
   "metadata": {},
   "source": [
    "We're all set."
   ]
  },
  {
   "cell_type": "markdown",
   "metadata": {},
   "source": [
    "### What is Oligopool Calculator?"
   ]
  },
  {
   "cell_type": "markdown",
   "metadata": {},
   "source": [
    "Oligonucleotide pools (oligopools) have revolutionized synthetic biology by enabling large-scale, cost-effective synthesis of hundreds of thousands of unique, short single-stranded DNA sequences."
   ]
  },
  {
   "cell_type": "markdown",
   "metadata": {},
   "source": [
    "These oligopools facilitate the creation and study of various biological components, including de novo promoters, ribozymes, protein scaffolds, and CRISPR libraries. Massively parallel reporter assays (MPRAs) are utilized to clone and assess the functionality of these variants using high-throughput next-generation sequencing (NGS), which can generate billions of short reads per experiment."
   ]
  },
  {
   "cell_type": "markdown",
   "metadata": {},
   "source": [
    "Looking ahead, advancements are expected in the number and length of oligos, NGS throughput, and reductions in manufacturing costs."
   ]
  },
  {
   "cell_type": "markdown",
   "metadata": {},
   "source": [
    "![Oligopool Calculator Workflow](https://raw.githubusercontent.com/ayaanhossain/repfmt/refs/heads/main/oligopool/img/workflow.svg)"
   ]
  },
  {
   "cell_type": "markdown",
   "metadata": {},
   "source": [
    "`Oligopool Calculator` is a comprehensive tool for designing and analyzing large-scale oligonucleotide pools."
   ]
  },
  {
   "cell_type": "markdown",
   "metadata": {},
   "source": [
    "In **(a)** `Design Mode`, the algorithms optimize various elements of the oligopool, including barcodes, primers, spacers, and degenerate motifs. It ensures that these components are maximally distinct, non-repetitive, and free from undesired sequences or structures. The tool also enables the splitting of long oligos into shorter fragments with optimized overlaps for downstream assembly."
   ]
  },
  {
   "cell_type": "markdown",
   "metadata": {},
   "source": [
    "The **(b)** `Analysis Mode` of `Oligopool Calculator` facilitates the processing of next-generation sequencing (NGS) data derived from barcoded amplicons. This mode allows for efficient mapping of variants and their associated barcodes, producing count matrices for quantitative assessment of variant functionality. Two types of counting operations are supported: Association counting for assessing synthesis accuracy, and Combinatorial counting for analyzing multiple barcode combinations from sequencing reads."
   ]
  },
  {
   "cell_type": "markdown",
   "metadata": {},
   "source": [
    "Overall `Oligopool Calculator` provides synthetic biologists with a unified platform for oligopool design and characterization, addressing the need for a standardized approach across different projects and labs. This tool eliminates the need for reinventing design scripts or using suboptimal strategies, making it particularly valuable for designing and analyzing pools containing millions of defined variants."
   ]
  },
  {
   "cell_type": "markdown",
   "metadata": {},
   "source": [
    "### Design Mode Walkthrough - An oligopool of 6K ribozyme variants"
   ]
  },
  {
   "cell_type": "markdown",
   "metadata": {},
   "source": [
    "Suppose we want to design and test a library of 6,232 ribozyme variants based on the following architecture."
   ]
  },
  {
   "cell_type": "markdown",
   "metadata": {},
   "source": [
    "![Ribozyme Library Architecture](https://raw.githubusercontent.com/ayaanhossain/repfmt/refs/heads/main/oligopool/img/architecture.svg)"
   ]
  },
  {
   "cell_type": "markdown",
   "metadata": {},
   "source": [
    "To characterize the activity of our library in _E. coli_ we want to adopt a two-barcode strategy for designing the oligopool. Because ribozymes are self-cleaving, the two barcodes, BC1 and BC2, placed before and after the core variant would be separated after catalysis. This would allow us to count the ratio of their separation to quantify the efficiency of the ribozymes on a proportional scale (i.e., 0 to 100% cleavage efficiency) and normalize against wildtype ribozyme cleavage efficiencies."
   ]
  },
  {
   "cell_type": "markdown",
   "metadata": {},
   "source": [
    "#### Simulating the problem"
   ]
  },
  {
   "cell_type": "markdown",
   "metadata": {},
   "source": [
    "For the purposes of demonstration, let us first generate a random library of 59-73 mers (designing exact ribozymes is beyond the scope here) and assume that the library will be cloned into a 5 kb plasmid backbone for characterization, which we will also generate randomly."
   ]
  },
  {
   "cell_type": "code",
   "execution_count": 5,
   "metadata": {},
   "outputs": [],
   "source": [
    "rng = np.random.default_rng(seed=42)"
   ]
  },
  {
   "cell_type": "code",
   "execution_count": 6,
   "metadata": {},
   "outputs": [],
   "source": [
    "dna = ['A', 'T', 'G', 'C']"
   ]
  },
  {
   "cell_type": "code",
   "execution_count": 7,
   "metadata": {},
   "outputs": [],
   "source": [
    "ribozymes = []\n",
    "while len(ribozymes) < 6232:\n",
    "    variant = ''.join(rng.choice(dna, size=rng.integers(low=59, high=74)))\n",
    "    if 'GAATTC' in variant or 'GACGTC' in variant:\n",
    "        # Skipping if random variant has EcoRI or AatII motif\n",
    "        continue\n",
    "    ribozymes.append(variant)"
   ]
  },
  {
   "cell_type": "code",
   "execution_count": 8,
   "metadata": {},
   "outputs": [
    {
     "data": {
      "image/png": "[encoded data removed]",
      "text/plain": [
       "<Figure size 2000x500 with 1 Axes>"
      ]
     },
     "metadata": {},
     "output_type": "display_data"
    }
   ],
   "source": [
    "fig,ax = plt.subplots(1,1,figsize=(20,5))\n",
    "sns.histplot([len(x) for x in ribozymes], binwidth=1)\n",
    "ax.set_xticks(np.arange(59,74))\n",
    "ax.set_xlabel('Ribozyme Length')\n",
    "plt.show()"
   ]
  },
  {
   "cell_type": "code",
   "execution_count": 9,
   "metadata": {},
   "outputs": [
    {
     "data": {
      "text/plain": [
       "6232"
      ]
     },
     "execution_count": 9,
     "metadata": {},
     "output_type": "execute_result"
    }
   ],
   "source": [
    "len(ribozymes)"
   ]
  },
  {
   "cell_type": "code",
   "execution_count": 10,
   "metadata": {},
   "outputs": [],
   "source": [
    "plasmid = ''.join(rng.choice(dna) for _ in range(5000))"
   ]
  },
  {
   "cell_type": "code",
   "execution_count": 11,
   "metadata": {},
   "outputs": [
    {
     "data": {
      "text/plain": [
       "5000"
      ]
     },
     "execution_count": 11,
     "metadata": {},
     "output_type": "execute_result"
    }
   ],
   "source": [
    "len(plasmid) # 5 kbp long plasmid"
   ]
  },
  {
   "cell_type": "markdown",
   "metadata": {},
   "source": [
    "#### Reviewing constraints and formulating gameplan"
   ]
  },
  {
   "cell_type": "markdown",
   "metadata": {},
   "source": [
    "We have generated 6,232 simulated candidates between 59 to 73 bp in length, and a plasmid of length 5 kbp. We want to use `EcoRI` and `AatII` as our restriction sites as part of the characterization process."
   ]
  },
  {
   "cell_type": "markdown",
   "metadata": {},
   "source": [
    "We can now use `Oligopool Calculator` to design the following.\n",
    "* Three primers, each 20bp in length,\n",
    "* The prefix and suffix barcodes each 11bp in length, and\n",
    "* Variable length spacers ranging from 3 to 17bp to pad the oligos to 170bp."
   ]
  },
  {
   "cell_type": "markdown",
   "metadata": {},
   "source": [
    "As constraints, we aim to have the following.\n",
    "* The primers should not have off-target binding within the library or to the backbone,\n",
    "* Addition of primers, barcodes or spacers should not contain `EcoRI` and `AatII` motifs or introduce them at the edges, and\n",
    "* The barcodes should all have at least 3 mismatches separating each other."
   ]
  },
  {
   "cell_type": "markdown",
   "metadata": {},
   "source": [
    "Other realistic constraints, such as exclusion of all palindomic hexamers, or polymeric runs such as `'AAAAA'`, ..., `'CCCC'` may be included as they were in the original projects, but we will skip those for this demonstration. In reality, constaints will depend on the design project."
   ]
  },
  {
   "cell_type": "markdown",
   "metadata": {},
   "source": [
    "How do we begin? By asking `help` from `Oligopool Calculator`."
   ]
  },
  {
   "cell_type": "code",
   "execution_count": 12,
   "metadata": {
    "scrolled": false
   },
   "outputs": [
    {
     "name": "stdout",
     "output_type": "stream",
     "text": [
      "Help on package oligopool:\n",
      "\n",
      "NAME\n",
      "    oligopool\n",
      "\n",
      "DESCRIPTION\n",
      "    oligopool v2024.10.05\n",
      "    by ah\n",
      "\n",
      "    Automated design and analysis of oligopool libraries.\n",
      "\n",
      "    The various modules in Oligopool Calculator can be used\n",
      "    interactively in a jupyter notebook, or be used to define\n",
      "    scripts for design and analysis pipelines on the cloud.\n",
      "\n",
      "    Oligopool Calculator offers two modes of operation\n",
      "        -   Design Mode for designing oligopool libraries, and\n",
      "        - Analysis Mode for analyzing oligopool datasets.\n",
      "\n",
      "    Design Mode workflow\n",
      "\n",
      "        1. Initialize a pandas DataFrame with core library elements.\n",
      "            a. The DataFrame must contain a unique 'ID' column serving as primary key.\n",
      "            b. All other columns in the DataFrame must be DNA sequences.\n",
      "        2. Define any optional background sequences via the background module.\n",
      "        3. Add necessary oligopool elements with constraints via element modules.\n",
      "        4. Optionally, split long oligos and pad them via assembly modules.\n",
      "        5. Perform length checks as needed and finalize library via auxiliary modules.\n",
      "\n",
      "        Background module available\n",
      "            - background\n",
      "\n",
      "        Element modules available\n",
      "            - primer\n",
      "            - barcode\n",
      "            - spacer\n",
      "            - motif\n",
      "\n",
      "        Auxiliary modules available\n",
      "            - lenstat\n",
      "            - final\n",
      "\n",
      "        Assembly modules available\n",
      "            - split\n",
      "            - pad\n",
      "\n",
      "        Design Mode worfklow example sketch\n",
      "\n",
      "            >>> import pandas as pd\n",
      "            >>> import oligopool as op\n",
      "            >>>\n",
      "            >>> # Read initial library\n",
      "            >>> init_df = pd.read_csv('initial_library.csv')\n",
      "            >>>\n",
      "            >>> # Add oligo elements one by one\n",
      "            >>> barcode_df, stats = op.barcode(input_data=init_df, ...)\n",
      "            >>> primer_df,  stats = op.primer(input_data=barcode_df, ...)\n",
      "            ...\n",
      "            >>> # Check length statistics as needed\n",
      "            >>> length_stats = op.lenstat(input_data=further_along_df)\n",
      "            ...\n",
      "            >>>\n",
      "            >>> # Split and pad longer oligos if needed\n",
      "            >>> split_df, stats = op.split(input_data=even_further_along_df, ...)\n",
      "            >>> first_pad_df,  stats = op.pad(input_data=split_df, ...)\n",
      "            >>> second_pad_df, stats = op.pad(input_data=split_df, ...)\n",
      "            ...\n",
      "            >>> # Finalize the library\n",
      "            >>> final_df, stats = op.final(input_data=ready_to_go_df, ...)\n",
      "            ...\n",
      "\n",
      "    Analysis Mode workflow\n",
      "\n",
      "        1. Index one or more CSVs containing the barcode information.\n",
      "        2. Pack all NGS FastQ files, optionally merging them if required.\n",
      "        3. Use acount for association counting of variants and barcodes.\n",
      "        4. If multiple barcode combinations are to be counted use xcount.\n",
      "        5. Combine count DataFrames and perform stats and ML as necessary.\n",
      "\n",
      "        Indexing module available\n",
      "            - index\n",
      "\n",
      "        Packing module available\n",
      "            - pack\n",
      "\n",
      "        Counting modules available\n",
      "            - acount\n",
      "            - xcount\n",
      "\n",
      "        Analysis Mode worfklow example sketch\n",
      "\n",
      "            >>> import pandas as pd\n",
      "            >>> import oligopool as op\n",
      "            >>>\n",
      "            >>> # Read annotated library\n",
      "            >>> df = pd.read_csv('annotated_final_library.csv')\n",
      "            >>>\n",
      "            >>> # Index the barcodes and save the indexes\n",
      "            >>> bc1_index_stats = op.index(input_data=df, barcode_column='BC1', ...)\n",
      "            >>> bc2_index_stats = op.index(input_data=df, barcode_column='BC2', ...)\n",
      "            ...\n",
      "            >>>\n",
      "            >>> # Pack the FastQ files\n",
      "            >>> sam1_pack_stats = op.pack(r1_file='sample_1_R1.fq.gz', ...)\n",
      "            >>> sam2_pack_stats = op.pack(r1_file='sample_2_R1.fq.gz', ...)\n",
      "            ...\n",
      "            >>>\n",
      "            >>> # Compute and write the barcode combination count matrix\n",
      "            >>> xcount_stats = op.xcount(index_files=['bc1_index', 'bc2_index'],\n",
      "            ...                          pack_file='sample_1_pack', ...)\n",
      "            ...\n",
      "            >>>\n",
      "            >>> # Read the count matrix and continue analysis\n",
      "            >>> count_df = pd.read_csv('sample_1_counts.csv')\n",
      "            ...\n",
      "\n",
      "    You can learn more about each module using help.\n",
      "        >>> import oligopool as op\n",
      "        >>> help(op)\n",
      "        >>> help(op.primer)\n",
      "        >>> help(op.barcode)\n",
      "        ...\n",
      "        >>> help(op.xcount)\n",
      "\n",
      "    For advanced use cases, the following classes are also available.\n",
      "        - vectorDB\n",
      "        - Scry\n",
      "\n",
      "PACKAGE CONTENTS\n",
      "    acount\n",
      "    background\n",
      "    barcode\n",
      "    final\n",
      "    index\n",
      "    lenstat\n",
      "    motif\n",
      "    pack\n",
      "    pad\n",
      "    primer\n",
      "    spacer\n",
      "    split\n",
      "    xcount\n",
      "\n",
      "SUBMODULES\n",
      "    base\n",
      "\n",
      "VERSION\n",
      "    2024.10.05\n",
      "\n",
      "AUTHOR\n",
      "    Ayaan Hossain\n",
      "\n",
      "FILE\n",
      "    /home/ec2-user/dev/oligopool/oligopool/__init__.py\n",
      "\n",
      "\n"
     ]
    }
   ],
   "source": [
    "help(op)"
   ]
  },
  {
   "cell_type": "markdown",
   "metadata": {},
   "source": [
    "Per the help, will need to use the `barcode`, `primer`, and `spacer` modules to add the library elements."
   ]
  },
  {
   "cell_type": "markdown",
   "metadata": {},
   "source": [
    "#### Primer design review"
   ]
  },
  {
   "cell_type": "markdown",
   "metadata": {},
   "source": [
    "Generally, primers are the most constrained elements in an oligopool library because they have to follow a desired sequence constraint (such as `5'-GC` clamps), be free of inhibitory secondary structures, be very specific to the library and have minimal off-targeting to background. We recommended designing primers first."
   ]
  },
  {
   "cell_type": "markdown",
   "metadata": {},
   "source": [
    "![Primer Design](https://raw.githubusercontent.com/ayaanhossain/repfmt/refs/heads/main/oligopool/img/primer.svg)"
   ]
  },
  {
   "cell_type": "markdown",
   "metadata": {},
   "source": [
    "At any step in the design process if we get stuck, `Oligopool Calculator` will tell us what is preventing it from succeeding and we can relax or modify our constraints accordingly."
   ]
  },
  {
   "cell_type": "markdown",
   "metadata": {},
   "source": [
    "How do we design primers?"
   ]
  },
  {
   "cell_type": "code",
   "execution_count": 13,
   "metadata": {
    "scrolled": false
   },
   "outputs": [
    {
     "name": "stdout",
     "output_type": "stream",
     "text": [
      "Help on function primer in module oligopool.primer:\n",
      "\n",
      "primer(input_data: str | pandas.core.frame.DataFrame, oligo_length_limit: int, primer_sequence_constraint: str, primer_type: int, minimum_melting_temperature: float, maximum_melting_temperature: float, maximum_repeat_length: int, primer_column: str, output_file: str | None = None, paired_primer_column: str | None = None, left_context_column: str | None = None, right_context_column: str | None = None, excluded_motifs: list | str | pandas.core.frame.DataFrame | None = None, background_directory: str | None = None, verbose: bool = True) -> Tuple[pandas.core.frame.DataFrame, dict]\n",
      "    Designs constrained primers with specified melting temperature and non-repetitiveness\n",
      "    for all variants in the oligopool. Ensures compatibility with paired primers and minimizes\n",
      "    dimer formation. Returns a DataFrame of designed primers, optionally saving to `output_file`\n",
      "    in CSV format.\n",
      "\n",
      "    Required Parameters:\n",
      "        - `input_data` (`str` / `pd.DataFrame`): Path to a CSV file or DataFrame with annotated oligopool variants.\n",
      "        - `oligo_length_limit` (`int`): Maximum allowed oligo length (≥ 4).\n",
      "        - `primer_sequence_constraint` (`int`): IUPAC degenerate sequence constraint.\n",
      "        - `primer_type` (`int`): Primer type (0 for forward, 1 for reverse).\n",
      "        - `minimum_melting_temperature` (`float`): Minimum primer Tm (≥ 25°C).\n",
      "        - `maximum_melting_temperature` (`float`): Maximum primer Tm (≤ 95°C).\n",
      "        - `maximum_repeat_length` (`int`): Max shared repeat length with oligos (≥ 6).\n",
      "        - `primer_column` (`str`): Column name for the designed primer.\n",
      "\n",
      "    Optional Parameters:\n",
      "        - `output_file` (`str` / `None`): Filename for output DataFrame (default: `None`).\n",
      "        - `paired_primer_column` (`str` / `None`): Column for paired primer sequence (default: `None`).\n",
      "        - `left_context_column` (`str` / `None`): Column for left DNA context (default: `None`).\n",
      "        - `right_context_column` (`str` / `None`): Column for right DNA context (default: `None`).\n",
      "        - `excluded_motifs` (`list` / `str` / `pd.DataFrame` / `None`): Motifs to exclude;\n",
      "            can be a CSV path or DataFrame (default: `None`).\n",
      "        - `background_directory` (`str` / `None`): Directory for background k-mer sequences (default: `None`).\n",
      "        - `verbose` (`bool`): If `True`, logs updates to stdout (default: `True`).\n",
      "\n",
      "    Returns:\n",
      "        - A pandas DataFrame of designed primers; saves to `output_file` if specified.\n",
      "        - A dictionary of stats from the last step in pipeline.\n",
      "\n",
      "    Notes:\n",
      "        - `input_data` must contain a unique 'ID' column, all other columns must be non-empty DNA strings.\n",
      "        - Column names in `input_data` must be unique, and exclude `primer_column`.\n",
      "        - At least one of `left_context_column` or `right_context_column` must be specified.\n",
      "        - The paired primer type is inferred based on the current primer type.\n",
      "        - If a paired primer is specified, Tm of the designed primer is optimized within 1°C of it.\n",
      "        - `maximum_repeat_length` controls non-repetitiveness against `input_data` only, not `background`.\n",
      "        - If `excluded_motifs` is a CSV or DataFrame, it must have 'ID' and 'Exmotif' columns.\n",
      "        - Constant motifs in sequence constraint may lead to sub-optimal primers.\n",
      "\n"
     ]
    }
   ],
   "source": [
    "help(op.primer)"
   ]
  },
  {
   "cell_type": "markdown",
   "metadata": {},
   "source": [
    "Two things should stand out here."
   ]
  },
  {
   "cell_type": "markdown",
   "metadata": {},
   "source": [
    "First, primer design involves consideration of background sequences to minimize off-target amplification, such as from the plasmid we set up. We will need to compute this information prior to primer design."
   ]
  },
  {
   "cell_type": "markdown",
   "metadata": {},
   "source": [
    "Second, primer design involves consideration of pairing information. If we only had two primers (one forward and one reverse) the order of their design would not matter. But in our problem, there are two forward primers (pink and orange) both of which are coupled to a single reverse primer (yellow). It will be important to design them in the right order, as we will discuss shortly."
   ]
  },
  {
   "cell_type": "markdown",
   "metadata": {},
   "source": [
    "Let us first solve the background problem."
   ]
  },
  {
   "cell_type": "markdown",
   "metadata": {},
   "source": [
    "#### Storing the plasmid background"
   ]
  },
  {
   "cell_type": "markdown",
   "metadata": {},
   "source": [
    "`Oligopool Calculator` makes it easy to define a background for primer design via the `background` module."
   ]
  },
  {
   "cell_type": "code",
   "execution_count": 14,
   "metadata": {},
   "outputs": [
    {
     "name": "stdout",
     "output_type": "stream",
     "text": [
      "Help on function background in module oligopool.background:\n",
      "\n",
      "background(input_data: list | str | pandas.core.frame.DataFrame, maximum_repeat_length: int, output_directory: str, verbose=True) -> dict\n",
      "    The background function creates a k-mer database from a list or CSV file of background sequences.\n",
      "    This database is used during primer design to ensure primers are non-repetitive to the background,\n",
      "    minimizing off-target amplification. Non-repetitiveness is regulated by the maximum shared repeat\n",
      "    length parameter. The generated database is saved in the specified `output_directory`.\n",
      "\n",
      "    Required Parameters:\n",
      "        - `input_data` (`list` / `str` / `pd.DataFrame`): background for primers; can be a CSV file or a DataFrame.\n",
      "        - `maximum_repeat_length` (`int`): Max repeat length between primers and background (between 6 and 20).\n",
      "        - `output_directory` (`str`): Directory to store the generated background k-mer database.\n",
      "        - `verbose` (`bool`): If `True`, logs updates to stdout (default: `True`).\n",
      "\n",
      "    Returns:\n",
      "        - A dictionary of stats from the last step in pipeline.\n",
      "\n",
      "    Notes:\n",
      "        - If `input_data` is a CSV or DataFrame, must contain 'ID' and a 'Sequence' column with DNA strings.\n",
      "        - `maximum_repeat_length` here controls non-repetitiveness of primers to `background` only.\n",
      "        - For manipulation, use `vectorDB` to operate on the background (see `help(oligopool.vectorDB)`).\n",
      "\n"
     ]
    }
   ],
   "source": [
    "help(op.background)"
   ]
  },
  {
   "cell_type": "markdown",
   "metadata": {},
   "source": [
    "> **Note:** If you want to modify the background post-hoc, or want to define your background using a custom strategy, directly use the `vectorDB` module, which behaves like a dictionary. For details use `help(op.vectorDB)`. The `background` module just wraps around it and offers an one-time use simple interface to `vectorDB`."
   ]
  },
  {
   "cell_type": "code",
   "execution_count": 15,
   "metadata": {},
   "outputs": [],
   "source": [
    "background_directory = 'demo.oligopool.background' # Path to store our background"
   ]
  },
  {
   "cell_type": "markdown",
   "metadata": {},
   "source": [
    "Let's remove the background if one exists already, for this demonstration."
   ]
  },
  {
   "cell_type": "code",
   "execution_count": 16,
   "metadata": {},
   "outputs": [],
   "source": [
    "!rm -rf $background_directory"
   ]
  },
  {
   "cell_type": "markdown",
   "metadata": {},
   "source": [
    "Execute the `background` module."
   ]
  },
  {
   "cell_type": "code",
   "execution_count": 17,
   "metadata": {},
   "outputs": [
    {
     "name": "stdout",
     "output_type": "stream",
     "text": [
      "\n",
      "[Oligopool Calculator: Design Mode - Background]\n",
      "                                                  \n",
      " Required Arguments\n",
      " Background      Data: 1 Unique Sequence(s)\n",
      "    Maximum    Repeat: Up to 8 Base Pair(s) Background Repeats\n",
      "     Output Directory: demo.oligopool.background               \n",
      "                                                 \n",
      "[Computing Background]\n",
      " Sequence 1: TAGCTCAGACGTCGCCTCGA... Inserted\n",
      " Time Elapsed: 0.02 sec                       \n",
      "                        \n",
      "[Background Statistics]\n",
      " Background Status: Successful\n",
      "      k-mer  Space: 131,072 Unique 9-mers\n",
      "       Fill  Count:   4,888 Unique 9-mers (  3.73 %)\n",
      "       Left  Count: 126,184 Unique 9-mers ( 96.27 %) \n",
      " Time Elapsed: 0.03 sec                              \n",
      "\n"
     ]
    }
   ],
   "source": [
    "background_stats = op.background(\n",
    "    input_data=plasmid,\n",
    "    maximum_repeat_length=8,\n",
    "    output_directory=background_directory)"
   ]
  },
  {
   "cell_type": "code",
   "execution_count": 18,
   "metadata": {},
   "outputs": [
    {
     "data": {
      "text/plain": [
       "{'status': True,\n",
       " 'basis': 'solved',\n",
       " 'step': 1,\n",
       " 'step_name': 'computing-background',\n",
       " 'vars': {'kmer_space': 131072, 'fill_count': 4888, 'left_count': 126184},\n",
       " 'warns': {}}"
      ]
     },
     "execution_count": 18,
     "metadata": {},
     "output_type": "execute_result"
    }
   ],
   "source": [
    "background_stats"
   ]
  },
  {
   "cell_type": "markdown",
   "metadata": {},
   "source": [
    "We've now stored the background, and are ready to design the three primers."
   ]
  },
  {
   "cell_type": "markdown",
   "metadata": {},
   "source": [
    "> **Note**: All `Oligopool Calculator` functions should return a pipeline statistics dictionary recapitulating the output from the last step performed in the function. If the operation completed successfully, the `status` key will be marked as `True` and `basis` will be marked as `'solved'`."
   ]
  },
  {
   "cell_type": "markdown",
   "metadata": {},
   "source": [
    "#### Designing the tri-compatible primers"
   ]
  },
  {
   "cell_type": "markdown",
   "metadata": {},
   "source": [
    "All `Design Mode` input and output is mediated through a `pandas` `DataFrame` to facilitate carefully piplined designs. Let us store the variant candidates in a dataframe and start the design process."
   ]
  },
  {
   "cell_type": "code",
   "execution_count": 19,
   "metadata": {},
   "outputs": [],
   "source": [
    "df = pd.DataFrame({\n",
    "    'ID': [f'ribozyme_{x+1:04d}' for x in range(len(ribozymes))],\n",
    "    'EcoRI': 'GAATTC',\n",
    "    'Variant':ribozymes,\n",
    "    'AatII': 'GACGTC',\n",
    "})"
   ]
  },
  {
   "cell_type": "code",
   "execution_count": 20,
   "metadata": {},
   "outputs": [
    {
     "data": {
      "text/html": [
       "<div>\n",
       "<style scoped>\n",
       "    .dataframe tbody tr th:only-of-type {\n",
       "        vertical-align: middle;\n",
       "    }\n",
       "\n",
       "    .dataframe tbody tr th {\n",
       "        vertical-align: top;\n",
       "    }\n",
       "\n",
       "    .dataframe thead th {\n",
       "        text-align: right;\n",
       "    }\n",
       "</style>\n",
       "<table border=\"1\" class=\"dataframe\">\n",
       "  <thead>\n",
       "    <tr style=\"text-align: right;\">\n",
       "      <th></th>\n",
       "      <th>ID</th>\n",
       "      <th>EcoRI</th>\n",
       "      <th>Variant</th>\n",
       "      <th>AatII</th>\n",
       "    </tr>\n",
       "  </thead>\n",
       "  <tbody>\n",
       "    <tr>\n",
       "      <th>6227</th>\n",
       "      <td>ribozyme_6228</td>\n",
       "      <td>GAATTC</td>\n",
       "      <td>GTTTCTTCTTGCAGTGGTCGGGTGAAGGTCGTTGACGGTCTTCACA...</td>\n",
       "      <td>GACGTC</td>\n",
       "    </tr>\n",
       "    <tr>\n",
       "      <th>6228</th>\n",
       "      <td>ribozyme_6229</td>\n",
       "      <td>GAATTC</td>\n",
       "      <td>CGAATGCTCAAACCCCGACAGGTTGCTTAGCGTGTTGACAGGTTTT...</td>\n",
       "      <td>GACGTC</td>\n",
       "    </tr>\n",
       "    <tr>\n",
       "      <th>6229</th>\n",
       "      <td>ribozyme_6230</td>\n",
       "      <td>GAATTC</td>\n",
       "      <td>CGGCCTAATGCCACGCAGCTTGTCATCTCTGTTAGCGACCATAATT...</td>\n",
       "      <td>GACGTC</td>\n",
       "    </tr>\n",
       "    <tr>\n",
       "      <th>6230</th>\n",
       "      <td>ribozyme_6231</td>\n",
       "      <td>GAATTC</td>\n",
       "      <td>TATGTCGAAGACGAATGTGAAAACACAATAACGGTATCGTATGCGA...</td>\n",
       "      <td>GACGTC</td>\n",
       "    </tr>\n",
       "    <tr>\n",
       "      <th>6231</th>\n",
       "      <td>ribozyme_6232</td>\n",
       "      <td>GAATTC</td>\n",
       "      <td>GTGTGGAAGAAATAATGAGAGTAGGCAAGTAGGATCACCTTTTGGC...</td>\n",
       "      <td>GACGTC</td>\n",
       "    </tr>\n",
       "  </tbody>\n",
       "</table>\n",
       "</div>"
      ],
      "text/plain": [
       "                 ID   EcoRI  \\\n",
       "6227  ribozyme_6228  GAATTC   \n",
       "6228  ribozyme_6229  GAATTC   \n",
       "6229  ribozyme_6230  GAATTC   \n",
       "6230  ribozyme_6231  GAATTC   \n",
       "6231  ribozyme_6232  GAATTC   \n",
       "\n",
       "                                                Variant   AatII  \n",
       "6227  GTTTCTTCTTGCAGTGGTCGGGTGAAGGTCGTTGACGGTCTTCACA...  GACGTC  \n",
       "6228  CGAATGCTCAAACCCCGACAGGTTGCTTAGCGTGTTGACAGGTTTT...  GACGTC  \n",
       "6229  CGGCCTAATGCCACGCAGCTTGTCATCTCTGTTAGCGACCATAATT...  GACGTC  \n",
       "6230  TATGTCGAAGACGAATGTGAAAACACAATAACGGTATCGTATGCGA...  GACGTC  \n",
       "6231  GTGTGGAAGAAATAATGAGAGTAGGCAAGTAGGATCACCTTTTGGC...  GACGTC  "
      ]
     },
     "execution_count": 20,
     "metadata": {},
     "output_type": "execute_result"
    }
   ],
   "source": [
    "df.tail(5)"
   ]
  },
  {
   "cell_type": "markdown",
   "metadata": {},
   "source": [
    "Given that the primers are coupled, an optimal solution here is to design the innermost (pink) forward primer first, and then design the reverse primer (yellow), followed by designing the outermost (orange) forward primer. This allows all three primers to be compatible with each other."
   ]
  },
  {
   "cell_type": "markdown",
   "metadata": {},
   "source": [
    "An alternate solution would involve designing the (yellow) reverse primer first, and then designing the two forward primers successively."
   ]
  },
  {
   "cell_type": "markdown",
   "metadata": {},
   "source": [
    "However, if we designed the (yellow) reverse primer at the end, it would be difficult to ensure that it is compatible with both forward primers simultaneously."
   ]
  },
  {
   "cell_type": "code",
   "execution_count": 21,
   "metadata": {},
   "outputs": [],
   "source": [
    "# help(op.primer)"
   ]
  },
  {
   "cell_type": "code",
   "execution_count": 22,
   "metadata": {
    "scrolled": true
   },
   "outputs": [
    {
     "name": "stdout",
     "output_type": "stream",
     "text": [
      "\n",
      "[Oligopool Calculator: Design Mode - Primer]\n",
      "                                              \n",
      " Required Arguments\n",
      "      Input Data       : DataFrame w/ 6,232 Record(s)\n",
      "      Oligo Limit      : At most 170 Base Pair(s)     \n",
      "     Primer Sequence   : A 20 Base Pair IUPAC Constraint\n",
      "     Primer Type       : Forward Primer Design           \n",
      "    Melting Temperature: 53 to 55 °C           \n",
      "     Repeat Length     : Up to 8 Base Pair(s) Oligopool Repeats\n",
      "     Primer Column     : Output in Column 'PinkForwardPrimer'   \n",
      "     Output File       : In-Memory DataFrame                  \n",
      "                                             \n",
      " Optional Arguments\n",
      "     Paired Primer     : None Specified\n",
      "       Left Context    : Input from Column 'Variant'\n",
      "      Right Context    : Input from Column 'AatII'   \n",
      "   Excluded Motifs     : 2 Unique Motif(s)         \n",
      " Background Database   : Contains 4,888 Unique 9-mers\n",
      "                                                      \n",
      "[Step 1: Parsing Oligo Limit]\n",
      " Maximum Oligo Length:  170 Base Pair(s)\n",
      " Input Variant Length:   71 to 85 Base Pair(s)\n",
      "  Reqd. Primer Length:   20 Base Pair(s)       \n",
      " Free Space Available:   85 to 99 Base Pair(s)\n",
      " Time Elapsed: 0.01 sec                        \n",
      " Verdict: Primer Design Possibly Feasible\n",
      "                                          \n",
      "[Step 2: Parsing Excluded Motifs]\n",
      " Sorted and Enqued: 2 Unique Excluded Motif(s)\n",
      " Excluded Motif Length Distribution              \n",
      "   - 2 Motif(s) of Length 6         \n",
      " Time Elapsed: 0.00 sec                         \n",
      " Verdict: Primer Design Possibly Feasible\n",
      "                                          \n",
      "[Step 3: Parsing Primer Sequence]\n",
      " Design Space: 274,877,906,944 Possible Primer(s)\n",
      " Found 0 Excluded Motif(s)                        \n",
      " Found 0 Internal Repeat(s)             \n",
      " Found 0 Palindrome(s)             \n",
      " Found 0 Paired Repeat(s)\n",
      " Time Elapsed: 0.00 sec   \n",
      " Verdict: Primer Design Possibly Feasible\n",
      "                                          \n",
      "[Step 4: Parsing Melting Temperature]\n",
      "  Parameter Source: From Input Argument(s)\n",
      " Required Tm Range: 53.00 to 55.00 °C      \n",
      " Possible Tm Range: 23.22 to 71.93 °C             \n",
      "  Updated Tm Range: 53.00 to 55.00 °C \n",
      " Found 0 Melting Temperature Conflict(s)\n",
      " Time Elapsed: 2.21 sec                  \n",
      " Verdict: Primer Design Possibly Feasible\n",
      "                                          \n",
      "[Step 5: Extracting Context Sequences]\n",
      "  Left Context: 3,170 Unique Sequence(s)            \n",
      " Right Context:     1 Unique Sequence(s) \n",
      "  Time Elapsed: 0.02 sec                 \n",
      "                         \n",
      "[Step 6: Parsing Edge Effects]\n",
      "  Left Context 3,170: ...GCATGA Prevents 3 Prefix(es)\n",
      " Right Context     1: GACGTC... Prevents 1 Suffix(es)\n",
      " Time Elapsed: 0.85 sec        \n",
      " Verdict: Primer Design Possibly Feasible\n",
      "                                          \n",
      "[Step 7: Parsing Oligopool Repeats]\n",
      " Repeat Source: From Entire Oligopool\n",
      "  k-mer Space : 131,072 Unique 9-mers \n",
      "   Fill Count : 124,612 Unique 9-mers ( 95.07 %)\n",
      "   Free Count :   6,460 Unique 9-mers (  4.93 %) \n",
      " Verdict: Primer Design Possibly Feasible        \n",
      " Time Elapsed: 1.65 sec                   \n",
      "                        \n",
      "[Step 8: Computing Primer]\n",
      " Candidate: Primer GGCAATCTGTCACGCACCTT is Accepted                           \n",
      " Time Elapsed: 0.03 sec\n",
      "                        \n",
      "[Primer Design Statistics]\n",
      "      Design Status     : Successful\n",
      "     Melting Temperature:  53.36 °C  \n",
      "          GC Content    :  55.00 %  \n",
      "     Hairpin MFE        :   0.00 kcal/mol\n",
      "   Homodimer MFE        :  -4.77 kcal/mol \n",
      " Time Elapsed: 4.76 sec                   \n",
      "\n"
     ]
    }
   ],
   "source": [
    "df, stats = op.primer(\n",
    "    input_data=df,\n",
    "    oligo_length_limit=170,                    # Must not exceed 170bp at any stage\n",
    "    primer_sequence_constraint='N'*18 + 'WW',  # The last two bases must be weak\n",
    "    primer_type=0,                             # This is a forward primer\n",
    "    primer_column='PinkForwardPrimer',         # Store designs in 'PinkForwardPrimer' column\n",
    "    left_context_column='Variant',             # Next to 'Variant' column\n",
    "    right_context_column='AatII',              # Before 'AatII' column\n",
    "    paired_primer_column=None,                 # No paired primer yet\n",
    "    excluded_motifs=['GAATTC', 'GACGTC'],      # Ensure EcoRI and AatII do not emerge as motifs\n",
    "    minimum_melting_temperature=53,            # Tm = 53°C at least\n",
    "    maximum_melting_temperature=55,            # Tm = 55°C at most\n",
    "    maximum_repeat_length=8,                   # No more than 8-mer repeats allowed\n",
    "    background_directory=background_directory, # As setup before\n",
    "    output_file=None)                          # In-memory return, no CSV written here"
   ]
  },
  {
   "cell_type": "markdown",
   "metadata": {},
   "source": [
    "The designed primer is predicted to be free from hairpin structures with low homodimer probability."
   ]
  },
  {
   "cell_type": "markdown",
   "metadata": {},
   "source": [
    "Let us now design the two remaining primers in silent mode."
   ]
  },
  {
   "cell_type": "code",
   "execution_count": 23,
   "metadata": {},
   "outputs": [],
   "source": [
    "df, _ = op.primer(\n",
    "    input_data=df,                               # Updated DataFrame along pipeline chain\n",
    "    oligo_length_limit=170,\n",
    "    primer_sequence_constraint='WW' + 'N'*18,    # Last two bases must be weak in reverse complement\n",
    "    primer_type=1,                               # This is a reverse primer\n",
    "    primer_column='YellowReversePrimer',         # Store designs in 'YellowReversePrimer' column\n",
    "    left_context_column='PinkForwardPrimer',     # Next to 'PinkForwardPrimer' column\n",
    "    right_context_column='AatII',                # Before 'AatII' column\n",
    "    paired_primer_column='PinkForwardPrimer',    # Yellow reverse primer paired with pink forward primer\n",
    "    minimum_melting_temperature=53,\n",
    "    maximum_melting_temperature=55,\n",
    "    maximum_repeat_length=8,\n",
    "    excluded_motifs=['GAATTC', 'GACGTC'],\n",
    "    background_directory=background_directory,\n",
    "    verbose=False)                               # Silent Mode"
   ]
  },
  {
   "cell_type": "code",
   "execution_count": 24,
   "metadata": {},
   "outputs": [],
   "source": [
    "df, _ = op.primer(\n",
    "    input_data=df,                                # Updated DataFrame along pipeline chain\n",
    "    oligo_length_limit=170,\n",
    "    primer_sequence_constraint='N'*18 + 'WW',     # The last two bases must be weak\n",
    "    primer_type=0,                                # This is a forward primer\n",
    "    primer_column='OrangeForwardPrimer',          # Store designs in 'OrangeForwardPrimer' column\n",
    "    left_context_column='EcoRI',                  # Next to 'EcoRI' column\n",
    "    right_context_column='Variant',               # Before 'Variant' column\n",
    "    paired_primer_column='YellowReversePrimer',   # Orange forward primer paired with yellow reverse primer\n",
    "    minimum_melting_temperature=53,\n",
    "    maximum_melting_temperature=55,\n",
    "    maximum_repeat_length=8,\n",
    "    excluded_motifs=['GAATTC', 'GACGTC'],\n",
    "    background_directory=background_directory,\n",
    "    verbose=False)"
   ]
  },
  {
   "cell_type": "code",
   "execution_count": 25,
   "metadata": {},
   "outputs": [
    {
     "data": {
      "text/html": [
       "<div>\n",
       "<style scoped>\n",
       "    .dataframe tbody tr th:only-of-type {\n",
       "        vertical-align: middle;\n",
       "    }\n",
       "\n",
       "    .dataframe tbody tr th {\n",
       "        vertical-align: top;\n",
       "    }\n",
       "\n",
       "    .dataframe thead th {\n",
       "        text-align: right;\n",
       "    }\n",
       "</style>\n",
       "<table border=\"1\" class=\"dataframe\">\n",
       "  <thead>\n",
       "    <tr style=\"text-align: right;\">\n",
       "      <th></th>\n",
       "      <th>EcoRI</th>\n",
       "      <th>OrangeForwardPrimer</th>\n",
       "      <th>Variant</th>\n",
       "      <th>PinkForwardPrimer</th>\n",
       "      <th>YellowReversePrimer</th>\n",
       "      <th>AatII</th>\n",
       "    </tr>\n",
       "    <tr>\n",
       "      <th>ID</th>\n",
       "      <th></th>\n",
       "      <th></th>\n",
       "      <th></th>\n",
       "      <th></th>\n",
       "      <th></th>\n",
       "      <th></th>\n",
       "    </tr>\n",
       "  </thead>\n",
       "  <tbody>\n",
       "    <tr>\n",
       "      <th>ribozyme_0001</th>\n",
       "      <td>GAATTC</td>\n",
       "      <td>TCAGCCACGCATGTCCATAA</td>\n",
       "      <td>CGTTCAGAAGCGCGCGACTGTACCGTCGTTAAGCACCTGACGTACT...</td>\n",
       "      <td>GGCAATCTGTCACGCACCTT</td>\n",
       "      <td>ATATGTTAGGGGGGAGCGGG</td>\n",
       "      <td>GACGTC</td>\n",
       "    </tr>\n",
       "    <tr>\n",
       "      <th>ribozyme_0002</th>\n",
       "      <td>GAATTC</td>\n",
       "      <td>TCAGCCACGCATGTCCATAA</td>\n",
       "      <td>TCTTCTATCATAGTTAGGCTACGGATCCTCCTCTAGGACACACCCG...</td>\n",
       "      <td>GGCAATCTGTCACGCACCTT</td>\n",
       "      <td>ATATGTTAGGGGGGAGCGGG</td>\n",
       "      <td>GACGTC</td>\n",
       "    </tr>\n",
       "    <tr>\n",
       "      <th>ribozyme_0003</th>\n",
       "      <td>GAATTC</td>\n",
       "      <td>TCAGCCACGCATGTCCATAA</td>\n",
       "      <td>GCTGATTCATTCCAACACTCTTGAGGCCGTTTCTATAAACGGTGAC...</td>\n",
       "      <td>GGCAATCTGTCACGCACCTT</td>\n",
       "      <td>ATATGTTAGGGGGGAGCGGG</td>\n",
       "      <td>GACGTC</td>\n",
       "    </tr>\n",
       "    <tr>\n",
       "      <th>ribozyme_0004</th>\n",
       "      <td>GAATTC</td>\n",
       "      <td>TCAGCCACGCATGTCCATAA</td>\n",
       "      <td>CATATCTCTGTTCCTCTGCTGTAATCATGAGTCGGATCACTGGTTG...</td>\n",
       "      <td>GGCAATCTGTCACGCACCTT</td>\n",
       "      <td>ATATGTTAGGGGGGAGCGGG</td>\n",
       "      <td>GACGTC</td>\n",
       "    </tr>\n",
       "    <tr>\n",
       "      <th>ribozyme_0005</th>\n",
       "      <td>GAATTC</td>\n",
       "      <td>TCAGCCACGCATGTCCATAA</td>\n",
       "      <td>GCATCCGTTGGTAACTTTCAATTGTTCAGGTCTCTGGCTTATCACG...</td>\n",
       "      <td>GGCAATCTGTCACGCACCTT</td>\n",
       "      <td>ATATGTTAGGGGGGAGCGGG</td>\n",
       "      <td>GACGTC</td>\n",
       "    </tr>\n",
       "  </tbody>\n",
       "</table>\n",
       "</div>"
      ],
      "text/plain": [
       "                EcoRI   OrangeForwardPrimer  \\\n",
       "ID                                            \n",
       "ribozyme_0001  GAATTC  TCAGCCACGCATGTCCATAA   \n",
       "ribozyme_0002  GAATTC  TCAGCCACGCATGTCCATAA   \n",
       "ribozyme_0003  GAATTC  TCAGCCACGCATGTCCATAA   \n",
       "ribozyme_0004  GAATTC  TCAGCCACGCATGTCCATAA   \n",
       "ribozyme_0005  GAATTC  TCAGCCACGCATGTCCATAA   \n",
       "\n",
       "                                                         Variant  \\\n",
       "ID                                                                 \n",
       "ribozyme_0001  CGTTCAGAAGCGCGCGACTGTACCGTCGTTAAGCACCTGACGTACT...   \n",
       "ribozyme_0002  TCTTCTATCATAGTTAGGCTACGGATCCTCCTCTAGGACACACCCG...   \n",
       "ribozyme_0003  GCTGATTCATTCCAACACTCTTGAGGCCGTTTCTATAAACGGTGAC...   \n",
       "ribozyme_0004  CATATCTCTGTTCCTCTGCTGTAATCATGAGTCGGATCACTGGTTG...   \n",
       "ribozyme_0005  GCATCCGTTGGTAACTTTCAATTGTTCAGGTCTCTGGCTTATCACG...   \n",
       "\n",
       "                  PinkForwardPrimer   YellowReversePrimer   AatII  \n",
       "ID                                                                 \n",
       "ribozyme_0001  GGCAATCTGTCACGCACCTT  ATATGTTAGGGGGGAGCGGG  GACGTC  \n",
       "ribozyme_0002  GGCAATCTGTCACGCACCTT  ATATGTTAGGGGGGAGCGGG  GACGTC  \n",
       "ribozyme_0003  GGCAATCTGTCACGCACCTT  ATATGTTAGGGGGGAGCGGG  GACGTC  \n",
       "ribozyme_0004  GGCAATCTGTCACGCACCTT  ATATGTTAGGGGGGAGCGGG  GACGTC  \n",
       "ribozyme_0005  GGCAATCTGTCACGCACCTT  ATATGTTAGGGGGGAGCGGG  GACGTC  "
      ]
     },
     "execution_count": 25,
     "metadata": {},
     "output_type": "execute_result"
    }
   ],
   "source": [
    "df.head(5)"
   ]
  },
  {
   "cell_type": "markdown",
   "metadata": {},
   "source": [
    "All our primers are installed. Barcodes up next!"
   ]
  },
  {
   "cell_type": "markdown",
   "metadata": {},
   "source": [
    "Before that, since we're done with the background let's drop it."
   ]
  },
  {
   "cell_type": "code",
   "execution_count": 26,
   "metadata": {},
   "outputs": [
    {
     "data": {
      "text/plain": [
       "True"
      ]
     },
     "execution_count": 26,
     "metadata": {},
     "output_type": "execute_result"
    }
   ],
   "source": [
    "op.vectorDB(background_directory, maximum_repeat_length=11).drop()"
   ]
  },
  {
   "cell_type": "markdown",
   "metadata": {},
   "source": [
    "#### Designing orthogonal barcodes"
   ]
  },
  {
   "cell_type": "markdown",
   "metadata": {},
   "source": [
    "Barcodes are critical elements that help identify each variant uniquely, especially when the core oligo variants are similar to each other. `Oligopool Calculator` maximizes barcode distinguishability which is useful, for example, when the library is exploring all single substitutions to a template."
   ]
  },
  {
   "cell_type": "markdown",
   "metadata": {},
   "source": [
    "![Barcode Design](https://raw.githubusercontent.com/ayaanhossain/repfmt/refs/heads/main/oligopool/img/barcode.svg)"
   ]
  },
  {
   "cell_type": "code",
   "execution_count": 27,
   "metadata": {},
   "outputs": [
    {
     "name": "stdout",
     "output_type": "stream",
     "text": [
      "Help on function barcode in module oligopool.barcode:\n",
      "\n",
      "barcode(input_data: str | pandas.core.frame.DataFrame, oligo_length_limit: int, barcode_length: int, minimum_hamming_distance: int, maximum_repeat_length: int, barcode_column: str, output_file: str | None = None, barcode_type: int = 0, left_context_column: str | None = None, right_context_column: str | None = None, excluded_motifs: list | str | pandas.core.frame.DataFrame | None = None, verbose: bool = True) -> Tuple[pandas.core.frame.DataFrame, dict]\n",
      "    Generates constrained barcodes, ensuring a minimum Hamming distance between each pair\n",
      "    and excluding specified motifs, even when flanked by context sequences. The output is a\n",
      "    DataFrame of designed barcodes, which can be saved as a CSV file if specified.\n",
      "\n",
      "    Required Parameters:\n",
      "        - `input_data` (`str` / `pd.DataFrame`): Path to a CSV file or DataFrame with annotated oligopool variants.\n",
      "        - `oligo_length_limit` (`int`): Maximum allowed oligo length (≥ 4).\n",
      "        - `barcode_length` (`int`): Length of the designed barcodes (≥ 4).\n",
      "        - `minimum_hamming_distance` (`int`): Minimum pairwise Hamming distance (≥ 1).\n",
      "        - `maximum_repeat_length` (`int`): Max shared repeat length with oligos (≥ 4).\n",
      "        - `barcode_column` (`str`): Column name for the designed barcodes.\n",
      "\n",
      "    Optional Parameters:\n",
      "        - `output_file` (`str` / `None`): Filename for output DataFrame (default: `None`).\n",
      "        - `barcode_type` (`int`): Barcode design type\n",
      "            0 for fast terminus optimized,\n",
      "            1 for slow spectrum optimized.\n",
      "            (default: 0)\n",
      "        - `left_context_column` (`str` / `None`): Column for left DNA context (default: `None`).\n",
      "        - `right_context_column` (`str` / `None`): Column for right DNA context (default: `None`).\n",
      "        - `excluded_motifs` (`list` / `str` / `pd.DataFrame` / `None`): Motifs to exclude;\n",
      "            can be a CSV path or DataFrame (default: `None`).\n",
      "        - `verbose` (`bool`): If `True`, logs updates to stdout (default: `True`).\n",
      "\n",
      "    Returns:\n",
      "        - A pandas DataFrame of generated barcodes; saves to `output_file` if specified.\n",
      "        - A dictionary of stats from the last step in pipeline.\n",
      "\n",
      "    Notes:\n",
      "        - `input_data` must contain a unique 'ID' column, all other columns must be non-empty DNA strings.\n",
      "        - Column names in `input_data` must be unique, and exclude `barcode_column`.\n",
      "        - At least one of `left_context_column` or `right_context_column` must be specified.\n",
      "        - If `excluded_motifs` is a CSV or DataFrame, it must have 'ID' and 'Exmotif' columns.\n",
      "        - If barcode design is challenging, consider\n",
      "            * altering `barcode_length`, or\n",
      "            * reducing `minimum_hamming_distance`, or\n",
      "            * switching to terminus optimized barcodes, or\n",
      "            * increasing `maximum_repeat_length`, or\n",
      "            * reducing `excluded_motifs` to relax the constraints.\n",
      "\n"
     ]
    }
   ],
   "source": [
    "help(op.barcode)"
   ]
  },
  {
   "cell_type": "markdown",
   "metadata": {},
   "source": [
    "Unlike primers which need to satisfy global constraints (a hard problem), barcodes are optimized contextually. So, barcodes may be designed after all the primers have been installed. However, the pairwise Hamming distance requirement coupled with other constraints makes it difficult to judge ahead of time if there are enough barcodes possible for a given library with desired constraints."
   ]
  },
  {
   "cell_type": "markdown",
   "metadata": {},
   "source": [
    "Let us design BC1 first."
   ]
  },
  {
   "cell_type": "code",
   "execution_count": 28,
   "metadata": {},
   "outputs": [
    {
     "data": {
      "text/plain": [
       "Index(['EcoRI', 'OrangeForwardPrimer', 'Variant', 'PinkForwardPrimer',\n",
       "       'YellowReversePrimer', 'AatII'],\n",
       "      dtype='object')"
      ]
     },
     "execution_count": 28,
     "metadata": {},
     "output_type": "execute_result"
    }
   ],
   "source": [
    "df.columns"
   ]
  },
  {
   "cell_type": "code",
   "execution_count": 29,
   "metadata": {},
   "outputs": [
    {
     "name": "stdout",
     "output_type": "stream",
     "text": [
      "\n",
      "[Oligopool Calculator: Design Mode - Barcode]\n",
      "                                               \n",
      " Required Arguments\n",
      "    Input Data    : DataFrame w/ 6,232 Record(s)\n",
      "    Oligo Limit   : At most 170 Base Pair(s)     \n",
      "  Barcode Length  : Exactly 11 Base Pair(s)  \n",
      "  Hamming Distance: At least 3 Mismatch(es) per Barcode Pair\n",
      "   Repeat Length  : Up to 6 Base Pair(s) Oligopool Repeats   \n",
      "  Barcode Column  : Output in Column 'BC1'                 \n",
      "   Output File    : In-Memory DataFrame    \n",
      "                                        \n",
      " Optional Arguments\n",
      "  Barcode Type    : Spectrum Optimized Barcodes\n",
      "     Left Context : Input from Column 'OrangeForwardPrimer'\n",
      "    Right Context : Input from Column 'Variant'             \n",
      " Excluded Motifs  : 2 Unique Motif(s)           \n",
      "                                      \n",
      "[Step 1: Parsing Oligo Limit]\n",
      " Maximum Oligo Length:  170 Base Pair(s)\n",
      " Input Variant Length:  131 to 145 Base Pair(s)\n",
      " Reqd. Barcode Length:   11 Base Pair(s)        \n",
      " Free Space Available:   25 to 39 Base Pair(s)\n",
      " Time Elapsed: 0.01 sec                        \n",
      " Verdict: Barcode Design Possibly Feasible\n",
      "                                           \n",
      "[Step 2: Parsing Barcode Length]\n",
      " Required Length: 11 Base Pair(s) \n",
      "   Design Space : 4,194,304 Barcode(s)\n",
      "   Target Count :     6,232 Barcode(s) \n",
      " Time Elapsed: 0.00 sec                \n",
      " Verdict: Barcode Design Possibly Feasible\n",
      "                                           \n",
      "[Step 3: Parsing Excluded Motifs]\n",
      " Sorted and Enqued: 2 Unique Excluded Motif(s)\n",
      " Excluded Motif Length Distribution              \n",
      "   - 2 Motif(s) of Length 6         \n",
      " Time Elapsed: 0.00 sec                         \n",
      " Verdict: Barcode Design Possibly Feasible\n",
      "                                           \n",
      "[Step 4: Extracting Context Sequences]\n",
      "  Left Context:     1 Unique Sequence(s)            \n",
      " Right Context: 3,215 Unique Sequence(s) \n",
      "  Time Elapsed: 0.01 sec                 \n",
      "                         \n",
      "[Step 5: Parsing Oligopool Repeats]\n",
      " Repeat Source: Contextually per Variant\n",
      "  k-mer Space : 8,192 Unique 7-mers      \n",
      "   Fill Count :   139 Unique 7-mers (  1.70 %)\n",
      "   Free Count : 8,053 Unique 7-mers ( 98.30 %) \n",
      " Verdict: Barcode Design Possibly Feasible     \n",
      " Time Elapsed: 1.15 sec                    \n",
      "                        \n",
      "[Step 6: Computing Barcodes]\n",
      " Type Optimization: Activated \n",
      " Candidate 6,232: Barcode ATCCTTAACGG is Accepted                        \n",
      " Time Elapsed: 7.68 sec\n",
      "                        \n",
      "[Step 7: Computing Distance Distribution]\n",
      " Candidate 6,228: Pairwise Distance ≥ 4 Mismatches \n",
      " Time Elapsed: 0.69 sec      \n",
      "                        \n",
      "[Barcode Design Statistics]\n",
      "   Design Status   : Successful\n",
      "   Target Count    : 6,232 Barcode(s)\n",
      "  Barcode Count    : 6,232 Barcode(s) (100.00 %)\n",
      "   Pair-wise Distance Distribution               \n",
      "     -   0.16 % Barcode(s) w/ Distance ≥  8 Mismatch(es)\n",
      "     -   0.16 % Barcode(s) w/ Distance ≥ 11 Mismatch(es) \n",
      "     -   0.32 % Barcode(s) w/ Distance ≥  9 Mismatch(es) \n",
      "     -   0.80 % Barcode(s) w/ Distance ≥  7 Mismatch(es) \n",
      "     -   2.25 % Barcode(s) w/ Distance ≥  6 Mismatch(es) \n",
      "     -  13.96 % Barcode(s) w/ Distance ≥  5 Mismatch(es) \n",
      "     -  33.71 % Barcode(s) w/ Distance ≥  3 Mismatch(es) \n",
      "     -  48.64 % Barcode(s) w/ Distance ≥  4 Mismatch(es) \n",
      " Time Elapsed: 9.58 sec                                  \n",
      "\n"
     ]
    }
   ],
   "source": [
    "df, _ = op.barcode(\n",
    "    input_data=df,\n",
    "    oligo_length_limit=170,\n",
    "    barcode_length=11,\n",
    "    minimum_hamming_distance=3,  # As defined by our goal\n",
    "    maximum_repeat_length=6,     # To prevent internal hairpins, say\n",
    "    barcode_column='BC1',\n",
    "    barcode_type=1,\n",
    "    left_context_column='OrangeForwardPrimer',\n",
    "    right_context_column='Variant',\n",
    "    excluded_motifs=['GAATTC', 'GACGTC'])"
   ]
  },
  {
   "cell_type": "markdown",
   "metadata": {},
   "source": [
    "Most of the barcodes have at least 4 mismatches separating them, and all of them are at least 3 mismatches apart as intended."
   ]
  },
  {
   "cell_type": "markdown",
   "metadata": {},
   "source": [
    "Next, let's add BC2."
   ]
  },
  {
   "cell_type": "code",
   "execution_count": 30,
   "metadata": {},
   "outputs": [],
   "source": [
    "df, _ = op.barcode(\n",
    "    input_data=df,\n",
    "    oligo_length_limit=170,\n",
    "    barcode_length=11,\n",
    "    minimum_hamming_distance=3,\n",
    "    maximum_repeat_length=6,\n",
    "    barcode_column='BC2',\n",
    "    barcode_type=1,\n",
    "    left_context_column='PinkForwardPrimer',\n",
    "    right_context_column='YellowReversePrimer',\n",
    "    excluded_motifs=['GAATTC', 'GACGTC'],\n",
    "    verbose=False)  # Silent mode"
   ]
  },
  {
   "cell_type": "code",
   "execution_count": 31,
   "metadata": {},
   "outputs": [
    {
     "data": {
      "text/html": [
       "<div>\n",
       "<style scoped>\n",
       "    .dataframe tbody tr th:only-of-type {\n",
       "        vertical-align: middle;\n",
       "    }\n",
       "\n",
       "    .dataframe tbody tr th {\n",
       "        vertical-align: top;\n",
       "    }\n",
       "\n",
       "    .dataframe thead th {\n",
       "        text-align: right;\n",
       "    }\n",
       "</style>\n",
       "<table border=\"1\" class=\"dataframe\">\n",
       "  <thead>\n",
       "    <tr style=\"text-align: right;\">\n",
       "      <th></th>\n",
       "      <th>EcoRI</th>\n",
       "      <th>OrangeForwardPrimer</th>\n",
       "      <th>BC1</th>\n",
       "      <th>Variant</th>\n",
       "      <th>PinkForwardPrimer</th>\n",
       "      <th>BC2</th>\n",
       "      <th>YellowReversePrimer</th>\n",
       "      <th>AatII</th>\n",
       "    </tr>\n",
       "    <tr>\n",
       "      <th>ID</th>\n",
       "      <th></th>\n",
       "      <th></th>\n",
       "      <th></th>\n",
       "      <th></th>\n",
       "      <th></th>\n",
       "      <th></th>\n",
       "      <th></th>\n",
       "      <th></th>\n",
       "    </tr>\n",
       "  </thead>\n",
       "  <tbody>\n",
       "    <tr>\n",
       "      <th>ribozyme_0001</th>\n",
       "      <td>GAATTC</td>\n",
       "      <td>TCAGCCACGCATGTCCATAA</td>\n",
       "      <td>GGAAGGCCATT</td>\n",
       "      <td>CGTTCAGAAGCGCGCGACTGTACCGTCGTTAAGCACCTGACGTACT...</td>\n",
       "      <td>GGCAATCTGTCACGCACCTT</td>\n",
       "      <td>CGTCTCGTGTC</td>\n",
       "      <td>ATATGTTAGGGGGGAGCGGG</td>\n",
       "      <td>GACGTC</td>\n",
       "    </tr>\n",
       "    <tr>\n",
       "      <th>ribozyme_0002</th>\n",
       "      <td>GAATTC</td>\n",
       "      <td>TCAGCCACGCATGTCCATAA</td>\n",
       "      <td>AACAAGGAATT</td>\n",
       "      <td>TCTTCTATCATAGTTAGGCTACGGATCCTCCTCTAGGACACACCCG...</td>\n",
       "      <td>GGCAATCTGTCACGCACCTT</td>\n",
       "      <td>CAAGTCCAATC</td>\n",
       "      <td>ATATGTTAGGGGGGAGCGGG</td>\n",
       "      <td>GACGTC</td>\n",
       "    </tr>\n",
       "    <tr>\n",
       "      <th>ribozyme_0003</th>\n",
       "      <td>GAATTC</td>\n",
       "      <td>TCAGCCACGCATGTCCATAA</td>\n",
       "      <td>CCACCTTCCGG</td>\n",
       "      <td>GCTGATTCATTCCAACACTCTTGAGGCCGTTTCTATAAACGGTGAC...</td>\n",
       "      <td>GGCAATCTGTCACGCACCTT</td>\n",
       "      <td>TCCTGAACCGA</td>\n",
       "      <td>ATATGTTAGGGGGGAGCGGG</td>\n",
       "      <td>GACGTC</td>\n",
       "    </tr>\n",
       "    <tr>\n",
       "      <th>ribozyme_0004</th>\n",
       "      <td>GAATTC</td>\n",
       "      <td>TCAGCCACGCATGTCCATAA</td>\n",
       "      <td>AACCCTCTAGT</td>\n",
       "      <td>CATATCTCTGTTCCTCTGCTGTAATCATGAGTCGGATCACTGGTTG...</td>\n",
       "      <td>GGCAATCTGTCACGCACCTT</td>\n",
       "      <td>GCTTGAGTGTA</td>\n",
       "      <td>ATATGTTAGGGGGGAGCGGG</td>\n",
       "      <td>GACGTC</td>\n",
       "    </tr>\n",
       "    <tr>\n",
       "      <th>ribozyme_0005</th>\n",
       "      <td>GAATTC</td>\n",
       "      <td>TCAGCCACGCATGTCCATAA</td>\n",
       "      <td>CCAAAGAGCTG</td>\n",
       "      <td>GCATCCGTTGGTAACTTTCAATTGTTCAGGTCTCTGGCTTATCACG...</td>\n",
       "      <td>GGCAATCTGTCACGCACCTT</td>\n",
       "      <td>CTTTCCGCACC</td>\n",
       "      <td>ATATGTTAGGGGGGAGCGGG</td>\n",
       "      <td>GACGTC</td>\n",
       "    </tr>\n",
       "  </tbody>\n",
       "</table>\n",
       "</div>"
      ],
      "text/plain": [
       "                EcoRI   OrangeForwardPrimer          BC1  \\\n",
       "ID                                                         \n",
       "ribozyme_0001  GAATTC  TCAGCCACGCATGTCCATAA  GGAAGGCCATT   \n",
       "ribozyme_0002  GAATTC  TCAGCCACGCATGTCCATAA  AACAAGGAATT   \n",
       "ribozyme_0003  GAATTC  TCAGCCACGCATGTCCATAA  CCACCTTCCGG   \n",
       "ribozyme_0004  GAATTC  TCAGCCACGCATGTCCATAA  AACCCTCTAGT   \n",
       "ribozyme_0005  GAATTC  TCAGCCACGCATGTCCATAA  CCAAAGAGCTG   \n",
       "\n",
       "                                                         Variant  \\\n",
       "ID                                                                 \n",
       "ribozyme_0001  CGTTCAGAAGCGCGCGACTGTACCGTCGTTAAGCACCTGACGTACT...   \n",
       "ribozyme_0002  TCTTCTATCATAGTTAGGCTACGGATCCTCCTCTAGGACACACCCG...   \n",
       "ribozyme_0003  GCTGATTCATTCCAACACTCTTGAGGCCGTTTCTATAAACGGTGAC...   \n",
       "ribozyme_0004  CATATCTCTGTTCCTCTGCTGTAATCATGAGTCGGATCACTGGTTG...   \n",
       "ribozyme_0005  GCATCCGTTGGTAACTTTCAATTGTTCAGGTCTCTGGCTTATCACG...   \n",
       "\n",
       "                  PinkForwardPrimer          BC2   YellowReversePrimer   AatII  \n",
       "ID                                                                              \n",
       "ribozyme_0001  GGCAATCTGTCACGCACCTT  CGTCTCGTGTC  ATATGTTAGGGGGGAGCGGG  GACGTC  \n",
       "ribozyme_0002  GGCAATCTGTCACGCACCTT  CAAGTCCAATC  ATATGTTAGGGGGGAGCGGG  GACGTC  \n",
       "ribozyme_0003  GGCAATCTGTCACGCACCTT  TCCTGAACCGA  ATATGTTAGGGGGGAGCGGG  GACGTC  \n",
       "ribozyme_0004  GGCAATCTGTCACGCACCTT  GCTTGAGTGTA  ATATGTTAGGGGGGAGCGGG  GACGTC  \n",
       "ribozyme_0005  GGCAATCTGTCACGCACCTT  CTTTCCGCACC  ATATGTTAGGGGGGAGCGGG  GACGTC  "
      ]
     },
     "execution_count": 31,
     "metadata": {},
     "output_type": "execute_result"
    }
   ],
   "source": [
    "df.head(5)"
   ]
  },
  {
   "cell_type": "markdown",
   "metadata": {},
   "source": [
    "Barcodes are done! The only thing left to design are the spacers so that all oligos have the same length of 170 bp."
   ]
  },
  {
   "cell_type": "code",
   "execution_count": 32,
   "metadata": {},
   "outputs": [],
   "source": [
    "# help(op.lenstat)"
   ]
  },
  {
   "cell_type": "code",
   "execution_count": 33,
   "metadata": {},
   "outputs": [
    {
     "name": "stdout",
     "output_type": "stream",
     "text": [
      "\n",
      "[Oligopool Calculator: Design Mode - Length Statistics]\n",
      "                                                         \n",
      " Required Arguments\n",
      " Input Data : DataFrame w/ 6,232 Record(s)\n",
      " Oligo Limit: At most 170 Base Pair(s)     \n",
      "                                       \n",
      "[Step 1: Computing Length Statistics]\n",
      " Element AatII: Occupies 6 Base Pair(s)               \n",
      " Time Elapsed: 0.01 sec\n",
      "                        \n",
      "[Length Statistics]\n",
      "\n",
      "                         Min     Max    Min    Max    Oligo\n",
      "                     Element Element  Oligo  Oligo    Limit\n",
      "                      Length  Length Length Length Overflow\n",
      "               EcoRI    6 bp    6 bp   6 bp   6 bp       No\n",
      " OrangeForwardPrimer   20 bp   20 bp  26 bp  26 bp       No\n",
      "                 BC1   11 bp   11 bp  37 bp  37 bp       No\n",
      "             Variant   59 bp   73 bp  96 bp 110 bp       No\n",
      "   PinkForwardPrimer   20 bp   20 bp 116 bp 130 bp       No\n",
      "                 BC2   11 bp   11 bp 127 bp 141 bp       No\n",
      " YellowReversePrimer   20 bp   20 bp 147 bp 161 bp       No\n",
      "               AatII    6 bp    6 bp 153 bp 167 bp       No\n",
      "                     \n",
      " Free Space Available: 3 to 17 Base Pair(s)\n",
      " Time Elapsed: 0.01 sec                      \n",
      "\n"
     ]
    }
   ],
   "source": [
    "length_stats = op.lenstat(input_data=df, oligo_length_limit=170)"
   ]
  },
  {
   "cell_type": "markdown",
   "metadata": {},
   "source": [
    "#### Adding neutral motifs, spacers and finalizing library"
   ]
  },
  {
   "cell_type": "code",
   "execution_count": 34,
   "metadata": {},
   "outputs": [
    {
     "data": {
      "text/plain": [
       "Index(['EcoRI', 'OrangeForwardPrimer', 'BC1', 'Variant', 'PinkForwardPrimer',\n",
       "       'BC2', 'YellowReversePrimer', 'AatII'],\n",
       "      dtype='object')"
      ]
     },
     "execution_count": 34,
     "metadata": {},
     "output_type": "execute_result"
    }
   ],
   "source": [
    "df.columns"
   ]
  },
  {
   "cell_type": "markdown",
   "metadata": {},
   "source": [
    "The last element in our oligo is a `AatII` restriction site, and we want to add 3 to 17 bases of filler next to it. We can do this using the `spacer` module."
   ]
  },
  {
   "cell_type": "markdown",
   "metadata": {},
   "source": [
    "But suppose we wanted to add a filler site based on a degenerate sequence constraint, a motif? We would use the `motif` module instead. One way to think about this is that spacers are a very loosely constrained type of motif."
   ]
  },
  {
   "cell_type": "code",
   "execution_count": 35,
   "metadata": {},
   "outputs": [
    {
     "name": "stdout",
     "output_type": "stream",
     "text": [
      "Help on function motif in module oligopool.motif:\n",
      "\n",
      "motif(input_data: str | pandas.core.frame.DataFrame, oligo_length_limit: int, motif_sequence_constraint: str, motif_column: str, output_file: str | None = None, left_context_column: str | None = None, right_context_column: str | None = None, excluded_motifs: list | str | pandas.core.frame.DataFrame | None = None, verbose: bool = True) -> Tuple[pandas.core.frame.DataFrame, dict]\n",
      "    Adds a constant or designs constrained motifs free of edge-effects between the given sequence\n",
      "    contexts. Addition of motifs will not produce excluded motifs unless one was embedded in it.\n",
      "    Returned DataFrame with added motifs can optionally be saved to a CSV.\n",
      "\n",
      "    Required Parameters:\n",
      "        - `input_data` (`str` / `pd.DataFrame`): Path to a CSV file or DataFrame with annotated oligopool variants.\n",
      "        - `oligo_length_limit` (`int`): Maximum allowed oligo length (≥ 4).\n",
      "        - `motif_sequence_constraint` (`int`): IUPAC degenerate sequence constraint, or a constant.\n",
      "        - `motif_column` (`str`): Column name for inserting the designed motifs.\n",
      "\n",
      "    Optional Parameters:\n",
      "        - `output_file` (`str` / `None`): Filename for output DataFrame (default: `None`).\n",
      "        - `left_context_column` (`str` / `None`): Column for left DNA context (default: `None`).\n",
      "        - `right_context_column` (`str` / `None`): Column for right DNA context (default: `None`).\n",
      "        - `excluded_motifs` (`list` / `str` / `pd.DataFrame` / `None`): Motifs to exclude;\n",
      "            can be a CSV path or DataFrame (default: `None`).\n",
      "        - `verbose` (`bool`): If `True`, logs updates to stdout (default: `True`).\n",
      "\n",
      "    Returns:\n",
      "        - A pandas DataFrame of added motifs; saves to `output_file` if specified.\n",
      "        - A dictionary of stats from the last step in pipeline.\n",
      "\n",
      "    Notes:\n",
      "        - `input_data` must contain a unique 'ID' column, all other columns must be non-empty DNA strings.\n",
      "        - Column names in `input_data` must be unique, and exclude `motif_column`.\n",
      "        - At least one of `left_context_column` or `right_context_column` must be specified.\n",
      "        - If `excluded_motifs` is a CSV or DataFrame, it must have 'ID' and 'Exmotif' columns.\n",
      "        - Constants in sequence constraint may lead to `excluded_motifs` and be impossible to solve.\n",
      "\n"
     ]
    }
   ],
   "source": [
    "help(op.motif)"
   ]
  },
  {
   "cell_type": "markdown",
   "metadata": {},
   "source": [
    "We will see this function in action by first removing the `AatII` motif column and replacing it with a degenerate motif containing the constant restriction site embedded in it but with 3 `'N'`s on its right flank."
   ]
  },
  {
   "cell_type": "code",
   "execution_count": 36,
   "metadata": {},
   "outputs": [],
   "source": [
    "df = df.drop(columns=['AatII'])"
   ]
  },
  {
   "cell_type": "code",
   "execution_count": 37,
   "metadata": {},
   "outputs": [
    {
     "data": {
      "text/plain": [
       "Index(['EcoRI', 'OrangeForwardPrimer', 'BC1', 'Variant', 'PinkForwardPrimer',\n",
       "       'BC2', 'YellowReversePrimer'],\n",
       "      dtype='object')"
      ]
     },
     "execution_count": 37,
     "metadata": {},
     "output_type": "execute_result"
    }
   ],
   "source": [
    "df.columns"
   ]
  },
  {
   "cell_type": "code",
   "execution_count": 38,
   "metadata": {},
   "outputs": [
    {
     "name": "stdout",
     "output_type": "stream",
     "text": [
      "\n",
      "[Oligopool Calculator: Design Mode - Motif]\n",
      "                                             \n",
      " Required Arguments\n",
      "    Input Data    : DataFrame w/ 6,232 Record(s)\n",
      "    Oligo Limit   : At most 170 Base Pair(s)     \n",
      "    Motif Sequence: A 9 Base Pair IUPAC Constraint\n",
      "    Motif Column  : Output in Column 'AatIIPadded' \n",
      "   Output File    : In-Memory DataFrame            \n",
      "                                        \n",
      " Optional Arguments\n",
      "     Left Context : Input from Column 'YellowReversePrimer'\n",
      "    Right Context : None Specified                          \n",
      " Excluded Motifs  : 2 Unique Motif(s)\n",
      "                                      \n",
      "[Step 1: Parsing Oligo Limit]\n",
      " Maximum Oligo Length:  170 Base Pair(s)\n",
      " Input Variant Length:  147 to 161 Base Pair(s)\n",
      "   Reqd. Motif Length:    9 Base Pair(s)        \n",
      " Free Space Available:    9 to 23 Base Pair(s)\n",
      " Time Elapsed: 0.01 sec                        \n",
      " Verdict: Motif Design Possibly Feasible\n",
      "                                         \n",
      "[Step 2: Parsing Excluded Motifs]\n",
      " Sorted and Enqued: 2 Unique Excluded Motif(s)\n",
      " Excluded Motif Length Distribution              \n",
      "   - 2 Motif(s) of Length 6         \n",
      " Time Elapsed: 0.00 sec                         \n",
      " Verdict: Motif Design Possibly Feasible\n",
      "                                         \n",
      "[Step 3: Parsing Motif Sequence]\n",
      " Design Space: 64 Possible Motif(s)\n",
      " Found 1 Excluded Motif(s)          \n",
      "   - Excluded Motif 'GACGTC' Present [WARNING] (Excluded Motif Embedded)\n",
      " Time Elapsed: 0.00 sec                                                  \n",
      " Verdict: Motif Design with Embedded Excluded Motif(s)\n",
      "                                                       \n",
      "[Step 4: Extracting Context Sequences]\n",
      "  Left Context: 1 Unique Sequence(s)               \n",
      " Right Context: 0 Unique Sequence(s) \n",
      "  Time Elapsed: 0.00 sec             \n",
      "                         \n",
      "[Step 5: Parsing Edge Effects]\n",
      "  Left Context 1: ...AGCGGG Prevents 3 Prefix(es)\n",
      " Time Elapsed: 0.00 sec\n",
      " Verdict: Motif Design Possibly Feasible\n",
      "                                         \n",
      "[Step 6: Computing Motifs]\n",
      " Candidate 6,232: Motif GACGTCGTC is Accepted              \n",
      " Time Elapsed: 1.76 sec\n",
      "                        \n",
      "[Motif Design Statistics]\n",
      "  Design Status   : Successful\n",
      "  Target Count    : 6,232 Motif(s)\n",
      "   Motif Count    : 6,232 Motif(s) (100.00 %)\n",
      " Time Elapsed: 1.78 sec                       \n",
      "\n"
     ]
    }
   ],
   "source": [
    "df, _ = op.motif(\n",
    "    input_data=df,\n",
    "    oligo_length_limit=170,\n",
    "    motif_sequence_constraint='GACGTC'+'NNN', # The AatII motif with right flanking Ns\n",
    "    motif_column='AatIIPadded',\n",
    "    left_context_column='YellowReversePrimer',\n",
    "    right_context_column=None,\n",
    "    excluded_motifs=['GAATTC', 'GACGTC'])     # Notice how we are still forbidding the emergence of AatII here"
   ]
  },
  {
   "cell_type": "markdown",
   "metadata": {},
   "source": [
    "Step 3 in the `motif` pipeline warned us about the presence of `'GACGTC'` in our constraint itself. Nevertheless, the design step was successful."
   ]
  },
  {
   "cell_type": "code",
   "execution_count": 39,
   "metadata": {},
   "outputs": [
    {
     "name": "stdout",
     "output_type": "stream",
     "text": [
      "\n",
      "[Oligopool Calculator: Design Mode - Length Statistics]\n",
      "                                                         \n",
      " Required Arguments\n",
      " Input Data : DataFrame w/ 6,232 Record(s)\n",
      " Oligo Limit: At most 170 Base Pair(s)     \n",
      "                                       \n",
      "[Step 1: Computing Length Statistics]\n",
      " Element AatIIPadded: Occupies 9 Base Pair(s)         \n",
      " Time Elapsed: 0.01 sec\n",
      "                        \n",
      "[Length Statistics]\n",
      "\n",
      "                         Min     Max    Min    Max    Oligo\n",
      "                     Element Element  Oligo  Oligo    Limit\n",
      "                      Length  Length Length Length Overflow\n",
      "               EcoRI    6 bp    6 bp   6 bp   6 bp       No\n",
      " OrangeForwardPrimer   20 bp   20 bp  26 bp  26 bp       No\n",
      "                 BC1   11 bp   11 bp  37 bp  37 bp       No\n",
      "             Variant   59 bp   73 bp  96 bp 110 bp       No\n",
      "   PinkForwardPrimer   20 bp   20 bp 116 bp 130 bp       No\n",
      "                 BC2   11 bp   11 bp 127 bp 141 bp       No\n",
      " YellowReversePrimer   20 bp   20 bp 147 bp 161 bp       No\n",
      "         AatIIPadded    9 bp    9 bp 156 bp 170 bp       No\n",
      "                     \n",
      " Free Space Available: 0 to 14 Base Pair(s)\n",
      " Time Elapsed: 0.01 sec                      \n",
      "\n"
     ]
    }
   ],
   "source": [
    "length_stats = op.lenstat(input_data=df, oligo_length_limit=170)"
   ]
  },
  {
   "cell_type": "markdown",
   "metadata": {},
   "source": [
    "We can now use the `spacer` module to pad the oligos to 170 bases. Free space available is between 0 to 14 bases."
   ]
  },
  {
   "cell_type": "code",
   "execution_count": 40,
   "metadata": {},
   "outputs": [
    {
     "name": "stdout",
     "output_type": "stream",
     "text": [
      "Help on function spacer in module oligopool.spacer:\n",
      "\n",
      "spacer(input_data: str | pandas.core.frame.DataFrame, oligo_length_limit: int, spacer_column: str, output_file: str | None = None, spacer_length: int | None = None, left_context_column: str | None = None, right_context_column: str | None = None, excluded_motifs: list | str | pandas.core.frame.DataFrame | None = None, verbose: bool = True) -> Tuple[pandas.core.frame.DataFrame, dict]\n",
      "    Inserts a fixed or variable length neutral spacer free from excluded motifs. If the spacer length\n",
      "    is not specified, then the spacer per oligo is such that the final length of the oligo matches\n",
      "    specified `oligo_length_limit`. Returned DataFrame can be written as a CSV file.\n",
      "\n",
      "    Required Parameters:\n",
      "        - `input_data` (`str` / `pd.DataFrame`): Path to a CSV file or DataFrame with annotated oligopool variants.\n",
      "        - `oligo_length_limit` (`int`): Maximum allowed oligo length (≥ 4).\n",
      "        - `spacer_column` (`str`): Column name for inserting the designed spacers.\n",
      "\n",
      "    Optional Parameters:\n",
      "        - `output_file` (`str` / `None`): Filename for output DataFrame (default: `None`).\n",
      "        - `spacer_length` (`int` / `None`): Length of the inserted spacers,\n",
      "            if `None` automatically determine this length per oligo (default: `None`).\n",
      "        - `left_context_column` (`str` / `None`): Column for left DNA context (default: `None`).\n",
      "        - `right_context_column` (`str` / `None`): Column for right DNA context (default: `None`).\n",
      "        - `excluded_motifs` (`list` / `str` / `pd.DataFrame` / `None`): Motifs to exclude;\n",
      "            can be a CSV path or DataFrame (default: `None`).\n",
      "        - `verbose` (`bool`): If `True`, logs updates to stdout (default: `True`).\n",
      "\n",
      "    Returns:\n",
      "        - A pandas DataFrame of inserted spacers; saves to `output_file` if specified.\n",
      "        - A dictionary of stats from the last step in pipeline.\n",
      "\n",
      "    Notes:\n",
      "        - `input_data` must contain a unique 'ID' column, all other columns must be non-empty DNA strings.\n",
      "        - Column names in `input_data` must be unique, and exclude `spacer_column`.\n",
      "        - At least one of `left_context_column` or `right_context_column` must be specified.\n",
      "        - If `excluded_motifs` is a CSV or DataFrame, it must have 'ID' and 'Exmotif' columns.\n",
      "        - Oligo rows already summing to or exceeding `oligo_length_limit` have a `'-'` (dash) as spacer.\n",
      "\n"
     ]
    }
   ],
   "source": [
    "help(op.spacer)"
   ]
  },
  {
   "cell_type": "markdown",
   "metadata": {},
   "source": [
    "`Oligopool Calculator` can flexibly design our variable length spacers."
   ]
  },
  {
   "cell_type": "code",
   "execution_count": 41,
   "metadata": {},
   "outputs": [
    {
     "name": "stdout",
     "output_type": "stream",
     "text": [
      "\n",
      "[Oligopool Calculator: Design Mode - Spacer]\n",
      "                                              \n",
      " Required Arguments\n",
      "    Input Data   : DataFrame w/ 6,232 Record(s)\n",
      "    Oligo Limit  : At most 170 Base Pair(s)     \n",
      "   Spacer Column : Output in Column 'Spacer'\n",
      "   Output File   : In-Memory DataFrame       \n",
      "                                       \n",
      " Optional Arguments\n",
      "   Spacer Length : Computed from Oligo Length (Auto-Inferred)\n",
      "     Left Context: Input from Column 'AatIIPadded'            \n",
      "    Right Context: None Specified                  \n",
      " Excluded Motifs : 2 Unique Motif(s)\n",
      "                                     \n",
      "[Step 1: Extracting Spacer Length]\n",
      " Variant ribozyme_6232: Allows 10 Base Pair Spacer\n",
      " Time Elapsed: 1.69 sec\n",
      "                        \n",
      "[Step 2: Parsing Oligo Limit]\n",
      " Maximum Oligo Length:  170 Base Pair(s)\n",
      " Input Variant Length:  156 to 170 Base Pair(s)\n",
      "  Reqd. Spacer Length:    0 to 14 Base Pair(s)  \n",
      " Free Space Available:    0 to 14 Base Pair(s) \n",
      " Time Elapsed: 0.00 sec                        \n",
      " Verdict: Spacer Design Possibly Feasible\n",
      "                                          \n",
      "[Step 3: Extracting Spacer Groups]\n",
      " Spacer 6,232: Grouped w/ 423 Other Spacers\n",
      " Time Elapsed: 1.77 sec\n",
      "                        \n",
      "[Step 4: Parsing Excluded Motifs]\n",
      " Sorted and Enqued: 2 Unique Excluded Motif(s)\n",
      " Excluded Motif Length Distribution              \n",
      "   - 2 Motif(s) of Length 6         \n",
      " Time Elapsed: 0.00 sec                         \n",
      " Verdict: Spacer Design Possibly Feasible\n",
      "                                          \n",
      "[Step 5: Extracting Context Sequences]\n",
      "  Left Context: 1 Unique Sequence(s)               \n",
      " Right Context: 0 Unique Sequence(s) \n",
      "  Time Elapsed: 0.00 sec             \n",
      "                         \n",
      "[Step 6: Parsing Edge Effects]\n",
      "  Left Context 1: ...GTCGTC Prevents 1 Prefix(es)\n",
      " Time Elapsed: 0.00 sec\n",
      " Verdict: Motif Design Possibly Feasible\n",
      "                                         \n",
      "[Step 7: Computing Spacers]\n",
      " Candidate 6,232: Spacer GCGTGAGGCC is Accepted                  \n",
      " Time Elapsed: 1.80 sec\n",
      "                        \n",
      "[Spacer Design Statistics]\n",
      "  Design Status   : Successful\n",
      "  Target Count    : 6,232 Spacer(s)\n",
      "  Spacer Count    : 6,232 Spacer(s) (100.00 %)\n",
      " Time Elapsed: 5.30 sec                        \n",
      "\n"
     ]
    }
   ],
   "source": [
    "df, _ = op.spacer(\n",
    "    input_data=df,\n",
    "    oligo_length_limit=170,\n",
    "    spacer_length=None,    # Using None, we will automatically add spacers to match oligo_length_limit\n",
    "    spacer_column='Spacer',\n",
    "    left_context_column='AatIIPadded',\n",
    "    right_context_column=None,\n",
    "    excluded_motifs=['GAATTC', 'GACGTC'],\n",
    "    verbose=True)"
   ]
  },
  {
   "cell_type": "code",
   "execution_count": 42,
   "metadata": {},
   "outputs": [
    {
     "name": "stdout",
     "output_type": "stream",
     "text": [
      "\n",
      "[Oligopool Calculator: Design Mode - Length Statistics]\n",
      "                                                         \n",
      " Required Arguments\n",
      " Input Data : DataFrame w/ 6,232 Record(s)\n",
      " Oligo Limit: At most 170 Base Pair(s)     \n",
      "                                       \n",
      "[Step 1: Computing Length Statistics]\n",
      " Element Spacer: Occupies 0 to 14 Base Pair(s)        \n",
      " Time Elapsed: 0.01 sec\n",
      "                        \n",
      "[Length Statistics]\n",
      "\n",
      "                         Min     Max    Min    Max    Oligo\n",
      "                     Element Element  Oligo  Oligo    Limit\n",
      "                      Length  Length Length Length Overflow\n",
      "               EcoRI    6 bp    6 bp   6 bp   6 bp       No\n",
      " OrangeForwardPrimer   20 bp   20 bp  26 bp  26 bp       No\n",
      "                 BC1   11 bp   11 bp  37 bp  37 bp       No\n",
      "             Variant   59 bp   73 bp  96 bp 110 bp       No\n",
      "   PinkForwardPrimer   20 bp   20 bp 116 bp 130 bp       No\n",
      "                 BC2   11 bp   11 bp 127 bp 141 bp       No\n",
      " YellowReversePrimer   20 bp   20 bp 147 bp 161 bp       No\n",
      "         AatIIPadded    9 bp    9 bp 156 bp 170 bp       No\n",
      "              Spacer    0 bp   14 bp 170 bp 170 bp       No\n",
      "                     \n",
      " Free Space Available: 0 Base Pair(s)\n",
      " Time Elapsed: 0.01 sec                \n",
      "\n"
     ]
    }
   ],
   "source": [
    "length_stats = op.lenstat(input_data=df, oligo_length_limit=170)"
   ]
  },
  {
   "cell_type": "markdown",
   "metadata": {},
   "source": [
    "Our library is complete, all elements have been added, and the oligos are all 170 bases. Let's finalize our library using the `final` module."
   ]
  },
  {
   "cell_type": "code",
   "execution_count": 43,
   "metadata": {},
   "outputs": [],
   "source": [
    "# help(op.final)"
   ]
  },
  {
   "cell_type": "code",
   "execution_count": 44,
   "metadata": {},
   "outputs": [
    {
     "name": "stdout",
     "output_type": "stream",
     "text": [
      "\n",
      "[Oligopool Calculator: Design Mode - Final]\n",
      "                                             \n",
      " Required Arguments\n",
      "  Input Data: DataFrame w/ 6,232 Record(s)\n",
      " Output File: In-Memory DataFrame          \n",
      "                                  \n",
      "[Step 1: Finalizing Oligopool]\n",
      " Finalization Completed         \n",
      " Time Elapsed: 0.01 sec \n",
      "                        \n",
      "[Finalization Statistics]\n",
      " Final Status: Successful  \n",
      " Oligo Length: 170 Base Pair(s)\n",
      " Time Elapsed: 0.01 sec         \n",
      "\n"
     ]
    }
   ],
   "source": [
    "final_df, _ = op.final(input_data=df)"
   ]
  },
  {
   "cell_type": "code",
   "execution_count": 45,
   "metadata": {},
   "outputs": [
    {
     "data": {
      "text/html": [
       "<div>\n",
       "<style scoped>\n",
       "    .dataframe tbody tr th:only-of-type {\n",
       "        vertical-align: middle;\n",
       "    }\n",
       "\n",
       "    .dataframe tbody tr th {\n",
       "        vertical-align: top;\n",
       "    }\n",
       "\n",
       "    .dataframe thead th {\n",
       "        text-align: right;\n",
       "    }\n",
       "</style>\n",
       "<table border=\"1\" class=\"dataframe\">\n",
       "  <thead>\n",
       "    <tr style=\"text-align: right;\">\n",
       "      <th></th>\n",
       "      <th>CompleteOligo</th>\n",
       "      <th>OligoLength</th>\n",
       "    </tr>\n",
       "    <tr>\n",
       "      <th>ID</th>\n",
       "      <th></th>\n",
       "      <th></th>\n",
       "    </tr>\n",
       "  </thead>\n",
       "  <tbody>\n",
       "    <tr>\n",
       "      <th>ribozyme_0001</th>\n",
       "      <td>GAATTCTCAGCCACGCATGTCCATAAGGAAGGCCATTCGTTCAGAA...</td>\n",
       "      <td>170</td>\n",
       "    </tr>\n",
       "    <tr>\n",
       "      <th>ribozyme_0002</th>\n",
       "      <td>GAATTCTCAGCCACGCATGTCCATAAAACAAGGAATTTCTTCTATC...</td>\n",
       "      <td>170</td>\n",
       "    </tr>\n",
       "    <tr>\n",
       "      <th>ribozyme_0003</th>\n",
       "      <td>GAATTCTCAGCCACGCATGTCCATAACCACCTTCCGGGCTGATTCA...</td>\n",
       "      <td>170</td>\n",
       "    </tr>\n",
       "    <tr>\n",
       "      <th>ribozyme_0004</th>\n",
       "      <td>GAATTCTCAGCCACGCATGTCCATAAAACCCTCTAGTCATATCTCT...</td>\n",
       "      <td>170</td>\n",
       "    </tr>\n",
       "    <tr>\n",
       "      <th>ribozyme_0005</th>\n",
       "      <td>GAATTCTCAGCCACGCATGTCCATAACCAAAGAGCTGGCATCCGTT...</td>\n",
       "      <td>170</td>\n",
       "    </tr>\n",
       "  </tbody>\n",
       "</table>\n",
       "</div>"
      ],
      "text/plain": [
       "                                                   CompleteOligo  OligoLength\n",
       "ID                                                                           \n",
       "ribozyme_0001  GAATTCTCAGCCACGCATGTCCATAAGGAAGGCCATTCGTTCAGAA...          170\n",
       "ribozyme_0002  GAATTCTCAGCCACGCATGTCCATAAAACAAGGAATTTCTTCTATC...          170\n",
       "ribozyme_0003  GAATTCTCAGCCACGCATGTCCATAACCACCTTCCGGGCTGATTCA...          170\n",
       "ribozyme_0004  GAATTCTCAGCCACGCATGTCCATAAAACCCTCTAGTCATATCTCT...          170\n",
       "ribozyme_0005  GAATTCTCAGCCACGCATGTCCATAACCAAAGAGCTGGCATCCGTT...          170"
      ]
     },
     "execution_count": 45,
     "metadata": {},
     "output_type": "execute_result"
    }
   ],
   "source": [
    "final_df.head(5)"
   ]
  },
  {
   "cell_type": "markdown",
   "metadata": {},
   "source": [
    "> **Note** All annotations of the individual oligos are lost in this step. So, we saved it to a new DataFrame. In general, it is a good idea to store the result of each step in `Design Mode` to a separate DataFrame variables if we were designing our pools interactively, and wanted to roll back."
   ]
  },
  {
   "cell_type": "markdown",
   "metadata": {},
   "source": [
    "Using the `final` module produces a DataFrame that needs to be passed along for synthesis. `Design Mode` functions should no longer be applied on it."
   ]
  },
  {
   "cell_type": "markdown",
   "metadata": {},
   "source": [
    "At the end of our design project, we may wish to double-check for any violation of our constraints. For example, in all our designed oligos there should only be single occurences of the `EcoRI` and `AatII` motifs at their respective location. We can verify this."
   ]
  },
  {
   "cell_type": "code",
   "execution_count": 46,
   "metadata": {},
   "outputs": [],
   "source": [
    "assert final_df.CompleteOligo.transform(lambda x: x.count('GAATTC')).values.max() == 1"
   ]
  },
  {
   "cell_type": "code",
   "execution_count": 47,
   "metadata": {},
   "outputs": [],
   "source": [
    "assert final_df.CompleteOligo.transform(lambda x: x.count('GACGTC')).values.max() == 1"
   ]
  },
  {
   "cell_type": "markdown",
   "metadata": {},
   "source": [
    "#### Splitting and padding oligos"
   ]
  },
  {
   "cell_type": "markdown",
   "metadata": {},
   "source": [
    "Sometimes the oligos may be longer than can be synthesized. One way to solve this problem is to use the `split` module to split such long oligos into shorter overlapping fragments. Individual sets of fragments can be padded appropriately using the `pad` module for downstream assembly."
   ]
  },
  {
   "cell_type": "markdown",
   "metadata": {},
   "source": [
    "![Splitting and Padding](https://raw.githubusercontent.com/ayaanhossain/repfmt/refs/heads/main/oligopool/img/assembly.svg)"
   ]
  },
  {
   "cell_type": "code",
   "execution_count": 48,
   "metadata": {},
   "outputs": [
    {
     "name": "stdout",
     "output_type": "stream",
     "text": [
      "Help on function split in module oligopool.split:\n",
      "\n",
      "split(input_data: str | pandas.core.frame.DataFrame, split_length_limit: int, minimum_melting_temperature: float, minimum_hamming_distance: int, minimum_overlap_length: int, maximum_overlap_length: int, output_file: str | None = None, verbose: bool = True) -> Tuple[pandas.core.frame.DataFrame, dict]\n",
      "    Splits longer oligos into shorter overlapping fragments with all overlaps at particular\n",
      "    coordinates having specified minimum pairwise Hamming distances and minimum melting temperatures.\n",
      "    Overlap lengths can be controlled depending on downstream assembly strategy. Produces a derived\n",
      "    new DataFrame with 'Split' columns which can be saved to a specified CSV file.\n",
      "\n",
      "    Required Parameters:\n",
      "        - `input_data` (`str` / `pd.DataFrame`): Path to a CSV file or DataFrame with annotated oligopool variants.\n",
      "        - `split_length_limit` (`int`): Maximum allowed length for split oligos (≥ 4).\n",
      "        - `minimum_melting_temperature` (`float`): Minimum overlap region Tm (≥ 4°C).\n",
      "        - `minimum_hamming_distance` (`int`): Minimum overlap region pairwise Hamming distance (≥ 1).\n",
      "        - `minimum_overlap_length` (`int`): Minimum overlap region length (≥ 15).\n",
      "        - `maximum_overlap_length` (`int`): Maximum overlap region length (≥ 15).\n",
      "\n",
      "    Optional Parameters:\n",
      "        - `output_file` (`str` / `None`): Filename for output DataFrame (default: `None`).\n",
      "        - `verbose` (`bool`): If `True`, logs updates to stdout (default: `True`).\n",
      "\n",
      "    Returns:\n",
      "        - A pandas DataFrame with split oligos; saves to `output_file` if specified.\n",
      "        - A dictionary of stats from the last step in pipeline.\n",
      "\n",
      "    Notes:\n",
      "        - `input_data` must contain a unique 'ID' column, all other columns must be non-empty DNA strings.\n",
      "        - `minimum_overlap_length` should always be larger than `minimum_hamming_distance`.\n",
      "        - Total number of fragments is auto determined, and can be variable per oligo, depending on length.\n",
      "        - Returned DataFrame contains split oligos, annotation from `input_data` is lost.\n",
      "\n"
     ]
    }
   ],
   "source": [
    "help(op.split)"
   ]
  },
  {
   "cell_type": "markdown",
   "metadata": {},
   "source": [
    "We will pretend that our 170 bp oligos from above are slightly longer than can be synthesized successfully in a pool where each oligo can be at most 150 bp long."
   ]
  },
  {
   "cell_type": "markdown",
   "metadata": {},
   "source": [
    "Our goal then is to fragment the oligos so that each fragment is at most 110 bases with 40 to 60 base overlap across the fragments. We will leave 40 bases, 20 bp each for the two terminal padding primers."
   ]
  },
  {
   "cell_type": "code",
   "execution_count": 49,
   "metadata": {},
   "outputs": [
    {
     "name": "stdout",
     "output_type": "stream",
     "text": [
      "\n",
      "[Oligopool Calculator: Design Mode - Split]\n",
      "                                             \n",
      " Required Arguments\n",
      "   Input Data       : DataFrame w/ 6,232 Record(s)\n",
      "   Split Limit      : Split Fragments at most 110 Base Pair(s) Each\n",
      " Melting Temperature: At least 55 °C b/w On-Target Overlaps         \n",
      " Hamming Distance   : At least 5 Mismatch(es) per Off-Target Overlap Pair \n",
      " Overlap Length     : 40 to 60 Base Pair(s) Fragment Overlap(s)            \n",
      "  Output File       : In-Memory DataFrame                       \n",
      "                                          \n",
      "[Step 1: Parsing Split Limit]\n",
      " Input Variant Length: 170 Base Pair(s)\n",
      " Split Fragment Count: At least 2 Split(s) per Variant\n",
      " Time Elapsed: 0.01 sec                                \n",
      " Verdict: Splitting Possibly Feasible\n",
      "                                      \n",
      "[Step 2: Computing Sequence Matrix]\n",
      "   Vectorized: 6,232 Sequences                                                 \n",
      "   3' Padding:     0 Base Pair(s)\n",
      " Time Elapsed: 2.92 sec           \n",
      "                        \n",
      "[Step 3: Computing Entropy Vector]\n",
      "   Count Vector: Normalized                       \n",
      " Entropy Vector: Computed    \n",
      " Time Elapsed: 0.12 sec   \n",
      "                        \n",
      "[Step 4: Parsing Variable Contigs]\n",
      " Extracted Variable Contigs: 1      \n",
      "    Merged Variable Contigs: 1 \n",
      "  Filtered Variable Contigs: 1 \n",
      " Time Elapsed: 0.00 sec        \n",
      " Verdict: Splitting Possibly Feasible\n",
      "                                      \n",
      "[Step 5: Computing Split]\n",
      "                           \n",
      "  Now Computing Split for Fragment: 1\n",
      "    Initial Fragment Coordinates: (Start=0, End=110)\n",
      "    Split Required? Yes                              \n",
      "    Splittable Regions Found: 1 (in 0.00 sec)\n",
      "    Attempting Split in Region: (Start=26, End=110)\n",
      "      Current Split Region of 84 bp maybe Feasible ... Optimizing\n",
      "      Sequence 6,231: Region (Start=67, End=110) is Overlap, Tm and HDist Optimal\n",
      "      Current Split Region Optimized for All 6,232 Sequences\n",
      "    Split Region Selected: (Start=67, End=110) (in 8.81 sec) \n",
      "    Final Fragment 1 Coordinates: (Start=0, End=110)         \n",
      "                                                     \n",
      "  Now Computing Split for Fragment: 2\n",
      "    Initial Fragment Coordinates: (Start=67, End=170)\n",
      "    Split Required? No                                \n",
      "    Final Fragment Coordinates: (Start=67, End=170)\n",
      "                                                    \n",
      "  Solution Status: Splitting Completed\n",
      "  Time Elapsed: 8.81 sec                \n",
      "                         \n",
      "[Step 6: Aggregating Stats]\n",
      " Analyzing: Sequence 6,232 - Overlap 1\n",
      " Time Elapsed: 2.33 sec\n",
      "                        \n",
      "[Split Design Statistics]\n",
      "     Design Status  : Successful\n",
      "     No. of Splits  :   2 Fragments per Variant\n",
      "      Split Length  : 103 to 110 Base Pair(s)   \n",
      "    Overlap Length  :  43 Base Pair(s)        \n",
      "    Overlap Tm      :  67 °C           \n",
      "    Overlap Distance:  32 Mismatch(es)\n",
      " Time Elapsed: 14.20 sec               \n",
      "\n"
     ]
    }
   ],
   "source": [
    "split_df, _ = op.split(\n",
    "    input_data=df,          # Notice, we are not using the \"final_df\"\n",
    "    split_length_limit=110, # Each split must be at most 110 bases long\n",
    "    minimum_melting_temperature=55, # Assembly Tm is 55°C\n",
    "    minimum_hamming_distance=5,     # Ensure the overlaps are distinct\n",
    "    minimum_overlap_length=40,    # At least 40 bp overlap\n",
    "    maximum_overlap_length=60)    # At most 60 bp overlap"
   ]
  },
  {
   "cell_type": "code",
   "execution_count": 50,
   "metadata": {},
   "outputs": [
    {
     "data": {
      "text/html": [
       "<div>\n",
       "<style scoped>\n",
       "    .dataframe tbody tr th:only-of-type {\n",
       "        vertical-align: middle;\n",
       "    }\n",
       "\n",
       "    .dataframe tbody tr th {\n",
       "        vertical-align: top;\n",
       "    }\n",
       "\n",
       "    .dataframe thead th {\n",
       "        text-align: right;\n",
       "    }\n",
       "</style>\n",
       "<table border=\"1\" class=\"dataframe\">\n",
       "  <thead>\n",
       "    <tr style=\"text-align: right;\">\n",
       "      <th></th>\n",
       "      <th>Split1</th>\n",
       "      <th>Split2</th>\n",
       "    </tr>\n",
       "    <tr>\n",
       "      <th>ID</th>\n",
       "      <th></th>\n",
       "      <th></th>\n",
       "    </tr>\n",
       "  </thead>\n",
       "  <tbody>\n",
       "    <tr>\n",
       "      <th>ribozyme_0001</th>\n",
       "      <td>GAATTCTCAGCCACGCATGTCCATAAGGAAGGCCATTCGTTCAGAA...</td>\n",
       "      <td>TACGGGGGTAGTGGACGACGTCCCCGCTCCCCCCTAACATATGACA...</td>\n",
       "    </tr>\n",
       "    <tr>\n",
       "      <th>ribozyme_0002</th>\n",
       "      <td>GAATTCTCAGCCACGCATGTCCATAAAACAAGGAATTTCTTCTATC...</td>\n",
       "      <td>GCGGACGACGTCCCCGCTCCCCCCTAACATATGATTGGACTTGAAG...</td>\n",
       "    </tr>\n",
       "    <tr>\n",
       "      <th>ribozyme_0003</th>\n",
       "      <td>GAATTCTCAGCCACGCATGTCCATAACCACCTTCCGGGCTGATTCA...</td>\n",
       "      <td>TACGGGGGTAGTGGACGACGTCCCCGCTCCCCCCTAACATATTCGG...</td>\n",
       "    </tr>\n",
       "    <tr>\n",
       "      <th>ribozyme_0004</th>\n",
       "      <td>GAATTCTCAGCCACGCATGTCCATAAAACCCTCTAGTCATATCTCT...</td>\n",
       "      <td>ATTTCACTAGACGACGTCCCCGCTCCCCCCTAACATATTACACTCA...</td>\n",
       "    </tr>\n",
       "    <tr>\n",
       "      <th>ribozyme_0005</th>\n",
       "      <td>GAATTCTCAGCCACGCATGTCCATAACCAAAGAGCTGGCATCCGTT...</td>\n",
       "      <td>GTACCACCTGGCGACGACGTCCCCGCTCCCCCCTAACATATGGTGC...</td>\n",
       "    </tr>\n",
       "  </tbody>\n",
       "</table>\n",
       "</div>"
      ],
      "text/plain": [
       "                                                          Split1  \\\n",
       "ID                                                                 \n",
       "ribozyme_0001  GAATTCTCAGCCACGCATGTCCATAAGGAAGGCCATTCGTTCAGAA...   \n",
       "ribozyme_0002  GAATTCTCAGCCACGCATGTCCATAAAACAAGGAATTTCTTCTATC...   \n",
       "ribozyme_0003  GAATTCTCAGCCACGCATGTCCATAACCACCTTCCGGGCTGATTCA...   \n",
       "ribozyme_0004  GAATTCTCAGCCACGCATGTCCATAAAACCCTCTAGTCATATCTCT...   \n",
       "ribozyme_0005  GAATTCTCAGCCACGCATGTCCATAACCAAAGAGCTGGCATCCGTT...   \n",
       "\n",
       "                                                          Split2  \n",
       "ID                                                                \n",
       "ribozyme_0001  TACGGGGGTAGTGGACGACGTCCCCGCTCCCCCCTAACATATGACA...  \n",
       "ribozyme_0002  GCGGACGACGTCCCCGCTCCCCCCTAACATATGATTGGACTTGAAG...  \n",
       "ribozyme_0003  TACGGGGGTAGTGGACGACGTCCCCGCTCCCCCCTAACATATTCGG...  \n",
       "ribozyme_0004  ATTTCACTAGACGACGTCCCCGCTCCCCCCTAACATATTACACTCA...  \n",
       "ribozyme_0005  GTACCACCTGGCGACGACGTCCCCGCTCCCCCCTAACATATGGTGC...  "
      ]
     },
     "execution_count": 50,
     "metadata": {},
     "output_type": "execute_result"
    }
   ],
   "source": [
    "split_df.head(5)"
   ]
  },
  {
   "cell_type": "code",
   "execution_count": 51,
   "metadata": {},
   "outputs": [
    {
     "name": "stdout",
     "output_type": "stream",
     "text": [
      "\n",
      "[Oligopool Calculator: Design Mode - Length Statistics]\n",
      "                                                         \n",
      " Required Arguments\n",
      " Input Data : DataFrame w/ 6,232 Record(s)\n",
      " Oligo Limit: At most 150 Base Pair(s)     \n",
      "                                       \n",
      "[Step 1: Computing Length Statistics]\n",
      " Element Split2: Occupies 103 Base Pair(s)\n",
      " Time Elapsed: 0.00 sec\n",
      "                        \n",
      "[Length Statistics]\n",
      "\n",
      "            Min     Max    Min    Max    Oligo\n",
      "        Element Element  Oligo  Oligo    Limit\n",
      "         Length  Length Length Length Overflow\n",
      " Split1  110 bp  110 bp 110 bp 110 bp       No\n",
      " Split2  103 bp  103 bp 213 bp 213 bp      Yes\n",
      "                     \n",
      " Free Space Available: -63 Base Pair(s)\n",
      " Time Elapsed: 0.01 sec                  \n",
      "\n"
     ]
    }
   ],
   "source": [
    "length_stats = op.lenstat(input_data=split_df, oligo_length_limit=150);"
   ]
  },
  {
   "cell_type": "markdown",
   "metadata": {},
   "source": [
    "We have automatically split our library for two-fragment assembly. The first pool contains 110 bp while the second pool contains 106 bp oligos."
   ]
  },
  {
   "cell_type": "markdown",
   "metadata": {},
   "source": [
    "The `pad` module allows designing of padded primers with embedded Type IIS restriction sites to amplify the oligo fragments, convert them to double-stranded DNA (assuming synthesized oligos are ssDNA) and enable scarless assembly downstream."
   ]
  },
  {
   "cell_type": "code",
   "execution_count": 52,
   "metadata": {},
   "outputs": [
    {
     "name": "stdout",
     "output_type": "stream",
     "text": [
      "Help on function pad in module oligopool.pad:\n",
      "\n",
      "pad(input_data: str | pandas.core.frame.DataFrame, oligo_length_limit: int, split_column: str, typeIIS_system: str, minimum_melting_temperature: float, maximum_melting_temperature: float, maximum_repeat_length: int, output_file: str | None = None, verbose: bool = True) -> Tuple[pandas.core.frame.DataFrame, dict]\n",
      "    Pads split oligos with optimized paired primers with a 3prime TypeIIS restriction site of choice\n",
      "    and adds optional flanking spacers to reach oligo length limit. Returned DataFrame adds new columns\n",
      "    to `input_data`, is compatible with `final` module, and is optionally written to a CSV file.\n",
      "\n",
      "    Required Parameters:\n",
      "        - `input_data` (`str` / `pd.DataFrame`): Path to a CSV file or DataFrame with annotated oligopool variants.\n",
      "        - `oligo_length_limit` (`int`): Maximum allowed padded oligo length (≥ 60).\n",
      "        - `split_column` (`str`): Column name containing split fragments.\n",
      "        - `typeIIS_system` (`str`): Type IIS restriction enzyme to be used for pad excision. See notes.\n",
      "        - `minimum_melting_temperature` (`float`): Minimum padding primer Tm (≥ 25°C).\n",
      "        - `maximum_melting_temperature` (`float`): Maximum padding primer Tm (≤ 95°C).\n",
      "        - `maximum_repeat_length` (`int`): Max shared repeat length b/w padding primers & oligos (between 6 and 20).\n",
      "\n",
      "    Optional Parameters:\n",
      "        - `output_file` (`str` / `None`): Filename for output DataFrame (default: `None`).\n",
      "        - `verbose` (`bool`): If `True`, logs updates to stdout (default: `True`).\n",
      "\n",
      "    Returns:\n",
      "        - A pandas DataFrame with padded oligos; saves to `output_file` if specified.\n",
      "        - A dictionary of stats from the last step in pipeline.\n",
      "\n",
      "    Notes:\n",
      "        - `input_data` must contain a unique 'ID' column, all other columns must be non-empty DNA strings.\n",
      "        - Column names in `input_data` must be unique, and exclude `primer_column`.\n",
      "        - Oligo rows already summing to or exceeding `oligo_length_limit` have a `'-'` (dash) as spacer.\n",
      "        - The following 34 unique Type IIS systems are supported to faciliate scarless padding primer excision.\n",
      "            * `AcuI`,  `AlwI`,  `BbsI`,  `BccI`,   `BceAI`,    `BciVI`,\n",
      "              `BcoDI`, `BmrI`,  `BpuEI`, `BsaI`,   `BseRI`,    `BsmAI`,\n",
      "              `BsmBI`, `BsmFI`, `BsmI`,  `BspCNI`, `BspQI`,    `BsrDI`,\n",
      "              `BsrI`,  `BtgZI`, `BtsCI`, `BtsI`,   `BtsIMutI`, `EarI`,\n",
      "              `EciI`,  `Esp3I`, `FauI`,  `HgaI`,   `HphI`,     `HpyAV`,\n",
      "              `MlyI`,  `MnlI`,  `SapI`,  `SfaNI`\n",
      "\n"
     ]
    }
   ],
   "source": [
    "help(op.pad)"
   ]
  },
  {
   "cell_type": "markdown",
   "metadata": {},
   "source": [
    "We will design our pads with `'BsaI'`, as an example."
   ]
  },
  {
   "cell_type": "code",
   "execution_count": 53,
   "metadata": {},
   "outputs": [
    {
     "name": "stdout",
     "output_type": "stream",
     "text": [
      "\n",
      "[Oligopool Calculator: Design Mode - Pad]\n",
      "                                           \n",
      " Required Arguments\n",
      "   Input Data       : DataFrame w/ 6,232 Record(s)\n",
      "   Oligo Limit      : Design 150 Base Pair(s) Padded Oligos\n",
      "   Split Column     : Input from Column 'Split1'            \n",
      " TypeIIS System     : Enzyme 'BsaI' Recognizing Motif 'GGTCTC'\n",
      " Melting Temperature: 53 to 55 °C                              \n",
      "  Repeat Length     : Up to 8 Base Pair(s) Oligopool Repeats\n",
      "  Output File       : In-Memory DataFrame                    \n",
      "                                          \n",
      "[Step 1: Parsing Split Column]\n",
      " Split Fragments: 6,232 Unique Sequences(s)\n",
      " Fragment Length: 110 Base Pair(s)          \n",
      " Time Elapsed: 0.00 sec            \n",
      " Verdict: Pad Design Possibly Feasible\n",
      "                                       \n",
      "[Step 2: Parsing TypeIIS System]\n",
      " Minimum Padding:  40 bp due to 110 bp Fragment(s)\n",
      " Maximum Padding:  40 bp due to 110 bp Fragment(s) \n",
      " TypeIIS System : Requires 34 bp Minimum Padding   \n",
      " Time Elapsed: 0.00 sec                          \n",
      " Verdict: Pad Design Possibly Feasible\n",
      "                                       \n",
      "[Step 3: Parsing Melting Temperature]\n",
      "  Parameter Source: From Input Argument(s)\n",
      " Required Tm Range: 53.00 to 55.00 °C      \n",
      " Possible Tm Range: 32.43 to 69.02 °C             \n",
      "  Updated Tm Range: 53.00 to 55.00 °C \n",
      " Found 0 Melting Temperature Conflict(s)\n",
      " Time Elapsed: 2.28 sec                  \n",
      " Verdict: Pad Design Possibly Feasible\n",
      "                                       \n",
      "[Step 4: Parsing Excluded Motifs]\n",
      " Sorted and Enqued: 2 Unique Excluded Motif(s)\n",
      " Excluded Motif Length Distribution              \n",
      "   - 2 Motif(s) of Length 6         \n",
      " Time Elapsed: 0.00 sec                         \n",
      " Verdict: Pad Design Possibly Feasible\n",
      "                                       \n",
      "[Step 5: Extracting Context Sequences]\n",
      "  Left Context: 921 Unique Sequence(s)              \n",
      " Right Context:   1 Unique Sequence(s) \n",
      "  Time Elapsed: 0.01 sec               \n",
      "                         \n",
      "[Step 6: Parsing Edge Effects]\n",
      "  Left Context 921: ...ATCAAA Prevents 1 Prefix(es)\n",
      " Right Context   1: GAATTC... Prevents 1 Suffix(es)\n",
      " Time Elapsed: 0.25 sec        \n",
      " Verdict: Pad Design Possibly Feasible\n",
      "                                       \n",
      "[Step 7: Parsing Oligopool Repeats]\n",
      " Repeat Source: From Entire Oligopool\n",
      "  k-mer Space : 131,072 Unique 9-mers \n",
      "   Fill Count : 128,559 Unique 9-mers ( 98.08 %)\n",
      "   Free Count :   2,513 Unique 9-mers (  1.92 %) \n",
      " Verdict: Pad Design Possibly Feasible           \n",
      " Time Elapsed: 2.33 sec                \n",
      "                        \n",
      "[Step 8: Computing Forward Pad]\n",
      " Candidate: Primer AATTGTGTGGGTCTCGGGCT is Accepted                           \n",
      " Time Elapsed: 0.53 sec\n",
      "                        \n",
      "[Step 9: Computing Reverse Pad]\n",
      " Candidate: Primer GGAGTGAGACCTTGTGACGC is Accepted                           \n",
      " Time Elapsed: 0.20 sec\n",
      "                        \n",
      "[Pad Design Statistics]\n",
      "       Design Status    : Successful\n",
      "     Melting Temperature:  53.72 °C and  52.88 °C\n",
      "          GC Content    :  55.00 %  and  60.00 %  \n",
      "     Hairpin MFE        :   0.00 kcal/mol and   0.00 kcal/mol\n",
      "   Homodimer MFE        :  -3.77 kcal/mol and  -5.17 kcal/mol \n",
      " Heterodimer MFE        :  -6.67 kcal/mol                     \n",
      " Time Elapsed: 5.62 sec                   \n",
      "\n"
     ]
    }
   ],
   "source": [
    "first_pad_df, _ = op.pad(\n",
    "    input_data=split_df,\n",
    "    oligo_length_limit=150, # Recall, we are pretending 150 bp synthesis limit\n",
    "    split_column='Split1',  # We will pad the first fragment\n",
    "    typeIIS_system='BsaI',  # Pad with internal 3' BsaI motif\n",
    "    minimum_melting_temperature=53,\n",
    "    maximum_melting_temperature=55,\n",
    "    maximum_repeat_length=8)"
   ]
  },
  {
   "cell_type": "code",
   "execution_count": 54,
   "metadata": {},
   "outputs": [
    {
     "name": "stdout",
     "output_type": "stream",
     "text": [
      "\n",
      "[Oligopool Calculator: Design Mode - Length Statistics]\n",
      "                                                         \n",
      " Required Arguments\n",
      " Input Data : DataFrame w/ 6,232 Record(s)\n",
      " Oligo Limit: At most 150 Base Pair(s)     \n",
      "                                       \n",
      "[Step 1: Computing Length Statistics]\n",
      " Element 3primeSpacer: Occupies 0 Base Pair(s)  \n",
      " Time Elapsed: 0.01 sec\n",
      "                        \n",
      "[Length Statistics]\n",
      "\n",
      "                   Min     Max    Min    Max    Oligo\n",
      "               Element Element  Oligo  Oligo    Limit\n",
      "                Length  Length Length Length Overflow\n",
      "  5primeSpacer    0 bp    0 bp   0 bp   0 bp       No\n",
      " ForwardPrimer   20 bp   20 bp  20 bp  20 bp       No\n",
      "        Split1  110 bp  110 bp 130 bp 130 bp       No\n",
      " ReversePrimer   20 bp   20 bp 150 bp 150 bp       No\n",
      "  3primeSpacer    0 bp    0 bp 150 bp 150 bp       No\n",
      "                     \n",
      " Free Space Available: 0 Base Pair(s)\n",
      " Time Elapsed: 0.01 sec                \n",
      "\n"
     ]
    }
   ],
   "source": [
    "op.lenstat(input_data=first_pad_df, oligo_length_limit=150);"
   ]
  },
  {
   "cell_type": "markdown",
   "metadata": {},
   "source": [
    "Looks good. On to the second padding."
   ]
  },
  {
   "cell_type": "code",
   "execution_count": 55,
   "metadata": {},
   "outputs": [],
   "source": [
    "second_pad_df, _ = op.pad(\n",
    "    input_data=split_df,\n",
    "    oligo_length_limit=150,\n",
    "    split_column='Split2',  # We will pad the second fragment now\n",
    "    typeIIS_system='BsaI',\n",
    "    minimum_melting_temperature=53,\n",
    "    maximum_melting_temperature=55,\n",
    "    maximum_repeat_length=8,\n",
    "    verbose=False)  # Silent Mode"
   ]
  },
  {
   "cell_type": "code",
   "execution_count": 56,
   "metadata": {},
   "outputs": [
    {
     "data": {
      "text/html": [
       "<div>\n",
       "<style scoped>\n",
       "    .dataframe tbody tr th:only-of-type {\n",
       "        vertical-align: middle;\n",
       "    }\n",
       "\n",
       "    .dataframe tbody tr th {\n",
       "        vertical-align: top;\n",
       "    }\n",
       "\n",
       "    .dataframe thead th {\n",
       "        text-align: right;\n",
       "    }\n",
       "</style>\n",
       "<table border=\"1\" class=\"dataframe\">\n",
       "  <thead>\n",
       "    <tr style=\"text-align: right;\">\n",
       "      <th></th>\n",
       "      <th>5primeSpacer</th>\n",
       "      <th>ForwardPrimer</th>\n",
       "      <th>Split2</th>\n",
       "      <th>ReversePrimer</th>\n",
       "      <th>3primeSpacer</th>\n",
       "    </tr>\n",
       "    <tr>\n",
       "      <th>ID</th>\n",
       "      <th></th>\n",
       "      <th></th>\n",
       "      <th></th>\n",
       "      <th></th>\n",
       "      <th></th>\n",
       "    </tr>\n",
       "  </thead>\n",
       "  <tbody>\n",
       "    <tr>\n",
       "      <th>ribozyme_0001</th>\n",
       "      <td>A</td>\n",
       "      <td>CTGTTCGTGGCGGTCTCTTGTA</td>\n",
       "      <td>TACGGGGGTAGTGGACGACGTCCCCGCTCCCCCCTAACATATGACA...</td>\n",
       "      <td>AAACTGAGACCCTGAATCCCCG</td>\n",
       "      <td>GG</td>\n",
       "    </tr>\n",
       "    <tr>\n",
       "      <th>ribozyme_0002</th>\n",
       "      <td>A</td>\n",
       "      <td>CTGTTCGTGGCGGTCTCTTGTA</td>\n",
       "      <td>GCGGACGACGTCCCCGCTCCCCCCTAACATATGATTGGACTTGAAG...</td>\n",
       "      <td>AAACTGAGACCCTGAATCCCCG</td>\n",
       "      <td>GG</td>\n",
       "    </tr>\n",
       "    <tr>\n",
       "      <th>ribozyme_0003</th>\n",
       "      <td>A</td>\n",
       "      <td>CTGTTCGTGGCGGTCTCTTGTA</td>\n",
       "      <td>TACGGGGGTAGTGGACGACGTCCCCGCTCCCCCCTAACATATTCGG...</td>\n",
       "      <td>AAACTGAGACCCTGAATCCCCG</td>\n",
       "      <td>GG</td>\n",
       "    </tr>\n",
       "    <tr>\n",
       "      <th>ribozyme_0004</th>\n",
       "      <td>A</td>\n",
       "      <td>CTGTTCGTGGCGGTCTCTTGTA</td>\n",
       "      <td>ATTTCACTAGACGACGTCCCCGCTCCCCCCTAACATATTACACTCA...</td>\n",
       "      <td>AAACTGAGACCCTGAATCCCCG</td>\n",
       "      <td>GG</td>\n",
       "    </tr>\n",
       "    <tr>\n",
       "      <th>ribozyme_0005</th>\n",
       "      <td>A</td>\n",
       "      <td>CTGTTCGTGGCGGTCTCTTGTA</td>\n",
       "      <td>GTACCACCTGGCGACGACGTCCCCGCTCCCCCCTAACATATGGTGC...</td>\n",
       "      <td>AAACTGAGACCCTGAATCCCCG</td>\n",
       "      <td>GG</td>\n",
       "    </tr>\n",
       "  </tbody>\n",
       "</table>\n",
       "</div>"
      ],
      "text/plain": [
       "              5primeSpacer           ForwardPrimer  \\\n",
       "ID                                                   \n",
       "ribozyme_0001            A  CTGTTCGTGGCGGTCTCTTGTA   \n",
       "ribozyme_0002            A  CTGTTCGTGGCGGTCTCTTGTA   \n",
       "ribozyme_0003            A  CTGTTCGTGGCGGTCTCTTGTA   \n",
       "ribozyme_0004            A  CTGTTCGTGGCGGTCTCTTGTA   \n",
       "ribozyme_0005            A  CTGTTCGTGGCGGTCTCTTGTA   \n",
       "\n",
       "                                                          Split2  \\\n",
       "ID                                                                 \n",
       "ribozyme_0001  TACGGGGGTAGTGGACGACGTCCCCGCTCCCCCCTAACATATGACA...   \n",
       "ribozyme_0002  GCGGACGACGTCCCCGCTCCCCCCTAACATATGATTGGACTTGAAG...   \n",
       "ribozyme_0003  TACGGGGGTAGTGGACGACGTCCCCGCTCCCCCCTAACATATTCGG...   \n",
       "ribozyme_0004  ATTTCACTAGACGACGTCCCCGCTCCCCCCTAACATATTACACTCA...   \n",
       "ribozyme_0005  GTACCACCTGGCGACGACGTCCCCGCTCCCCCCTAACATATGGTGC...   \n",
       "\n",
       "                        ReversePrimer 3primeSpacer  \n",
       "ID                                                  \n",
       "ribozyme_0001  AAACTGAGACCCTGAATCCCCG           GG  \n",
       "ribozyme_0002  AAACTGAGACCCTGAATCCCCG           GG  \n",
       "ribozyme_0003  AAACTGAGACCCTGAATCCCCG           GG  \n",
       "ribozyme_0004  AAACTGAGACCCTGAATCCCCG           GG  \n",
       "ribozyme_0005  AAACTGAGACCCTGAATCCCCG           GG  "
      ]
     },
     "execution_count": 56,
     "metadata": {},
     "output_type": "execute_result"
    }
   ],
   "source": [
    "second_pad_df.head(5)"
   ]
  },
  {
   "cell_type": "code",
   "execution_count": 57,
   "metadata": {},
   "outputs": [
    {
     "name": "stdout",
     "output_type": "stream",
     "text": [
      "\n",
      "[Oligopool Calculator: Design Mode - Length Statistics]\n",
      "                                                         \n",
      " Required Arguments\n",
      " Input Data : DataFrame w/ 6,232 Record(s)\n",
      " Oligo Limit: At most 150 Base Pair(s)     \n",
      "                                       \n",
      "[Step 1: Computing Length Statistics]\n",
      " Element 3primeSpacer: Occupies 2 Base Pair(s)  \n",
      " Time Elapsed: 0.01 sec\n",
      "                        \n",
      "[Length Statistics]\n",
      "\n",
      "                   Min     Max    Min    Max    Oligo\n",
      "               Element Element  Oligo  Oligo    Limit\n",
      "                Length  Length Length Length Overflow\n",
      "  5primeSpacer    1 bp    1 bp   1 bp   1 bp       No\n",
      " ForwardPrimer   22 bp   22 bp  23 bp  23 bp       No\n",
      "        Split2  103 bp  103 bp 126 bp 126 bp       No\n",
      " ReversePrimer   22 bp   22 bp 148 bp 148 bp       No\n",
      "  3primeSpacer    2 bp    2 bp 150 bp 150 bp       No\n",
      "                     \n",
      " Free Space Available: 0 Base Pair(s)\n",
      " Time Elapsed: 0.01 sec                \n",
      "\n"
     ]
    }
   ],
   "source": [
    "op.lenstat(input_data=second_pad_df, oligo_length_limit=150);"
   ]
  },
  {
   "cell_type": "markdown",
   "metadata": {},
   "source": [
    "We would now finalize both the padded DataFrames and ship it to our provider for synthesis."
   ]
  },
  {
   "cell_type": "markdown",
   "metadata": {},
   "source": [
    "This concludes our `Oligopool Calculator` `Design Mode` walkthrough."
   ]
  },
  {
   "cell_type": "code",
   "execution_count": null,
   "metadata": {},
   "outputs": [],
   "source": []
  },
  {
   "cell_type": "code",
   "execution_count": null,
   "metadata": {},
   "outputs": [],
   "source": []
  }
 ],
 "metadata": {
  "kernelspec": {
   "display_name": "Python 3 (ipykernel)",
   "language": "python",
   "name": "python3"
  },
  "language_info": {
   "codemirror_mode": {
    "name": "ipython",
    "version": 3
   },
   "file_extension": ".py",
   "mimetype": "text/x-python",
   "name": "python",
   "nbconvert_exporter": "python",
   "pygments_lexer": "ipython3",
   "version": "3.12.6"
  }
 },
 "nbformat": 4,
 "nbformat_minor": 4
}
