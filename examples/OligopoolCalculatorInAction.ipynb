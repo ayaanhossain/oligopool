{
 "cells": [
  {
   "cell_type": "markdown",
   "metadata": {},
   "source": [
    "## `Oligopool Calculator` in Action!"
   ]
  },
  {
   "cell_type": "markdown",
   "metadata": {},
   "source": [
    "**Author** Ayaan Hossain\n",
    "\n",
    "**Updated** September 30, 2024"
   ]
  },
  {
   "cell_type": "markdown",
   "metadata": {},
   "source": [
    "This `jupyter` notebook will demonstrate the usage of `Oligopool Calculator` and describe its many functions."
   ]
  },
  {
   "cell_type": "markdown",
   "metadata": {},
   "source": [
    "### Content"
   ]
  },
  {
   "cell_type": "markdown",
   "metadata": {},
   "source": [
    "* [Notebook Setup](#Notebook-Setup)\n",
    "* [What is Oligopool Calculator?](#What-is-Oligopool-Calculator?)\n",
    "* [Design Mode Walthrough](#Design-Mode-Walkthrough)\n",
    "    * [Simulating the problem](#Simulating-the-problem)\n",
    "    * [Reviewing constraints and formulating gameplan](#Reviewing-constraints-and-formulating-gameplan)\n",
    "    * [Primer design review](#Primer-design-review)\n",
    "    * [Storing the plasmid background](#Storing-the-plasmid-background)\n",
    "    * [Designing the tri-compatible primers](#Designing-the-tri-compatible-primers)\n",
    "    * [Generating orthogonal barcodes](#Generating-orthogonal-barcodes)\n",
    "    * [Adding neutral motifs, spacers, and finalizing library](#Adding-neutral-motifs,-spacers,-and-finalizing-library)\n",
    "    * [Splitting and padding oligos](#Splitting-and-padding-oligos)\n",
    "* [Analysis Mode Walkthrough](#Analysis-Mode-Walkthrough)\n",
    "    * [Indexing the barcodes and associated variants](#Indexing-the-barcodes-and-associated-variants)\n",
    "    * [Packing the NGS reads for quantification](#Packing-the-NGS-reads-for-quantification)\n",
    "    * [Overview of counting methods](#Overview-of-counting-methods)\n",
    "    * [Association counting of variants and barcodes](#Association-counting-of-variants-and-barcodes)\n",
    "    * [Combinatorial barcode counting with callback](#Combinatorial-barcode-counting-with-callback)\n",
    "* [Conclusion](#Conclusion)"
   ]
  },
  {
   "cell_type": "markdown",
   "metadata": {},
   "source": [
    "### Notebook Setup"
   ]
  },
  {
   "cell_type": "markdown",
   "metadata": {},
   "source": [
    "We will need to have `Oligopool Calculator` installed to proceed. You can install it by uncommenting and executing the following cell."
   ]
  },
  {
   "cell_type": "code",
   "execution_count": 1,
   "metadata": {},
   "outputs": [],
   "source": [
    "# !pip install oligopool"
   ]
  },
  {
   "cell_type": "markdown",
   "metadata": {},
   "source": [
    "Let's import `oligopool`."
   ]
  },
  {
   "cell_type": "code",
   "execution_count": 2,
   "metadata": {},
   "outputs": [],
   "source": [
    "import oligopool as op"
   ]
  },
  {
   "cell_type": "markdown",
   "metadata": {},
   "source": [
    "We will need `numpy` to do some math, and we will use `pandas` as our data container."
   ]
  },
  {
   "cell_type": "code",
   "execution_count": 3,
   "metadata": {},
   "outputs": [],
   "source": [
    "import numpy  as np\n",
    "import pandas as pd"
   ]
  },
  {
   "cell_type": "markdown",
   "metadata": {},
   "source": [
    "We will also need `matplotlib`/`seaborn` for plotting."
   ]
  },
  {
   "cell_type": "code",
   "execution_count": 4,
   "metadata": {},
   "outputs": [],
   "source": [
    "import matplotlib.pyplot as plt\n",
    "import seaborn as sns"
   ]
  },
  {
   "cell_type": "markdown",
   "metadata": {},
   "source": [
    "We're all set."
   ]
  },
  {
   "cell_type": "markdown",
   "metadata": {},
   "source": [
    "### What is Oligopool Calculator?"
   ]
  },
  {
   "cell_type": "markdown",
   "metadata": {},
   "source": [
    "Oligonucleotide pools (oligopools) have revolutionized synthetic biology by enabling large-scale, cost-effective synthesis of hundreds of thousands of unique, short single-stranded DNA sequences."
   ]
  },
  {
   "cell_type": "markdown",
   "metadata": {},
   "source": [
    "These oligopools facilitate the creation and study of various biological components, including de novo promoters, ribozymes, protein scaffolds, and CRISPR libraries. Massively parallel reporter assays (MPRAs) are utilized to clone and assess the functionality of these variants using high-throughput next-generation sequencing (NGS), which can generate billions of short reads per experiment."
   ]
  },
  {
   "cell_type": "markdown",
   "metadata": {},
   "source": [
    "Looking ahead, advancements are expected in the number and length of oligos, NGS throughput, and reductions in manufacturing costs."
   ]
  },
  {
   "cell_type": "markdown",
   "metadata": {},
   "source": [
    "![Oligopool Calculator Workflow](https://raw.githubusercontent.com/ayaanhossain/repfmt/refs/heads/main/oligopool/img/workflow.svg)"
   ]
  },
  {
   "cell_type": "markdown",
   "metadata": {},
   "source": [
    "`Oligopool Calculator` is a comprehensive tool for designing and analyzing large-scale oligonucleotide pools."
   ]
  },
  {
   "cell_type": "markdown",
   "metadata": {},
   "source": [
    "In **(a)** `Design Mode`, the algorithms optimize various elements of the oligopool, including barcodes, primers, spacers, and degenerate motifs. It ensures that these components are maximally distinct, non-repetitive, and free from undesired sequences or structures. The tool also enables the splitting of long oligos into shorter fragments with optimized overlaps for downstream assembly."
   ]
  },
  {
   "cell_type": "markdown",
   "metadata": {},
   "source": [
    "The **(b)** `Analysis Mode` of `Oligopool Calculator` facilitates the processing of next-generation sequencing (NGS) data derived from barcoded amplicons. This mode allows for efficient mapping of variants and their associated barcodes, producing count matrices for quantitative assessment of variant functionality. Two types of counting operations are supported: Association counting for assessing synthesis accuracy, and Combinatorial counting for analyzing multiple barcode combinations from sequencing reads."
   ]
  },
  {
   "cell_type": "markdown",
   "metadata": {},
   "source": [
    "Overall `Oligopool Calculator` provides synthetic biologists with a unified platform for oligopool design and characterization, addressing the need for a standardized approach across different projects and labs. This tool eliminates the need for reinventing design scripts or using suboptimal strategies, making it particularly valuable for designing and analyzing pools containing millions of defined variants."
   ]
  },
  {
   "cell_type": "markdown",
   "metadata": {},
   "source": [
    "### Design Mode Walkthrough"
   ]
  },
  {
   "cell_type": "markdown",
   "metadata": {},
   "source": [
    "Suppose we want to design and test a library of 6,232 ribozyme variants based on the following architecture."
   ]
  },
  {
   "cell_type": "markdown",
   "metadata": {},
   "source": [
    "![Ribozyme Library Architecture](https://raw.githubusercontent.com/ayaanhossain/repfmt/refs/heads/main/oligopool/img/architecture-ribozyme.svg)"
   ]
  },
  {
   "cell_type": "markdown",
   "metadata": {},
   "source": [
    "To characterize the activity of our library in _E. coli_ we want to adopt a two-barcode strategy for designing the oligopool. Because ribozymes are self-cleaving, the two barcodes, BC1 and BC2, placed before and after the core variant would be separated after catalysis. This would allow us to count the ratio of their separation to quantify the efficiency of the ribozymes on a proportional scale (i.e., 0 to 100% cleavage efficiency) and normalize against wildtype ribozyme cleavage efficiencies."
   ]
  },
  {
   "cell_type": "markdown",
   "metadata": {},
   "source": [
    "#### Simulating the problem"
   ]
  },
  {
   "cell_type": "markdown",
   "metadata": {},
   "source": [
    "For the purposes of demonstration, let us first generate a random library of 59-73 mers (designing exact ribozymes is beyond the scope here) and assume that the library will be cloned into a 5 kb plasmid backbone for characterization, which we will also generate randomly."
   ]
  },
  {
   "cell_type": "code",
   "execution_count": 5,
   "metadata": {},
   "outputs": [],
   "source": [
    "rng = np.random.default_rng(seed=42)"
   ]
  },
  {
   "cell_type": "code",
   "execution_count": 6,
   "metadata": {},
   "outputs": [],
   "source": [
    "dna = ['A', 'T', 'G', 'C']"
   ]
  },
  {
   "cell_type": "code",
   "execution_count": 7,
   "metadata": {},
   "outputs": [],
   "source": [
    "ribozymes = []\n",
    "while len(ribozymes) < 6232:\n",
    "    variant = ''.join(rng.choice(dna, size=rng.integers(low=59, high=74)))\n",
    "    if 'GAATTC' in variant or 'GACGTC' in variant:\n",
    "        # Skipping if random variant has EcoRI or AatII motif\n",
    "        continue\n",
    "    ribozymes.append(variant)"
   ]
  },
  {
   "cell_type": "code",
   "execution_count": 8,
   "metadata": {},
   "outputs": [
    {
     "data": {
      "image/png": "[encoded data removed]",
      "text/plain": [
       "<Figure size 2000x500 with 1 Axes>"
      ]
     },
     "metadata": {},
     "output_type": "display_data"
    }
   ],
   "source": [
    "fig,ax = plt.subplots(1,1,figsize=(20,5))\n",
    "sns.histplot([len(x) for x in ribozymes], binwidth=1)\n",
    "ax.set_xticks(np.arange(59,74))\n",
    "ax.set_xlabel('Ribozyme Length')\n",
    "plt.show()"
   ]
  },
  {
   "cell_type": "code",
   "execution_count": 9,
   "metadata": {},
   "outputs": [
    {
     "data": {
      "text/plain": [
       "6232"
      ]
     },
     "execution_count": 9,
     "metadata": {},
     "output_type": "execute_result"
    }
   ],
   "source": [
    "len(ribozymes)"
   ]
  },
  {
   "cell_type": "code",
   "execution_count": 10,
   "metadata": {},
   "outputs": [],
   "source": [
    "plasmid = ''.join(rng.choice(dna) for _ in range(5000))"
   ]
  },
  {
   "cell_type": "code",
   "execution_count": 11,
   "metadata": {},
   "outputs": [
    {
     "data": {
      "text/plain": [
       "5000"
      ]
     },
     "execution_count": 11,
     "metadata": {},
     "output_type": "execute_result"
    }
   ],
   "source": [
    "len(plasmid) # 5 kbp long plasmid"
   ]
  },
  {
   "cell_type": "markdown",
   "metadata": {},
   "source": [
    "#### Reviewing constraints and formulating gameplan"
   ]
  },
  {
   "cell_type": "markdown",
   "metadata": {},
   "source": [
    "We have generated 6,232 simulated candidates between 59 to 73 bp in length, and a plasmid of length 5 kbp. We want to use `EcoRI` and `AatII` as our restriction sites as part of the characterization process."
   ]
  },
  {
   "cell_type": "markdown",
   "metadata": {},
   "source": [
    "We can now use `Oligopool Calculator` to design the following.\n",
    "* Three primers, each 20bp in length,\n",
    "* The prefix and suffix barcodes each 11bp in length, and\n",
    "* Variable length spacers ranging from 3 to 17bp to pad the oligos to 170bp."
   ]
  },
  {
   "cell_type": "markdown",
   "metadata": {},
   "source": [
    "As constraints, we aim to have the following.\n",
    "* The primers should not have off-target binding within the library or to the backbone,\n",
    "* Addition of primers, barcodes or spacers should not contain `EcoRI` and `AatII` motifs or introduce them at the edges, and\n",
    "* The barcodes should all have at least 3 mismatches separating each other."
   ]
  },
  {
   "cell_type": "markdown",
   "metadata": {},
   "source": [
    "Other realistic constraints, such as exclusion of all palindomic hexamers, or polymeric runs such as `'AAAAA'`, ..., `'CCCC'` may be included as they were in the original projects, but we will skip those for this demonstration. In reality, constaints will depend on the design project."
   ]
  },
  {
   "cell_type": "markdown",
   "metadata": {},
   "source": [
    "How do we begin? By asking `help` from `Oligopool Calculator`."
   ]
  },
  {
   "cell_type": "code",
   "execution_count": 12,
   "metadata": {},
   "outputs": [
    {
     "name": "stdout",
     "output_type": "stream",
     "text": [
      "Help on package oligopool:\n",
      "\n",
      "NAME\n",
      "    oligopool\n",
      "\n",
      "DESCRIPTION\n",
      "    oligopool v2024.10.17\n",
      "    by ah\n",
      "\n",
      "    Automated design and analysis of oligopool libraries.\n",
      "\n",
      "    The various modules in Oligopool Calculator can be used\n",
      "    interactively in a jupyter notebook, or be used to define\n",
      "    scripts for design and analysis pipelines on the cloud.\n",
      "\n",
      "    Oligopool Calculator offers two modes of operation\n",
      "        -   Design Mode for designing oligopool libraries, and\n",
      "        - Analysis Mode for analyzing oligopool datasets.\n",
      "\n",
      "    Design Mode workflow\n",
      "\n",
      "        1. Initialize a pandas DataFrame with core library elements.\n",
      "            a. The DataFrame must contain a unique 'ID' column serving as primary key.\n",
      "            b. All other columns in the DataFrame must be DNA sequences.\n",
      "        2. Define any optional background sequences via the background module.\n",
      "        3. Add necessary oligopool elements with constraints via element modules.\n",
      "        4. Optionally, split long oligos and pad them via assembly modules.\n",
      "        5. Perform length checks as needed and finalize library via auxiliary modules.\n",
      "\n",
      "        Background module available\n",
      "            - background\n",
      "\n",
      "        Element modules available\n",
      "            - primer\n",
      "            - barcode\n",
      "            - motif\n",
      "            - spacer\n",
      "\n",
      "        Assembly modules available\n",
      "            - split\n",
      "            - pad\n",
      "\n",
      "        Auxiliary modules available\n",
      "            - lenstat\n",
      "            - final\n",
      "\n",
      "        Design Mode example sketch\n",
      "\n",
      "            >>> import pandas as pd\n",
      "            >>> import oligopool as op\n",
      "            >>>\n",
      "            >>> # Read initial library\n",
      "            >>> init_df = pd.read_csv('initial_library.csv')\n",
      "            >>>\n",
      "            >>> # Add oligo elements one by one\n",
      "            >>> primer_df,  stats = op.primer(input_data=init_df, ...)\n",
      "            >>> barcode_df, stats = op.barcode(input_data=primer_df, ...)\n",
      "            ...\n",
      "            >>> # Check length statistics as needed\n",
      "            >>> length_stats = op.lenstat(input_data=further_along_df)\n",
      "            ...\n",
      "            >>>\n",
      "            >>> # Split and pad longer oligos if needed\n",
      "            >>> split_df, stats = op.split(input_data=even_further_along_df, ...)\n",
      "            >>> first_pad_df,  stats = op.pad(input_data=split_df, ...)\n",
      "            >>> second_pad_df, stats = op.pad(input_data=split_df, ...)\n",
      "            ...\n",
      "            >>>\n",
      "            >>> # Finalize the library\n",
      "            >>> final_df, stats = op.final(input_data=ready_to_go_df, ...)\n",
      "            ...\n",
      "\n",
      "    Analysis Mode workflow\n",
      "\n",
      "        1. Index one or more CSVs containing the barcode information.\n",
      "        2. Pack all NGS FastQ files, optionally merging them if required.\n",
      "        3. Use acount for association counting of variants and barcodes.\n",
      "        4. If multiple barcode combinations are to be counted use xcount.\n",
      "        5. Combine count DataFrames and perform stats and ML as necessary.\n",
      "\n",
      "        Indexing module available\n",
      "            - index\n",
      "\n",
      "        Packing module available\n",
      "            - pack\n",
      "\n",
      "        Counting modules available\n",
      "            - acount\n",
      "            - xcount\n",
      "\n",
      "        Analysis Mode example sketch\n",
      "\n",
      "            >>> import pandas as pd\n",
      "            >>> import oligopool as op\n",
      "            >>>\n",
      "            >>> # Read annotated library\n",
      "            >>> bc1_df = pd.read_csv('barcode_1.csv')\n",
      "            >>> bc2_df = pd.read_csv('barcode_2.csv')\n",
      "            >>> av1_df = pd.read_csv('associate_1.csv')\n",
      "            ...\n",
      "            >>>\n",
      "            >>> # Index barcodes and any associates\n",
      "            >>> bc1_index_stats = op.index(barcode_data=bc1_df, barcode_column='BC1', ...)\n",
      "            >>> bc2_index_stats = op.index(barcode_data=bc2_df, barcode_column='BC2', ...)\n",
      "            ...\n",
      "            >>>\n",
      "            >>> # Pack experiment FastQ files\n",
      "            >>> sam1_pack_stats = op.pack(r1_file='sample_1_R1.fq.gz', ...)\n",
      "            >>> sam2_pack_stats = op.pack(r1_file='sample_2_R1.fq.gz', ...)\n",
      "            ...\n",
      "            >>>\n",
      "            >>> # Compute and write barcode combination count matrix\n",
      "            >>> xcount_df, stats = op.xcount(index_files=['bc1_index', 'bc2_index'],\n",
      "            ...                              pack_file='sample_1_pack', ...)\n",
      "            ...\n",
      "\n",
      "    You can learn more about each module using help.\n",
      "        >>> import oligopool as op\n",
      "        >>> help(op)\n",
      "        >>> help(op.primer)\n",
      "        >>> help(op.barcode)\n",
      "        ...\n",
      "        >>> help(op.xcount)\n",
      "\n",
      "    For advanced uses, the following classes are also available.\n",
      "        - vectorDB\n",
      "        - Scry\n",
      "\n",
      "PACKAGE CONTENTS\n",
      "    acount\n",
      "    background\n",
      "    barcode\n",
      "    final\n",
      "    index\n",
      "    lenstat\n",
      "    motif\n",
      "    pack\n",
      "    pad\n",
      "    primer\n",
      "    spacer\n",
      "    split\n",
      "    xcount\n",
      "\n",
      "SUBMODULES\n",
      "    base\n",
      "\n",
      "VERSION\n",
      "    2024.10.17\n",
      "\n",
      "AUTHOR\n",
      "    Ayaan Hossain\n",
      "\n",
      "FILE\n",
      "    /home/ec2-user/dev/oligopool/oligopool/__init__.py\n",
      "\n",
      "\n"
     ]
    }
   ],
   "source": [
    "help(op)"
   ]
  },
  {
   "cell_type": "markdown",
   "metadata": {},
   "source": [
    "Per the help, will need to primarily use the `barcode`, `primer`, and `spacer` modules to add the library elements."
   ]
  },
  {
   "cell_type": "markdown",
   "metadata": {},
   "source": [
    "#### Primer design review"
   ]
  },
  {
   "cell_type": "markdown",
   "metadata": {},
   "source": [
    "Generally, primers are the most constrained elements in an oligopool library because they have to follow a desired sequence constraint (such as `5'-GC` clamps), be free of inhibitory structures, be very specific to the library and have minimal off-targeting to background. We recommend designing primers first."
   ]
  },
  {
   "cell_type": "markdown",
   "metadata": {},
   "source": [
    "![Primer Design](https://raw.githubusercontent.com/ayaanhossain/repfmt/refs/heads/main/oligopool/img/primer.svg)"
   ]
  },
  {
   "cell_type": "markdown",
   "metadata": {},
   "source": [
    "At any step in the process if we get stuck, `Oligopool Calculator` will tell us what is preventing it from succeeding and we can relax or modify our constraints accordingly."
   ]
  },
  {
   "cell_type": "markdown",
   "metadata": {},
   "source": [
    "How do we design primers?"
   ]
  },
  {
   "cell_type": "code",
   "execution_count": 13,
   "metadata": {},
   "outputs": [
    {
     "name": "stdout",
     "output_type": "stream",
     "text": [
      "\u001b[0;31mSignature:\u001b[0m\n",
      " \u001b[0mop\u001b[0m\u001b[0;34m.\u001b[0m\u001b[0mprimer\u001b[0m\u001b[0;34m(\u001b[0m\u001b[0;34m\u001b[0m\n",
      "\u001b[0;34m\u001b[0m    \u001b[0minput_data\u001b[0m\u001b[0;34m:\u001b[0m \u001b[0mstr\u001b[0m \u001b[0;34m|\u001b[0m \u001b[0mpandas\u001b[0m\u001b[0;34m.\u001b[0m\u001b[0mcore\u001b[0m\u001b[0;34m.\u001b[0m\u001b[0mframe\u001b[0m\u001b[0;34m.\u001b[0m\u001b[0mDataFrame\u001b[0m\u001b[0;34m,\u001b[0m\u001b[0;34m\u001b[0m\n",
      "\u001b[0;34m\u001b[0m    \u001b[0moligo_length_limit\u001b[0m\u001b[0;34m:\u001b[0m \u001b[0mint\u001b[0m\u001b[0;34m,\u001b[0m\u001b[0;34m\u001b[0m\n",
      "\u001b[0;34m\u001b[0m    \u001b[0mprimer_sequence_constraint\u001b[0m\u001b[0;34m:\u001b[0m \u001b[0mstr\u001b[0m\u001b[0;34m,\u001b[0m\u001b[0;34m\u001b[0m\n",
      "\u001b[0;34m\u001b[0m    \u001b[0mprimer_type\u001b[0m\u001b[0;34m:\u001b[0m \u001b[0mint\u001b[0m\u001b[0;34m,\u001b[0m\u001b[0;34m\u001b[0m\n",
      "\u001b[0;34m\u001b[0m    \u001b[0mminimum_melting_temperature\u001b[0m\u001b[0;34m:\u001b[0m \u001b[0mfloat\u001b[0m\u001b[0;34m,\u001b[0m\u001b[0;34m\u001b[0m\n",
      "\u001b[0;34m\u001b[0m    \u001b[0mmaximum_melting_temperature\u001b[0m\u001b[0;34m:\u001b[0m \u001b[0mfloat\u001b[0m\u001b[0;34m,\u001b[0m\u001b[0;34m\u001b[0m\n",
      "\u001b[0;34m\u001b[0m    \u001b[0mmaximum_repeat_length\u001b[0m\u001b[0;34m:\u001b[0m \u001b[0mint\u001b[0m\u001b[0;34m,\u001b[0m\u001b[0;34m\u001b[0m\n",
      "\u001b[0;34m\u001b[0m    \u001b[0mprimer_column\u001b[0m\u001b[0;34m:\u001b[0m \u001b[0mstr\u001b[0m\u001b[0;34m,\u001b[0m\u001b[0;34m\u001b[0m\n",
      "\u001b[0;34m\u001b[0m    \u001b[0moutput_file\u001b[0m\u001b[0;34m:\u001b[0m \u001b[0mstr\u001b[0m \u001b[0;34m|\u001b[0m \u001b[0;32mNone\u001b[0m \u001b[0;34m=\u001b[0m \u001b[0;32mNone\u001b[0m\u001b[0;34m,\u001b[0m\u001b[0;34m\u001b[0m\n",
      "\u001b[0;34m\u001b[0m    \u001b[0mpaired_primer_column\u001b[0m\u001b[0;34m:\u001b[0m \u001b[0mstr\u001b[0m \u001b[0;34m|\u001b[0m \u001b[0;32mNone\u001b[0m \u001b[0;34m=\u001b[0m \u001b[0;32mNone\u001b[0m\u001b[0;34m,\u001b[0m\u001b[0;34m\u001b[0m\n",
      "\u001b[0;34m\u001b[0m    \u001b[0mleft_context_column\u001b[0m\u001b[0;34m:\u001b[0m \u001b[0mstr\u001b[0m \u001b[0;34m|\u001b[0m \u001b[0;32mNone\u001b[0m \u001b[0;34m=\u001b[0m \u001b[0;32mNone\u001b[0m\u001b[0;34m,\u001b[0m\u001b[0;34m\u001b[0m\n",
      "\u001b[0;34m\u001b[0m    \u001b[0mright_context_column\u001b[0m\u001b[0;34m:\u001b[0m \u001b[0mstr\u001b[0m \u001b[0;34m|\u001b[0m \u001b[0;32mNone\u001b[0m \u001b[0;34m=\u001b[0m \u001b[0;32mNone\u001b[0m\u001b[0;34m,\u001b[0m\u001b[0;34m\u001b[0m\n",
      "\u001b[0;34m\u001b[0m    \u001b[0mexcluded_motifs\u001b[0m\u001b[0;34m:\u001b[0m \u001b[0mlist\u001b[0m \u001b[0;34m|\u001b[0m \u001b[0mstr\u001b[0m \u001b[0;34m|\u001b[0m \u001b[0mpandas\u001b[0m\u001b[0;34m.\u001b[0m\u001b[0mcore\u001b[0m\u001b[0;34m.\u001b[0m\u001b[0mframe\u001b[0m\u001b[0;34m.\u001b[0m\u001b[0mDataFrame\u001b[0m \u001b[0;34m|\u001b[0m \u001b[0;32mNone\u001b[0m \u001b[0;34m=\u001b[0m \u001b[0;32mNone\u001b[0m\u001b[0;34m,\u001b[0m\u001b[0;34m\u001b[0m\n",
      "\u001b[0;34m\u001b[0m    \u001b[0mbackground_directory\u001b[0m\u001b[0;34m:\u001b[0m \u001b[0mstr\u001b[0m \u001b[0;34m|\u001b[0m \u001b[0;32mNone\u001b[0m \u001b[0;34m=\u001b[0m \u001b[0;32mNone\u001b[0m\u001b[0;34m,\u001b[0m\u001b[0;34m\u001b[0m\n",
      "\u001b[0;34m\u001b[0m    \u001b[0mverbose\u001b[0m\u001b[0;34m:\u001b[0m \u001b[0mbool\u001b[0m \u001b[0;34m=\u001b[0m \u001b[0;32mTrue\u001b[0m\u001b[0;34m,\u001b[0m\u001b[0;34m\u001b[0m\n",
      "\u001b[0;34m\u001b[0m\u001b[0;34m)\u001b[0m \u001b[0;34m->\u001b[0m \u001b[0mTuple\u001b[0m\u001b[0;34m[\u001b[0m\u001b[0mpandas\u001b[0m\u001b[0;34m.\u001b[0m\u001b[0mcore\u001b[0m\u001b[0;34m.\u001b[0m\u001b[0mframe\u001b[0m\u001b[0;34m.\u001b[0m\u001b[0mDataFrame\u001b[0m\u001b[0;34m,\u001b[0m \u001b[0mdict\u001b[0m\u001b[0;34m]\u001b[0m\u001b[0;34m\u001b[0m\u001b[0;34m\u001b[0m\u001b[0m\n",
      "\u001b[0;31mDocstring:\u001b[0m\n",
      "Designs constrained primers with specified melting temperature and non-repetitiveness\n",
      "for all variants in the oligopool. Ensures compatibility with paired primers and minimizes\n",
      "dimer formation. Returns a DataFrame of designed primers, optionally saving to `output_file`\n",
      "in CSV format.\n",
      "\n",
      "Required Parameters:\n",
      "    - `input_data` (`str` / `pd.DataFrame`): Path to a CSV file or DataFrame with annotated oligopool variants.\n",
      "    - `oligo_length_limit` (`int`): Maximum allowed oligo length (≥ 4).\n",
      "    - `primer_sequence_constraint` (`int`): IUPAC degenerate sequence constraint.\n",
      "    - `primer_type` (`int`): Primer type (0 for forward, 1 for reverse).\n",
      "    - `minimum_melting_temperature` (`float`): Minimum primer Tm (≥ 25°C).\n",
      "    - `maximum_melting_temperature` (`float`): Maximum primer Tm (≤ 95°C).\n",
      "    - `maximum_repeat_length` (`int`): Max shared repeat length with oligos (≥ 6).\n",
      "    - `primer_column` (`str`): Column name for the designed primer.\n",
      "\n",
      "Optional Parameters:\n",
      "    - `output_file` (`str`): Filename for output DataFrame (default: `None`).\n",
      "    - `paired_primer_column` (`str`): Column for paired primer sequence (default: `None`).\n",
      "    - `left_context_column` (`str`): Column for left DNA context (default: `None`).\n",
      "    - `right_context_column` (`str`): Column for right DNA context (default: `None`).\n",
      "    - `excluded_motifs` (`list` / `str` / `pd.DataFrame`): Motifs to exclude;\n",
      "        can be a CSV path or DataFrame (default: `None`).\n",
      "    - `background_directory` (`str`): Directory for background k-mer sequences (default: `None`).\n",
      "    - `verbose` (`bool`): If `True`, logs updates to stdout (default: `True`).\n",
      "\n",
      "Returns:\n",
      "    - A pandas DataFrame of designed primers; saves to `output_file` if specified.\n",
      "    - A dictionary of stats from the last step in pipeline.\n",
      "\n",
      "Notes:\n",
      "    - `input_data` must contain a unique 'ID' column, all other columns must be non-empty DNA strings.\n",
      "    - Column names in `input_data` must be unique, and exclude `primer_column`.\n",
      "    - At least one of `left_context_column` or `right_context_column` must be specified.\n",
      "    - The paired primer type is inferred based on the current primer type.\n",
      "    - If a paired primer is specified, Tm of the designed primer is optimized within 1°C of it.\n",
      "    - `maximum_repeat_length` controls non-repetitiveness against `input_data` only, not `background`.\n",
      "    - If `excluded_motifs` is a CSV or DataFrame, it must have 'ID' and 'Exmotif' columns.\n",
      "    - Constant motifs in sequence constraint may lead to sub-optimal primers.\n",
      "\u001b[0;31mFile:\u001b[0m      ~/dev/oligopool/oligopool/primer.py\n",
      "\u001b[0;31mType:\u001b[0m      function"
     ]
    }
   ],
   "source": [
    "? op.primer"
   ]
  },
  {
   "cell_type": "markdown",
   "metadata": {},
   "source": [
    "Two things should stand out here."
   ]
  },
  {
   "cell_type": "markdown",
   "metadata": {},
   "source": [
    "First, primer design involves consideration of background sequences to minimize off-target amplification, such as from the plasmid we set up. We will need to compute this information prior to primer design."
   ]
  },
  {
   "cell_type": "markdown",
   "metadata": {},
   "source": [
    "Second, primer design involves consideration of pairing information. If we only had two primers (one forward and one reverse) the order of their design would not matter. But in our problem, there are two forward primers (pink and orange) both of which are coupled to a single reverse primer (yellow). It will be important to design them in the right order, as we will discuss shortly."
   ]
  },
  {
   "cell_type": "markdown",
   "metadata": {},
   "source": [
    "Let us first solve the background problem."
   ]
  },
  {
   "cell_type": "markdown",
   "metadata": {},
   "source": [
    "#### Storing the plasmid background"
   ]
  },
  {
   "cell_type": "markdown",
   "metadata": {},
   "source": [
    "`Oligopool Calculator` makes it easy to define a background for primer design via the `background` module."
   ]
  },
  {
   "cell_type": "code",
   "execution_count": 14,
   "metadata": {},
   "outputs": [
    {
     "name": "stdout",
     "output_type": "stream",
     "text": [
      "\u001b[0;31mSignature:\u001b[0m\n",
      " \u001b[0mop\u001b[0m\u001b[0;34m.\u001b[0m\u001b[0mbackground\u001b[0m\u001b[0;34m(\u001b[0m\u001b[0;34m\u001b[0m\n",
      "\u001b[0;34m\u001b[0m    \u001b[0minput_data\u001b[0m\u001b[0;34m:\u001b[0m \u001b[0mlist\u001b[0m \u001b[0;34m|\u001b[0m \u001b[0mstr\u001b[0m \u001b[0;34m|\u001b[0m \u001b[0mpandas\u001b[0m\u001b[0;34m.\u001b[0m\u001b[0mcore\u001b[0m\u001b[0;34m.\u001b[0m\u001b[0mframe\u001b[0m\u001b[0;34m.\u001b[0m\u001b[0mDataFrame\u001b[0m\u001b[0;34m,\u001b[0m\u001b[0;34m\u001b[0m\n",
      "\u001b[0;34m\u001b[0m    \u001b[0mmaximum_repeat_length\u001b[0m\u001b[0;34m:\u001b[0m \u001b[0mint\u001b[0m\u001b[0;34m,\u001b[0m\u001b[0;34m\u001b[0m\n",
      "\u001b[0;34m\u001b[0m    \u001b[0moutput_directory\u001b[0m\u001b[0;34m:\u001b[0m \u001b[0mstr\u001b[0m\u001b[0;34m,\u001b[0m\u001b[0;34m\u001b[0m\n",
      "\u001b[0;34m\u001b[0m    \u001b[0mverbose\u001b[0m\u001b[0;34m=\u001b[0m\u001b[0;32mTrue\u001b[0m\u001b[0;34m,\u001b[0m\u001b[0;34m\u001b[0m\n",
      "\u001b[0;34m\u001b[0m\u001b[0;34m)\u001b[0m \u001b[0;34m->\u001b[0m \u001b[0mdict\u001b[0m\u001b[0;34m\u001b[0m\u001b[0;34m\u001b[0m\u001b[0m\n",
      "\u001b[0;31mDocstring:\u001b[0m\n",
      "The background function creates a k-mer database from a list or CSV file of background sequences.\n",
      "This database is used during primer design to ensure primers are non-repetitive to the background,\n",
      "minimizing off-target amplification. Non-repetitiveness is regulated by the maximum shared repeat\n",
      "length parameter. The generated database is saved in the specified `output_directory`.\n",
      "\n",
      "Required Parameters:\n",
      "    - `input_data` (`list` / `str` / `pd.DataFrame`): background for primers; can be a CSV file or a DataFrame.\n",
      "    - `maximum_repeat_length` (`int`): Max repeat length between primers and background (between 6 and 20).\n",
      "    - `output_directory` (`str`): Directory to store the generated background k-mer database.\n",
      "    - `verbose` (`bool`): If `True`, logs updates to stdout (default: `True`).\n",
      "\n",
      "Returns:\n",
      "    - A dictionary of stats from the last step in pipeline.\n",
      "\n",
      "Notes:\n",
      "    - If `input_data` is a CSV or DataFrame, must contain 'ID' and a 'Sequence' column with DNA strings.\n",
      "    - `maximum_repeat_length` here controls non-repetitiveness of primers to `background` only.\n",
      "    - For manipulation, use `vectorDB` to operate on the background (see `help(oligopool.vectorDB)`).\n",
      "\u001b[0;31mFile:\u001b[0m      ~/dev/oligopool/oligopool/background.py\n",
      "\u001b[0;31mType:\u001b[0m      function"
     ]
    }
   ],
   "source": [
    "? op.background"
   ]
  },
  {
   "cell_type": "markdown",
   "metadata": {},
   "source": [
    "> **Note:** If you want to modify the background post-hoc, or want to define your background using a custom strategy, directly use the `vectorDB` module, which behaves like a dictionary. For details use `help(op.vectorDB)`. The `background` module just wraps around it and offers an one-time use simple interface to `vectorDB`."
   ]
  },
  {
   "cell_type": "code",
   "execution_count": 15,
   "metadata": {},
   "outputs": [],
   "source": [
    "background_directory = 'demo.oligopool.background' # Path to store our background"
   ]
  },
  {
   "cell_type": "markdown",
   "metadata": {},
   "source": [
    "Let's remove the background if one exists already, for this demonstration."
   ]
  },
  {
   "cell_type": "code",
   "execution_count": 16,
   "metadata": {},
   "outputs": [],
   "source": [
    "! rm -rf $background_directory"
   ]
  },
  {
   "cell_type": "markdown",
   "metadata": {},
   "source": [
    "Execute the `background` module."
   ]
  },
  {
   "cell_type": "code",
   "execution_count": 17,
   "metadata": {},
   "outputs": [
    {
     "name": "stdout",
     "output_type": "stream",
     "text": [
      "\n",
      "[Oligopool Calculator: Design Mode - Background]\n",
      "                                                  \n",
      " Required Arguments\n",
      " Background      Data: 1 Unique Sequence(s)\n",
      "    Maximum    Repeat: Up to 8 Base Pair(s) Background Repeats\n",
      "     Output Directory: demo.oligopool.background               \n",
      "                                                 \n",
      "[Computing Background]\n",
      " Sequence 1: TAGCTCAGACGTCGCCTCGA... Inserted\n",
      " Time Elapsed: 0.02 sec                       \n",
      "                        \n",
      "[Background Statistics]\n",
      " Background Status: Successful\n",
      "      k-mer  Space: 131,072 Unique 9-mers\n",
      "       Fill  Count:   4,888 Unique 9-mers (  3.73 %)\n",
      "       Left  Count: 126,184 Unique 9-mers ( 96.27 %) \n",
      " Time Elapsed: 0.03 sec                              \n",
      "\n"
     ]
    }
   ],
   "source": [
    "background_stats = op.background(\n",
    "    input_data=plasmid,\n",
    "    maximum_repeat_length=8,\n",
    "    output_directory=background_directory)"
   ]
  },
  {
   "cell_type": "code",
   "execution_count": 18,
   "metadata": {},
   "outputs": [
    {
     "data": {
      "text/plain": [
       "{'status': True,\n",
       " 'basis': 'solved',\n",
       " 'step': 1,\n",
       " 'step_name': 'computing-background',\n",
       " 'vars': {'kmer_space': 131072, 'fill_count': 4888, 'left_count': 126184},\n",
       " 'warns': {}}"
      ]
     },
     "execution_count": 18,
     "metadata": {},
     "output_type": "execute_result"
    }
   ],
   "source": [
    "background_stats"
   ]
  },
  {
   "cell_type": "markdown",
   "metadata": {},
   "source": [
    "We've now stored the background, and are ready to design the three primers."
   ]
  },
  {
   "cell_type": "markdown",
   "metadata": {},
   "source": [
    "> **Note**: All `Oligopool Calculator` functions should return a pipeline statistics dictionary recapitulating the output from the last step performed in the function. If the operation completed successfully, the `status` key will be marked as `True` and `basis` will be marked as `'solved'`."
   ]
  },
  {
   "cell_type": "markdown",
   "metadata": {},
   "source": [
    "#### Generating the tri-compatible primers"
   ]
  },
  {
   "cell_type": "markdown",
   "metadata": {},
   "source": [
    "All `Design Mode` input and output is mediated through a `pandas` `DataFrame` to facilitate carefully piplined designs. Let us store the variant candidates in a dataframe and start the design process."
   ]
  },
  {
   "cell_type": "code",
   "execution_count": 19,
   "metadata": {},
   "outputs": [],
   "source": [
    "df = pd.DataFrame({\n",
    "    'ID': [f'ribozyme_{x+1:04d}' for x in range(len(ribozymes))],\n",
    "    'EcoRI': 'GAATTC',\n",
    "    'Variant':ribozymes,\n",
    "    'AatII': 'GACGTC',\n",
    "})"
   ]
  },
  {
   "cell_type": "code",
   "execution_count": 20,
   "metadata": {},
   "outputs": [
    {
     "data": {
      "text/html": [
       "<div>\n",
       "<style scoped>\n",
       "    .dataframe tbody tr th:only-of-type {\n",
       "        vertical-align: middle;\n",
       "    }\n",
       "\n",
       "    .dataframe tbody tr th {\n",
       "        vertical-align: top;\n",
       "    }\n",
       "\n",
       "    .dataframe thead th {\n",
       "        text-align: right;\n",
       "    }\n",
       "</style>\n",
       "<table border=\"1\" class=\"dataframe\">\n",
       "  <thead>\n",
       "    <tr style=\"text-align: right;\">\n",
       "      <th></th>\n",
       "      <th>ID</th>\n",
       "      <th>EcoRI</th>\n",
       "      <th>Variant</th>\n",
       "      <th>AatII</th>\n",
       "    </tr>\n",
       "  </thead>\n",
       "  <tbody>\n",
       "    <tr>\n",
       "      <th>6227</th>\n",
       "      <td>ribozyme_6228</td>\n",
       "      <td>GAATTC</td>\n",
       "      <td>GTTTCTTCTTGCAGTGGTCGGGTGAAGGTCGTTGACGGTCTTCACA...</td>\n",
       "      <td>GACGTC</td>\n",
       "    </tr>\n",
       "    <tr>\n",
       "      <th>6228</th>\n",
       "      <td>ribozyme_6229</td>\n",
       "      <td>GAATTC</td>\n",
       "      <td>CGAATGCTCAAACCCCGACAGGTTGCTTAGCGTGTTGACAGGTTTT...</td>\n",
       "      <td>GACGTC</td>\n",
       "    </tr>\n",
       "    <tr>\n",
       "      <th>6229</th>\n",
       "      <td>ribozyme_6230</td>\n",
       "      <td>GAATTC</td>\n",
       "      <td>CGGCCTAATGCCACGCAGCTTGTCATCTCTGTTAGCGACCATAATT...</td>\n",
       "      <td>GACGTC</td>\n",
       "    </tr>\n",
       "    <tr>\n",
       "      <th>6230</th>\n",
       "      <td>ribozyme_6231</td>\n",
       "      <td>GAATTC</td>\n",
       "      <td>TATGTCGAAGACGAATGTGAAAACACAATAACGGTATCGTATGCGA...</td>\n",
       "      <td>GACGTC</td>\n",
       "    </tr>\n",
       "    <tr>\n",
       "      <th>6231</th>\n",
       "      <td>ribozyme_6232</td>\n",
       "      <td>GAATTC</td>\n",
       "      <td>GTGTGGAAGAAATAATGAGAGTAGGCAAGTAGGATCACCTTTTGGC...</td>\n",
       "      <td>GACGTC</td>\n",
       "    </tr>\n",
       "  </tbody>\n",
       "</table>\n",
       "</div>"
      ],
      "text/plain": [
       "                 ID   EcoRI  \\\n",
       "6227  ribozyme_6228  GAATTC   \n",
       "6228  ribozyme_6229  GAATTC   \n",
       "6229  ribozyme_6230  GAATTC   \n",
       "6230  ribozyme_6231  GAATTC   \n",
       "6231  ribozyme_6232  GAATTC   \n",
       "\n",
       "                                                Variant   AatII  \n",
       "6227  GTTTCTTCTTGCAGTGGTCGGGTGAAGGTCGTTGACGGTCTTCACA...  GACGTC  \n",
       "6228  CGAATGCTCAAACCCCGACAGGTTGCTTAGCGTGTTGACAGGTTTT...  GACGTC  \n",
       "6229  CGGCCTAATGCCACGCAGCTTGTCATCTCTGTTAGCGACCATAATT...  GACGTC  \n",
       "6230  TATGTCGAAGACGAATGTGAAAACACAATAACGGTATCGTATGCGA...  GACGTC  \n",
       "6231  GTGTGGAAGAAATAATGAGAGTAGGCAAGTAGGATCACCTTTTGGC...  GACGTC  "
      ]
     },
     "execution_count": 20,
     "metadata": {},
     "output_type": "execute_result"
    }
   ],
   "source": [
    "df.tail(5)"
   ]
  },
  {
   "cell_type": "markdown",
   "metadata": {},
   "source": [
    "Given that the primers are coupled, an optimal solution here is to design the innermost (pink) forward primer first, and then design the reverse primer (yellow), followed by designing the outermost (orange) forward primer. This allows all three primers to be compatible with each other."
   ]
  },
  {
   "cell_type": "markdown",
   "metadata": {},
   "source": [
    "An alternate solution would involve designing the (yellow) reverse primer first, and then designing the two forward primers successively."
   ]
  },
  {
   "cell_type": "markdown",
   "metadata": {},
   "source": [
    "However, if we designed the (yellow) reverse primer at the end, it would be difficult to ensure that it is compatible with both forward primers simultaneously."
   ]
  },
  {
   "cell_type": "code",
   "execution_count": 21,
   "metadata": {},
   "outputs": [],
   "source": [
    "# ? op.primer"
   ]
  },
  {
   "cell_type": "code",
   "execution_count": 22,
   "metadata": {
    "scrolled": true
   },
   "outputs": [
    {
     "name": "stdout",
     "output_type": "stream",
     "text": [
      "\n",
      "[Oligopool Calculator: Design Mode - Primer]\n",
      "                                              \n",
      " Required Arguments\n",
      "      Input Data       : DataFrame w/ 6,232 Record(s)\n",
      "      Oligo Limit      : At most 170 Base Pair(s)     \n",
      "     Primer Sequence   : A 20 Base Pair IUPAC Constraint\n",
      "     Primer Type       : Forward Primer Design           \n",
      "    Melting Temperature: 53 to 55 °C           \n",
      "     Repeat Length     : Up to 8 Base Pair(s) Oligopool Repeats\n",
      "     Primer Column     : Output in Column 'PinkForwardPrimer'   \n",
      "     Output File       : In-Memory DataFrame                  \n",
      "                                             \n",
      " Optional Arguments\n",
      "     Paired Primer     : None Specified\n",
      "       Left Context    : Input from Column 'Variant'\n",
      "      Right Context    : Input from Column 'AatII'   \n",
      "   Excluded Motifs     : 2 Unique Motif(s)         \n",
      " Background Database   : Contains 4,888 Unique 9-mers\n",
      "                                                      \n",
      "[Step 1: Parsing Oligo Limit]\n",
      " Maximum Oligo Length:  170 Base Pair(s)\n",
      " Input Variant Length:   71 to 85 Base Pair(s)\n",
      "  Reqd. Primer Length:   20 Base Pair(s)       \n",
      " Free Space Available:   85 to 99 Base Pair(s)\n",
      " Time Elapsed: 0.01 sec                        \n",
      " Verdict: Primer Design Possibly Feasible\n",
      "                                          \n",
      "[Step 2: Parsing Excluded Motifs]\n",
      " Sorted and Enqued: 2 Unique Excluded Motif(s)\n",
      " Excluded Motif Length Distribution              \n",
      "   - 2 Motif(s) of Length 6         \n",
      " Time Elapsed: 0.00 sec                         \n",
      " Verdict: Primer Design Possibly Feasible\n",
      "                                          \n",
      "[Step 3: Parsing Primer Sequence]\n",
      " Design Space: 68,719,476,736 Possible Primer(s)\n",
      " Found 0 Excluded Motif(s)                       \n",
      " Found 0 Internal Repeat(s)             \n",
      " Found 0 Palindrome(s)             \n",
      " Found 0 Paired Repeat(s)\n",
      " Time Elapsed: 0.00 sec   \n",
      " Verdict: Primer Design Possibly Feasible\n",
      "                                          \n",
      "[Step 4: Parsing Melting Temperature]\n",
      "  Parameter Source: From Input Argument(s)\n",
      " Required Tm Range: 53.00 to 55.00 °C      \n",
      " Possible Tm Range: 27.52 to 71.95 °C             \n",
      "  Updated Tm Range: 53.00 to 55.00 °C \n",
      " Found 0 Melting Temperature Conflict(s)\n",
      " Time Elapsed: 2.44 sec                  \n",
      " Verdict: Primer Design Possibly Feasible\n",
      "                                          \n",
      "[Step 5: Extracting Context Sequences]\n",
      "  Left Context: 3,170 Unique Sequence(s)            \n",
      " Right Context:     1 Unique Sequence(s) \n",
      "  Time Elapsed: 0.01 sec                 \n",
      "                         \n",
      "[Step 6: Parsing Edge Effects]\n",
      "  Left Context 3,170: ...GTTGTC Prevents 1 Prefix(es)\n",
      " Right Context     1: GACGTC... Prevents 1 Suffix(es)\n",
      " Time Elapsed: 1.00 sec        \n",
      " Verdict: Primer Design Possibly Feasible\n",
      "                                          \n",
      "[Step 7: Parsing Oligopool Repeats]\n",
      " Repeat Source: From Entire Oligopool\n",
      "  k-mer Space : 131,072 Unique 9-mers \n",
      "   Fill Count : 124,612 Unique 9-mers ( 95.07 %)\n",
      "   Free Count :   6,460 Unique 9-mers (  4.93 %) \n",
      " Verdict: Primer Design Possibly Feasible        \n",
      " Time Elapsed: 1.52 sec                   \n",
      "                        \n",
      "[Step 8: Computing Primer]\n",
      " Candidate: Primer GGAACGGTATTGTGCGGGTT is Accepted                           \n",
      " Time Elapsed: 3.06 sec\n",
      "                        \n",
      "[Primer Design Statistics]\n",
      "      Design Status     : Successful\n",
      "     Melting Temperature:  53.07 °C  \n",
      "          GC Content    :  55.00 %  \n",
      "     Hairpin MFE        :  -0.70 kcal/mol\n",
      "   Homodimer MFE        :  -5.37 kcal/mol \n",
      " Time Elapsed: 8.04 sec                   \n",
      "\n"
     ]
    }
   ],
   "source": [
    "df, stats = op.primer(\n",
    "    input_data=df,\n",
    "    oligo_length_limit=170,                           # Must not exceed 170bp at any stage\n",
    "    primer_sequence_constraint='SS' + 'N'*16 + 'WW',  # Install 5p GC clamp, and the last two bases must be weak\n",
    "    primer_type=0,                                    # This is a forward primer\n",
    "    primer_column='PinkForwardPrimer',                # Store designs in 'PinkForwardPrimer' column\n",
    "    left_context_column='Variant',                    # Next to 'Variant' column\n",
    "    right_context_column='AatII',                     # Before 'AatII' column\n",
    "    paired_primer_column=None,                        # No paired primer yet\n",
    "    excluded_motifs=['GAATTC', 'GACGTC'],             # Ensure EcoRI and AatII do not emerge as motifs\n",
    "    minimum_melting_temperature=53,                   # Tm = 53°C at least\n",
    "    maximum_melting_temperature=55,                   # Tm = 55°C at most\n",
    "    maximum_repeat_length=8,                          # No more than 8-mer repeats allowed\n",
    "    background_directory=background_directory,        # As setup before\n",
    "    output_file=None)                                 # In-memory return, no CSV written here"
   ]
  },
  {
   "cell_type": "markdown",
   "metadata": {},
   "source": [
    "The designed primer is predicted to be free from hairpin structures with low homodimer probability."
   ]
  },
  {
   "cell_type": "markdown",
   "metadata": {},
   "source": [
    "Let us now design the two remaining primers in silent mode."
   ]
  },
  {
   "cell_type": "code",
   "execution_count": 23,
   "metadata": {},
   "outputs": [],
   "source": [
    "df, _ = op.primer(\n",
    "    input_data=df,                                   # Updated DataFrame along pipeline chain\n",
    "    oligo_length_limit=170,\n",
    "    primer_sequence_constraint='WW' + 'N'*16 + 'SS', # Install 5p GC clamp, and 3p weak bases in reverse\n",
    "    primer_type=1,                                   # This is a reverse primer\n",
    "    primer_column='YellowReversePrimer',             # Store designs in 'YellowReversePrimer' column\n",
    "    left_context_column='PinkForwardPrimer',         # Next to 'PinkForwardPrimer' column\n",
    "    right_context_column='AatII',                    # Before 'AatII' column\n",
    "    paired_primer_column='PinkForwardPrimer',        # Yellow reverse primer paired with pink forward primer\n",
    "    minimum_melting_temperature=53,\n",
    "    maximum_melting_temperature=55,\n",
    "    maximum_repeat_length=8,\n",
    "    excluded_motifs=['GAATTC', 'GACGTC'],\n",
    "    background_directory=background_directory,\n",
    "    verbose=False)                               # Silent Mode"
   ]
  },
  {
   "cell_type": "code",
   "execution_count": 24,
   "metadata": {},
   "outputs": [],
   "source": [
    "df, _ = op.primer(\n",
    "    input_data=df,                                    # Updated DataFrame along pipeline chain\n",
    "    oligo_length_limit=170,\n",
    "    primer_sequence_constraint='SS' + 'N'*16 + 'WW',  # Install 5p GC clamp, and the last two bases must be weak\n",
    "    primer_type=0,                                    # This is a forward primer\n",
    "    primer_column='OrangeForwardPrimer',              # Store designs in 'OrangeForwardPrimer' column\n",
    "    left_context_column='EcoRI',                      # Next to 'EcoRI' column\n",
    "    right_context_column='Variant',                   # Before 'Variant' column\n",
    "    paired_primer_column='YellowReversePrimer',       # Orange forward primer paired with yellow reverse primer\n",
    "    minimum_melting_temperature=53,\n",
    "    maximum_melting_temperature=55,\n",
    "    maximum_repeat_length=8,\n",
    "    excluded_motifs=['GAATTC', 'GACGTC'],\n",
    "    background_directory=background_directory,\n",
    "    verbose=False)"
   ]
  },
  {
   "cell_type": "code",
   "execution_count": 25,
   "metadata": {},
   "outputs": [
    {
     "data": {
      "text/html": [
       "<div>\n",
       "<style scoped>\n",
       "    .dataframe tbody tr th:only-of-type {\n",
       "        vertical-align: middle;\n",
       "    }\n",
       "\n",
       "    .dataframe tbody tr th {\n",
       "        vertical-align: top;\n",
       "    }\n",
       "\n",
       "    .dataframe thead th {\n",
       "        text-align: right;\n",
       "    }\n",
       "</style>\n",
       "<table border=\"1\" class=\"dataframe\">\n",
       "  <thead>\n",
       "    <tr style=\"text-align: right;\">\n",
       "      <th></th>\n",
       "      <th>EcoRI</th>\n",
       "      <th>OrangeForwardPrimer</th>\n",
       "      <th>Variant</th>\n",
       "      <th>PinkForwardPrimer</th>\n",
       "      <th>YellowReversePrimer</th>\n",
       "      <th>AatII</th>\n",
       "    </tr>\n",
       "    <tr>\n",
       "      <th>ID</th>\n",
       "      <th></th>\n",
       "      <th></th>\n",
       "      <th></th>\n",
       "      <th></th>\n",
       "      <th></th>\n",
       "      <th></th>\n",
       "    </tr>\n",
       "  </thead>\n",
       "  <tbody>\n",
       "    <tr>\n",
       "      <th>ribozyme_0001</th>\n",
       "      <td>GAATTC</td>\n",
       "      <td>GGGGTGTGTTGGGGCTTTTT</td>\n",
       "      <td>CGTTCAGAAGCGCGCGACTGTACCGTCGTTAAGCACCTGACGTACT...</td>\n",
       "      <td>GGAACGGTATTGTGCGGGTT</td>\n",
       "      <td>TAGCAATCCGCCCACAAACG</td>\n",
       "      <td>GACGTC</td>\n",
       "    </tr>\n",
       "    <tr>\n",
       "      <th>ribozyme_0002</th>\n",
       "      <td>GAATTC</td>\n",
       "      <td>GGGGTGTGTTGGGGCTTTTT</td>\n",
       "      <td>TCTTCTATCATAGTTAGGCTACGGATCCTCCTCTAGGACACACCCG...</td>\n",
       "      <td>GGAACGGTATTGTGCGGGTT</td>\n",
       "      <td>TAGCAATCCGCCCACAAACG</td>\n",
       "      <td>GACGTC</td>\n",
       "    </tr>\n",
       "    <tr>\n",
       "      <th>ribozyme_0003</th>\n",
       "      <td>GAATTC</td>\n",
       "      <td>GGGGTGTGTTGGGGCTTTTT</td>\n",
       "      <td>GCTGATTCATTCCAACACTCTTGAGGCCGTTTCTATAAACGGTGAC...</td>\n",
       "      <td>GGAACGGTATTGTGCGGGTT</td>\n",
       "      <td>TAGCAATCCGCCCACAAACG</td>\n",
       "      <td>GACGTC</td>\n",
       "    </tr>\n",
       "    <tr>\n",
       "      <th>ribozyme_0004</th>\n",
       "      <td>GAATTC</td>\n",
       "      <td>GGGGTGTGTTGGGGCTTTTT</td>\n",
       "      <td>CATATCTCTGTTCCTCTGCTGTAATCATGAGTCGGATCACTGGTTG...</td>\n",
       "      <td>GGAACGGTATTGTGCGGGTT</td>\n",
       "      <td>TAGCAATCCGCCCACAAACG</td>\n",
       "      <td>GACGTC</td>\n",
       "    </tr>\n",
       "    <tr>\n",
       "      <th>ribozyme_0005</th>\n",
       "      <td>GAATTC</td>\n",
       "      <td>GGGGTGTGTTGGGGCTTTTT</td>\n",
       "      <td>GCATCCGTTGGTAACTTTCAATTGTTCAGGTCTCTGGCTTATCACG...</td>\n",
       "      <td>GGAACGGTATTGTGCGGGTT</td>\n",
       "      <td>TAGCAATCCGCCCACAAACG</td>\n",
       "      <td>GACGTC</td>\n",
       "    </tr>\n",
       "  </tbody>\n",
       "</table>\n",
       "</div>"
      ],
      "text/plain": [
       "                EcoRI   OrangeForwardPrimer  \\\n",
       "ID                                            \n",
       "ribozyme_0001  GAATTC  GGGGTGTGTTGGGGCTTTTT   \n",
       "ribozyme_0002  GAATTC  GGGGTGTGTTGGGGCTTTTT   \n",
       "ribozyme_0003  GAATTC  GGGGTGTGTTGGGGCTTTTT   \n",
       "ribozyme_0004  GAATTC  GGGGTGTGTTGGGGCTTTTT   \n",
       "ribozyme_0005  GAATTC  GGGGTGTGTTGGGGCTTTTT   \n",
       "\n",
       "                                                         Variant  \\\n",
       "ID                                                                 \n",
       "ribozyme_0001  CGTTCAGAAGCGCGCGACTGTACCGTCGTTAAGCACCTGACGTACT...   \n",
       "ribozyme_0002  TCTTCTATCATAGTTAGGCTACGGATCCTCCTCTAGGACACACCCG...   \n",
       "ribozyme_0003  GCTGATTCATTCCAACACTCTTGAGGCCGTTTCTATAAACGGTGAC...   \n",
       "ribozyme_0004  CATATCTCTGTTCCTCTGCTGTAATCATGAGTCGGATCACTGGTTG...   \n",
       "ribozyme_0005  GCATCCGTTGGTAACTTTCAATTGTTCAGGTCTCTGGCTTATCACG...   \n",
       "\n",
       "                  PinkForwardPrimer   YellowReversePrimer   AatII  \n",
       "ID                                                                 \n",
       "ribozyme_0001  GGAACGGTATTGTGCGGGTT  TAGCAATCCGCCCACAAACG  GACGTC  \n",
       "ribozyme_0002  GGAACGGTATTGTGCGGGTT  TAGCAATCCGCCCACAAACG  GACGTC  \n",
       "ribozyme_0003  GGAACGGTATTGTGCGGGTT  TAGCAATCCGCCCACAAACG  GACGTC  \n",
       "ribozyme_0004  GGAACGGTATTGTGCGGGTT  TAGCAATCCGCCCACAAACG  GACGTC  \n",
       "ribozyme_0005  GGAACGGTATTGTGCGGGTT  TAGCAATCCGCCCACAAACG  GACGTC  "
      ]
     },
     "execution_count": 25,
     "metadata": {},
     "output_type": "execute_result"
    }
   ],
   "source": [
    "df.head(5)"
   ]
  },
  {
   "cell_type": "markdown",
   "metadata": {},
   "source": [
    "All our primers are installed. Barcodes up next!"
   ]
  },
  {
   "cell_type": "markdown",
   "metadata": {},
   "source": [
    "Before that, since we're done with the background let's drop it."
   ]
  },
  {
   "cell_type": "code",
   "execution_count": 26,
   "metadata": {},
   "outputs": [],
   "source": [
    "# help(op.vectorDB)"
   ]
  },
  {
   "cell_type": "code",
   "execution_count": 27,
   "metadata": {},
   "outputs": [
    {
     "data": {
      "text/plain": [
       "True"
      ]
     },
     "execution_count": 27,
     "metadata": {},
     "output_type": "execute_result"
    }
   ],
   "source": [
    "op.vectorDB(background_directory, maximum_repeat_length=11).drop()"
   ]
  },
  {
   "cell_type": "markdown",
   "metadata": {},
   "source": [
    "#### Designing orthogonal barcodes"
   ]
  },
  {
   "cell_type": "markdown",
   "metadata": {},
   "source": [
    "Barcodes are critical elements that help identify each variant uniquely, especially when the core oligo variants are similar to each other. `Oligopool Calculator` maximizes barcode distinguishability which is useful, for example, when the library is exploring all single substitutions to a template."
   ]
  },
  {
   "cell_type": "markdown",
   "metadata": {},
   "source": [
    "![Barcode Design](https://raw.githubusercontent.com/ayaanhossain/repfmt/refs/heads/main/oligopool/img/barcode.svg)"
   ]
  },
  {
   "cell_type": "code",
   "execution_count": 28,
   "metadata": {},
   "outputs": [
    {
     "name": "stdout",
     "output_type": "stream",
     "text": [
      "\u001b[0;31mSignature:\u001b[0m\n",
      " \u001b[0mop\u001b[0m\u001b[0;34m.\u001b[0m\u001b[0mbarcode\u001b[0m\u001b[0;34m(\u001b[0m\u001b[0;34m\u001b[0m\n",
      "\u001b[0;34m\u001b[0m    \u001b[0minput_data\u001b[0m\u001b[0;34m:\u001b[0m \u001b[0mstr\u001b[0m \u001b[0;34m|\u001b[0m \u001b[0mpandas\u001b[0m\u001b[0;34m.\u001b[0m\u001b[0mcore\u001b[0m\u001b[0;34m.\u001b[0m\u001b[0mframe\u001b[0m\u001b[0;34m.\u001b[0m\u001b[0mDataFrame\u001b[0m\u001b[0;34m,\u001b[0m\u001b[0;34m\u001b[0m\n",
      "\u001b[0;34m\u001b[0m    \u001b[0moligo_length_limit\u001b[0m\u001b[0;34m:\u001b[0m \u001b[0mint\u001b[0m\u001b[0;34m,\u001b[0m\u001b[0;34m\u001b[0m\n",
      "\u001b[0;34m\u001b[0m    \u001b[0mbarcode_length\u001b[0m\u001b[0;34m:\u001b[0m \u001b[0mint\u001b[0m\u001b[0;34m,\u001b[0m\u001b[0;34m\u001b[0m\n",
      "\u001b[0;34m\u001b[0m    \u001b[0mminimum_hamming_distance\u001b[0m\u001b[0;34m:\u001b[0m \u001b[0mint\u001b[0m\u001b[0;34m,\u001b[0m\u001b[0;34m\u001b[0m\n",
      "\u001b[0;34m\u001b[0m    \u001b[0mmaximum_repeat_length\u001b[0m\u001b[0;34m:\u001b[0m \u001b[0mint\u001b[0m\u001b[0;34m,\u001b[0m\u001b[0;34m\u001b[0m\n",
      "\u001b[0;34m\u001b[0m    \u001b[0mbarcode_column\u001b[0m\u001b[0;34m:\u001b[0m \u001b[0mstr\u001b[0m\u001b[0;34m,\u001b[0m\u001b[0;34m\u001b[0m\n",
      "\u001b[0;34m\u001b[0m    \u001b[0moutput_file\u001b[0m\u001b[0;34m:\u001b[0m \u001b[0mstr\u001b[0m \u001b[0;34m|\u001b[0m \u001b[0;32mNone\u001b[0m \u001b[0;34m=\u001b[0m \u001b[0;32mNone\u001b[0m\u001b[0;34m,\u001b[0m\u001b[0;34m\u001b[0m\n",
      "\u001b[0;34m\u001b[0m    \u001b[0mbarcode_type\u001b[0m\u001b[0;34m:\u001b[0m \u001b[0mint\u001b[0m \u001b[0;34m=\u001b[0m \u001b[0;36m0\u001b[0m\u001b[0;34m,\u001b[0m\u001b[0;34m\u001b[0m\n",
      "\u001b[0;34m\u001b[0m    \u001b[0mleft_context_column\u001b[0m\u001b[0;34m:\u001b[0m \u001b[0mstr\u001b[0m \u001b[0;34m|\u001b[0m \u001b[0;32mNone\u001b[0m \u001b[0;34m=\u001b[0m \u001b[0;32mNone\u001b[0m\u001b[0;34m,\u001b[0m\u001b[0;34m\u001b[0m\n",
      "\u001b[0;34m\u001b[0m    \u001b[0mright_context_column\u001b[0m\u001b[0;34m:\u001b[0m \u001b[0mstr\u001b[0m \u001b[0;34m|\u001b[0m \u001b[0;32mNone\u001b[0m \u001b[0;34m=\u001b[0m \u001b[0;32mNone\u001b[0m\u001b[0;34m,\u001b[0m\u001b[0;34m\u001b[0m\n",
      "\u001b[0;34m\u001b[0m    \u001b[0mexcluded_motifs\u001b[0m\u001b[0;34m:\u001b[0m \u001b[0mlist\u001b[0m \u001b[0;34m|\u001b[0m \u001b[0mstr\u001b[0m \u001b[0;34m|\u001b[0m \u001b[0mpandas\u001b[0m\u001b[0;34m.\u001b[0m\u001b[0mcore\u001b[0m\u001b[0;34m.\u001b[0m\u001b[0mframe\u001b[0m\u001b[0;34m.\u001b[0m\u001b[0mDataFrame\u001b[0m \u001b[0;34m|\u001b[0m \u001b[0;32mNone\u001b[0m \u001b[0;34m=\u001b[0m \u001b[0;32mNone\u001b[0m\u001b[0;34m,\u001b[0m\u001b[0;34m\u001b[0m\n",
      "\u001b[0;34m\u001b[0m    \u001b[0mverbose\u001b[0m\u001b[0;34m:\u001b[0m \u001b[0mbool\u001b[0m \u001b[0;34m=\u001b[0m \u001b[0;32mTrue\u001b[0m\u001b[0;34m,\u001b[0m\u001b[0;34m\u001b[0m\n",
      "\u001b[0;34m\u001b[0m\u001b[0;34m)\u001b[0m \u001b[0;34m->\u001b[0m \u001b[0mTuple\u001b[0m\u001b[0;34m[\u001b[0m\u001b[0mpandas\u001b[0m\u001b[0;34m.\u001b[0m\u001b[0mcore\u001b[0m\u001b[0;34m.\u001b[0m\u001b[0mframe\u001b[0m\u001b[0;34m.\u001b[0m\u001b[0mDataFrame\u001b[0m\u001b[0;34m,\u001b[0m \u001b[0mdict\u001b[0m\u001b[0;34m]\u001b[0m\u001b[0;34m\u001b[0m\u001b[0;34m\u001b[0m\u001b[0m\n",
      "\u001b[0;31mDocstring:\u001b[0m\n",
      "Generates constrained barcodes, ensuring a minimum Hamming distance between each pair\n",
      "and excluding specified motifs, even when flanked by context sequences. The output is a\n",
      "DataFrame of designed barcodes, which can be saved as a CSV file if specified.\n",
      "\n",
      "Required Parameters:\n",
      "    - `input_data` (`str` / `pd.DataFrame`): Path to a CSV file or DataFrame with annotated oligopool variants.\n",
      "    - `oligo_length_limit` (`int`): Maximum allowed oligo length (≥ 4).\n",
      "    - `barcode_length` (`int`): Length of the designed barcodes (≥ 4).\n",
      "    - `minimum_hamming_distance` (`int`): Minimum pairwise Hamming distance (≥ 1).\n",
      "    - `maximum_repeat_length` (`int`): Max shared repeat length with oligos (≥ 4).\n",
      "    - `barcode_column` (`str`): Column name for the designed barcodes.\n",
      "\n",
      "Optional Parameters:\n",
      "    - `output_file` (`str`): Filename for output DataFrame (default: `None`).\n",
      "    - `barcode_type` (`int`): Barcode design type\n",
      "        0 for fast terminus optimized,\n",
      "        1 for slow spectrum optimized.\n",
      "        (default: 0)\n",
      "    - `left_context_column` (`str`): Column for left DNA context (default: `None`).\n",
      "    - `right_context_column` (`str`): Column for right DNA context (default: `None`).\n",
      "    - `excluded_motifs` (`list` / `str` / `pd.DataFrame`): Motifs to exclude;\n",
      "        can be a CSV path or DataFrame (default: `None`).\n",
      "    - `verbose` (`bool`): If `True`, logs updates to stdout (default: `True`).\n",
      "\n",
      "Returns:\n",
      "    - A pandas DataFrame of generated barcodes; saves to `output_file` if specified.\n",
      "    - A dictionary of stats from the last step in pipeline.\n",
      "\n",
      "Notes:\n",
      "    - `input_data` must contain a unique 'ID' column, all other columns must be non-empty DNA strings.\n",
      "    - Column names in `input_data` must be unique, and exclude `barcode_column`.\n",
      "    - At least one of `left_context_column` or `right_context_column` must be specified.\n",
      "    - If `excluded_motifs` is a CSV or DataFrame, it must have 'ID' and 'Exmotif' columns.\n",
      "    - If barcode design is challenging, consider\n",
      "        * altering `barcode_length`, or\n",
      "        * reducing `minimum_hamming_distance`, or\n",
      "        * switching to terminus optimized barcodes, or\n",
      "        * increasing `maximum_repeat_length`, or\n",
      "        * reducing `excluded_motifs` to relax the constraints.\n",
      "\u001b[0;31mFile:\u001b[0m      ~/dev/oligopool/oligopool/barcode.py\n",
      "\u001b[0;31mType:\u001b[0m      function"
     ]
    }
   ],
   "source": [
    "? op.barcode"
   ]
  },
  {
   "cell_type": "markdown",
   "metadata": {},
   "source": [
    "Unlike primers which need to satisfy global constraints (a hard problem), barcodes are optimized contextually. So, barcodes may be designed after all the primers have been installed. However, the pairwise Hamming distance requirement coupled with other constraints makes it difficult to judge ahead of time if there are enough barcodes possible for a given library with desired constraints."
   ]
  },
  {
   "cell_type": "markdown",
   "metadata": {},
   "source": [
    "Let us design BC1 first."
   ]
  },
  {
   "cell_type": "code",
   "execution_count": 29,
   "metadata": {},
   "outputs": [
    {
     "data": {
      "text/plain": [
       "Index(['EcoRI', 'OrangeForwardPrimer', 'Variant', 'PinkForwardPrimer',\n",
       "       'YellowReversePrimer', 'AatII'],\n",
       "      dtype='object')"
      ]
     },
     "execution_count": 29,
     "metadata": {},
     "output_type": "execute_result"
    }
   ],
   "source": [
    "df.columns"
   ]
  },
  {
   "cell_type": "code",
   "execution_count": 30,
   "metadata": {},
   "outputs": [
    {
     "name": "stdout",
     "output_type": "stream",
     "text": [
      "\n",
      "[Oligopool Calculator: Design Mode - Barcode]\n",
      "                                               \n",
      " Required Arguments\n",
      "    Input Data    : DataFrame w/ 6,232 Record(s)\n",
      "    Oligo Limit   : At most 170 Base Pair(s)     \n",
      "  Barcode Length  : Exactly 11 Base Pair(s)  \n",
      "  Hamming Distance: At least 3 Mismatch(es) per Barcode Pair\n",
      "   Repeat Length  : Up to 6 Base Pair(s) Oligopool Repeats   \n",
      "  Barcode Column  : Output in Column 'BC1'                 \n",
      "   Output File    : In-Memory DataFrame    \n",
      "                                        \n",
      " Optional Arguments\n",
      "  Barcode Type    : Spectrum Optimized Barcodes\n",
      "     Left Context : Input from Column 'OrangeForwardPrimer'\n",
      "    Right Context : Input from Column 'Variant'             \n",
      " Excluded Motifs  : 2 Unique Motif(s)           \n",
      "                                      \n",
      "[Step 1: Parsing Oligo Limit]\n",
      " Maximum Oligo Length:  170 Base Pair(s)\n",
      " Input Variant Length:  131 to 145 Base Pair(s)\n",
      " Reqd. Barcode Length:   11 Base Pair(s)        \n",
      " Free Space Available:   25 to 39 Base Pair(s)\n",
      " Time Elapsed: 0.01 sec                        \n",
      " Verdict: Barcode Design Possibly Feasible\n",
      "                                           \n",
      "[Step 2: Parsing Barcode Length]\n",
      " Required Length: 11 Base Pair(s) \n",
      "   Design Space : 4,194,304 Barcode(s)\n",
      "   Target Count :     6,232 Barcode(s) \n",
      " Time Elapsed: 0.00 sec                \n",
      " Verdict: Barcode Design Possibly Feasible\n",
      "                                           \n",
      "[Step 3: Parsing Excluded Motifs]\n",
      " Sorted and Enqued: 2 Unique Excluded Motif(s)\n",
      " Excluded Motif Length Distribution              \n",
      "   - 2 Motif(s) of Length 6         \n",
      " Time Elapsed: 0.00 sec                         \n",
      " Verdict: Barcode Design Possibly Feasible\n",
      "                                           \n",
      "[Step 4: Extracting Context Sequences]\n",
      "  Left Context:     1 Unique Sequence(s)            \n",
      " Right Context: 3,215 Unique Sequence(s) \n",
      "  Time Elapsed: 0.01 sec                 \n",
      "                         \n",
      "[Step 5: Parsing Oligopool Repeats]\n",
      " Repeat Source: Contextually per Variant\n",
      "  k-mer Space : 8,192 Unique 7-mers      \n",
      "   Fill Count :   139 Unique 7-mers (  1.70 %)\n",
      "   Free Count : 8,053 Unique 7-mers ( 98.30 %) \n",
      " Verdict: Barcode Design Possibly Feasible     \n",
      " Time Elapsed: 1.17 sec                    \n",
      "                        \n",
      "[Step 6: Computing Barcodes]\n",
      " Type Optimization: Activated \n",
      " Candidate 6,232: Barcode CTCCCGGGCAC is Accepted                        \n",
      " Time Elapsed: 8.23 sec\n",
      "                        \n",
      "[Step 7: Computing Distance Distribution]\n",
      " Candidate 6,228: Pairwise Distance ≥ 3 Mismatches \n",
      " Time Elapsed: 0.73 sec      \n",
      "                        \n",
      "[Barcode Design Statistics]\n",
      "   Design Status   : Successful\n",
      "   Target Count    : 6,232 Barcode(s)\n",
      "  Barcode Count    : 6,232 Barcode(s) (100.00 %)\n",
      "   Pair-wise Distance Distribution               \n",
      "     -   0.16 % Barcode(s) w/ Distance ≥  8 Mismatch(es)\n",
      "     -   0.32 % Barcode(s) w/ Distance ≥ 11 Mismatch(es) \n",
      "     -   0.48 % Barcode(s) w/ Distance ≥  7 Mismatch(es) \n",
      "     -   2.41 % Barcode(s) w/ Distance ≥  6 Mismatch(es) \n",
      "     -  13.80 % Barcode(s) w/ Distance ≥  5 Mismatch(es) \n",
      "     -  30.34 % Barcode(s) w/ Distance ≥  3 Mismatch(es) \n",
      "     -  52.49 % Barcode(s) w/ Distance ≥  4 Mismatch(es) \n",
      " Time Elapsed: 10.19 sec                                 \n",
      "\n"
     ]
    }
   ],
   "source": [
    "df, _ = op.barcode(\n",
    "    input_data=df,\n",
    "    oligo_length_limit=170,\n",
    "    barcode_length=11,\n",
    "    minimum_hamming_distance=3,  # As defined by our goal\n",
    "    maximum_repeat_length=6,     # To prevent internal hairpins, say\n",
    "    barcode_column='BC1',\n",
    "    barcode_type=1,\n",
    "    left_context_column='OrangeForwardPrimer',\n",
    "    right_context_column='Variant',\n",
    "    excluded_motifs=['GAATTC', 'GACGTC'])"
   ]
  },
  {
   "cell_type": "markdown",
   "metadata": {},
   "source": [
    "Most of the barcodes have at least 4 mismatches separating them, and all of them are at least 3 mismatches apart as intended."
   ]
  },
  {
   "cell_type": "markdown",
   "metadata": {},
   "source": [
    "Next, let's add BC2."
   ]
  },
  {
   "cell_type": "code",
   "execution_count": 31,
   "metadata": {},
   "outputs": [],
   "source": [
    "df, _ = op.barcode(\n",
    "    input_data=df,\n",
    "    oligo_length_limit=170,\n",
    "    barcode_length=11,\n",
    "    minimum_hamming_distance=3,\n",
    "    maximum_repeat_length=6,\n",
    "    barcode_column='BC2',\n",
    "    barcode_type=1,\n",
    "    left_context_column='PinkForwardPrimer',\n",
    "    right_context_column='YellowReversePrimer',\n",
    "    excluded_motifs=['GAATTC', 'GACGTC'],\n",
    "    verbose=False)  # Silent mode"
   ]
  },
  {
   "cell_type": "code",
   "execution_count": 32,
   "metadata": {},
   "outputs": [
    {
     "data": {
      "text/html": [
       "<div>\n",
       "<style scoped>\n",
       "    .dataframe tbody tr th:only-of-type {\n",
       "        vertical-align: middle;\n",
       "    }\n",
       "\n",
       "    .dataframe tbody tr th {\n",
       "        vertical-align: top;\n",
       "    }\n",
       "\n",
       "    .dataframe thead th {\n",
       "        text-align: right;\n",
       "    }\n",
       "</style>\n",
       "<table border=\"1\" class=\"dataframe\">\n",
       "  <thead>\n",
       "    <tr style=\"text-align: right;\">\n",
       "      <th></th>\n",
       "      <th>EcoRI</th>\n",
       "      <th>OrangeForwardPrimer</th>\n",
       "      <th>BC1</th>\n",
       "      <th>Variant</th>\n",
       "      <th>PinkForwardPrimer</th>\n",
       "      <th>BC2</th>\n",
       "      <th>YellowReversePrimer</th>\n",
       "      <th>AatII</th>\n",
       "    </tr>\n",
       "    <tr>\n",
       "      <th>ID</th>\n",
       "      <th></th>\n",
       "      <th></th>\n",
       "      <th></th>\n",
       "      <th></th>\n",
       "      <th></th>\n",
       "      <th></th>\n",
       "      <th></th>\n",
       "      <th></th>\n",
       "    </tr>\n",
       "  </thead>\n",
       "  <tbody>\n",
       "    <tr>\n",
       "      <th>ribozyme_0001</th>\n",
       "      <td>GAATTC</td>\n",
       "      <td>GGGGTGTGTTGGGGCTTTTT</td>\n",
       "      <td>AACTGGTGTTC</td>\n",
       "      <td>CGTTCAGAAGCGCGCGACTGTACCGTCGTTAAGCACCTGACGTACT...</td>\n",
       "      <td>GGAACGGTATTGTGCGGGTT</td>\n",
       "      <td>ATAATAGACCA</td>\n",
       "      <td>TAGCAATCCGCCCACAAACG</td>\n",
       "      <td>GACGTC</td>\n",
       "    </tr>\n",
       "    <tr>\n",
       "      <th>ribozyme_0002</th>\n",
       "      <td>GAATTC</td>\n",
       "      <td>GGGGTGTGTTGGGGCTTTTT</td>\n",
       "      <td>ATGGCAAGATC</td>\n",
       "      <td>TCTTCTATCATAGTTAGGCTACGGATCCTCCTCTAGGACACACCCG...</td>\n",
       "      <td>GGAACGGTATTGTGCGGGTT</td>\n",
       "      <td>CGCCGCTCAAC</td>\n",
       "      <td>TAGCAATCCGCCCACAAACG</td>\n",
       "      <td>GACGTC</td>\n",
       "    </tr>\n",
       "    <tr>\n",
       "      <th>ribozyme_0003</th>\n",
       "      <td>GAATTC</td>\n",
       "      <td>GGGGTGTGTTGGGGCTTTTT</td>\n",
       "      <td>CGTTACCTCGA</td>\n",
       "      <td>GCTGATTCATTCCAACACTCTTGAGGCCGTTTCTATAAACGGTGAC...</td>\n",
       "      <td>GGAACGGTATTGTGCGGGTT</td>\n",
       "      <td>CGGTAGCTTGA</td>\n",
       "      <td>TAGCAATCCGCCCACAAACG</td>\n",
       "      <td>GACGTC</td>\n",
       "    </tr>\n",
       "    <tr>\n",
       "      <th>ribozyme_0004</th>\n",
       "      <td>GAATTC</td>\n",
       "      <td>GGGGTGTGTTGGGGCTTTTT</td>\n",
       "      <td>AAGCGAGGGGC</td>\n",
       "      <td>CATATCTCTGTTCCTCTGCTGTAATCATGAGTCGGATCACTGGTTG...</td>\n",
       "      <td>GGAACGGTATTGTGCGGGTT</td>\n",
       "      <td>CCCAATCGCAG</td>\n",
       "      <td>TAGCAATCCGCCCACAAACG</td>\n",
       "      <td>GACGTC</td>\n",
       "    </tr>\n",
       "    <tr>\n",
       "      <th>ribozyme_0005</th>\n",
       "      <td>GAATTC</td>\n",
       "      <td>GGGGTGTGTTGGGGCTTTTT</td>\n",
       "      <td>CACTGCTCAGG</td>\n",
       "      <td>GCATCCGTTGGTAACTTTCAATTGTTCAGGTCTCTGGCTTATCACG...</td>\n",
       "      <td>GGAACGGTATTGTGCGGGTT</td>\n",
       "      <td>GTTGTTACACC</td>\n",
       "      <td>TAGCAATCCGCCCACAAACG</td>\n",
       "      <td>GACGTC</td>\n",
       "    </tr>\n",
       "  </tbody>\n",
       "</table>\n",
       "</div>"
      ],
      "text/plain": [
       "                EcoRI   OrangeForwardPrimer          BC1  \\\n",
       "ID                                                         \n",
       "ribozyme_0001  GAATTC  GGGGTGTGTTGGGGCTTTTT  AACTGGTGTTC   \n",
       "ribozyme_0002  GAATTC  GGGGTGTGTTGGGGCTTTTT  ATGGCAAGATC   \n",
       "ribozyme_0003  GAATTC  GGGGTGTGTTGGGGCTTTTT  CGTTACCTCGA   \n",
       "ribozyme_0004  GAATTC  GGGGTGTGTTGGGGCTTTTT  AAGCGAGGGGC   \n",
       "ribozyme_0005  GAATTC  GGGGTGTGTTGGGGCTTTTT  CACTGCTCAGG   \n",
       "\n",
       "                                                         Variant  \\\n",
       "ID                                                                 \n",
       "ribozyme_0001  CGTTCAGAAGCGCGCGACTGTACCGTCGTTAAGCACCTGACGTACT...   \n",
       "ribozyme_0002  TCTTCTATCATAGTTAGGCTACGGATCCTCCTCTAGGACACACCCG...   \n",
       "ribozyme_0003  GCTGATTCATTCCAACACTCTTGAGGCCGTTTCTATAAACGGTGAC...   \n",
       "ribozyme_0004  CATATCTCTGTTCCTCTGCTGTAATCATGAGTCGGATCACTGGTTG...   \n",
       "ribozyme_0005  GCATCCGTTGGTAACTTTCAATTGTTCAGGTCTCTGGCTTATCACG...   \n",
       "\n",
       "                  PinkForwardPrimer          BC2   YellowReversePrimer   AatII  \n",
       "ID                                                                              \n",
       "ribozyme_0001  GGAACGGTATTGTGCGGGTT  ATAATAGACCA  TAGCAATCCGCCCACAAACG  GACGTC  \n",
       "ribozyme_0002  GGAACGGTATTGTGCGGGTT  CGCCGCTCAAC  TAGCAATCCGCCCACAAACG  GACGTC  \n",
       "ribozyme_0003  GGAACGGTATTGTGCGGGTT  CGGTAGCTTGA  TAGCAATCCGCCCACAAACG  GACGTC  \n",
       "ribozyme_0004  GGAACGGTATTGTGCGGGTT  CCCAATCGCAG  TAGCAATCCGCCCACAAACG  GACGTC  \n",
       "ribozyme_0005  GGAACGGTATTGTGCGGGTT  GTTGTTACACC  TAGCAATCCGCCCACAAACG  GACGTC  "
      ]
     },
     "execution_count": 32,
     "metadata": {},
     "output_type": "execute_result"
    }
   ],
   "source": [
    "df.head(5)"
   ]
  },
  {
   "cell_type": "markdown",
   "metadata": {},
   "source": [
    "Barcodes are done! The only thing left to design are the spacers so that all oligos have the same length of 170 bp."
   ]
  },
  {
   "cell_type": "code",
   "execution_count": 33,
   "metadata": {},
   "outputs": [],
   "source": [
    "# help(op.lenstat)"
   ]
  },
  {
   "cell_type": "code",
   "execution_count": 34,
   "metadata": {},
   "outputs": [
    {
     "name": "stdout",
     "output_type": "stream",
     "text": [
      "\n",
      "[Oligopool Calculator: Design Mode - Length Statistics]\n",
      "                                                         \n",
      " Required Arguments\n",
      " Input Data : DataFrame w/ 6,232 Record(s)\n",
      " Oligo Limit: At most 170 Base Pair(s)     \n",
      "                                       \n",
      "[Step 1: Computing Length Statistics]\n",
      " Element AatII: Occupies 6 Base Pair(s)               \n",
      " Time Elapsed: 0.01 sec\n",
      "                        \n",
      "[Length Statistics]\n",
      "\n",
      "                         Min     Max    Min    Max    Oligo\n",
      "                     Element Element  Oligo  Oligo    Limit\n",
      "                      Length  Length Length Length Overflow\n",
      "               EcoRI    6 bp    6 bp   6 bp   6 bp       No\n",
      " OrangeForwardPrimer   20 bp   20 bp  26 bp  26 bp       No\n",
      "                 BC1   11 bp   11 bp  37 bp  37 bp       No\n",
      "             Variant   59 bp   73 bp  96 bp 110 bp       No\n",
      "   PinkForwardPrimer   20 bp   20 bp 116 bp 130 bp       No\n",
      "                 BC2   11 bp   11 bp 127 bp 141 bp       No\n",
      " YellowReversePrimer   20 bp   20 bp 147 bp 161 bp       No\n",
      "               AatII    6 bp    6 bp 153 bp 167 bp       No\n",
      "                     \n",
      " Free Space Available: 3 to 17 Base Pair(s)\n",
      " Time Elapsed: 0.01 sec                      \n",
      "\n"
     ]
    }
   ],
   "source": [
    "length_stats = op.lenstat(input_data=df, oligo_length_limit=170)"
   ]
  },
  {
   "cell_type": "markdown",
   "metadata": {},
   "source": [
    "#### Adding neutral motifs, spacers, and finalizing library"
   ]
  },
  {
   "cell_type": "code",
   "execution_count": 35,
   "metadata": {},
   "outputs": [
    {
     "data": {
      "text/plain": [
       "Index(['EcoRI', 'OrangeForwardPrimer', 'BC1', 'Variant', 'PinkForwardPrimer',\n",
       "       'BC2', 'YellowReversePrimer', 'AatII'],\n",
       "      dtype='object')"
      ]
     },
     "execution_count": 35,
     "metadata": {},
     "output_type": "execute_result"
    }
   ],
   "source": [
    "df.columns"
   ]
  },
  {
   "cell_type": "markdown",
   "metadata": {},
   "source": [
    "The last element in our oligo is an `AatII` restriction site, and we want to add 3 to 17 bases of filler next to it. We can do this using the `spacer` module."
   ]
  },
  {
   "cell_type": "markdown",
   "metadata": {},
   "source": [
    "But suppose we wanted to add a fixed length spacer site based on a degenerate sequence constraint, such as a motif? We would use the `motif` module instead. One way to think about this is that spacers are a more general form of motifs -- motifs are more constrained."
   ]
  },
  {
   "cell_type": "code",
   "execution_count": 36,
   "metadata": {},
   "outputs": [
    {
     "name": "stdout",
     "output_type": "stream",
     "text": [
      "\u001b[0;31mSignature:\u001b[0m\n",
      " \u001b[0mop\u001b[0m\u001b[0;34m.\u001b[0m\u001b[0mmotif\u001b[0m\u001b[0;34m(\u001b[0m\u001b[0;34m\u001b[0m\n",
      "\u001b[0;34m\u001b[0m    \u001b[0minput_data\u001b[0m\u001b[0;34m:\u001b[0m \u001b[0mstr\u001b[0m \u001b[0;34m|\u001b[0m \u001b[0mpandas\u001b[0m\u001b[0;34m.\u001b[0m\u001b[0mcore\u001b[0m\u001b[0;34m.\u001b[0m\u001b[0mframe\u001b[0m\u001b[0;34m.\u001b[0m\u001b[0mDataFrame\u001b[0m\u001b[0;34m,\u001b[0m\u001b[0;34m\u001b[0m\n",
      "\u001b[0;34m\u001b[0m    \u001b[0moligo_length_limit\u001b[0m\u001b[0;34m:\u001b[0m \u001b[0mint\u001b[0m\u001b[0;34m,\u001b[0m\u001b[0;34m\u001b[0m\n",
      "\u001b[0;34m\u001b[0m    \u001b[0mmotif_sequence_constraint\u001b[0m\u001b[0;34m:\u001b[0m \u001b[0mstr\u001b[0m\u001b[0;34m,\u001b[0m\u001b[0;34m\u001b[0m\n",
      "\u001b[0;34m\u001b[0m    \u001b[0mmotif_column\u001b[0m\u001b[0;34m:\u001b[0m \u001b[0mstr\u001b[0m\u001b[0;34m,\u001b[0m\u001b[0;34m\u001b[0m\n",
      "\u001b[0;34m\u001b[0m    \u001b[0moutput_file\u001b[0m\u001b[0;34m:\u001b[0m \u001b[0mstr\u001b[0m \u001b[0;34m|\u001b[0m \u001b[0;32mNone\u001b[0m \u001b[0;34m=\u001b[0m \u001b[0;32mNone\u001b[0m\u001b[0;34m,\u001b[0m\u001b[0;34m\u001b[0m\n",
      "\u001b[0;34m\u001b[0m    \u001b[0mleft_context_column\u001b[0m\u001b[0;34m:\u001b[0m \u001b[0mstr\u001b[0m \u001b[0;34m|\u001b[0m \u001b[0;32mNone\u001b[0m \u001b[0;34m=\u001b[0m \u001b[0;32mNone\u001b[0m\u001b[0;34m,\u001b[0m\u001b[0;34m\u001b[0m\n",
      "\u001b[0;34m\u001b[0m    \u001b[0mright_context_column\u001b[0m\u001b[0;34m:\u001b[0m \u001b[0mstr\u001b[0m \u001b[0;34m|\u001b[0m \u001b[0;32mNone\u001b[0m \u001b[0;34m=\u001b[0m \u001b[0;32mNone\u001b[0m\u001b[0;34m,\u001b[0m\u001b[0;34m\u001b[0m\n",
      "\u001b[0;34m\u001b[0m    \u001b[0mexcluded_motifs\u001b[0m\u001b[0;34m:\u001b[0m \u001b[0mlist\u001b[0m \u001b[0;34m|\u001b[0m \u001b[0mstr\u001b[0m \u001b[0;34m|\u001b[0m \u001b[0mpandas\u001b[0m\u001b[0;34m.\u001b[0m\u001b[0mcore\u001b[0m\u001b[0;34m.\u001b[0m\u001b[0mframe\u001b[0m\u001b[0;34m.\u001b[0m\u001b[0mDataFrame\u001b[0m \u001b[0;34m|\u001b[0m \u001b[0;32mNone\u001b[0m \u001b[0;34m=\u001b[0m \u001b[0;32mNone\u001b[0m\u001b[0;34m,\u001b[0m\u001b[0;34m\u001b[0m\n",
      "\u001b[0;34m\u001b[0m    \u001b[0mverbose\u001b[0m\u001b[0;34m:\u001b[0m \u001b[0mbool\u001b[0m \u001b[0;34m=\u001b[0m \u001b[0;32mTrue\u001b[0m\u001b[0;34m,\u001b[0m\u001b[0;34m\u001b[0m\n",
      "\u001b[0;34m\u001b[0m\u001b[0;34m)\u001b[0m \u001b[0;34m->\u001b[0m \u001b[0mTuple\u001b[0m\u001b[0;34m[\u001b[0m\u001b[0mpandas\u001b[0m\u001b[0;34m.\u001b[0m\u001b[0mcore\u001b[0m\u001b[0;34m.\u001b[0m\u001b[0mframe\u001b[0m\u001b[0;34m.\u001b[0m\u001b[0mDataFrame\u001b[0m\u001b[0;34m,\u001b[0m \u001b[0mdict\u001b[0m\u001b[0;34m]\u001b[0m\u001b[0;34m\u001b[0m\u001b[0;34m\u001b[0m\u001b[0m\n",
      "\u001b[0;31mDocstring:\u001b[0m\n",
      "Adds a constant or designs constrained motifs free of edge-effects between the given sequence\n",
      "contexts. Addition of motifs will not produce excluded motifs unless one was embedded in it.\n",
      "Returned DataFrame with added motifs can optionally be saved to a CSV.\n",
      "\n",
      "Required Parameters:\n",
      "    - `input_data` (`str` / `pd.DataFrame`): Path to a CSV file or DataFrame with annotated oligopool variants.\n",
      "    - `oligo_length_limit` (`int`): Maximum allowed oligo length (≥ 4).\n",
      "    - `motif_sequence_constraint` (`int`): IUPAC degenerate sequence constraint, or a constant.\n",
      "    - `motif_column` (`str`): Column name for inserting the designed motifs.\n",
      "\n",
      "Optional Parameters:\n",
      "    - `output_file` (`str`): Filename for output DataFrame (default: `None`).\n",
      "    - `left_context_column` (`str`): Column for left DNA context (default: `None`).\n",
      "    - `right_context_column` (`str`): Column for right DNA context (default: `None`).\n",
      "    - `excluded_motifs` (`list` / `str` / `pd.DataFrame`): Motifs to exclude;\n",
      "        can be a CSV path or DataFrame (default: `None`).\n",
      "    - `verbose` (`bool`): If `True`, logs updates to stdout (default: `True`).\n",
      "\n",
      "Returns:\n",
      "    - A pandas DataFrame of added motifs; saves to `output_file` if specified.\n",
      "    - A dictionary of stats from the last step in pipeline.\n",
      "\n",
      "Notes:\n",
      "    - `input_data` must contain a unique 'ID' column, all other columns must be non-empty DNA strings.\n",
      "    - Column names in `input_data` must be unique, and exclude `motif_column`.\n",
      "    - At least one of `left_context_column` or `right_context_column` must be specified.\n",
      "    - If `excluded_motifs` is a CSV or DataFrame, it must have 'ID' and 'Exmotif' columns.\n",
      "    - Constants in sequence constraint may lead to `excluded_motifs` and be impossible to solve.\n",
      "\u001b[0;31mFile:\u001b[0m      ~/dev/oligopool/oligopool/motif.py\n",
      "\u001b[0;31mType:\u001b[0m      function"
     ]
    }
   ],
   "source": [
    "? op.motif"
   ]
  },
  {
   "cell_type": "markdown",
   "metadata": {},
   "source": [
    "We will see this function in action by first removing the `AatII` motif column and replacing it with a degenerate motif containing the constant restriction site embedded in it but with 3 `'N'`s on its right flank."
   ]
  },
  {
   "cell_type": "code",
   "execution_count": 37,
   "metadata": {},
   "outputs": [],
   "source": [
    "df = df.drop(columns=['AatII'])"
   ]
  },
  {
   "cell_type": "code",
   "execution_count": 38,
   "metadata": {},
   "outputs": [
    {
     "data": {
      "text/plain": [
       "Index(['EcoRI', 'OrangeForwardPrimer', 'BC1', 'Variant', 'PinkForwardPrimer',\n",
       "       'BC2', 'YellowReversePrimer'],\n",
       "      dtype='object')"
      ]
     },
     "execution_count": 38,
     "metadata": {},
     "output_type": "execute_result"
    }
   ],
   "source": [
    "df.columns"
   ]
  },
  {
   "cell_type": "code",
   "execution_count": 39,
   "metadata": {},
   "outputs": [
    {
     "name": "stdout",
     "output_type": "stream",
     "text": [
      "\n",
      "[Oligopool Calculator: Design Mode - Motif]\n",
      "                                             \n",
      " Required Arguments\n",
      "    Input Data    : DataFrame w/ 6,232 Record(s)\n",
      "    Oligo Limit   : At most 170 Base Pair(s)     \n",
      "    Motif Sequence: A 9 Base Pair IUPAC Constraint\n",
      "    Motif Column  : Output in Column 'AatIIPadded' \n",
      "   Output File    : In-Memory DataFrame            \n",
      "                                        \n",
      " Optional Arguments\n",
      "     Left Context : Input from Column 'YellowReversePrimer'\n",
      "    Right Context : None Specified                          \n",
      " Excluded Motifs  : 2 Unique Motif(s)\n",
      "                                      \n",
      "[Step 1: Parsing Oligo Limit]\n",
      " Maximum Oligo Length:  170 Base Pair(s)\n",
      " Input Variant Length:  147 to 161 Base Pair(s)\n",
      "   Reqd. Motif Length:    9 Base Pair(s)        \n",
      " Free Space Available:    9 to 23 Base Pair(s)\n",
      " Time Elapsed: 0.01 sec                        \n",
      " Verdict: Motif Design Possibly Feasible\n",
      "                                         \n",
      "[Step 2: Parsing Excluded Motifs]\n",
      " Sorted and Enqued: 2 Unique Excluded Motif(s)\n",
      " Excluded Motif Length Distribution              \n",
      "   - 2 Motif(s) of Length 6         \n",
      " Time Elapsed: 0.00 sec                         \n",
      " Verdict: Motif Design Possibly Feasible\n",
      "                                         \n",
      "[Step 3: Parsing Motif Sequence]\n",
      " Design Space: 64 Possible Motif(s)\n",
      " Found 1 Excluded Motif(s)          \n",
      "   - Excluded Motif 'GACGTC' Present [WARNING] (Excluded Motif Embedded)\n",
      " Time Elapsed: 0.00 sec                                                  \n",
      " Verdict: Motif Design with Embedded Excluded Motif(s)\n",
      "                                                       \n",
      "[Step 4: Extracting Context Sequences]\n",
      "  Left Context: 1 Unique Sequence(s)               \n",
      " Right Context: 0 Unique Sequence(s) \n",
      "  Time Elapsed: 0.00 sec             \n",
      "                         \n",
      "[Step 5: Parsing Edge Effects]\n",
      "  Left Context 1: ...CAAACG Prevents 3 Prefix(es)\n",
      " Time Elapsed: 0.00 sec\n",
      " Verdict: Motif Design Possibly Feasible\n",
      "                                         \n",
      "[Step 6: Computing Motifs]\n",
      " Candidate 6,232: Motif GACGTCACA is Accepted              \n",
      " Time Elapsed: 1.86 sec\n",
      "                        \n",
      "[Motif Design Statistics]\n",
      "  Design Status   : Successful\n",
      "  Target Count    : 6,232 Motif(s)\n",
      "   Motif Count    : 6,232 Motif(s) (100.00 %)\n",
      " Time Elapsed: 1.89 sec                       \n",
      "\n"
     ]
    }
   ],
   "source": [
    "df, _ = op.motif(\n",
    "    input_data=df,\n",
    "    oligo_length_limit=170,\n",
    "    motif_sequence_constraint='GACGTC'+'NNN', # The AatII motif with right flanking Ns\n",
    "    motif_column='AatIIPadded',\n",
    "    left_context_column='YellowReversePrimer',\n",
    "    right_context_column=None,\n",
    "    excluded_motifs=['GAATTC', 'GACGTC'])     # Notice how we are still forbidding the emergence of AatII here"
   ]
  },
  {
   "cell_type": "markdown",
   "metadata": {},
   "source": [
    "Step 3 in the `motif` pipeline warned us about the presence of `'GACGTC'` in our constraint itself. Nevertheless, the design step was successful."
   ]
  },
  {
   "cell_type": "code",
   "execution_count": 40,
   "metadata": {},
   "outputs": [
    {
     "name": "stdout",
     "output_type": "stream",
     "text": [
      "\n",
      "[Oligopool Calculator: Design Mode - Length Statistics]\n",
      "                                                         \n",
      " Required Arguments\n",
      " Input Data : DataFrame w/ 6,232 Record(s)\n",
      " Oligo Limit: At most 170 Base Pair(s)     \n",
      "                                       \n",
      "[Step 1: Computing Length Statistics]\n",
      " Element AatIIPadded: Occupies 9 Base Pair(s)         \n",
      " Time Elapsed: 0.01 sec\n",
      "                        \n",
      "[Length Statistics]\n",
      "\n",
      "                         Min     Max    Min    Max    Oligo\n",
      "                     Element Element  Oligo  Oligo    Limit\n",
      "                      Length  Length Length Length Overflow\n",
      "               EcoRI    6 bp    6 bp   6 bp   6 bp       No\n",
      " OrangeForwardPrimer   20 bp   20 bp  26 bp  26 bp       No\n",
      "                 BC1   11 bp   11 bp  37 bp  37 bp       No\n",
      "             Variant   59 bp   73 bp  96 bp 110 bp       No\n",
      "   PinkForwardPrimer   20 bp   20 bp 116 bp 130 bp       No\n",
      "                 BC2   11 bp   11 bp 127 bp 141 bp       No\n",
      " YellowReversePrimer   20 bp   20 bp 147 bp 161 bp       No\n",
      "         AatIIPadded    9 bp    9 bp 156 bp 170 bp       No\n",
      "                     \n",
      " Free Space Available: 0 to 14 Base Pair(s)\n",
      " Time Elapsed: 0.01 sec                      \n",
      "\n"
     ]
    }
   ],
   "source": [
    "length_stats = op.lenstat(input_data=df, oligo_length_limit=170)"
   ]
  },
  {
   "cell_type": "markdown",
   "metadata": {},
   "source": [
    "We can now use the `spacer` module to pad the oligos to 170 bases. Free space available is between 0 to 14 bases."
   ]
  },
  {
   "cell_type": "code",
   "execution_count": 41,
   "metadata": {},
   "outputs": [
    {
     "name": "stdout",
     "output_type": "stream",
     "text": [
      "\u001b[0;31mSignature:\u001b[0m\n",
      " \u001b[0mop\u001b[0m\u001b[0;34m.\u001b[0m\u001b[0mspacer\u001b[0m\u001b[0;34m(\u001b[0m\u001b[0;34m\u001b[0m\n",
      "\u001b[0;34m\u001b[0m    \u001b[0minput_data\u001b[0m\u001b[0;34m:\u001b[0m \u001b[0mstr\u001b[0m \u001b[0;34m|\u001b[0m \u001b[0mpandas\u001b[0m\u001b[0;34m.\u001b[0m\u001b[0mcore\u001b[0m\u001b[0;34m.\u001b[0m\u001b[0mframe\u001b[0m\u001b[0;34m.\u001b[0m\u001b[0mDataFrame\u001b[0m\u001b[0;34m,\u001b[0m\u001b[0;34m\u001b[0m\n",
      "\u001b[0;34m\u001b[0m    \u001b[0moligo_length_limit\u001b[0m\u001b[0;34m:\u001b[0m \u001b[0mint\u001b[0m\u001b[0;34m,\u001b[0m\u001b[0;34m\u001b[0m\n",
      "\u001b[0;34m\u001b[0m    \u001b[0mspacer_column\u001b[0m\u001b[0;34m:\u001b[0m \u001b[0mstr\u001b[0m\u001b[0;34m,\u001b[0m\u001b[0;34m\u001b[0m\n",
      "\u001b[0;34m\u001b[0m    \u001b[0moutput_file\u001b[0m\u001b[0;34m:\u001b[0m \u001b[0mstr\u001b[0m \u001b[0;34m|\u001b[0m \u001b[0;32mNone\u001b[0m \u001b[0;34m=\u001b[0m \u001b[0;32mNone\u001b[0m\u001b[0;34m,\u001b[0m\u001b[0;34m\u001b[0m\n",
      "\u001b[0;34m\u001b[0m    \u001b[0mspacer_length\u001b[0m\u001b[0;34m:\u001b[0m \u001b[0mint\u001b[0m \u001b[0;34m|\u001b[0m \u001b[0;32mNone\u001b[0m \u001b[0;34m=\u001b[0m \u001b[0;32mNone\u001b[0m\u001b[0;34m,\u001b[0m\u001b[0;34m\u001b[0m\n",
      "\u001b[0;34m\u001b[0m    \u001b[0mleft_context_column\u001b[0m\u001b[0;34m:\u001b[0m \u001b[0mstr\u001b[0m \u001b[0;34m|\u001b[0m \u001b[0;32mNone\u001b[0m \u001b[0;34m=\u001b[0m \u001b[0;32mNone\u001b[0m\u001b[0;34m,\u001b[0m\u001b[0;34m\u001b[0m\n",
      "\u001b[0;34m\u001b[0m    \u001b[0mright_context_column\u001b[0m\u001b[0;34m:\u001b[0m \u001b[0mstr\u001b[0m \u001b[0;34m|\u001b[0m \u001b[0;32mNone\u001b[0m \u001b[0;34m=\u001b[0m \u001b[0;32mNone\u001b[0m\u001b[0;34m,\u001b[0m\u001b[0;34m\u001b[0m\n",
      "\u001b[0;34m\u001b[0m    \u001b[0mexcluded_motifs\u001b[0m\u001b[0;34m:\u001b[0m \u001b[0mlist\u001b[0m \u001b[0;34m|\u001b[0m \u001b[0mstr\u001b[0m \u001b[0;34m|\u001b[0m \u001b[0mpandas\u001b[0m\u001b[0;34m.\u001b[0m\u001b[0mcore\u001b[0m\u001b[0;34m.\u001b[0m\u001b[0mframe\u001b[0m\u001b[0;34m.\u001b[0m\u001b[0mDataFrame\u001b[0m \u001b[0;34m|\u001b[0m \u001b[0;32mNone\u001b[0m \u001b[0;34m=\u001b[0m \u001b[0;32mNone\u001b[0m\u001b[0;34m,\u001b[0m\u001b[0;34m\u001b[0m\n",
      "\u001b[0;34m\u001b[0m    \u001b[0mverbose\u001b[0m\u001b[0;34m:\u001b[0m \u001b[0mbool\u001b[0m \u001b[0;34m=\u001b[0m \u001b[0;32mTrue\u001b[0m\u001b[0;34m,\u001b[0m\u001b[0;34m\u001b[0m\n",
      "\u001b[0;34m\u001b[0m\u001b[0;34m)\u001b[0m \u001b[0;34m->\u001b[0m \u001b[0mTuple\u001b[0m\u001b[0;34m[\u001b[0m\u001b[0mpandas\u001b[0m\u001b[0;34m.\u001b[0m\u001b[0mcore\u001b[0m\u001b[0;34m.\u001b[0m\u001b[0mframe\u001b[0m\u001b[0;34m.\u001b[0m\u001b[0mDataFrame\u001b[0m\u001b[0;34m,\u001b[0m \u001b[0mdict\u001b[0m\u001b[0;34m]\u001b[0m\u001b[0;34m\u001b[0m\u001b[0;34m\u001b[0m\u001b[0m\n",
      "\u001b[0;31mDocstring:\u001b[0m\n",
      "Inserts a fixed or variable length neutral spacer free from excluded motifs. If the spacer length\n",
      "is not specified, then the spacer per oligo is such that the final length of the oligo matches\n",
      "specified `oligo_length_limit`. Returned DataFrame can be written as a CSV file.\n",
      "\n",
      "Required Parameters:\n",
      "    - `input_data` (`str` / `pd.DataFrame`): Path to a CSV file or DataFrame with annotated oligopool variants.\n",
      "    - `oligo_length_limit` (`int`): Maximum allowed oligo length (≥ 4).\n",
      "    - `spacer_column` (`str`): Column name for inserting the designed spacers.\n",
      "\n",
      "Optional Parameters:\n",
      "    - `output_file` (`str`): Filename for output DataFrame (default: `None`).\n",
      "    - `spacer_length` (`int`): Length of the inserted spacers,\n",
      "        if `None` automatically determine this length per oligo (default: `None`).\n",
      "    - `left_context_column` (`str`): Column for left DNA context (default: `None`).\n",
      "    - `right_context_column` (`str`): Column for right DNA context (default: `None`).\n",
      "    - `excluded_motifs` (`list` / `str` / `pd.DataFrame`): Motifs to exclude;\n",
      "        can be a CSV path or DataFrame (default: `None`).\n",
      "    - `verbose` (`bool`): If `True`, logs updates to stdout (default: `True`).\n",
      "\n",
      "Returns:\n",
      "    - A pandas DataFrame of inserted spacers; saves to `output_file` if specified.\n",
      "    - A dictionary of stats from the last step in pipeline.\n",
      "\n",
      "Notes:\n",
      "    - `input_data` must contain a unique 'ID' column, all other columns must be non-empty DNA strings.\n",
      "    - Column names in `input_data` must be unique, and exclude `spacer_column`.\n",
      "    - At least one of `left_context_column` or `right_context_column` must be specified.\n",
      "    - If `excluded_motifs` is a CSV or DataFrame, it must have 'ID' and 'Exmotif' columns.\n",
      "    - Oligo rows already summing to or exceeding `oligo_length_limit` have a `'-'` (dash) as spacer.\n",
      "\u001b[0;31mFile:\u001b[0m      ~/dev/oligopool/oligopool/spacer.py\n",
      "\u001b[0;31mType:\u001b[0m      function"
     ]
    }
   ],
   "source": [
    "? op.spacer"
   ]
  },
  {
   "cell_type": "markdown",
   "metadata": {},
   "source": [
    "`Oligopool Calculator` can flexibly design our variable length spacers."
   ]
  },
  {
   "cell_type": "code",
   "execution_count": 42,
   "metadata": {},
   "outputs": [
    {
     "name": "stdout",
     "output_type": "stream",
     "text": [
      "\n",
      "[Oligopool Calculator: Design Mode - Spacer]\n",
      "                                              \n",
      " Required Arguments\n",
      "    Input Data   : DataFrame w/ 6,232 Record(s)\n",
      "    Oligo Limit  : At most 170 Base Pair(s)     \n",
      "   Spacer Column : Output in Column 'Spacer'\n",
      "   Output File   : In-Memory DataFrame       \n",
      "                                       \n",
      " Optional Arguments\n",
      "   Spacer Length : Computed from Oligo Length (Auto-Inferred)\n",
      "     Left Context: Input from Column 'AatIIPadded'            \n",
      "    Right Context: None Specified                  \n",
      " Excluded Motifs : 2 Unique Motif(s)\n",
      "                                     \n",
      "[Step 1: Extracting Spacer Length]\n",
      " Variant ribozyme_6232: Allows 10 Base Pair Spacer\n",
      " Time Elapsed: 1.76 sec\n",
      "                        \n",
      "[Step 2: Parsing Oligo Limit]\n",
      " Maximum Oligo Length:  170 Base Pair(s)\n",
      " Input Variant Length:  156 to 170 Base Pair(s)\n",
      "  Reqd. Spacer Length:    0 to 14 Base Pair(s)  \n",
      " Free Space Available:    0 to 14 Base Pair(s) \n",
      " Time Elapsed: 0.00 sec                        \n",
      " Verdict: Spacer Design Possibly Feasible\n",
      "                                          \n",
      "[Step 3: Extracting Spacer Groups]\n",
      " Spacer 6,232: Grouped w/ 423 Other Spacers\n",
      " Time Elapsed: 1.68 sec\n",
      "                        \n",
      "[Step 4: Parsing Excluded Motifs]\n",
      " Sorted and Enqued: 2 Unique Excluded Motif(s)\n",
      " Excluded Motif Length Distribution              \n",
      "   - 2 Motif(s) of Length 6         \n",
      " Time Elapsed: 0.00 sec                         \n",
      " Verdict: Spacer Design Possibly Feasible\n",
      "                                          \n",
      "[Step 5: Extracting Context Sequences]\n",
      "  Left Context: 1 Unique Sequence(s)               \n",
      " Right Context: 0 Unique Sequence(s) \n",
      "  Time Elapsed: 0.00 sec             \n",
      "                         \n",
      "[Step 6: Parsing Edge Effects]\n",
      "  Left Context 1: ...GTCACA Prevents 1 Prefix(es)\n",
      " Time Elapsed: 0.00 sec\n",
      " Verdict: Motif Design Possibly Feasible\n",
      "                                         \n",
      "[Step 7: Computing Spacers]\n",
      " Candidate 6,232: Spacer CCAAAACAGC is Accepted                  \n",
      " Time Elapsed: 2.20 sec\n",
      "                        \n",
      "[Spacer Design Statistics]\n",
      "  Design Status   : Successful\n",
      "  Target Count    : 6,232 Spacer(s)\n",
      "  Spacer Count    : 6,232 Spacer(s) (100.00 %)\n",
      " Time Elapsed: 5.66 sec                        \n",
      "\n"
     ]
    }
   ],
   "source": [
    "df, _ = op.spacer(\n",
    "    input_data=df,\n",
    "    oligo_length_limit=170,\n",
    "    spacer_length=None,    # Using None, we will automatically add spacers to match oligo_length_limit\n",
    "    spacer_column='Spacer',\n",
    "    left_context_column='AatIIPadded',\n",
    "    right_context_column=None,\n",
    "    excluded_motifs=['GAATTC', 'GACGTC'],\n",
    "    verbose=True)"
   ]
  },
  {
   "cell_type": "code",
   "execution_count": 43,
   "metadata": {},
   "outputs": [
    {
     "name": "stdout",
     "output_type": "stream",
     "text": [
      "\n",
      "[Oligopool Calculator: Design Mode - Length Statistics]\n",
      "                                                         \n",
      " Required Arguments\n",
      " Input Data : DataFrame w/ 6,232 Record(s)\n",
      " Oligo Limit: At most 170 Base Pair(s)     \n",
      "                                       \n",
      "[Step 1: Computing Length Statistics]\n",
      " Element Spacer: Occupies 0 to 14 Base Pair(s)        \n",
      " Time Elapsed: 0.01 sec\n",
      "                        \n",
      "[Length Statistics]\n",
      "\n",
      "                         Min     Max    Min    Max    Oligo\n",
      "                     Element Element  Oligo  Oligo    Limit\n",
      "                      Length  Length Length Length Overflow\n",
      "               EcoRI    6 bp    6 bp   6 bp   6 bp       No\n",
      " OrangeForwardPrimer   20 bp   20 bp  26 bp  26 bp       No\n",
      "                 BC1   11 bp   11 bp  37 bp  37 bp       No\n",
      "             Variant   59 bp   73 bp  96 bp 110 bp       No\n",
      "   PinkForwardPrimer   20 bp   20 bp 116 bp 130 bp       No\n",
      "                 BC2   11 bp   11 bp 127 bp 141 bp       No\n",
      " YellowReversePrimer   20 bp   20 bp 147 bp 161 bp       No\n",
      "         AatIIPadded    9 bp    9 bp 156 bp 170 bp       No\n",
      "              Spacer    0 bp   14 bp 170 bp 170 bp       No\n",
      "                     \n",
      " Free Space Available: 0 Base Pair(s)\n",
      " Time Elapsed: 0.02 sec                \n",
      "\n"
     ]
    }
   ],
   "source": [
    "length_stats = op.lenstat(input_data=df, oligo_length_limit=170)"
   ]
  },
  {
   "cell_type": "markdown",
   "metadata": {},
   "source": [
    "Our library is complete, all elements have been added, and the oligos are all 170 bases. Let's finalize our library using the `final` module."
   ]
  },
  {
   "cell_type": "code",
   "execution_count": 44,
   "metadata": {},
   "outputs": [],
   "source": [
    "# ? op.final"
   ]
  },
  {
   "cell_type": "code",
   "execution_count": 45,
   "metadata": {},
   "outputs": [
    {
     "name": "stdout",
     "output_type": "stream",
     "text": [
      "\n",
      "[Oligopool Calculator: Design Mode - Final]\n",
      "                                             \n",
      " Required Arguments\n",
      "  Input Data: DataFrame w/ 6,232 Record(s)\n",
      " Output File: In-Memory DataFrame          \n",
      "                                  \n",
      "[Step 1: Finalizing Oligopool]\n",
      " Finalization Completed         \n",
      " Time Elapsed: 0.01 sec \n",
      "                        \n",
      "[Finalization Statistics]\n",
      " Final Status: Successful  \n",
      " Oligo Length: 170 Base Pair(s)\n",
      " Time Elapsed: 0.01 sec         \n",
      "\n"
     ]
    }
   ],
   "source": [
    "final_df, _ = op.final(input_data=df)"
   ]
  },
  {
   "cell_type": "code",
   "execution_count": 46,
   "metadata": {},
   "outputs": [
    {
     "data": {
      "text/html": [
       "<div>\n",
       "<style scoped>\n",
       "    .dataframe tbody tr th:only-of-type {\n",
       "        vertical-align: middle;\n",
       "    }\n",
       "\n",
       "    .dataframe tbody tr th {\n",
       "        vertical-align: top;\n",
       "    }\n",
       "\n",
       "    .dataframe thead th {\n",
       "        text-align: right;\n",
       "    }\n",
       "</style>\n",
       "<table border=\"1\" class=\"dataframe\">\n",
       "  <thead>\n",
       "    <tr style=\"text-align: right;\">\n",
       "      <th></th>\n",
       "      <th>CompleteOligo</th>\n",
       "      <th>OligoLength</th>\n",
       "    </tr>\n",
       "    <tr>\n",
       "      <th>ID</th>\n",
       "      <th></th>\n",
       "      <th></th>\n",
       "    </tr>\n",
       "  </thead>\n",
       "  <tbody>\n",
       "    <tr>\n",
       "      <th>ribozyme_0001</th>\n",
       "      <td>GAATTCGGGGTGTGTTGGGGCTTTTTAACTGGTGTTCCGTTCAGAA...</td>\n",
       "      <td>170</td>\n",
       "    </tr>\n",
       "    <tr>\n",
       "      <th>ribozyme_0002</th>\n",
       "      <td>GAATTCGGGGTGTGTTGGGGCTTTTTATGGCAAGATCTCTTCTATC...</td>\n",
       "      <td>170</td>\n",
       "    </tr>\n",
       "    <tr>\n",
       "      <th>ribozyme_0003</th>\n",
       "      <td>GAATTCGGGGTGTGTTGGGGCTTTTTCGTTACCTCGAGCTGATTCA...</td>\n",
       "      <td>170</td>\n",
       "    </tr>\n",
       "    <tr>\n",
       "      <th>ribozyme_0004</th>\n",
       "      <td>GAATTCGGGGTGTGTTGGGGCTTTTTAAGCGAGGGGCCATATCTCT...</td>\n",
       "      <td>170</td>\n",
       "    </tr>\n",
       "    <tr>\n",
       "      <th>ribozyme_0005</th>\n",
       "      <td>GAATTCGGGGTGTGTTGGGGCTTTTTCACTGCTCAGGGCATCCGTT...</td>\n",
       "      <td>170</td>\n",
       "    </tr>\n",
       "  </tbody>\n",
       "</table>\n",
       "</div>"
      ],
      "text/plain": [
       "                                                   CompleteOligo  OligoLength\n",
       "ID                                                                           \n",
       "ribozyme_0001  GAATTCGGGGTGTGTTGGGGCTTTTTAACTGGTGTTCCGTTCAGAA...          170\n",
       "ribozyme_0002  GAATTCGGGGTGTGTTGGGGCTTTTTATGGCAAGATCTCTTCTATC...          170\n",
       "ribozyme_0003  GAATTCGGGGTGTGTTGGGGCTTTTTCGTTACCTCGAGCTGATTCA...          170\n",
       "ribozyme_0004  GAATTCGGGGTGTGTTGGGGCTTTTTAAGCGAGGGGCCATATCTCT...          170\n",
       "ribozyme_0005  GAATTCGGGGTGTGTTGGGGCTTTTTCACTGCTCAGGGCATCCGTT...          170"
      ]
     },
     "execution_count": 46,
     "metadata": {},
     "output_type": "execute_result"
    }
   ],
   "source": [
    "final_df.head(5)"
   ]
  },
  {
   "cell_type": "markdown",
   "metadata": {},
   "source": [
    "> **Note** All annotations of the individual oligos are lost in this step. So, we saved it to a new DataFrame. In general, it is a good idea to store the result of each step in `Design Mode` to separate DataFrame variables if we were designing our pools interactively, and wanted to roll back."
   ]
  },
  {
   "cell_type": "markdown",
   "metadata": {},
   "source": [
    "Using the `final` module produces a DataFrame that needs to be passed along for synthesis. `Design Mode` functions should no longer be applied on it."
   ]
  },
  {
   "cell_type": "markdown",
   "metadata": {},
   "source": [
    "At the end of our design project, we may wish to double-check for any violation of our constraints. For example, in all our designed oligos there should only be single occurences of the `EcoRI` and `AatII` motifs at their respective location. We can verify this."
   ]
  },
  {
   "cell_type": "code",
   "execution_count": 47,
   "metadata": {},
   "outputs": [],
   "source": [
    "assert final_df.CompleteOligo.transform(lambda x: x.count('GAATTC')).values.max() == 1"
   ]
  },
  {
   "cell_type": "code",
   "execution_count": 48,
   "metadata": {},
   "outputs": [],
   "source": [
    "assert final_df.CompleteOligo.transform(lambda x: x.count('GACGTC')).values.max() == 1"
   ]
  },
  {
   "cell_type": "markdown",
   "metadata": {},
   "source": [
    "#### Splitting and padding oligos"
   ]
  },
  {
   "cell_type": "markdown",
   "metadata": {},
   "source": [
    "Sometimes the oligos may be longer than can be synthesized. One way to solve this problem is to use the `split` module to split such long oligos into shorter overlapping fragments. Individual sets of fragments can be padded appropriately using the `pad` module for downstream assembly."
   ]
  },
  {
   "cell_type": "markdown",
   "metadata": {},
   "source": [
    "![Splitting and Padding](https://raw.githubusercontent.com/ayaanhossain/repfmt/refs/heads/main/oligopool/img/assembly.svg)"
   ]
  },
  {
   "cell_type": "code",
   "execution_count": 49,
   "metadata": {},
   "outputs": [
    {
     "name": "stdout",
     "output_type": "stream",
     "text": [
      "\u001b[0;31mSignature:\u001b[0m\n",
      " \u001b[0mop\u001b[0m\u001b[0;34m.\u001b[0m\u001b[0msplit\u001b[0m\u001b[0;34m(\u001b[0m\u001b[0;34m\u001b[0m\n",
      "\u001b[0;34m\u001b[0m    \u001b[0minput_data\u001b[0m\u001b[0;34m:\u001b[0m \u001b[0mstr\u001b[0m \u001b[0;34m|\u001b[0m \u001b[0mpandas\u001b[0m\u001b[0;34m.\u001b[0m\u001b[0mcore\u001b[0m\u001b[0;34m.\u001b[0m\u001b[0mframe\u001b[0m\u001b[0;34m.\u001b[0m\u001b[0mDataFrame\u001b[0m\u001b[0;34m,\u001b[0m\u001b[0;34m\u001b[0m\n",
      "\u001b[0;34m\u001b[0m    \u001b[0msplit_length_limit\u001b[0m\u001b[0;34m:\u001b[0m \u001b[0mint\u001b[0m\u001b[0;34m,\u001b[0m\u001b[0;34m\u001b[0m\n",
      "\u001b[0;34m\u001b[0m    \u001b[0mminimum_melting_temperature\u001b[0m\u001b[0;34m:\u001b[0m \u001b[0mfloat\u001b[0m\u001b[0;34m,\u001b[0m\u001b[0;34m\u001b[0m\n",
      "\u001b[0;34m\u001b[0m    \u001b[0mminimum_hamming_distance\u001b[0m\u001b[0;34m:\u001b[0m \u001b[0mint\u001b[0m\u001b[0;34m,\u001b[0m\u001b[0;34m\u001b[0m\n",
      "\u001b[0;34m\u001b[0m    \u001b[0mminimum_overlap_length\u001b[0m\u001b[0;34m:\u001b[0m \u001b[0mint\u001b[0m\u001b[0;34m,\u001b[0m\u001b[0;34m\u001b[0m\n",
      "\u001b[0;34m\u001b[0m    \u001b[0mmaximum_overlap_length\u001b[0m\u001b[0;34m:\u001b[0m \u001b[0mint\u001b[0m\u001b[0;34m,\u001b[0m\u001b[0;34m\u001b[0m\n",
      "\u001b[0;34m\u001b[0m    \u001b[0moutput_file\u001b[0m\u001b[0;34m:\u001b[0m \u001b[0mstr\u001b[0m \u001b[0;34m|\u001b[0m \u001b[0;32mNone\u001b[0m \u001b[0;34m=\u001b[0m \u001b[0;32mNone\u001b[0m\u001b[0;34m,\u001b[0m\u001b[0;34m\u001b[0m\n",
      "\u001b[0;34m\u001b[0m    \u001b[0mverbose\u001b[0m\u001b[0;34m:\u001b[0m \u001b[0mbool\u001b[0m \u001b[0;34m=\u001b[0m \u001b[0;32mTrue\u001b[0m\u001b[0;34m,\u001b[0m\u001b[0;34m\u001b[0m\n",
      "\u001b[0;34m\u001b[0m\u001b[0;34m)\u001b[0m \u001b[0;34m->\u001b[0m \u001b[0mTuple\u001b[0m\u001b[0;34m[\u001b[0m\u001b[0mpandas\u001b[0m\u001b[0;34m.\u001b[0m\u001b[0mcore\u001b[0m\u001b[0;34m.\u001b[0m\u001b[0mframe\u001b[0m\u001b[0;34m.\u001b[0m\u001b[0mDataFrame\u001b[0m\u001b[0;34m,\u001b[0m \u001b[0mdict\u001b[0m\u001b[0;34m]\u001b[0m\u001b[0;34m\u001b[0m\u001b[0;34m\u001b[0m\u001b[0m\n",
      "\u001b[0;31mDocstring:\u001b[0m\n",
      "Splits longer oligos into shorter overlapping fragments with all overlaps at particular\n",
      "coordinates having specified minimum pairwise Hamming distances and minimum melting temperatures.\n",
      "Overlap lengths can be controlled depending on downstream assembly strategy. Produces a derived\n",
      "new DataFrame with 'Split' columns which can be saved to a specified CSV file.\n",
      "\n",
      "Required Parameters:\n",
      "    - `input_data` (`str` / `pd.DataFrame`): Path to a CSV file or DataFrame with annotated oligopool variants.\n",
      "    - `split_length_limit` (`int`): Maximum allowed length for split oligos (≥ 4).\n",
      "    - `minimum_melting_temperature` (`float`): Minimum overlap region Tm (≥ 4°C).\n",
      "    - `minimum_hamming_distance` (`int`): Minimum overlap region pairwise Hamming distance (≥ 1).\n",
      "    - `minimum_overlap_length` (`int`): Minimum overlap region length (≥ 15).\n",
      "    - `maximum_overlap_length` (`int`): Maximum overlap region length (≥ 15).\n",
      "\n",
      "Optional Parameters:\n",
      "    - `output_file` (`str`): Filename for output DataFrame (default: `None`).\n",
      "    - `verbose` (`bool`): If `True`, logs updates to stdout (default: `True`).\n",
      "\n",
      "Returns:\n",
      "    - A pandas DataFrame with split oligos; saves to `output_file` if specified.\n",
      "    - A dictionary of stats from the last step in pipeline.\n",
      "\n",
      "Notes:\n",
      "    - `input_data` must contain a unique 'ID' column, all other columns must be non-empty DNA strings.\n",
      "    - `minimum_overlap_length` should always be larger than `minimum_hamming_distance`.\n",
      "    - Total number of fragments is auto determined, and can be variable per oligo, depending on length.\n",
      "    - Returned DataFrame contains split oligos, annotation from `input_data` is lost.\n",
      "\u001b[0;31mFile:\u001b[0m      ~/dev/oligopool/oligopool/split.py\n",
      "\u001b[0;31mType:\u001b[0m      function"
     ]
    }
   ],
   "source": [
    "? op.split"
   ]
  },
  {
   "cell_type": "markdown",
   "metadata": {},
   "source": [
    "We will pretend that our 170 bp oligos from above are slightly longer than can be synthesized successfully in a pool where each oligo can be at most 150 bp long."
   ]
  },
  {
   "cell_type": "markdown",
   "metadata": {},
   "source": [
    "Our goal then is to fragment the oligos so that each fragment is at most 110 bases with 40 to 60 base overlap across the fragments. We will leave 40 bases, 20 bp each for the two terminal padding primers."
   ]
  },
  {
   "cell_type": "code",
   "execution_count": 50,
   "metadata": {},
   "outputs": [
    {
     "name": "stdout",
     "output_type": "stream",
     "text": [
      "\n",
      "[Oligopool Calculator: Design Mode - Split]\n",
      "                                             \n",
      " Required Arguments\n",
      "   Input Data       : DataFrame w/ 6,232 Record(s)\n",
      "   Split Limit      : Split Fragments at most 110 Base Pair(s) Each\n",
      " Melting Temperature: At least 55 °C b/w On-Target Overlaps         \n",
      " Hamming Distance   : At least 5 Mismatch(es) per Off-Target Overlap Pair \n",
      " Overlap Length     : 40 to 60 Base Pair(s) Fragment Overlap(s)            \n",
      "  Output File       : In-Memory DataFrame                       \n",
      "                                          \n",
      "[Step 1: Parsing Split Limit]\n",
      " Input Variant Length: 170 Base Pair(s)\n",
      " Split Fragment Count: At least 2 Split(s) per Variant\n",
      " Time Elapsed: 0.01 sec                                \n",
      " Verdict: Splitting Possibly Feasible\n",
      "                                      \n",
      "[Step 2: Computing Sequence Matrix]\n",
      "   Vectorized: 6,232 Sequences                                                 \n",
      "   3' Padding:     0 Base Pair(s)\n",
      " Time Elapsed: 3.53 sec           \n",
      "                        \n",
      "[Step 3: Computing Entropy Vector]\n",
      "   Count Vector: Normalized                       \n",
      " Entropy Vector: Computed    \n",
      " Time Elapsed: 0.13 sec   \n",
      "                        \n",
      "[Step 4: Parsing Variable Contigs]\n",
      " Extracted Variable Contigs: 1      \n",
      "    Merged Variable Contigs: 1 \n",
      "  Filtered Variable Contigs: 1 \n",
      " Time Elapsed: 0.00 sec        \n",
      " Verdict: Splitting Possibly Feasible\n",
      "                                      \n",
      "[Step 5: Computing Split]\n",
      "                           \n",
      "  Now Computing Split for Fragment: 1\n",
      "    Initial Fragment Coordinates: (Start=0, End=110)\n",
      "    Split Required? Yes                              \n",
      "    Splittable Regions Found: 1 (in 0.00 sec)\n",
      "    Attempting Split in Region: (Start=26, End=110)\n",
      "      Current Split Region of 84 bp maybe Feasible ... Optimizing\n",
      "      Sequence 6,231: Region (Start=66, End=110) is Overlap, Tm and HDist Optimal\n",
      "      Current Split Region Optimized for All 6,232 Sequences\n",
      "    Split Region Selected: (Start=66, End=110) (in 9.23 sec) \n",
      "    Final Fragment 1 Coordinates: (Start=0, End=110)         \n",
      "                                                     \n",
      "  Now Computing Split for Fragment: 2\n",
      "    Initial Fragment Coordinates: (Start=66, End=170)\n",
      "    Split Required? No                                \n",
      "    Final Fragment Coordinates: (Start=66, End=170)\n",
      "                                                    \n",
      "  Solution Status: Splitting Completed\n",
      "  Time Elapsed: 9.23 sec                \n",
      "                         \n",
      "[Step 6: Aggregating Stats]\n",
      " Analyzing: Sequence 6,232 - Overlap 1\n",
      " Time Elapsed: 2.38 sec\n",
      "                        \n",
      "[Split Design Statistics]\n",
      "     Design Status  : Successful\n",
      "     No. of Splits  :   2 Fragments per Variant\n",
      "      Split Length  : 104 to 110 Base Pair(s)   \n",
      "    Overlap Length  :  44 Base Pair(s)        \n",
      "    Overlap Tm      :  67 °C           \n",
      "    Overlap Distance:  33 Mismatch(es)\n",
      " Time Elapsed: 15.35 sec               \n",
      "\n"
     ]
    }
   ],
   "source": [
    "split_df, _ = op.split(\n",
    "    input_data=df,          # Notice, we are not using the \"final_df\"\n",
    "    split_length_limit=110, # Each split must be at most 110 bases long\n",
    "    minimum_melting_temperature=55, # Assembly Tm is 55°C\n",
    "    minimum_hamming_distance=5,     # Ensure the overlaps are distinct\n",
    "    minimum_overlap_length=40,    # At least 40 bp overlap\n",
    "    maximum_overlap_length=60)    # At most 60 bp overlap"
   ]
  },
  {
   "cell_type": "code",
   "execution_count": 51,
   "metadata": {},
   "outputs": [
    {
     "data": {
      "text/html": [
       "<div>\n",
       "<style scoped>\n",
       "    .dataframe tbody tr th:only-of-type {\n",
       "        vertical-align: middle;\n",
       "    }\n",
       "\n",
       "    .dataframe tbody tr th {\n",
       "        vertical-align: top;\n",
       "    }\n",
       "\n",
       "    .dataframe thead th {\n",
       "        text-align: right;\n",
       "    }\n",
       "</style>\n",
       "<table border=\"1\" class=\"dataframe\">\n",
       "  <thead>\n",
       "    <tr style=\"text-align: right;\">\n",
       "      <th></th>\n",
       "      <th>Split1</th>\n",
       "      <th>Split2</th>\n",
       "    </tr>\n",
       "    <tr>\n",
       "      <th>ID</th>\n",
       "      <th></th>\n",
       "      <th></th>\n",
       "    </tr>\n",
       "  </thead>\n",
       "  <tbody>\n",
       "    <tr>\n",
       "      <th>ribozyme_0001</th>\n",
       "      <td>GAATTCGGGGTGTGTTGGGGCTTTTTAACTGGTGTTCCGTTCAGAA...</td>\n",
       "      <td>AGTGATAGACACCTGTGACGTCCGTTTGTGGGCGGATTGCTATGGT...</td>\n",
       "    </tr>\n",
       "    <tr>\n",
       "      <th>ribozyme_0002</th>\n",
       "      <td>GAATTCGGGGTGTGTTGGGGCTTTTTATGGCAAGATCTCTTCTATC...</td>\n",
       "      <td>CTATGTGACGTCCGTTTGTGGGCGGATTGCTAGTTGAGCGGCGAAC...</td>\n",
       "    </tr>\n",
       "    <tr>\n",
       "      <th>ribozyme_0003</th>\n",
       "      <td>GAATTCGGGGTGTGTTGGGGCTTTTTCGTTACCTCGAGCTGATTCA...</td>\n",
       "      <td>AGTGATAGACACCTGTGACGTCCGTTTGTGGGCGGATTGCTATCAA...</td>\n",
       "    </tr>\n",
       "    <tr>\n",
       "      <th>ribozyme_0004</th>\n",
       "      <td>GAATTCGGGGTGTGTTGGGGCTTTTTAAGCGAGGGGCCATATCTCT...</td>\n",
       "      <td>ATCATCTATTGTGACGTCCGTTTGTGGGCGGATTGCTACTGCGATT...</td>\n",
       "    </tr>\n",
       "    <tr>\n",
       "      <th>ribozyme_0005</th>\n",
       "      <td>GAATTCGGGGTGTGTTGGGGCTTTTTCACTGCTCAGGGCATCCGTT...</td>\n",
       "      <td>ACTAGCTGGGTTTGTGACGTCCGTTTGTGGGCGGATTGCTAGGTGT...</td>\n",
       "    </tr>\n",
       "  </tbody>\n",
       "</table>\n",
       "</div>"
      ],
      "text/plain": [
       "                                                          Split1  \\\n",
       "ID                                                                 \n",
       "ribozyme_0001  GAATTCGGGGTGTGTTGGGGCTTTTTAACTGGTGTTCCGTTCAGAA...   \n",
       "ribozyme_0002  GAATTCGGGGTGTGTTGGGGCTTTTTATGGCAAGATCTCTTCTATC...   \n",
       "ribozyme_0003  GAATTCGGGGTGTGTTGGGGCTTTTTCGTTACCTCGAGCTGATTCA...   \n",
       "ribozyme_0004  GAATTCGGGGTGTGTTGGGGCTTTTTAAGCGAGGGGCCATATCTCT...   \n",
       "ribozyme_0005  GAATTCGGGGTGTGTTGGGGCTTTTTCACTGCTCAGGGCATCCGTT...   \n",
       "\n",
       "                                                          Split2  \n",
       "ID                                                                \n",
       "ribozyme_0001  AGTGATAGACACCTGTGACGTCCGTTTGTGGGCGGATTGCTATGGT...  \n",
       "ribozyme_0002  CTATGTGACGTCCGTTTGTGGGCGGATTGCTAGTTGAGCGGCGAAC...  \n",
       "ribozyme_0003  AGTGATAGACACCTGTGACGTCCGTTTGTGGGCGGATTGCTATCAA...  \n",
       "ribozyme_0004  ATCATCTATTGTGACGTCCGTTTGTGGGCGGATTGCTACTGCGATT...  \n",
       "ribozyme_0005  ACTAGCTGGGTTTGTGACGTCCGTTTGTGGGCGGATTGCTAGGTGT...  "
      ]
     },
     "execution_count": 51,
     "metadata": {},
     "output_type": "execute_result"
    }
   ],
   "source": [
    "split_df.head(5)"
   ]
  },
  {
   "cell_type": "code",
   "execution_count": 52,
   "metadata": {},
   "outputs": [
    {
     "name": "stdout",
     "output_type": "stream",
     "text": [
      "\n",
      "[Oligopool Calculator: Design Mode - Length Statistics]\n",
      "                                                         \n",
      " Required Arguments\n",
      " Input Data : DataFrame w/ 6,232 Record(s)\n",
      " Oligo Limit: At most 150 Base Pair(s)     \n",
      "                                       \n",
      "[Step 1: Computing Length Statistics]\n",
      " Element Split2: Occupies 104 Base Pair(s)\n",
      " Time Elapsed: 0.00 sec\n",
      "                        \n",
      "[Length Statistics]\n",
      "\n",
      "            Min     Max    Min    Max    Oligo\n",
      "        Element Element  Oligo  Oligo    Limit\n",
      "         Length  Length Length Length Overflow\n",
      " Split1  110 bp  110 bp 110 bp 110 bp       No\n",
      " Split2  104 bp  104 bp 214 bp 214 bp      Yes\n",
      "                     \n",
      " Free Space Available: -64 Base Pair(s)\n",
      " Time Elapsed: 0.01 sec                  \n",
      "\n"
     ]
    }
   ],
   "source": [
    "length_stats = op.lenstat(input_data=split_df, oligo_length_limit=150);"
   ]
  },
  {
   "cell_type": "markdown",
   "metadata": {},
   "source": [
    "We have automatically split our library for two-fragment assembly. The first pool contains 110 bp oligos while the oligos in the second pool are shorter."
   ]
  },
  {
   "cell_type": "markdown",
   "metadata": {},
   "source": [
    "The `pad` module allows designing of padded primers with embedded Type IIS restriction sites to amplify the oligo fragments, convert them to double-stranded DNA (assuming synthesized oligos are ssDNA) and enable scarless assembly downstream."
   ]
  },
  {
   "cell_type": "code",
   "execution_count": 53,
   "metadata": {},
   "outputs": [
    {
     "name": "stdout",
     "output_type": "stream",
     "text": [
      "\u001b[0;31mSignature:\u001b[0m\n",
      " \u001b[0mop\u001b[0m\u001b[0;34m.\u001b[0m\u001b[0mpad\u001b[0m\u001b[0;34m(\u001b[0m\u001b[0;34m\u001b[0m\n",
      "\u001b[0;34m\u001b[0m    \u001b[0minput_data\u001b[0m\u001b[0;34m:\u001b[0m \u001b[0mstr\u001b[0m \u001b[0;34m|\u001b[0m \u001b[0mpandas\u001b[0m\u001b[0;34m.\u001b[0m\u001b[0mcore\u001b[0m\u001b[0;34m.\u001b[0m\u001b[0mframe\u001b[0m\u001b[0;34m.\u001b[0m\u001b[0mDataFrame\u001b[0m\u001b[0;34m,\u001b[0m\u001b[0;34m\u001b[0m\n",
      "\u001b[0;34m\u001b[0m    \u001b[0moligo_length_limit\u001b[0m\u001b[0;34m:\u001b[0m \u001b[0mint\u001b[0m\u001b[0;34m,\u001b[0m\u001b[0;34m\u001b[0m\n",
      "\u001b[0;34m\u001b[0m    \u001b[0msplit_column\u001b[0m\u001b[0;34m:\u001b[0m \u001b[0mstr\u001b[0m\u001b[0;34m,\u001b[0m\u001b[0;34m\u001b[0m\n",
      "\u001b[0;34m\u001b[0m    \u001b[0mtypeIIS_system\u001b[0m\u001b[0;34m:\u001b[0m \u001b[0mstr\u001b[0m\u001b[0;34m,\u001b[0m\u001b[0;34m\u001b[0m\n",
      "\u001b[0;34m\u001b[0m    \u001b[0mminimum_melting_temperature\u001b[0m\u001b[0;34m:\u001b[0m \u001b[0mfloat\u001b[0m\u001b[0;34m,\u001b[0m\u001b[0;34m\u001b[0m\n",
      "\u001b[0;34m\u001b[0m    \u001b[0mmaximum_melting_temperature\u001b[0m\u001b[0;34m:\u001b[0m \u001b[0mfloat\u001b[0m\u001b[0;34m,\u001b[0m\u001b[0;34m\u001b[0m\n",
      "\u001b[0;34m\u001b[0m    \u001b[0mmaximum_repeat_length\u001b[0m\u001b[0;34m:\u001b[0m \u001b[0mint\u001b[0m\u001b[0;34m,\u001b[0m\u001b[0;34m\u001b[0m\n",
      "\u001b[0;34m\u001b[0m    \u001b[0moutput_file\u001b[0m\u001b[0;34m:\u001b[0m \u001b[0mstr\u001b[0m \u001b[0;34m|\u001b[0m \u001b[0;32mNone\u001b[0m \u001b[0;34m=\u001b[0m \u001b[0;32mNone\u001b[0m\u001b[0;34m,\u001b[0m\u001b[0;34m\u001b[0m\n",
      "\u001b[0;34m\u001b[0m    \u001b[0mverbose\u001b[0m\u001b[0;34m:\u001b[0m \u001b[0mbool\u001b[0m \u001b[0;34m=\u001b[0m \u001b[0;32mTrue\u001b[0m\u001b[0;34m,\u001b[0m\u001b[0;34m\u001b[0m\n",
      "\u001b[0;34m\u001b[0m\u001b[0;34m)\u001b[0m \u001b[0;34m->\u001b[0m \u001b[0mTuple\u001b[0m\u001b[0;34m[\u001b[0m\u001b[0mpandas\u001b[0m\u001b[0;34m.\u001b[0m\u001b[0mcore\u001b[0m\u001b[0;34m.\u001b[0m\u001b[0mframe\u001b[0m\u001b[0;34m.\u001b[0m\u001b[0mDataFrame\u001b[0m\u001b[0;34m,\u001b[0m \u001b[0mdict\u001b[0m\u001b[0;34m]\u001b[0m\u001b[0;34m\u001b[0m\u001b[0;34m\u001b[0m\u001b[0m\n",
      "\u001b[0;31mDocstring:\u001b[0m\n",
      "Pads split oligos with optimized paired primers with a 3prime TypeIIS restriction site of choice\n",
      "and adds optional flanking spacers to reach oligo length limit. Returned DataFrame adds new columns\n",
      "to `input_data`, is compatible with `final` module, and is optionally written to a CSV file.\n",
      "\n",
      "Required Parameters:\n",
      "    - `input_data` (`str` / `pd.DataFrame`): Path to a CSV file or DataFrame with annotated oligopool variants.\n",
      "    - `oligo_length_limit` (`int`): Maximum allowed padded oligo length (≥ 60).\n",
      "    - `split_column` (`str`): Column name containing split fragments.\n",
      "    - `typeIIS_system` (`str`): Type IIS restriction enzyme to be used for pad excision. See notes.\n",
      "    - `minimum_melting_temperature` (`float`): Minimum padding primer Tm (≥ 25°C).\n",
      "    - `maximum_melting_temperature` (`float`): Maximum padding primer Tm (≤ 95°C).\n",
      "    - `maximum_repeat_length` (`int`): Max shared repeat length b/w padding primers & oligos (between 6 and 20).\n",
      "\n",
      "Optional Parameters:\n",
      "    - `output_file` (`str`): Filename for output DataFrame (default: `None`).\n",
      "    - `verbose` (`bool`): If `True`, logs updates to stdout (default: `True`).\n",
      "\n",
      "Returns:\n",
      "    - A pandas DataFrame with padded oligos; saves to `output_file` if specified.\n",
      "    - A dictionary of stats from the last step in pipeline.\n",
      "\n",
      "Notes:\n",
      "    - `input_data` must contain a unique 'ID' column, all other columns must be non-empty DNA strings.\n",
      "    - Column names in `input_data` must be unique, and exclude `primer_column`.\n",
      "    - Oligo rows already summing to or exceeding `oligo_length_limit` have a `'-'` (dash) as spacer.\n",
      "    - The following 34 unique Type IIS systems are supported to faciliate scarless padding primer excision.\n",
      "        * `AcuI`,  `AlwI`,  `BbsI`,  `BccI`,   `BceAI`,    `BciVI`,\n",
      "          `BcoDI`, `BmrI`,  `BpuEI`, `BsaI`,   `BseRI`,    `BsmAI`,\n",
      "          `BsmBI`, `BsmFI`, `BsmI`,  `BspCNI`, `BspQI`,    `BsrDI`,\n",
      "          `BsrI`,  `BtgZI`, `BtsCI`, `BtsI`,   `BtsIMutI`, `EarI`,\n",
      "          `EciI`,  `Esp3I`, `FauI`,  `HgaI`,   `HphI`,     `HpyAV`,\n",
      "          `MlyI`,  `MnlI`,  `SapI`,  `SfaNI`\n",
      "\u001b[0;31mFile:\u001b[0m      ~/dev/oligopool/oligopool/pad.py\n",
      "\u001b[0;31mType:\u001b[0m      function"
     ]
    }
   ],
   "source": [
    "? op.pad"
   ]
  },
  {
   "cell_type": "markdown",
   "metadata": {},
   "source": [
    "We will design our pads with `'BsaI'`, as an example."
   ]
  },
  {
   "cell_type": "code",
   "execution_count": 54,
   "metadata": {},
   "outputs": [
    {
     "name": "stdout",
     "output_type": "stream",
     "text": [
      "\n",
      "[Oligopool Calculator: Design Mode - Pad]\n",
      "                                           \n",
      " Required Arguments\n",
      "   Input Data       : DataFrame w/ 6,232 Record(s)\n",
      "   Oligo Limit      : Design 150 Base Pair(s) Padded Oligos\n",
      "   Split Column     : Input from Column 'Split1'            \n",
      " TypeIIS System     : Enzyme 'BsaI' Recognizing Motif 'GGTCTC'\n",
      " Melting Temperature: 53 to 55 °C                              \n",
      "  Repeat Length     : Up to 8 Base Pair(s) Oligopool Repeats\n",
      "  Output File       : In-Memory DataFrame                    \n",
      "                                          \n",
      "[Step 1: Parsing Split Column]\n",
      " Split Fragments: 6,232 Unique Sequences(s)\n",
      " Fragment Length: 110 Base Pair(s)          \n",
      " Time Elapsed: 0.00 sec            \n",
      " Verdict: Pad Design Possibly Feasible\n",
      "                                       \n",
      "[Step 2: Parsing TypeIIS System]\n",
      " Minimum Padding:  40 bp due to 110 bp Fragment(s)\n",
      " Maximum Padding:  40 bp due to 110 bp Fragment(s) \n",
      " TypeIIS System : Requires 34 bp Minimum Padding   \n",
      " Time Elapsed: 0.00 sec                          \n",
      " Verdict: Pad Design Possibly Feasible\n",
      "                                       \n",
      "[Step 3: Parsing Melting Temperature]\n",
      "  Parameter Source: From Input Argument(s)\n",
      " Required Tm Range: 53.00 to 55.00 °C      \n",
      " Possible Tm Range: 32.43 to 69.02 °C             \n",
      "  Updated Tm Range: 53.00 to 55.00 °C \n",
      " Found 0 Melting Temperature Conflict(s)\n",
      " Time Elapsed: 2.26 sec                  \n",
      " Verdict: Pad Design Possibly Feasible\n",
      "                                       \n",
      "[Step 4: Parsing Excluded Motifs]\n",
      " Sorted and Enqued: 2 Unique Excluded Motif(s)\n",
      " Excluded Motif Length Distribution              \n",
      "   - 2 Motif(s) of Length 6         \n",
      " Time Elapsed: 0.00 sec                         \n",
      " Verdict: Pad Design Possibly Feasible\n",
      "                                       \n",
      "[Step 5: Extracting Context Sequences]\n",
      "  Left Context: 922 Unique Sequence(s)              \n",
      " Right Context:   1 Unique Sequence(s) \n",
      "  Time Elapsed: 0.02 sec               \n",
      "                         \n",
      "[Step 6: Parsing Edge Effects]\n",
      "  Left Context 922: ...CGTGGA Prevents 2 Prefix(es)\n",
      " Right Context   1: GAATTC... Prevents 1 Suffix(es)\n",
      " Time Elapsed: 0.26 sec        \n",
      " Verdict: Pad Design Possibly Feasible\n",
      "                                       \n",
      "[Step 7: Parsing Oligopool Repeats]\n",
      " Repeat Source: From Entire Oligopool\n",
      "  k-mer Space : 131,072 Unique 9-mers \n",
      "   Fill Count : 128,502 Unique 9-mers ( 98.04 %)\n",
      "   Free Count :   2,570 Unique 9-mers (  1.96 %) \n",
      " Verdict: Pad Design Possibly Feasible           \n",
      " Time Elapsed: 2.23 sec                \n",
      "                        \n",
      "[Step 8: Computing Forward Pad]\n",
      " Candidate: Primer GCACACAAAGGTCTCGTCGT is Accepted                           \n",
      " Time Elapsed: 0.02 sec\n",
      "                        \n",
      "[Step 9: Computing Reverse Pad]\n",
      " Candidate: Primer GAATAGAGACCCGCAACGCA is Accepted                           \n",
      " Time Elapsed: 0.08 sec\n",
      "                        \n",
      "[Pad Design Statistics]\n",
      "       Design Status    : Successful\n",
      "     Melting Temperature:  53.09 °C and  52.63 °C\n",
      "          GC Content    :  55.00 %  and  55.00 %  \n",
      "     Hairpin MFE        :   0.00 kcal/mol and   0.00 kcal/mol\n",
      "   Homodimer MFE        :  -5.17 kcal/mol and  -6.17 kcal/mol \n",
      " Heterodimer MFE        :  -6.77 kcal/mol                     \n",
      " Time Elapsed: 4.88 sec                   \n",
      "\n"
     ]
    }
   ],
   "source": [
    "first_pad_df, _ = op.pad(\n",
    "    input_data=split_df,\n",
    "    oligo_length_limit=150, # Recall, we are pretending 150 bp synthesis limit\n",
    "    split_column='Split1',  # We will pad the first fragment\n",
    "    typeIIS_system='BsaI',  # Pad with internal 3' BsaI motif\n",
    "    minimum_melting_temperature=53,\n",
    "    maximum_melting_temperature=55,\n",
    "    maximum_repeat_length=8)"
   ]
  },
  {
   "cell_type": "code",
   "execution_count": 55,
   "metadata": {},
   "outputs": [
    {
     "name": "stdout",
     "output_type": "stream",
     "text": [
      "\n",
      "[Oligopool Calculator: Design Mode - Length Statistics]\n",
      "                                                         \n",
      " Required Arguments\n",
      " Input Data : DataFrame w/ 6,232 Record(s)\n",
      " Oligo Limit: At most 150 Base Pair(s)     \n",
      "                                       \n",
      "[Step 1: Computing Length Statistics]\n",
      " Element 3primeSpacer: Occupies 0 Base Pair(s)  \n",
      " Time Elapsed: 0.01 sec\n",
      "                        \n",
      "[Length Statistics]\n",
      "\n",
      "                   Min     Max    Min    Max    Oligo\n",
      "               Element Element  Oligo  Oligo    Limit\n",
      "                Length  Length Length Length Overflow\n",
      "  5primeSpacer    0 bp    0 bp   0 bp   0 bp       No\n",
      " ForwardPrimer   20 bp   20 bp  20 bp  20 bp       No\n",
      "        Split1  110 bp  110 bp 130 bp 130 bp       No\n",
      " ReversePrimer   20 bp   20 bp 150 bp 150 bp       No\n",
      "  3primeSpacer    0 bp    0 bp 150 bp 150 bp       No\n",
      "                     \n",
      " Free Space Available: 0 Base Pair(s)\n",
      " Time Elapsed: 0.01 sec                \n",
      "\n"
     ]
    }
   ],
   "source": [
    "op.lenstat(input_data=first_pad_df, oligo_length_limit=150);"
   ]
  },
  {
   "cell_type": "markdown",
   "metadata": {},
   "source": [
    "Looks good. On to the second padding."
   ]
  },
  {
   "cell_type": "code",
   "execution_count": 56,
   "metadata": {},
   "outputs": [],
   "source": [
    "second_pad_df, _ = op.pad(\n",
    "    input_data=split_df,\n",
    "    oligo_length_limit=150,\n",
    "    split_column='Split2',  # We will pad the second fragment now\n",
    "    typeIIS_system='BsaI',\n",
    "    minimum_melting_temperature=53,\n",
    "    maximum_melting_temperature=55,\n",
    "    maximum_repeat_length=8,\n",
    "    verbose=False)  # Silent Mode"
   ]
  },
  {
   "cell_type": "code",
   "execution_count": 57,
   "metadata": {},
   "outputs": [
    {
     "data": {
      "text/html": [
       "<div>\n",
       "<style scoped>\n",
       "    .dataframe tbody tr th:only-of-type {\n",
       "        vertical-align: middle;\n",
       "    }\n",
       "\n",
       "    .dataframe tbody tr th {\n",
       "        vertical-align: top;\n",
       "    }\n",
       "\n",
       "    .dataframe thead th {\n",
       "        text-align: right;\n",
       "    }\n",
       "</style>\n",
       "<table border=\"1\" class=\"dataframe\">\n",
       "  <thead>\n",
       "    <tr style=\"text-align: right;\">\n",
       "      <th></th>\n",
       "      <th>5primeSpacer</th>\n",
       "      <th>ForwardPrimer</th>\n",
       "      <th>Split2</th>\n",
       "      <th>ReversePrimer</th>\n",
       "      <th>3primeSpacer</th>\n",
       "    </tr>\n",
       "    <tr>\n",
       "      <th>ID</th>\n",
       "      <th></th>\n",
       "      <th></th>\n",
       "      <th></th>\n",
       "      <th></th>\n",
       "      <th></th>\n",
       "    </tr>\n",
       "  </thead>\n",
       "  <tbody>\n",
       "    <tr>\n",
       "      <th>ribozyme_0001</th>\n",
       "      <td>G</td>\n",
       "      <td>CTACAATGCGGGGTCTCGGTTA</td>\n",
       "      <td>AGTGATAGACACCTGTGACGTCCGTTTGTGGGCGGATTGCTATGGT...</td>\n",
       "      <td>ATTGTGAGACCTTTGTGTGCCC</td>\n",
       "      <td>T</td>\n",
       "    </tr>\n",
       "    <tr>\n",
       "      <th>ribozyme_0002</th>\n",
       "      <td>G</td>\n",
       "      <td>CTACAATGCGGGGTCTCGGTTA</td>\n",
       "      <td>CTATGTGACGTCCGTTTGTGGGCGGATTGCTAGTTGAGCGGCGAAC...</td>\n",
       "      <td>ATTGTGAGACCTTTGTGTGCCC</td>\n",
       "      <td>T</td>\n",
       "    </tr>\n",
       "    <tr>\n",
       "      <th>ribozyme_0003</th>\n",
       "      <td>G</td>\n",
       "      <td>CTACAATGCGGGGTCTCGGTTA</td>\n",
       "      <td>AGTGATAGACACCTGTGACGTCCGTTTGTGGGCGGATTGCTATCAA...</td>\n",
       "      <td>ATTGTGAGACCTTTGTGTGCCC</td>\n",
       "      <td>T</td>\n",
       "    </tr>\n",
       "    <tr>\n",
       "      <th>ribozyme_0004</th>\n",
       "      <td>G</td>\n",
       "      <td>CTACAATGCGGGGTCTCGGTTA</td>\n",
       "      <td>ATCATCTATTGTGACGTCCGTTTGTGGGCGGATTGCTACTGCGATT...</td>\n",
       "      <td>ATTGTGAGACCTTTGTGTGCCC</td>\n",
       "      <td>T</td>\n",
       "    </tr>\n",
       "    <tr>\n",
       "      <th>ribozyme_0005</th>\n",
       "      <td>G</td>\n",
       "      <td>CTACAATGCGGGGTCTCGGTTA</td>\n",
       "      <td>ACTAGCTGGGTTTGTGACGTCCGTTTGTGGGCGGATTGCTAGGTGT...</td>\n",
       "      <td>ATTGTGAGACCTTTGTGTGCCC</td>\n",
       "      <td>T</td>\n",
       "    </tr>\n",
       "  </tbody>\n",
       "</table>\n",
       "</div>"
      ],
      "text/plain": [
       "              5primeSpacer           ForwardPrimer  \\\n",
       "ID                                                   \n",
       "ribozyme_0001            G  CTACAATGCGGGGTCTCGGTTA   \n",
       "ribozyme_0002            G  CTACAATGCGGGGTCTCGGTTA   \n",
       "ribozyme_0003            G  CTACAATGCGGGGTCTCGGTTA   \n",
       "ribozyme_0004            G  CTACAATGCGGGGTCTCGGTTA   \n",
       "ribozyme_0005            G  CTACAATGCGGGGTCTCGGTTA   \n",
       "\n",
       "                                                          Split2  \\\n",
       "ID                                                                 \n",
       "ribozyme_0001  AGTGATAGACACCTGTGACGTCCGTTTGTGGGCGGATTGCTATGGT...   \n",
       "ribozyme_0002  CTATGTGACGTCCGTTTGTGGGCGGATTGCTAGTTGAGCGGCGAAC...   \n",
       "ribozyme_0003  AGTGATAGACACCTGTGACGTCCGTTTGTGGGCGGATTGCTATCAA...   \n",
       "ribozyme_0004  ATCATCTATTGTGACGTCCGTTTGTGGGCGGATTGCTACTGCGATT...   \n",
       "ribozyme_0005  ACTAGCTGGGTTTGTGACGTCCGTTTGTGGGCGGATTGCTAGGTGT...   \n",
       "\n",
       "                        ReversePrimer 3primeSpacer  \n",
       "ID                                                  \n",
       "ribozyme_0001  ATTGTGAGACCTTTGTGTGCCC            T  \n",
       "ribozyme_0002  ATTGTGAGACCTTTGTGTGCCC            T  \n",
       "ribozyme_0003  ATTGTGAGACCTTTGTGTGCCC            T  \n",
       "ribozyme_0004  ATTGTGAGACCTTTGTGTGCCC            T  \n",
       "ribozyme_0005  ATTGTGAGACCTTTGTGTGCCC            T  "
      ]
     },
     "execution_count": 57,
     "metadata": {},
     "output_type": "execute_result"
    }
   ],
   "source": [
    "second_pad_df.head(5)"
   ]
  },
  {
   "cell_type": "code",
   "execution_count": 58,
   "metadata": {},
   "outputs": [
    {
     "name": "stdout",
     "output_type": "stream",
     "text": [
      "\n",
      "[Oligopool Calculator: Design Mode - Length Statistics]\n",
      "                                                         \n",
      " Required Arguments\n",
      " Input Data : DataFrame w/ 6,232 Record(s)\n",
      " Oligo Limit: At most 150 Base Pair(s)     \n",
      "                                       \n",
      "[Step 1: Computing Length Statistics]\n",
      " Element 3primeSpacer: Occupies 1 Base Pair(s)  \n",
      " Time Elapsed: 0.01 sec\n",
      "                        \n",
      "[Length Statistics]\n",
      "\n",
      "                   Min     Max    Min    Max    Oligo\n",
      "               Element Element  Oligo  Oligo    Limit\n",
      "                Length  Length Length Length Overflow\n",
      "  5primeSpacer    1 bp    1 bp   1 bp   1 bp       No\n",
      " ForwardPrimer   22 bp   22 bp  23 bp  23 bp       No\n",
      "        Split2  104 bp  104 bp 127 bp 127 bp       No\n",
      " ReversePrimer   22 bp   22 bp 149 bp 149 bp       No\n",
      "  3primeSpacer    1 bp    1 bp 150 bp 150 bp       No\n",
      "                     \n",
      " Free Space Available: 0 Base Pair(s)\n",
      " Time Elapsed: 0.01 sec                \n",
      "\n"
     ]
    }
   ],
   "source": [
    "op.lenstat(input_data=second_pad_df, oligo_length_limit=150);"
   ]
  },
  {
   "cell_type": "markdown",
   "metadata": {},
   "source": [
    "We would now finalize both the padded DataFrames and ship it to our provider for synthesis."
   ]
  },
  {
   "cell_type": "markdown",
   "metadata": {},
   "source": [
    "This concludes our `Oligopool Calculator` `Design Mode` walkthrough."
   ]
  },
  {
   "cell_type": "markdown",
   "metadata": {},
   "source": [
    "### Analysis Mode Walkthrough"
   ]
  },
  {
   "cell_type": "markdown",
   "metadata": {},
   "source": [
    "Let us consider the following ribozyme system architecture again."
   ]
  },
  {
   "cell_type": "markdown",
   "metadata": {},
   "source": [
    "![Ribozyme Library Architecture](https://raw.githubusercontent.com/ayaanhossain/repfmt/refs/heads/main/oligopool/img/architecture-ribozyme.svg)"
   ]
  },
  {
   "cell_type": "markdown",
   "metadata": {},
   "source": [
    "In our `Design Mode` walkthrough we designed a pool of over 6,000 simulated ribozyme variants. One characterization approach may involve sequencing an amplicon spanning `OrangeForwardPrimer` to `YellowReversePrimer` for uncleaved products, while a second sequencing of cleaved products spans `PinkForwardPrimer` through `YellowReversePrimer`. The ratio of cleaved to uncleaved products would give us the cleavage rate quntification for a ribozyme variant."
   ]
  },
  {
   "cell_type": "markdown",
   "metadata": {},
   "source": [
    "`Oligopool Calculator` `Analysis Mode` provides efficient tools to analyze barcoded read counts to faciliate this step, in the form of `index`, `pack`, `acount` and `xcount` modules. In this section we will explore them."
   ]
  },
  {
   "cell_type": "markdown",
   "metadata": {},
   "source": [
    "#### Indexing the barcodes and associated variants"
   ]
  },
  {
   "cell_type": "markdown",
   "metadata": {},
   "source": [
    "We first have to `index` the barcodes and associated variants to train a `Scry` barcode classifier for dowsntream counting. This step is analogous to indexing reference genomes that short-read aligners require before mapping NGS reads for genomic analysis, except our `Analysis Mode` functions are optimized for counting and therefore very sensitive, and efficient for this task."
   ]
  },
  {
   "cell_type": "markdown",
   "metadata": {},
   "source": [
    "![Indexing Reads](https://raw.githubusercontent.com/ayaanhossain/repfmt/refs/heads/main/oligopool/img/index.svg)"
   ]
  },
  {
   "cell_type": "code",
   "execution_count": 59,
   "metadata": {},
   "outputs": [
    {
     "name": "stdout",
     "output_type": "stream",
     "text": [
      "\u001b[0;31mSignature:\u001b[0m\n",
      " \u001b[0mop\u001b[0m\u001b[0;34m.\u001b[0m\u001b[0mindex\u001b[0m\u001b[0;34m(\u001b[0m\u001b[0;34m\u001b[0m\n",
      "\u001b[0;34m\u001b[0m    \u001b[0mbarcode_data\u001b[0m\u001b[0;34m:\u001b[0m \u001b[0mstr\u001b[0m \u001b[0;34m|\u001b[0m \u001b[0mpandas\u001b[0m\u001b[0;34m.\u001b[0m\u001b[0mcore\u001b[0m\u001b[0;34m.\u001b[0m\u001b[0mframe\u001b[0m\u001b[0;34m.\u001b[0m\u001b[0mDataFrame\u001b[0m\u001b[0;34m,\u001b[0m\u001b[0;34m\u001b[0m\n",
      "\u001b[0;34m\u001b[0m    \u001b[0mbarcode_column\u001b[0m\u001b[0;34m:\u001b[0m \u001b[0mstr\u001b[0m\u001b[0;34m,\u001b[0m\u001b[0;34m\u001b[0m\n",
      "\u001b[0;34m\u001b[0m    \u001b[0mindex_file\u001b[0m\u001b[0;34m:\u001b[0m \u001b[0mstr\u001b[0m\u001b[0;34m,\u001b[0m\u001b[0;34m\u001b[0m\n",
      "\u001b[0;34m\u001b[0m    \u001b[0mbarcode_prefix_column\u001b[0m\u001b[0;34m:\u001b[0m \u001b[0mstr\u001b[0m \u001b[0;34m|\u001b[0m \u001b[0;32mNone\u001b[0m \u001b[0;34m=\u001b[0m \u001b[0;32mNone\u001b[0m\u001b[0;34m,\u001b[0m\u001b[0;34m\u001b[0m\n",
      "\u001b[0;34m\u001b[0m    \u001b[0mbarcode_suffix_column\u001b[0m\u001b[0;34m:\u001b[0m \u001b[0mstr\u001b[0m \u001b[0;34m|\u001b[0m \u001b[0;32mNone\u001b[0m \u001b[0;34m=\u001b[0m \u001b[0;32mNone\u001b[0m\u001b[0;34m,\u001b[0m\u001b[0;34m\u001b[0m\n",
      "\u001b[0;34m\u001b[0m    \u001b[0mbarcode_prefix_gap\u001b[0m\u001b[0;34m:\u001b[0m \u001b[0mint\u001b[0m \u001b[0;34m=\u001b[0m \u001b[0;36m0\u001b[0m\u001b[0;34m,\u001b[0m\u001b[0;34m\u001b[0m\n",
      "\u001b[0;34m\u001b[0m    \u001b[0mbarcode_suffix_gap\u001b[0m\u001b[0;34m:\u001b[0m \u001b[0mint\u001b[0m \u001b[0;34m=\u001b[0m \u001b[0;36m0\u001b[0m\u001b[0;34m,\u001b[0m\u001b[0;34m\u001b[0m\n",
      "\u001b[0;34m\u001b[0m    \u001b[0massociate_data\u001b[0m\u001b[0;34m:\u001b[0m \u001b[0mstr\u001b[0m \u001b[0;34m|\u001b[0m \u001b[0;32mNone\u001b[0m \u001b[0;34m=\u001b[0m \u001b[0;32mNone\u001b[0m\u001b[0;34m,\u001b[0m\u001b[0;34m\u001b[0m\n",
      "\u001b[0;34m\u001b[0m    \u001b[0massociate_column\u001b[0m\u001b[0;34m:\u001b[0m \u001b[0mstr\u001b[0m \u001b[0;34m|\u001b[0m \u001b[0;32mNone\u001b[0m \u001b[0;34m=\u001b[0m \u001b[0;32mNone\u001b[0m\u001b[0;34m,\u001b[0m\u001b[0;34m\u001b[0m\n",
      "\u001b[0;34m\u001b[0m    \u001b[0massociate_prefix_column\u001b[0m\u001b[0;34m:\u001b[0m \u001b[0mstr\u001b[0m \u001b[0;34m|\u001b[0m \u001b[0;32mNone\u001b[0m \u001b[0;34m=\u001b[0m \u001b[0;32mNone\u001b[0m\u001b[0;34m,\u001b[0m\u001b[0;34m\u001b[0m\n",
      "\u001b[0;34m\u001b[0m    \u001b[0massociate_suffix_column\u001b[0m\u001b[0;34m:\u001b[0m \u001b[0mstr\u001b[0m \u001b[0;34m|\u001b[0m \u001b[0;32mNone\u001b[0m \u001b[0;34m=\u001b[0m \u001b[0;32mNone\u001b[0m\u001b[0;34m,\u001b[0m\u001b[0;34m\u001b[0m\n",
      "\u001b[0;34m\u001b[0m    \u001b[0mverbose\u001b[0m\u001b[0;34m:\u001b[0m \u001b[0mbool\u001b[0m \u001b[0;34m=\u001b[0m \u001b[0;32mTrue\u001b[0m\u001b[0;34m,\u001b[0m\u001b[0;34m\u001b[0m\n",
      "\u001b[0;34m\u001b[0m\u001b[0;34m)\u001b[0m \u001b[0;34m->\u001b[0m \u001b[0mdict\u001b[0m\u001b[0;34m\u001b[0m\u001b[0;34m\u001b[0m\u001b[0m\n",
      "\u001b[0;31mDocstring:\u001b[0m\n",
      "Create an index for barcode mapping and counting. Indexes barcodes, optionally with associated\n",
      "variants, for use in `Scry` classifier. Barcode and associate data can be provided separately.\n",
      "Resulting index is a single information unit for mapping and counting, saved locally for future.\n",
      "\n",
      "Required Parameters:\n",
      "    - `barcode_data` (`str` / `pd.DataFrame`): Path to a CSV file or DataFrame with annotated barcodes.\n",
      "    - `barcode_column` (`str`): Column name for the barcodes to index.\n",
      "    - `index_file` (`str`): Filename for output index object.\n",
      "\n",
      "Optional Parameters:\n",
      "    - `barcode_prefix_column` (`str`): Column for the constant barcode prefix anchor (default: `None`).\n",
      "    - `barcode_suffix_column` (`str`): Column for the constant barcode suffix anchor (default: `None`).\n",
      "    - `barcode_prefix_gap` (`int`): Distance between the prefix and barcode (default: 0).\n",
      "    - `barcode_suffix_gap` (`int`): Distance between the suffix and barcode (default: 0).\n",
      "    - `associate_data` (`str` / `pd.DataFrame`): Path to a CSV file or DataFrame with annotated variants.\n",
      "    - `associate_column` (`str`): Column name for the associate elements to index (default: `None`).\n",
      "    - `associate_prefix_column` (`str`): Column for the constant associate prefix (default: `None`).\n",
      "    - `associate_suffix_column` (`str`): Column for the constant associate suffix (default: `None`).\n",
      "    - `verbose` (`bool`): If `True`, logs updates to stdout (default: `True`).\n",
      "\n",
      "Returns:\n",
      "    - A dictionary of stats from the last step in pipeline.\n",
      "\n",
      "Notes:\n",
      "    - `barcode_data` and `associate_data` require unique 'ID' column; others must be non-empty DNA strings.\n",
      "    - Specify at least one each of `{barcode|associate}_{prefix|suffix}_column`.\n",
      "    - For error-free indexing, specified columns should be adjacent to `{barcode|associate}_column`.\n",
      "    - In NGS reads, barcode `{prefix|suffix}` must be `barcode_{prefix|suffix}_gap` bases away from barcode.\n",
      "    - For association counting, partial presence of associate variant suffices; however, their\n",
      "      `{prefix|suffix}` constants must be adjancent and present completely.\n",
      "    - Multiple indices may be used simultaneously for combinatorial counting (association ignored).\n",
      "\u001b[0;31mFile:\u001b[0m      ~/dev/oligopool/oligopool/index.py\n",
      "\u001b[0;31mType:\u001b[0m      function"
     ]
    }
   ],
   "source": [
    "? op.index"
   ]
  },
  {
   "cell_type": "markdown",
   "metadata": {},
   "source": [
    "Althrough not explored here, you can learn more about using `Scry` via `help(op.Scry)`."
   ]
  },
  {
   "cell_type": "markdown",
   "metadata": {},
   "source": [
    "For demonstration, we will load an annotated oligopool we generated in the previous section from which we simulated a naive ribozyme cleavage experiment. The notebooks, reference CSV, and the simulated NGS reads are all located in our `analysis-pipeline` directory inside `examples`. The simulation parameters, in particular, can be adjusted in `read_simulator.ipynb` to test `Analysis Mode` functions with different characterization profiles."
   ]
  },
  {
   "cell_type": "code",
   "execution_count": 60,
   "metadata": {},
   "outputs": [],
   "source": [
    "df = pd.read_csv('analysis-pipeline/ribozyme_architecture.csv')"
   ]
  },
  {
   "cell_type": "code",
   "execution_count": 61,
   "metadata": {},
   "outputs": [
    {
     "data": {
      "text/html": [
       "<div>\n",
       "<style scoped>\n",
       "    .dataframe tbody tr th:only-of-type {\n",
       "        vertical-align: middle;\n",
       "    }\n",
       "\n",
       "    .dataframe tbody tr th {\n",
       "        vertical-align: top;\n",
       "    }\n",
       "\n",
       "    .dataframe thead th {\n",
       "        text-align: right;\n",
       "    }\n",
       "</style>\n",
       "<table border=\"1\" class=\"dataframe\">\n",
       "  <thead>\n",
       "    <tr style=\"text-align: right;\">\n",
       "      <th></th>\n",
       "      <th>ID</th>\n",
       "      <th>EcoRI</th>\n",
       "      <th>OrangeForwardPrimer</th>\n",
       "      <th>BC1</th>\n",
       "      <th>Variant</th>\n",
       "      <th>PinkForwardPrimer</th>\n",
       "      <th>BC2</th>\n",
       "      <th>YellowReversePrimer</th>\n",
       "      <th>AatIIPadded</th>\n",
       "      <th>Spacer</th>\n",
       "    </tr>\n",
       "  </thead>\n",
       "  <tbody>\n",
       "    <tr>\n",
       "      <th>0</th>\n",
       "      <td>ribozyme_0001</td>\n",
       "      <td>GAATTC</td>\n",
       "      <td>CGGACGTTATGGTTGGGGTT</td>\n",
       "      <td>TAGTCAAGCGC</td>\n",
       "      <td>CGTTCAGAAGCGCGCGACTGTACCGTCGTTAAGCACCTGACGTACT...</td>\n",
       "      <td>GGTGCAAGGTTGTTGGGGAA</td>\n",
       "      <td>CTTGTCAGCCC</td>\n",
       "      <td>ATCTATCTAACCGCCCCCCG</td>\n",
       "      <td>GACGTCGCG</td>\n",
       "      <td>CCTAAATTTGGAG</td>\n",
       "    </tr>\n",
       "    <tr>\n",
       "      <th>1</th>\n",
       "      <td>ribozyme_0002</td>\n",
       "      <td>GAATTC</td>\n",
       "      <td>CGGACGTTATGGTTGGGGTT</td>\n",
       "      <td>CATTATATGTC</td>\n",
       "      <td>TCTTCTATCATAGTTAGGCTACGGATCCTCCTCTAGGACACACCCG...</td>\n",
       "      <td>GGTGCAAGGTTGTTGGGGAA</td>\n",
       "      <td>CTTTGCTGCCG</td>\n",
       "      <td>ATCTATCTAACCGCCCCCCG</td>\n",
       "      <td>GACGTCGCG</td>\n",
       "      <td>CAG</td>\n",
       "    </tr>\n",
       "    <tr>\n",
       "      <th>2</th>\n",
       "      <td>ribozyme_0003</td>\n",
       "      <td>GAATTC</td>\n",
       "      <td>CGGACGTTATGGTTGGGGTT</td>\n",
       "      <td>TCGGCGCGTGA</td>\n",
       "      <td>GCTGATTCATTCCAACACTCTTGAGGCCGTTTCTATAAACGGTGAC...</td>\n",
       "      <td>GGTGCAAGGTTGTTGGGGAA</td>\n",
       "      <td>TGGGTAGTAAT</td>\n",
       "      <td>ATCTATCTAACCGCCCCCCG</td>\n",
       "      <td>GACGTCGCG</td>\n",
       "      <td>CCTAAATTTGGAG</td>\n",
       "    </tr>\n",
       "    <tr>\n",
       "      <th>3</th>\n",
       "      <td>ribozyme_0004</td>\n",
       "      <td>GAATTC</td>\n",
       "      <td>CGGACGTTATGGTTGGGGTT</td>\n",
       "      <td>GGAGATGATAG</td>\n",
       "      <td>CATATCTCTGTTCCTCTGCTGTAATCATGAGTCGGATCACTGGTTG...</td>\n",
       "      <td>GGTGCAAGGTTGTTGGGGAA</td>\n",
       "      <td>GCTAGGGCTTT</td>\n",
       "      <td>ATCTATCTAACCGCCCCCCG</td>\n",
       "      <td>GACGTCGCG</td>\n",
       "      <td>GCGCTGAGC</td>\n",
       "    </tr>\n",
       "    <tr>\n",
       "      <th>4</th>\n",
       "      <td>ribozyme_0005</td>\n",
       "      <td>GAATTC</td>\n",
       "      <td>CGGACGTTATGGTTGGGGTT</td>\n",
       "      <td>AGTGCATGTCC</td>\n",
       "      <td>GCATCCGTTGGTAACTTTCAATTGTTCAGGTCTCTGGCTTATCACG...</td>\n",
       "      <td>GGTGCAAGGTTGTTGGGGAA</td>\n",
       "      <td>CTCCGCGGTGG</td>\n",
       "      <td>ATCTATCTAACCGCCCCCCG</td>\n",
       "      <td>GACGTCGCG</td>\n",
       "      <td>ACTCTGTAAATC</td>\n",
       "    </tr>\n",
       "  </tbody>\n",
       "</table>\n",
       "</div>"
      ],
      "text/plain": [
       "              ID   EcoRI   OrangeForwardPrimer          BC1  \\\n",
       "0  ribozyme_0001  GAATTC  CGGACGTTATGGTTGGGGTT  TAGTCAAGCGC   \n",
       "1  ribozyme_0002  GAATTC  CGGACGTTATGGTTGGGGTT  CATTATATGTC   \n",
       "2  ribozyme_0003  GAATTC  CGGACGTTATGGTTGGGGTT  TCGGCGCGTGA   \n",
       "3  ribozyme_0004  GAATTC  CGGACGTTATGGTTGGGGTT  GGAGATGATAG   \n",
       "4  ribozyme_0005  GAATTC  CGGACGTTATGGTTGGGGTT  AGTGCATGTCC   \n",
       "\n",
       "                                             Variant     PinkForwardPrimer  \\\n",
       "0  CGTTCAGAAGCGCGCGACTGTACCGTCGTTAAGCACCTGACGTACT...  GGTGCAAGGTTGTTGGGGAA   \n",
       "1  TCTTCTATCATAGTTAGGCTACGGATCCTCCTCTAGGACACACCCG...  GGTGCAAGGTTGTTGGGGAA   \n",
       "2  GCTGATTCATTCCAACACTCTTGAGGCCGTTTCTATAAACGGTGAC...  GGTGCAAGGTTGTTGGGGAA   \n",
       "3  CATATCTCTGTTCCTCTGCTGTAATCATGAGTCGGATCACTGGTTG...  GGTGCAAGGTTGTTGGGGAA   \n",
       "4  GCATCCGTTGGTAACTTTCAATTGTTCAGGTCTCTGGCTTATCACG...  GGTGCAAGGTTGTTGGGGAA   \n",
       "\n",
       "           BC2   YellowReversePrimer AatIIPadded         Spacer  \n",
       "0  CTTGTCAGCCC  ATCTATCTAACCGCCCCCCG   GACGTCGCG  CCTAAATTTGGAG  \n",
       "1  CTTTGCTGCCG  ATCTATCTAACCGCCCCCCG   GACGTCGCG            CAG  \n",
       "2  TGGGTAGTAAT  ATCTATCTAACCGCCCCCCG   GACGTCGCG  CCTAAATTTGGAG  \n",
       "3  GCTAGGGCTTT  ATCTATCTAACCGCCCCCCG   GACGTCGCG      GCGCTGAGC  \n",
       "4  CTCCGCGGTGG  ATCTATCTAACCGCCCCCCG   GACGTCGCG   ACTCTGTAAATC  "
      ]
     },
     "execution_count": 61,
     "metadata": {},
     "output_type": "execute_result"
    }
   ],
   "source": [
    "df.head(5)"
   ]
  },
  {
   "cell_type": "markdown",
   "metadata": {},
   "source": [
    "We can now index the two barcode sets, since indexing requires us to index them individually. For BC2 in particular, we will associate the core variants for association counting later."
   ]
  },
  {
   "cell_type": "code",
   "execution_count": 62,
   "metadata": {},
   "outputs": [],
   "source": [
    "# For demo, remove any previous indexes\n",
    "! rm -f BC*.oligopool.index"
   ]
  },
  {
   "cell_type": "code",
   "execution_count": 63,
   "metadata": {},
   "outputs": [],
   "source": [
    "stats = op.index(\n",
    "    barcode_data=df,\n",
    "    barcode_column='BC1',                        # Index BC1 only\n",
    "    barcode_prefix_column='OrangeForwardPrimer', # which should be next to OrangeForwardPrimer\n",
    "    barcode_suffix_column=None,                  # We have no flanking right constant for BC1\n",
    "    barcode_prefix_gap=0,\n",
    "    barcode_suffix_gap=0,\n",
    "    index_file='BC1',                            # Store results in BC1.oligopool.index file\n",
    "    verbose=False,       # Silent Mode\n",
    ")"
   ]
  },
  {
   "cell_type": "code",
   "execution_count": 64,
   "metadata": {},
   "outputs": [
    {
     "name": "stdout",
     "output_type": "stream",
     "text": [
      "\n",
      "[Oligopool Calculator: Analysis Mode - Index]\n",
      "                                               \n",
      " Required Arguments\n",
      "   Barcode Data   : DataFrame w/ 6,232 Record(s)\n",
      "   Barcode Column : Input from Column 'BC2'      \n",
      "     Index File   : BC2.oligopool.index     \n",
      "                                        \n",
      " Optional Arguments\n",
      "   Barcode Prefix : Input from Column 'PinkForwardPrimer'\n",
      "   Barcode Suffix : Input from Column 'YellowReversePrimer'\n",
      "   Barcode Pregap : Allow Exactly 0 bp Gap b/w Prefix and Barcode\n",
      "   Barcode Postgap: Allow Exactly 0 bp Gap b/w Barcode and Suffix \n",
      " Associate Data   : DataFrame w/ 6,232 Record(s)                  \n",
      " Associate Column : Input from Column 'Variant'  \n",
      " Associate Prefix : None Specified              \n",
      " Associate Suffix : Input from Column 'PinkForwardPrimer'\n",
      "                                                          \n",
      "[Step 1: Parsing Barcode Data]\n",
      " Barcode Extracted: 6,232 Unique Sequences(s)\n",
      " Barcode Unique   : Yes                       \n",
      " Barcode Length   : 11 Base Pair(s)\n",
      " Time Elapsed: 0.01 sec             \n",
      " Verdict: Indexing Possibly Feasible\n",
      "                                     \n",
      "[Step 2: Parsing Barcode Constants]\n",
      " Constants Extracted: Both Prefix and Suffix\n",
      "    Prefix Unique   : Yes                    \n",
      "    Prefix Length   : 20 bp\n",
      "    Suffix Unique   : Yes   \n",
      "    Suffix Length   : 20 bp\n",
      " Time Elapsed: 0.00 sec     \n",
      " Verdict: Indexing Possibly Feasible\n",
      "                                     \n",
      "[Step 3: Extracting Associate Data]\n",
      " Associate Extracted: 6,232 Unique Sequence(s)\n",
      " Associate Unique   : Yes                      \n",
      " Time Elapsed: 0.00 sec   \n",
      "                        \n",
      "[Step 4: Parsing Associate Constants]\n",
      " Constants Extracted: Only Suffix      \n",
      "    Suffix Unique   : Yes         \n",
      "    Suffix Length   : 20 bp\n",
      " Time Elapsed: 0.00 sec     \n",
      " Verdict: Indexing Possibly Feasible\n",
      "                                     \n",
      "[Step 5: Computing Index]\n",
      "   Barcode t-value: 1 Mismatch(es)\n",
      "   Barcode k-value: 5 Base Pair(s) \n",
      " Associate t-value: 4 Mismatch(es)                             \n",
      " Writing        ID Map  : Done     \n",
      " Writing      Meta Map  : Done \n",
      " Writing   Barcode Model: Done       \n",
      " Writing Associate Map  : Done \n",
      " Time Elapsed: 2.02 sec        \n",
      "                        \n",
      "[Indexing Statistics]\n",
      " Indexing Status : Successful\n",
      "     Time Elapsed: 3.77 sec   \n",
      "\n"
     ]
    }
   ],
   "source": [
    "stats = op.index(\n",
    "    barcode_data=df,\n",
    "    barcode_column='BC2',                        # Index BC1 only\n",
    "    barcode_prefix_column='PinkForwardPrimer',   # which should be next to OrangeForwardPrimer\n",
    "    barcode_suffix_column='YellowReversePrimer', # We have YellowReversePrimer as flanking right constant for BC2\n",
    "    barcode_prefix_gap=0,\n",
    "    barcode_suffix_gap=0,\n",
    "    associate_data=df,                           # Associates are in same DataFrame\n",
    "    associate_column='Variant',\n",
    "    associate_prefix_column=None,\n",
    "    associate_suffix_column='PinkForwardPrimer',\n",
    "    index_file='BC2',                            # Store results in BC2.oligopool.index file\n",
    ")"
   ]
  },
  {
   "cell_type": "markdown",
   "metadata": {},
   "source": [
    "> **Note** Without specifying the associated variants for a barcode set, the resulting index cannot be used for association counting. Here, the `BC1` index can only be used for combinatorial counting, while `BC2` can be used for both association and combinatorial counting."
   ]
  },
  {
   "cell_type": "markdown",
   "metadata": {},
   "source": [
    "Our barcodes and their associates are indexed. Let us now pack the NGS reads for counting."
   ]
  },
  {
   "cell_type": "markdown",
   "metadata": {},
   "source": [
    "#### Packing the NGS reads for quantification"
   ]
  },
  {
   "cell_type": "markdown",
   "metadata": {},
   "source": [
    "NGS analysis begins with quality control of reads. Only high quality reads should be used for characterization. The `pack` module allows us to filter low quality or incorrect reads so that our quantifcation downstream is accurate."
   ]
  },
  {
   "cell_type": "markdown",
   "metadata": {},
   "source": [
    "Optionally, if the reads are paired-end and long enough, compared to the synthesized oligo, the two mates may need to be merged into a consensus fragment, which can be done within the packing step. Alternatively, efficient tools such as [`flash2`](https://github.com/dstreett/FLASH2) can be used for the same -- merge your reads with `flash2` and use the resulting single-end reads in `pack`."
   ]
  },
  {
   "cell_type": "markdown",
   "metadata": {},
   "source": [
    "Finally, due to the nature of MPRA characterization, there may be an abundance of truly duplicate reads which `pack` module consolidates into read packs for efficient and parallel counting downstream."
   ]
  },
  {
   "cell_type": "markdown",
   "metadata": {},
   "source": [
    "In practice, you may wish to add [unique molecular indexes](https://www.illumina.com/techniques/sequencing/ngs-library-prep/multiplexing/unique-molecular-identifiers.html) (UMIs) during your library preparation to remove spurious PCR or optical duplicates. We recommend directly processing your reads with tools such as [`calib`](https://github.com/vpc-ccg/calib) to consolidate these UMI duplicates, prior to packing and counting them using `Oligopool Calculator`."
   ]
  },
  {
   "cell_type": "markdown",
   "metadata": {},
   "source": [
    "![Packing Reads](https://raw.githubusercontent.com/ayaanhossain/repfmt/refs/heads/main/oligopool/img/pack.svg)"
   ]
  },
  {
   "cell_type": "code",
   "execution_count": 65,
   "metadata": {},
   "outputs": [
    {
     "name": "stdout",
     "output_type": "stream",
     "text": [
      "\u001b[0;31mSignature:\u001b[0m\n",
      " \u001b[0mop\u001b[0m\u001b[0;34m.\u001b[0m\u001b[0mpack\u001b[0m\u001b[0;34m(\u001b[0m\u001b[0;34m\u001b[0m\n",
      "\u001b[0;34m\u001b[0m    \u001b[0mr1_fastq_file\u001b[0m\u001b[0;34m:\u001b[0m \u001b[0mstr\u001b[0m\u001b[0;34m,\u001b[0m\u001b[0;34m\u001b[0m\n",
      "\u001b[0;34m\u001b[0m    \u001b[0mr1_read_type\u001b[0m\u001b[0;34m:\u001b[0m \u001b[0mint\u001b[0m\u001b[0;34m,\u001b[0m\u001b[0;34m\u001b[0m\n",
      "\u001b[0;34m\u001b[0m    \u001b[0mpack_type\u001b[0m\u001b[0;34m:\u001b[0m \u001b[0mint\u001b[0m\u001b[0;34m,\u001b[0m\u001b[0;34m\u001b[0m\n",
      "\u001b[0;34m\u001b[0m    \u001b[0mpack_file\u001b[0m\u001b[0;34m:\u001b[0m \u001b[0mstr\u001b[0m\u001b[0;34m,\u001b[0m\u001b[0;34m\u001b[0m\n",
      "\u001b[0;34m\u001b[0m    \u001b[0mminimum_r1_read_length\u001b[0m\u001b[0;34m:\u001b[0m \u001b[0mint\u001b[0m \u001b[0;34m=\u001b[0m \u001b[0;36m1\u001b[0m\u001b[0;34m,\u001b[0m\u001b[0;34m\u001b[0m\n",
      "\u001b[0;34m\u001b[0m    \u001b[0mminimum_r1_read_quality\u001b[0m\u001b[0;34m:\u001b[0m \u001b[0mint\u001b[0m \u001b[0;34m=\u001b[0m \u001b[0;36m20\u001b[0m\u001b[0;34m,\u001b[0m\u001b[0;34m\u001b[0m\n",
      "\u001b[0;34m\u001b[0m    \u001b[0mr2_fastq_file\u001b[0m\u001b[0;34m:\u001b[0m \u001b[0mstr\u001b[0m \u001b[0;34m|\u001b[0m \u001b[0;32mNone\u001b[0m \u001b[0;34m=\u001b[0m \u001b[0;32mNone\u001b[0m\u001b[0;34m,\u001b[0m\u001b[0;34m\u001b[0m\n",
      "\u001b[0;34m\u001b[0m    \u001b[0mr2_read_type\u001b[0m\u001b[0;34m:\u001b[0m \u001b[0mint\u001b[0m \u001b[0;34m|\u001b[0m \u001b[0;32mNone\u001b[0m \u001b[0;34m=\u001b[0m \u001b[0;32mNone\u001b[0m\u001b[0;34m,\u001b[0m\u001b[0;34m\u001b[0m\n",
      "\u001b[0;34m\u001b[0m    \u001b[0mminimum_r2_read_length\u001b[0m\u001b[0;34m:\u001b[0m \u001b[0mint\u001b[0m \u001b[0;34m|\u001b[0m \u001b[0;32mNone\u001b[0m \u001b[0;34m=\u001b[0m \u001b[0;32mNone\u001b[0m\u001b[0;34m,\u001b[0m\u001b[0;34m\u001b[0m\n",
      "\u001b[0;34m\u001b[0m    \u001b[0mminimum_r2_read_quality\u001b[0m\u001b[0;34m:\u001b[0m \u001b[0mint\u001b[0m \u001b[0;34m|\u001b[0m \u001b[0;32mNone\u001b[0m \u001b[0;34m=\u001b[0m \u001b[0;32mNone\u001b[0m\u001b[0;34m,\u001b[0m\u001b[0;34m\u001b[0m\n",
      "\u001b[0;34m\u001b[0m    \u001b[0mpack_size\u001b[0m\u001b[0;34m:\u001b[0m \u001b[0mfloat\u001b[0m \u001b[0;34m=\u001b[0m \u001b[0;36m3.0\u001b[0m\u001b[0;34m,\u001b[0m\u001b[0;34m\u001b[0m\n",
      "\u001b[0;34m\u001b[0m    \u001b[0mcore_count\u001b[0m\u001b[0;34m:\u001b[0m \u001b[0mint\u001b[0m \u001b[0;34m=\u001b[0m \u001b[0;36m0\u001b[0m\u001b[0;34m,\u001b[0m\u001b[0;34m\u001b[0m\n",
      "\u001b[0;34m\u001b[0m    \u001b[0mmemory_limit\u001b[0m\u001b[0;34m:\u001b[0m \u001b[0mfloat\u001b[0m \u001b[0;34m=\u001b[0m \u001b[0;36m0.0\u001b[0m\u001b[0;34m,\u001b[0m\u001b[0;34m\u001b[0m\n",
      "\u001b[0;34m\u001b[0m    \u001b[0mverbose\u001b[0m\u001b[0;34m:\u001b[0m \u001b[0mbool\u001b[0m \u001b[0;34m=\u001b[0m \u001b[0;32mTrue\u001b[0m\u001b[0;34m,\u001b[0m\u001b[0;34m\u001b[0m\n",
      "\u001b[0;34m\u001b[0m\u001b[0;34m)\u001b[0m \u001b[0;34m->\u001b[0m \u001b[0mdict\u001b[0m\u001b[0;34m\u001b[0m\u001b[0;34m\u001b[0m\u001b[0m\n",
      "\u001b[0;31mDocstring:\u001b[0m\n",
      "Pack NGS reads with indexed barcodes and optional associated variants. Processes, filters, and\n",
      "optionally merges reads before packing. The resulting pack file represents a single characterization\n",
      "experiment, outcome, or replicate for subsequent index-based counting.\n",
      "\n",
      "Required Parameters:\n",
      "    - `r1_fastq_file` (`str`): Path to R1 FastQ file (may be gzipped).\n",
      "    - `r1_read_type` (`int`): Orientation of R1 reads (0 for forward, 1 for reverse).\n",
      "    - `pack_type` (`int`): Packing storage type (0 for concatenated, 1 for merged)\n",
      "    - `pack_file` (`str`): Filename for output pack file.\n",
      "\n",
      "Optional Parameters:\n",
      "    - `minimum_r1_read_length` (`int`): Minimum R1 read length (≥ 1).\n",
      "    - `minimum_r1_read_quality` (`int`): Minimum average R1 quality (default: 20).\n",
      "    - `r2_fastq_file` (`str`): Path to R2 FastQ file (default: `None`).\n",
      "    - `r2_read_type` (`int`): Orientation of R2 reads (0 for forward, 1 for reverse) (default: `None`).\n",
      "    - `minimum_r2_read_length` (`int`): Minimum R2 read length (default: `None`).\n",
      "    - `minimum_r2_read_quality` (`int`): Minimum average R2 quality (default: `None`).\n",
      "    - `pack_size` (`float`): Million unique reads per pack (default: 3.0, range: 0.1 to 5.0).\n",
      "    - `core_count` (`int`): CPU cores to use (0: auto-infer, default: 0).\n",
      "    - `memory_limit` (`float`): GB of memory per core (0: auto-infer, default: 0)\n",
      "    - `verbose` (`bool`): If `True`, logs updates to stdout (default: `True`).\n",
      "\n",
      "Returns:\n",
      "    - A dictionary of stats from the last step in pipeline.\n",
      "\n",
      "Notes:\n",
      "    - For single-end reads, use R1 arguments only; set R2 arguments to None.\n",
      "    - Read quality is average Phred score.\n",
      "    - Both reads must pass criteria for paired-end acceptance.\n",
      "    - Concatenated storage (`pack_type` = 0) is IO bound; use 2 cores.\n",
      "    - Pack size balances memory usage and computation speed.\n",
      "\u001b[0;31mFile:\u001b[0m      ~/dev/oligopool/oligopool/pack.py\n",
      "\u001b[0;31mType:\u001b[0m      function"
     ]
    }
   ],
   "source": [
    "? op.pack"
   ]
  },
  {
   "cell_type": "code",
   "execution_count": 66,
   "metadata": {},
   "outputs": [],
   "source": [
    "# Remove previous pack, if it exists\n",
    "! rm -f NGS.oligopool.pack"
   ]
  },
  {
   "cell_type": "code",
   "execution_count": 67,
   "metadata": {},
   "outputs": [
    {
     "name": "stdout",
     "output_type": "stream",
     "text": [
      "\n",
      "[Oligopool Calculator: Analysis Mode - Pack]\n",
      "                                              \n",
      " Required Arguments\n",
      "   R1 File   : analysis-pipeline/ribozyme_1M_R1.fq.gz\n",
      "   R1 Type   : R1 has Forward Reads 5' ---F--> 3'     \n",
      " Pack Type   : Store Assembled / Merged Reads     \n",
      " Pack File   : NGS.oligopool.pack             \n",
      "                                  \n",
      " Optional Arguments\n",
      "   R1 Length : Use Reads of Length 10 bp or Longer\n",
      "   R1 Quality: Use Reads w/ Mean Q-Score of 30 or Higher\n",
      "   R2 File   : analysis-pipeline/ribozyme_1M_R2.fq.gz    \n",
      "   R2 Type   : R2 has Reverse Reads 3' <--R--- 5'     \n",
      "   R2 Length : Use Reads of Length 10 bp or Longer\n",
      "   R2 Quality: Use Reads w/ Mean Q-Score of 30 or Higher\n",
      " Pack Size   : Store up to 0.1 Million Reads per Pack    \n",
      "  Num Cores  : Use 4 out of 32 Cores                  \n",
      "  Mem Limit  : Use 16.00 GB RAM per Core (Auto-Inferred)\n",
      "                                                         \n",
      "[Step 1: Extracting Assembly Parameters]\n",
      " Reads Analyzed: 50,000                   \n",
      " Innie Events  :  53.05 %\n",
      " Outie Events  :  46.95 % \n",
      " Priority: Innie Merging  \n",
      " Time Elapsed: 1.17 sec  \n",
      "                        \n",
      "[Step 2: Computing Read Packs]\n",
      " Core 0: Starting Up            \n",
      " Core 1: Starting Up \n",
      " Core 2: Starting Up \n",
      " Core 3: Starting Up \n",
      " Core 0: Built Pack 0.0.0 w/  11,096 Reads in 3.68 sec\n",
      " Core 3: Built Pack 3.0.0 w/  11,082 Reads in 3.68 sec\n",
      " Core 2: Built Pack 2.0.0 w/  11,019 Reads in 3.75 sec\n",
      " Core 1: Built Pack 1.0.0 w/  11,086 Reads in 3.85 sec \n",
      " Core 3: Built Pack 3.1.0 w/     479 Reads in 3.64 sec \n",
      " Core 0: Built Pack 0.1.0 w/     479 Reads in 3.78 sec \n",
      " Core 2: Built Pack 2.1.0 w/     551 Reads in 3.74 sec\n",
      " Core 1: Built Pack 1.1.0 w/     509 Reads in 3.73 sec\n",
      " Core 3: Shutting Down                                 \n",
      " Core 3: Built Pack 3.2.0 w/     313 Reads in 01.88 sec\n",
      " Core 0: Shutting Down                    \n",
      " Core 0: Built Pack 0.2.0 w/     323 Reads in 01.89 sec\n",
      " Core 2: Shutting Down                    \n",
      " Core 2: Built Pack 2.2.0 w/     348 Reads in 01.92 sec\n",
      " Core 1: Shutting Down                    \n",
      " Core 1: Built Pack 1.2.0 w/     328 Reads in 01.84 sec\n",
      " Time Elapsed: 9.91 sec\n",
      "                        \n",
      "[Step 3: Aggregating Meta Packs]\n",
      " Meta Aggregated: 4 Read Pack(s)   \n",
      " Time Elapsed: 0.08 sec           \n",
      "                        \n",
      "[Packing Statistics]\n",
      "   Packing Status: Successful\n",
      "     R1 Truncated: No         \n",
      "     R2 Truncated: No \n",
      "   Scanned Reads : 1,000,001\n",
      " Ambiguous Reads :         0 (  0.00 %)\n",
      "     Short Reads :         0 (  0.00 %) \n",
      "  Survived Reads : 1,000,001 (100.00 %) \n",
      "    Packed Reads :    15,891            \n",
      "   Packing Ratio : 62.93 to 1\n",
      "   Packing Order : 98.41 %    \n",
      "     Packs Built : 12 Read Packs\n",
      "  Time Elapsed: 11.28 sec        \n",
      "\n"
     ]
    }
   ],
   "source": [
    "stats = op.pack(\n",
    "    r1_fastq_file='analysis-pipeline/ribozyme_1M_R1.fq.gz',\n",
    "    r2_fastq_file='analysis-pipeline/ribozyme_1M_R2.fq.gz',\n",
    "    r1_read_type=0, # R1 is in Forward Orientation\n",
    "    r2_read_type=1, # R2 is in Reverse Orientation\n",
    "    minimum_r1_read_quality=30, # Filter out any reads with Phred Score less than 30\n",
    "    minimum_r2_read_quality=30,\n",
    "    minimum_r1_read_length=10,  # Filter out any reads shorter than 10 bases\n",
    "    minimum_r2_read_length=10,\n",
    "    pack_type=1,   # R1 and R2 needs to be merged\n",
    "    pack_size=0.1, # Store 100K reads per read pack\n",
    "    pack_file='NGS',\n",
    "    core_count=4,  # Use only 4 CPU cores\n",
    ")"
   ]
  },
  {
   "cell_type": "markdown",
   "metadata": {},
   "source": [
    "All our reads are packed and we are ready to count the barcodes. We can see that all reads \"survived\" our filters and were merged successfully. Despite sequencing a million reads, we only have about 20 thousand reads to analyze in the end."
   ]
  },
  {
   "cell_type": "markdown",
   "metadata": {},
   "source": [
    "#### Overview of counting methods"
   ]
  },
  {
   "cell_type": "markdown",
   "metadata": {},
   "source": [
    "The final step of the analysis pipeline utilizes packed reads and indexed barcode/variant information to generate a read count matrix, which is essential for tabulating variant activity levels. `Oligopool Calculator` `Analysis Mode` offers two efficient counting functions tailored to experimental needs: association counting and combinatorial counting. Users can define parameters for error tolerance and mapping strategy, and they have the option to specify custom callback functions that execute concurrently with the mapping and counting process."
   ]
  },
  {
   "cell_type": "markdown",
   "metadata": {},
   "source": [
    "![Counting Reads](https://raw.githubusercontent.com/ayaanhossain/repfmt/refs/heads/main/oligopool/img/count.svg)"
   ]
  },
  {
   "cell_type": "markdown",
   "metadata": {},
   "source": [
    "#### Association counting of variants and barcodes"
   ]
  },
  {
   "cell_type": "markdown",
   "metadata": {},
   "source": [
    "In association counting, the goal is to verify the presence of designed variants uniquely assigned to specific barcodes. This function is useful for confirming oligopool synthesis as an initial check before cloning, or for quantifying input library distribution, or validating the association between barcodes and variants after modifications, such as replacing a spacer with a reporter protein and verifying the association across the terminal ends. The process involves mapping the core barcode after realigning the read with respect to associate prefix or suffix constants, and verifying the presence of the extracted variant subsequence against the full reference variant sequence. Reads are discarded if associate constants are missing or if the core variant has too many errors and thus cannot be verified."
   ]
  },
  {
   "cell_type": "code",
   "execution_count": 68,
   "metadata": {},
   "outputs": [
    {
     "name": "stdout",
     "output_type": "stream",
     "text": [
      "\u001b[0;31mSignature:\u001b[0m\n",
      " \u001b[0mop\u001b[0m\u001b[0;34m.\u001b[0m\u001b[0macount\u001b[0m\u001b[0;34m(\u001b[0m\u001b[0;34m\u001b[0m\n",
      "\u001b[0;34m\u001b[0m    \u001b[0mindex_file\u001b[0m\u001b[0;34m:\u001b[0m \u001b[0mstr\u001b[0m\u001b[0;34m,\u001b[0m\u001b[0;34m\u001b[0m\n",
      "\u001b[0;34m\u001b[0m    \u001b[0mpack_file\u001b[0m\u001b[0;34m:\u001b[0m \u001b[0mstr\u001b[0m\u001b[0;34m,\u001b[0m\u001b[0;34m\u001b[0m\n",
      "\u001b[0;34m\u001b[0m    \u001b[0mcount_file\u001b[0m\u001b[0;34m:\u001b[0m \u001b[0mstr\u001b[0m\u001b[0;34m,\u001b[0m\u001b[0;34m\u001b[0m\n",
      "\u001b[0;34m\u001b[0m    \u001b[0mmapping_type\u001b[0m\u001b[0;34m:\u001b[0m \u001b[0mint\u001b[0m \u001b[0;34m=\u001b[0m \u001b[0;36m0\u001b[0m\u001b[0;34m,\u001b[0m\u001b[0;34m\u001b[0m\n",
      "\u001b[0;34m\u001b[0m    \u001b[0mbarcode_errors\u001b[0m\u001b[0;34m:\u001b[0m \u001b[0mint\u001b[0m \u001b[0;34m=\u001b[0m \u001b[0;34m-\u001b[0m\u001b[0;36m1\u001b[0m\u001b[0;34m,\u001b[0m\u001b[0;34m\u001b[0m\n",
      "\u001b[0;34m\u001b[0m    \u001b[0massociate_errors\u001b[0m\u001b[0;34m:\u001b[0m \u001b[0mint\u001b[0m \u001b[0;34m=\u001b[0m \u001b[0;34m-\u001b[0m\u001b[0;36m1\u001b[0m\u001b[0;34m,\u001b[0m\u001b[0;34m\u001b[0m\n",
      "\u001b[0;34m\u001b[0m    \u001b[0mcallback\u001b[0m\u001b[0;34m:\u001b[0m \u001b[0mOptional\u001b[0m\u001b[0;34m[\u001b[0m\u001b[0mCallable\u001b[0m\u001b[0;34m[\u001b[0m\u001b[0;34m[\u001b[0m\u001b[0mstr\u001b[0m\u001b[0;34m,\u001b[0m \u001b[0mTuple\u001b[0m\u001b[0;34m,\u001b[0m \u001b[0mint\u001b[0m\u001b[0;34m,\u001b[0m \u001b[0mint\u001b[0m\u001b[0;34m]\u001b[0m\u001b[0;34m,\u001b[0m \u001b[0mbool\u001b[0m\u001b[0;34m]\u001b[0m\u001b[0;34m]\u001b[0m \u001b[0;34m=\u001b[0m \u001b[0;32mNone\u001b[0m\u001b[0;34m,\u001b[0m\u001b[0;34m\u001b[0m\n",
      "\u001b[0;34m\u001b[0m    \u001b[0mcore_count\u001b[0m\u001b[0;34m:\u001b[0m \u001b[0mint\u001b[0m \u001b[0;34m=\u001b[0m \u001b[0;36m0\u001b[0m\u001b[0;34m,\u001b[0m\u001b[0;34m\u001b[0m\n",
      "\u001b[0;34m\u001b[0m    \u001b[0mmemory_limit\u001b[0m\u001b[0;34m:\u001b[0m \u001b[0mfloat\u001b[0m \u001b[0;34m=\u001b[0m \u001b[0;36m0.0\u001b[0m\u001b[0;34m,\u001b[0m\u001b[0;34m\u001b[0m\n",
      "\u001b[0;34m\u001b[0m    \u001b[0mverbose\u001b[0m\u001b[0;34m:\u001b[0m \u001b[0mbool\u001b[0m \u001b[0;34m=\u001b[0m \u001b[0;32mTrue\u001b[0m\u001b[0;34m,\u001b[0m\u001b[0;34m\u001b[0m\n",
      "\u001b[0;34m\u001b[0m\u001b[0;34m)\u001b[0m \u001b[0;34m->\u001b[0m \u001b[0mTuple\u001b[0m\u001b[0;34m[\u001b[0m\u001b[0mpandas\u001b[0m\u001b[0;34m.\u001b[0m\u001b[0mcore\u001b[0m\u001b[0;34m.\u001b[0m\u001b[0mframe\u001b[0m\u001b[0;34m.\u001b[0m\u001b[0mDataFrame\u001b[0m\u001b[0;34m,\u001b[0m \u001b[0mdict\u001b[0m\u001b[0;34m]\u001b[0m\u001b[0;34m\u001b[0m\u001b[0;34m\u001b[0m\u001b[0m\n",
      "\u001b[0;31mDocstring:\u001b[0m\n",
      "Count barcoded reads with indexed associates within specified error tolerance. Reads can optionally\n",
      "be co-processed using a callback function (see Notes). Count matrices are written out to disk,\n",
      "and also returned back as a DataFrame.\n",
      "\n",
      "Required Parameters:\n",
      "    - `index_file` (`str`): Index object filename.\n",
      "    - `pack_file` (`str`): Pack file path.\n",
      "    - `count_file` (`str`): Output count matrix filename.\n",
      "\n",
      "Optional Parameters:\n",
      "    - `mapping_type` (`int`): Barcode classification (0 for fast, 1 for sensitive) (default: 0).\n",
      "    - `barcode_errors` (`int`): Maximum errors in barcodes (-1: auto-infer, default: -1).\n",
      "    - `associate_errors` (`int`): Maximum errors in associated variants (-1: auto-infer, default: -1).\n",
      "    - `callback` (`callable`): Custom read processing function (default: `None`).\n",
      "    - `core_count` (`int`): CPU cores to use (0: auto-infer, default: 0).\n",
      "    - `memory_limit` (`float`): GB of memory per core (0: auto-infer, default: 0)\n",
      "    - `verbose` (`bool`): If `True`, logs updates to stdout (default: `True`).\n",
      "\n",
      "Returns:\n",
      "    - A pandas DataFrame of barcode and variant association counts.\n",
      "    - A dictionary of stats from the last step in pipeline.\n",
      "\n",
      "Notes:\n",
      "    - Reads with unresolved associates are excluded from counts.\n",
      "    - Callback function signature: `callback_func_name(read, ID, count, coreid) -> bool`\n",
      "      where `read` is the processed string, `ID` is identified barcode ID tuple,\n",
      "      `count` is read/ID frequency, and `coreid` is the CPU core ID.\n",
      "    - Callbacks must return booleans: True implies accepting the read.\n",
      "    - Association counting operates on a single index and pack file pair.\n",
      "    - Here partial presence of associate variant suffices; however, their\n",
      "      `{prefix|suffix}` constants must be adjancent and present completely.\n",
      "\u001b[0;31mFile:\u001b[0m      ~/dev/oligopool/oligopool/acount.py\n",
      "\u001b[0;31mType:\u001b[0m      function"
     ]
    }
   ],
   "source": [
    "? op.acount"
   ]
  },
  {
   "cell_type": "code",
   "execution_count": 69,
   "metadata": {},
   "outputs": [],
   "source": [
    "# Remove previous AC output, if it exists\n",
    "! rm -f AC.oligopool.acount.csv"
   ]
  },
  {
   "cell_type": "markdown",
   "metadata": {},
   "source": [
    "Let's measure the association of our ribozyme pool based on BC2 index (BC1 index is not usable here)."
   ]
  },
  {
   "cell_type": "code",
   "execution_count": 70,
   "metadata": {},
   "outputs": [
    {
     "name": "stdout",
     "output_type": "stream",
     "text": [
      "\n",
      "[Oligopool Calculator: Analysis Mode - Associate Count]\n",
      "                                                         \n",
      " Required Arguments\n",
      "     Index File  : BC2.oligopool.index w/ 6,232 Variant(s)\n",
      "      Pack File  : NGS.oligopool.pack w/ 12 Read Packs     \n",
      "     Count File  : AC.oligopool.acount.csv             \n",
      "                                           \n",
      " Optional Arguments\n",
      "   Mapping Type  : Slow / Sensitive Classification\n",
      "   Barcode Errors: At most 1 Mutations per Barcode (Auto-Inferred)\n",
      " Associate Errors: At most 4 Mutations per Associate (Auto-Inferred)\n",
      "  Callback Method: None Specified                                    \n",
      "       Num Cores : Use 12 out of 32 Cores (Auto-Inferred)\n",
      "       Mem Limit : Use 5.33 GB RAM per Core (Auto-Inferred)\n",
      "                                                            \n",
      "[Step 2: Enqueing Read Packs]\n",
      "                               \n",
      "[Step 3: Counting Read Packs]\n",
      " Pack Queue  : 12 Read Pack(s) Loaded\n",
      " Core  0: Starting Up                 \n",
      " Time Elapsed: 0.00 sec\n",
      " Core  1: Starting Up \n",
      " Core  2: Starting Up \n",
      " Core  3: Starting Up \n",
      " Core  4: Starting Up \n",
      " Core  5: Starting Up \n",
      " Core  6: Starting Up \n",
      " Core  7: Starting Up    163 Reads in 0.04 sec\n",
      " Core  8: Starting Up    246 Reads in 0.04 sec\n",
      " Core  9: Starting Up                         \n",
      " Core 10: Starting Up    257 Reads in 0.05 sec\n",
      " Core 11: Starting Up                         \n",
      " Core  0: Counted Pack 3.1.0 w/       479 Reads in 00.04 sec\n",
      " Core  1: Counted Pack 0.1.0 w/       479 Reads in 00.06 sec\n",
      " Core  2: Counted Pack 2.1.0 w/       551 Reads in 00.05 sec\n",
      " Core  3: Counted Pack 1.1.0 w/       509 Reads in 00.06 sec\n",
      " Core  4: Counted Pack 3.2.0 w/       313 Reads in 00.05 sec\n",
      " Core  5: Counted Pack 0.2.0 w/       323 Reads in 00.05 sec\n",
      " Core  7: Counted Pack 1.2.0 w/       328 Reads in 00.04 sec\n",
      " Core  6: Counted Pack 2.2.0 w/       348 Reads in 00.05 sec\n",
      " Core  8: Counted Pack 0.0.0 w/       500 Reads in 00.03 sec\n",
      " Core  9: Counted Pack 1.0.0 w/       498 Reads in 00.02 sec\n",
      " Core 10: Counted Pack 2.0.0 w/       481 Reads in 00.02 sec\n",
      " Core 11: Counted Pack 3.0.0 w/    11,082 Reads in 00.08 sec\n",
      " Core  0: Shutting Down                                      \n",
      " Core  2: Shutting Down                                      \n",
      " Core  1: Shutting Down\n",
      " Core  3: Shutting Down                                      \n",
      " Core  4: Shutting Down\n",
      " Core  5: Shutting Down\n",
      " Core  6: Shutting Down                                      \n",
      " Core  7: Shutting Down                                      \n",
      " Core  9: Shutting Down                                      \n",
      " Core  8: Shutting Down                                      \n",
      " Core 10: Shutting Down                                      \n",
      " Core 11: Shutting Down                                      \n",
      " Time Elapsed: 1.29 sect       \n",
      "                        \n",
      "[Step 4: Writing Count Matrix]\n",
      " Rows Written: 6,210 Unique ID / Combination(s)\n",
      "\n",
      " Time Elapsed: 0.07 sec  \n",
      "                        \n",
      "[Associate Counting Stats]\n",
      "       Counting Status: Successful\n",
      "       Analyzed Reads : 1,000,001  \n",
      "           PhiX Reads :         0 (  0.00 %)\n",
      " Low-Complexity Reads :         0 (  0.00 %) \n",
      " Mis-Associated Reads :         0 (  0.00 %) \n",
      " Callback-False Reads :         0 (  0.00 %) \n",
      "   Incalculable Reads :         0 (  0.00 %) \n",
      "     Experiment Reads : 1,000,001 (100.00 %) \n",
      " Time Elapsed: 1.39 sec                      \n",
      "\n"
     ]
    }
   ],
   "source": [
    "ac_df, _ = op.acount(\n",
    "    index_file='BC2.oligopool.index', # Map BC2\n",
    "    pack_file='NGS.oligopool.pack',   # in our reads\n",
    "    count_file='AC',\n",
    "    mapping_type=1,      # Use sensitive/slow classification\n",
    "    barcode_errors=-1,   # Use model-based auto-inferred error tolerance\n",
    "    associate_errors=-1,\n",
    "    callback=None,\n",
    "    core_count=0,\n",
    "    memory_limit=0.0,\n",
    "    verbose=True)"
   ]
  },
  {
   "cell_type": "markdown",
   "metadata": {},
   "source": [
    "None of the reads were mis-associated, as in everytime we detected a barcode, its associated variant was also found to be present in the read within error tolerance. This is of course artificial in our simulated example."
   ]
  },
  {
   "cell_type": "code",
   "execution_count": 71,
   "metadata": {},
   "outputs": [
    {
     "data": {
      "text/html": [
       "<div>\n",
       "<style scoped>\n",
       "    .dataframe tbody tr th:only-of-type {\n",
       "        vertical-align: middle;\n",
       "    }\n",
       "\n",
       "    .dataframe tbody tr th {\n",
       "        vertical-align: top;\n",
       "    }\n",
       "\n",
       "    .dataframe thead th {\n",
       "        text-align: right;\n",
       "    }\n",
       "</style>\n",
       "<table border=\"1\" class=\"dataframe\">\n",
       "  <thead>\n",
       "    <tr style=\"text-align: right;\">\n",
       "      <th></th>\n",
       "      <th>BC2.ID</th>\n",
       "      <th>Counts</th>\n",
       "    </tr>\n",
       "  </thead>\n",
       "  <tbody>\n",
       "    <tr>\n",
       "      <th>0</th>\n",
       "      <td>ribozyme_0002</td>\n",
       "      <td>1</td>\n",
       "    </tr>\n",
       "    <tr>\n",
       "      <th>1</th>\n",
       "      <td>ribozyme_0101</td>\n",
       "      <td>11</td>\n",
       "    </tr>\n",
       "    <tr>\n",
       "      <th>2</th>\n",
       "      <td>ribozyme_1001</td>\n",
       "      <td>58</td>\n",
       "    </tr>\n",
       "    <tr>\n",
       "      <th>3</th>\n",
       "      <td>ribozyme_1002</td>\n",
       "      <td>62</td>\n",
       "    </tr>\n",
       "    <tr>\n",
       "      <th>4</th>\n",
       "      <td>ribozyme_1003</td>\n",
       "      <td>50</td>\n",
       "    </tr>\n",
       "  </tbody>\n",
       "</table>\n",
       "</div>"
      ],
      "text/plain": [
       "          BC2.ID  Counts\n",
       "0  ribozyme_0002       1\n",
       "1  ribozyme_0101      11\n",
       "2  ribozyme_1001      58\n",
       "3  ribozyme_1002      62\n",
       "4  ribozyme_1003      50"
      ]
     },
     "execution_count": 71,
     "metadata": {},
     "output_type": "execute_result"
    }
   ],
   "source": [
    "ac_df.head(5)"
   ]
  },
  {
   "cell_type": "markdown",
   "metadata": {},
   "source": [
    "We have our counts! Let's extract the ranks of the designs and make some plots."
   ]
  },
  {
   "cell_type": "code",
   "execution_count": 72,
   "metadata": {},
   "outputs": [],
   "source": [
    "ac_df['variant_rank'] = ac_df['BC2.ID'].transform(lambda x: int(x.split('_')[-1]))\n",
    "ac_df['variant_rank_bin'] = ac_df.variant_rank.transform(lambda x: x//1000)\n",
    "ac_df['variant_norm_read_count'] = (ac_df.Counts - ac_df.Counts.mean()) / ac_df.Counts.std()"
   ]
  },
  {
   "cell_type": "code",
   "execution_count": 73,
   "metadata": {},
   "outputs": [
    {
     "data": {
      "image/png": "[encoded data removed]",
      "text/plain": [
       "<Figure size 1400x600 with 2 Axes>"
      ]
     },
     "metadata": {},
     "output_type": "display_data"
    }
   ],
   "source": [
    "fig,ax = plt.subplots(1, 2, figsize=(14,6))\n",
    "sns.scatterplot(\n",
    "    data=ac_df,\n",
    "    x='variant_rank', y='Counts',\n",
    "    hue='variant_rank_bin',\n",
    "    palette='Paired',\n",
    "    s=5, ec=None,\n",
    "    ax=ax[0]).set(\n",
    "        ylabel='read_count')\n",
    "sns.boxplot(\n",
    "    data=ac_df,\n",
    "    x='variant_norm_read_count',\n",
    "    hue='variant_rank_bin',\n",
    "    palette='Paired',\n",
    "    ax=ax[1])\n",
    "plt.show()"
   ]
  },
  {
   "cell_type": "markdown",
   "metadata": {},
   "source": [
    "As simulated, the higher the rank of the variant, the more frequently it appeared. In real experimental data, if the pool being sequenced has not undergone selection (say input library) then we expect this distribution to be uniform across all variants."
   ]
  },
  {
   "cell_type": "markdown",
   "metadata": {},
   "source": [
    "#### Combinatorial barcode counting with callback"
   ]
  },
  {
   "cell_type": "markdown",
   "metadata": {},
   "source": [
    "Combinatorial counting is employed when a single or multiple barcode combinations are expected within sequenced reads. `xcount` uses multiple indexes to map the barcodes independently, allowing for flexibility in experimental design. Reads are only discarded if none of the expected barcodes are present, meaning that one or more missing barcodes are tolerated. This approach can accommodate isolated barcodes with their own flanking constants or unique combinations of sub-sequences within a larger assembly through combinatorial methods."
   ]
  },
  {
   "cell_type": "code",
   "execution_count": 74,
   "metadata": {},
   "outputs": [
    {
     "name": "stdout",
     "output_type": "stream",
     "text": [
      "\u001b[0;31mSignature:\u001b[0m\n",
      " \u001b[0mop\u001b[0m\u001b[0;34m.\u001b[0m\u001b[0mxcount\u001b[0m\u001b[0;34m(\u001b[0m\u001b[0;34m\u001b[0m\n",
      "\u001b[0;34m\u001b[0m    \u001b[0mindex_files\u001b[0m\u001b[0;34m:\u001b[0m \u001b[0mstr\u001b[0m\u001b[0;34m,\u001b[0m\u001b[0;34m\u001b[0m\n",
      "\u001b[0;34m\u001b[0m    \u001b[0mpack_file\u001b[0m\u001b[0;34m:\u001b[0m \u001b[0mstr\u001b[0m\u001b[0;34m,\u001b[0m\u001b[0;34m\u001b[0m\n",
      "\u001b[0;34m\u001b[0m    \u001b[0mcount_file\u001b[0m\u001b[0;34m:\u001b[0m \u001b[0mstr\u001b[0m\u001b[0;34m,\u001b[0m\u001b[0;34m\u001b[0m\n",
      "\u001b[0;34m\u001b[0m    \u001b[0mmapping_type\u001b[0m\u001b[0;34m:\u001b[0m \u001b[0mint\u001b[0m \u001b[0;34m=\u001b[0m \u001b[0;36m0\u001b[0m\u001b[0;34m,\u001b[0m\u001b[0;34m\u001b[0m\n",
      "\u001b[0;34m\u001b[0m    \u001b[0mbarcode_errors\u001b[0m\u001b[0;34m:\u001b[0m \u001b[0mint\u001b[0m \u001b[0;34m=\u001b[0m \u001b[0;34m-\u001b[0m\u001b[0;36m1\u001b[0m\u001b[0;34m,\u001b[0m\u001b[0;34m\u001b[0m\n",
      "\u001b[0;34m\u001b[0m    \u001b[0mcallback\u001b[0m\u001b[0;34m:\u001b[0m \u001b[0mOptional\u001b[0m\u001b[0;34m[\u001b[0m\u001b[0mCallable\u001b[0m\u001b[0;34m[\u001b[0m\u001b[0;34m[\u001b[0m\u001b[0mstr\u001b[0m\u001b[0;34m,\u001b[0m \u001b[0mTuple\u001b[0m\u001b[0;34m,\u001b[0m \u001b[0mint\u001b[0m\u001b[0;34m,\u001b[0m \u001b[0mint\u001b[0m\u001b[0;34m]\u001b[0m\u001b[0;34m,\u001b[0m \u001b[0mbool\u001b[0m\u001b[0;34m]\u001b[0m\u001b[0;34m]\u001b[0m \u001b[0;34m=\u001b[0m \u001b[0;32mNone\u001b[0m\u001b[0;34m,\u001b[0m\u001b[0;34m\u001b[0m\n",
      "\u001b[0;34m\u001b[0m    \u001b[0mcore_count\u001b[0m\u001b[0;34m:\u001b[0m \u001b[0mint\u001b[0m \u001b[0;34m=\u001b[0m \u001b[0;36m0\u001b[0m\u001b[0;34m,\u001b[0m\u001b[0;34m\u001b[0m\n",
      "\u001b[0;34m\u001b[0m    \u001b[0mmemory_limit\u001b[0m\u001b[0;34m:\u001b[0m \u001b[0mfloat\u001b[0m \u001b[0;34m=\u001b[0m \u001b[0;36m0.0\u001b[0m\u001b[0;34m,\u001b[0m\u001b[0;34m\u001b[0m\n",
      "\u001b[0;34m\u001b[0m    \u001b[0mverbose\u001b[0m\u001b[0;34m:\u001b[0m \u001b[0mbool\u001b[0m \u001b[0;34m=\u001b[0m \u001b[0;32mTrue\u001b[0m\u001b[0;34m,\u001b[0m\u001b[0;34m\u001b[0m\n",
      "\u001b[0;34m\u001b[0m\u001b[0;34m)\u001b[0m \u001b[0;34m->\u001b[0m \u001b[0mTuple\u001b[0m\u001b[0;34m[\u001b[0m\u001b[0mpandas\u001b[0m\u001b[0;34m.\u001b[0m\u001b[0mcore\u001b[0m\u001b[0;34m.\u001b[0m\u001b[0mframe\u001b[0m\u001b[0;34m.\u001b[0m\u001b[0mDataFrame\u001b[0m\u001b[0;34m,\u001b[0m \u001b[0mdict\u001b[0m\u001b[0;34m]\u001b[0m\u001b[0;34m\u001b[0m\u001b[0;34m\u001b[0m\u001b[0m\n",
      "\u001b[0;31mDocstring:\u001b[0m\n",
      "Count one or more barcode set combination in reads within specified error tolerance. Combinatorial\n",
      "counting can be coupled with a callback function (see Notes). Count matrices are written out to disk,\n",
      "and returned back as a DataFrame.\n",
      "\n",
      "Required Parameters:\n",
      "    - `index_files` (`str` / `list`): A single (or a list of) index filname(s).\n",
      "    - `pack_file` (`str`): Pack file path.\n",
      "    - `count_file` (`str`): Output count matrix filename.\n",
      "\n",
      "Optional Parameters:\n",
      "    - `mapping_type` (`int`): Barcode classification (0 for fast, 1 for sensitive) (default: 0).\n",
      "    - `barcode_errors` (`int`): Maximum errors in barcodes (-1: auto-infer, default: -1).\n",
      "    - `callback` (`callable`): Custom read processing function (default: `None`).\n",
      "    - `core_count` (`int`): CPU cores to use (0: auto-infer, default: 0).\n",
      "    - `memory_limit` (`float`): GB of memory per core (0: auto-infer, default: 0)\n",
      "    - `verbose` (`bool`): If `True`, logs updates to stdout (default: `True`).\n",
      "\n",
      "Returns:\n",
      "    - A pandas DataFrame of barcode combination counts.\n",
      "    - A dictionary of stats from the last step in pipeline.\n",
      "\n",
      "Notes:\n",
      "    - Partial and missing combinations are included in counts.\n",
      "    - Callback function signature: `callback_func_name(read, ID, count, coreid) -> bool`\n",
      "      where `read` is the processed string, `ID` is identified barcode ID tuple,\n",
      "      `count` is read/ID frequency, and `coreid` is the CPU core ID.\n",
      "    - Callbacks must return booleans: True implies accepting the read.\n",
      "    - Associate information in indexes is ignored.\n",
      "    - Barcodes can be isolated or be sub-barcodes of a larger combinatorial assembly.\n",
      "\u001b[0;31mFile:\u001b[0m      ~/dev/oligopool/oligopool/xcount.py\n",
      "\u001b[0;31mType:\u001b[0m      function"
     ]
    }
   ],
   "source": [
    "? op.xcount"
   ]
  },
  {
   "cell_type": "markdown",
   "metadata": {},
   "source": [
    "Let's apply combinatorial counting using both BC1 and BC2 index here."
   ]
  },
  {
   "cell_type": "code",
   "execution_count": 75,
   "metadata": {},
   "outputs": [],
   "source": [
    "# Remove previous CC output, if it exists\n",
    "! rm -f CC.oligopool.xcount.csv"
   ]
  },
  {
   "cell_type": "code",
   "execution_count": 76,
   "metadata": {},
   "outputs": [
    {
     "name": "stdout",
     "output_type": "stream",
     "text": [
      "\n",
      "[Oligopool Calculator: Analysis Mode - Combinatorial Count]\n",
      "                                                             \n",
      " Required Arguments\n",
      "     Index File(s): 2 Index Input(s)\n",
      "                  : BC1.oligopool.index w/ 6,232 Variant(s)\n",
      "                  : BC2.oligopool.index w/ 6,232 Variant(s) \n",
      "      Pack File   : NGS.oligopool.pack w/ 12 Read Packs     \n",
      "     Count File   : CC.oligopool.xcount.csv             \n",
      "                                            \n",
      " Optional Arguments\n",
      "   Mapping Type   : Slow / Sensitive Classification\n",
      "   Barcode Errors : At most 1 Mutations per Barcode (Auto-Inferred)\n",
      "  Callback Method : None Specified                                  \n",
      "       Num Cores  : Use 12 out of 32 Cores (Auto-Inferred)\n",
      "       Mem Limit  : Use 5.33 GB RAM per Core (Auto-Inferred)\n",
      "                                                             \n",
      "[Step 2: Enqueing Read Packs]\n",
      " Pack Queue  : 12 Read Pack(s) Loaded\n",
      " Time Elapsed: 0.00 sec               \n",
      "                               \n",
      "[Step 3: Counting Read Packs]\n",
      " Core  0: Starting Up          \n",
      " Core  1: Starting Up \n",
      " Core  2: Starting Up \n",
      " Core  3: Starting Up \n",
      " Core  4: Starting Up \n",
      " Core  5: Starting Up \n",
      " Core  6: Starting Up \n",
      " Core  7: Starting Up                         \n",
      " Core  8: Starting Up    401 Reads in 0.05 sec\n",
      " Core  9: Starting Up                         \n",
      " Core 10: Starting Up                         \n",
      " Core 11: Starting Up    723 Reads in 0.06 sec\n",
      " Core  0: Counted Pack 3.1.0 w/       479 Reads in 00.03 sec\n",
      " Core  1: Counted Pack 0.1.0 w/       479 Reads in 00.06 sec\n",
      " Core  2: Counted Pack 2.1.0 w/       551 Reads in 00.05 sec\n",
      " Core  3: Counted Pack 1.1.0 w/       509 Reads in 00.05 sec\n",
      " Core  4: Counted Pack 3.2.0 w/       313 Reads in 00.04 sec\n",
      " Core  5: Counted Pack 0.2.0 w/       323 Reads in 00.04 sec\n",
      " Core  6: Counted Pack 2.2.0 w/       348 Reads in 00.04 sec\n",
      " Core  7: Counted Pack 1.2.0 w/       328 Reads in 00.04 sec\n",
      " Core  8: Counted Pack 0.0.0 w/       500 Reads in 00.02 sec\n",
      " Core  9: Counted Pack 1.0.0 w/       498 Reads in 00.02 sec\n",
      " Core 10: Counted Pack 2.0.0 w/       481 Reads in 00.02 sec\n",
      " Core 11: Counted Pack 3.0.0 w/    11,082 Reads in 00.11 sec\n",
      " Core  4: Shutting Down                                      \n",
      " Core  5: Shutting Down                                      \n",
      " Core  2: Shutting Down\n",
      " Core  8: Shutting Down                                      \n",
      " Core  0: Shutting Down                                      \n",
      " Core  7: Shutting Down                                      \n",
      " Core  3: Shutting Down                                      \n",
      " Core  1: Shutting Down                                      \n",
      " Core 10: Shutting Down                                      \n",
      " Core  9: Shutting Down                                      \n",
      " Core  6: Shutting Down                                      \n",
      " Core 11: Shutting Down                                      \n",
      " Time Elapsed: 1.31 sect       \n",
      "                        \n",
      "[Step 4: Writing Count Matrix]\n",
      " Rows Written: 12,117 Unique ID / Combination(s)\n",
      "\n",
      " Time Elapsed: 0.15 sec  \n",
      "                        \n",
      "[Combinatorial Counting Stats]\n",
      "       Counting Status: Successful\n",
      "       Analyzed Reads : 1,000,001  \n",
      "           PhiX Reads :         0 (  0.00 %)\n",
      " Low-Complexity Reads :         0 (  0.00 %) \n",
      " Callback-False Reads :         0 (  0.00 %) \n",
      "   Incalculable Reads :         0 (  0.00 %) \n",
      "     Experiment Reads : 1,000,001 (100.00 %) \n",
      " Time Elapsed: 1.47 sec                      \n",
      "\n"
     ]
    }
   ],
   "source": [
    "cc_df, _ = op.xcount(\n",
    "    index_files=['BC1', 'BC2'],     # Map combinations of BC1 and BC2\n",
    "    pack_file='NGS.oligopool.pack',\n",
    "    count_file='CC',\n",
    "    mapping_type=1,\n",
    "    barcode_errors=-1,\n",
    "    callback=None,\n",
    "    core_count=0,\n",
    "    memory_limit=0.0,\n",
    "    verbose=True)"
   ]
  },
  {
   "cell_type": "code",
   "execution_count": 77,
   "metadata": {},
   "outputs": [
    {
     "data": {
      "text/html": [
       "<div>\n",
       "<style scoped>\n",
       "    .dataframe tbody tr th:only-of-type {\n",
       "        vertical-align: middle;\n",
       "    }\n",
       "\n",
       "    .dataframe tbody tr th {\n",
       "        vertical-align: top;\n",
       "    }\n",
       "\n",
       "    .dataframe thead th {\n",
       "        text-align: right;\n",
       "    }\n",
       "</style>\n",
       "<table border=\"1\" class=\"dataframe\">\n",
       "  <thead>\n",
       "    <tr style=\"text-align: right;\">\n",
       "      <th></th>\n",
       "      <th>BC1.ID</th>\n",
       "      <th>BC2.ID</th>\n",
       "      <th>Counts</th>\n",
       "    </tr>\n",
       "  </thead>\n",
       "  <tbody>\n",
       "    <tr>\n",
       "      <th>0</th>\n",
       "      <td>-</td>\n",
       "      <td>ribozyme_1001</td>\n",
       "      <td>10</td>\n",
       "    </tr>\n",
       "    <tr>\n",
       "      <th>1</th>\n",
       "      <td>-</td>\n",
       "      <td>ribozyme_1002</td>\n",
       "      <td>8</td>\n",
       "    </tr>\n",
       "    <tr>\n",
       "      <th>2</th>\n",
       "      <td>-</td>\n",
       "      <td>ribozyme_1003</td>\n",
       "      <td>11</td>\n",
       "    </tr>\n",
       "    <tr>\n",
       "      <th>3</th>\n",
       "      <td>-</td>\n",
       "      <td>ribozyme_1004</td>\n",
       "      <td>8</td>\n",
       "    </tr>\n",
       "    <tr>\n",
       "      <th>4</th>\n",
       "      <td>-</td>\n",
       "      <td>ribozyme_1005</td>\n",
       "      <td>9</td>\n",
       "    </tr>\n",
       "    <tr>\n",
       "      <th>...</th>\n",
       "      <td>...</td>\n",
       "      <td>...</td>\n",
       "      <td>...</td>\n",
       "    </tr>\n",
       "    <tr>\n",
       "      <th>12112</th>\n",
       "      <td>ribozyme_0996</td>\n",
       "      <td>ribozyme_0996</td>\n",
       "      <td>40</td>\n",
       "    </tr>\n",
       "    <tr>\n",
       "      <th>12113</th>\n",
       "      <td>ribozyme_0997</td>\n",
       "      <td>ribozyme_0997</td>\n",
       "      <td>39</td>\n",
       "    </tr>\n",
       "    <tr>\n",
       "      <th>12114</th>\n",
       "      <td>ribozyme_0998</td>\n",
       "      <td>ribozyme_0998</td>\n",
       "      <td>32</td>\n",
       "    </tr>\n",
       "    <tr>\n",
       "      <th>12115</th>\n",
       "      <td>ribozyme_0999</td>\n",
       "      <td>ribozyme_0999</td>\n",
       "      <td>38</td>\n",
       "    </tr>\n",
       "    <tr>\n",
       "      <th>12116</th>\n",
       "      <td>ribozyme_1000</td>\n",
       "      <td>ribozyme_1000</td>\n",
       "      <td>60</td>\n",
       "    </tr>\n",
       "  </tbody>\n",
       "</table>\n",
       "<p>12117 rows × 3 columns</p>\n",
       "</div>"
      ],
      "text/plain": [
       "              BC1.ID         BC2.ID  Counts\n",
       "0                  -  ribozyme_1001      10\n",
       "1                  -  ribozyme_1002       8\n",
       "2                  -  ribozyme_1003      11\n",
       "3                  -  ribozyme_1004       8\n",
       "4                  -  ribozyme_1005       9\n",
       "...              ...            ...     ...\n",
       "12112  ribozyme_0996  ribozyme_0996      40\n",
       "12113  ribozyme_0997  ribozyme_0997      39\n",
       "12114  ribozyme_0998  ribozyme_0998      32\n",
       "12115  ribozyme_0999  ribozyme_0999      38\n",
       "12116  ribozyme_1000  ribozyme_1000      60\n",
       "\n",
       "[12117 rows x 3 columns]"
      ]
     },
     "execution_count": 77,
     "metadata": {},
     "output_type": "execute_result"
    }
   ],
   "source": [
    "cc_df"
   ]
  },
  {
   "cell_type": "markdown",
   "metadata": {},
   "source": [
    "As we can see, we have counts of either BC2 or both BC1 and BC2 barcodes from our reads, signifying cleaved and ucleaved products respectively. We can now use this count matrix to compute the activity of the ribozymes."
   ]
  },
  {
   "cell_type": "code",
   "execution_count": 78,
   "metadata": {},
   "outputs": [],
   "source": [
    "cc_df['ID'] = cc_df['BC2.ID']\n",
    "cc_df['count_basis'] = cc_df.apply(lambda x: 'cleaved_reads' if x['BC1.ID'] != x['BC2.ID'] else 'uncleaved_reads', axis=1)\n",
    "act_df = cc_df.pivot(index='ID', columns='count_basis', values='Counts').fillna(0.).reset_index()\n",
    "act_df['activity'] = act_df.apply(lambda x: 100. * x.cleaved_reads / (x.cleaved_reads + x.uncleaved_reads), axis=1)\n",
    "act_df = act_df.merge(ac_df, left_on='ID', right_on='BC2.ID').drop(columns=['BC2.ID']).rename(columns={'Counts': 'input_reads'})"
   ]
  },
  {
   "cell_type": "code",
   "execution_count": 79,
   "metadata": {},
   "outputs": [
    {
     "data": {
      "text/html": [
       "<div>\n",
       "<style scoped>\n",
       "    .dataframe tbody tr th:only-of-type {\n",
       "        vertical-align: middle;\n",
       "    }\n",
       "\n",
       "    .dataframe tbody tr th {\n",
       "        vertical-align: top;\n",
       "    }\n",
       "\n",
       "    .dataframe thead th {\n",
       "        text-align: right;\n",
       "    }\n",
       "</style>\n",
       "<table border=\"1\" class=\"dataframe\">\n",
       "  <thead>\n",
       "    <tr style=\"text-align: right;\">\n",
       "      <th></th>\n",
       "      <th>ID</th>\n",
       "      <th>cleaved_reads</th>\n",
       "      <th>uncleaved_reads</th>\n",
       "      <th>activity</th>\n",
       "      <th>input_reads</th>\n",
       "      <th>variant_rank</th>\n",
       "      <th>variant_rank_bin</th>\n",
       "      <th>variant_norm_read_count</th>\n",
       "    </tr>\n",
       "  </thead>\n",
       "  <tbody>\n",
       "    <tr>\n",
       "      <th>6205</th>\n",
       "      <td>ribozyme_6228</td>\n",
       "      <td>320.0</td>\n",
       "      <td>2.0</td>\n",
       "      <td>99.378882</td>\n",
       "      <td>322</td>\n",
       "      <td>6228</td>\n",
       "      <td>6</td>\n",
       "      <td>1.727181</td>\n",
       "    </tr>\n",
       "    <tr>\n",
       "      <th>6206</th>\n",
       "      <td>ribozyme_6229</td>\n",
       "      <td>331.0</td>\n",
       "      <td>0.0</td>\n",
       "      <td>100.000000</td>\n",
       "      <td>331</td>\n",
       "      <td>6229</td>\n",
       "      <td>6</td>\n",
       "      <td>1.823750</td>\n",
       "    </tr>\n",
       "    <tr>\n",
       "      <th>6207</th>\n",
       "      <td>ribozyme_6230</td>\n",
       "      <td>341.0</td>\n",
       "      <td>1.0</td>\n",
       "      <td>99.707602</td>\n",
       "      <td>342</td>\n",
       "      <td>6230</td>\n",
       "      <td>6</td>\n",
       "      <td>1.941779</td>\n",
       "    </tr>\n",
       "    <tr>\n",
       "      <th>6208</th>\n",
       "      <td>ribozyme_6231</td>\n",
       "      <td>331.0</td>\n",
       "      <td>1.0</td>\n",
       "      <td>99.698795</td>\n",
       "      <td>332</td>\n",
       "      <td>6231</td>\n",
       "      <td>6</td>\n",
       "      <td>1.834480</td>\n",
       "    </tr>\n",
       "    <tr>\n",
       "      <th>6209</th>\n",
       "      <td>ribozyme_6232</td>\n",
       "      <td>287.0</td>\n",
       "      <td>0.0</td>\n",
       "      <td>100.000000</td>\n",
       "      <td>287</td>\n",
       "      <td>6232</td>\n",
       "      <td>6</td>\n",
       "      <td>1.351635</td>\n",
       "    </tr>\n",
       "  </tbody>\n",
       "</table>\n",
       "</div>"
      ],
      "text/plain": [
       "                 ID  cleaved_reads  uncleaved_reads    activity  input_reads  \\\n",
       "6205  ribozyme_6228          320.0              2.0   99.378882          322   \n",
       "6206  ribozyme_6229          331.0              0.0  100.000000          331   \n",
       "6207  ribozyme_6230          341.0              1.0   99.707602          342   \n",
       "6208  ribozyme_6231          331.0              1.0   99.698795          332   \n",
       "6209  ribozyme_6232          287.0              0.0  100.000000          287   \n",
       "\n",
       "      variant_rank  variant_rank_bin  variant_norm_read_count  \n",
       "6205          6228                 6                 1.727181  \n",
       "6206          6229                 6                 1.823750  \n",
       "6207          6230                 6                 1.941779  \n",
       "6208          6231                 6                 1.834480  \n",
       "6209          6232                 6                 1.351635  "
      ]
     },
     "execution_count": 79,
     "metadata": {},
     "output_type": "execute_result"
    }
   ],
   "source": [
    "act_df.tail(5)"
   ]
  },
  {
   "cell_type": "code",
   "execution_count": 80,
   "metadata": {},
   "outputs": [
    {
     "data": {
      "image/png": "[encoded data removed]",
      "text/plain": [
       "<Figure size 1400x600 with 2 Axes>"
      ]
     },
     "metadata": {},
     "output_type": "display_data"
    }
   ],
   "source": [
    "fig,ax = plt.subplots(1, 2, figsize=(14,6))\n",
    "sns.scatterplot(\n",
    "    data=act_df,\n",
    "    x='input_reads', y='activity',\n",
    "    hue='variant_rank_bin',\n",
    "    palette='Paired',\n",
    "    s=5, ec=None,\n",
    "    ax=ax[0])\n",
    "sns.scatterplot(\n",
    "    data=act_df,\n",
    "    x='cleaved_reads', y='uncleaved_reads',\n",
    "    hue='activity',\n",
    "    palette='viridis',\n",
    "    s=5, ec=None,\n",
    "    ax=ax[1])\n",
    "plt.show()"
   ]
  },
  {
   "cell_type": "markdown",
   "metadata": {},
   "source": [
    "As simulated, the higher the rank of the variant the more input reads it had, which is proportional to the inferred activity. This is seen in the plot on the left. The right plot shows those high activity variants having a larger proportion of cleaved reads relative to their uncleaved read counts."
   ]
  },
  {
   "cell_type": "markdown",
   "metadata": {},
   "source": [
    "Finally, let us use a callback function to filter out any reads not matching our simulated criteria of the cleavage location being the 10th base of the variant."
   ]
  },
  {
   "cell_type": "code",
   "execution_count": 81,
   "metadata": {},
   "outputs": [
    {
     "data": {
      "text/html": [
       "<div>\n",
       "<style scoped>\n",
       "    .dataframe tbody tr th:only-of-type {\n",
       "        vertical-align: middle;\n",
       "    }\n",
       "\n",
       "    .dataframe tbody tr th {\n",
       "        vertical-align: top;\n",
       "    }\n",
       "\n",
       "    .dataframe thead th {\n",
       "        text-align: right;\n",
       "    }\n",
       "</style>\n",
       "<table border=\"1\" class=\"dataframe\">\n",
       "  <thead>\n",
       "    <tr style=\"text-align: right;\">\n",
       "      <th></th>\n",
       "      <th>ID</th>\n",
       "      <th>EcoRI</th>\n",
       "      <th>OrangeForwardPrimer</th>\n",
       "      <th>BC1</th>\n",
       "      <th>Variant</th>\n",
       "      <th>PinkForwardPrimer</th>\n",
       "      <th>BC2</th>\n",
       "      <th>YellowReversePrimer</th>\n",
       "      <th>AatIIPadded</th>\n",
       "      <th>Spacer</th>\n",
       "    </tr>\n",
       "  </thead>\n",
       "  <tbody>\n",
       "    <tr>\n",
       "      <th>0</th>\n",
       "      <td>ribozyme_0001</td>\n",
       "      <td>GAATTC</td>\n",
       "      <td>CGGACGTTATGGTTGGGGTT</td>\n",
       "      <td>TAGTCAAGCGC</td>\n",
       "      <td>CGTTCAGAAGCGCGCGACTGTACCGTCGTTAAGCACCTGACGTACT...</td>\n",
       "      <td>GGTGCAAGGTTGTTGGGGAA</td>\n",
       "      <td>CTTGTCAGCCC</td>\n",
       "      <td>ATCTATCTAACCGCCCCCCG</td>\n",
       "      <td>GACGTCGCG</td>\n",
       "      <td>CCTAAATTTGGAG</td>\n",
       "    </tr>\n",
       "    <tr>\n",
       "      <th>1</th>\n",
       "      <td>ribozyme_0002</td>\n",
       "      <td>GAATTC</td>\n",
       "      <td>CGGACGTTATGGTTGGGGTT</td>\n",
       "      <td>CATTATATGTC</td>\n",
       "      <td>TCTTCTATCATAGTTAGGCTACGGATCCTCCTCTAGGACACACCCG...</td>\n",
       "      <td>GGTGCAAGGTTGTTGGGGAA</td>\n",
       "      <td>CTTTGCTGCCG</td>\n",
       "      <td>ATCTATCTAACCGCCCCCCG</td>\n",
       "      <td>GACGTCGCG</td>\n",
       "      <td>CAG</td>\n",
       "    </tr>\n",
       "    <tr>\n",
       "      <th>2</th>\n",
       "      <td>ribozyme_0003</td>\n",
       "      <td>GAATTC</td>\n",
       "      <td>CGGACGTTATGGTTGGGGTT</td>\n",
       "      <td>TCGGCGCGTGA</td>\n",
       "      <td>GCTGATTCATTCCAACACTCTTGAGGCCGTTTCTATAAACGGTGAC...</td>\n",
       "      <td>GGTGCAAGGTTGTTGGGGAA</td>\n",
       "      <td>TGGGTAGTAAT</td>\n",
       "      <td>ATCTATCTAACCGCCCCCCG</td>\n",
       "      <td>GACGTCGCG</td>\n",
       "      <td>CCTAAATTTGGAG</td>\n",
       "    </tr>\n",
       "    <tr>\n",
       "      <th>3</th>\n",
       "      <td>ribozyme_0004</td>\n",
       "      <td>GAATTC</td>\n",
       "      <td>CGGACGTTATGGTTGGGGTT</td>\n",
       "      <td>GGAGATGATAG</td>\n",
       "      <td>CATATCTCTGTTCCTCTGCTGTAATCATGAGTCGGATCACTGGTTG...</td>\n",
       "      <td>GGTGCAAGGTTGTTGGGGAA</td>\n",
       "      <td>GCTAGGGCTTT</td>\n",
       "      <td>ATCTATCTAACCGCCCCCCG</td>\n",
       "      <td>GACGTCGCG</td>\n",
       "      <td>GCGCTGAGC</td>\n",
       "    </tr>\n",
       "    <tr>\n",
       "      <th>4</th>\n",
       "      <td>ribozyme_0005</td>\n",
       "      <td>GAATTC</td>\n",
       "      <td>CGGACGTTATGGTTGGGGTT</td>\n",
       "      <td>AGTGCATGTCC</td>\n",
       "      <td>GCATCCGTTGGTAACTTTCAATTGTTCAGGTCTCTGGCTTATCACG...</td>\n",
       "      <td>GGTGCAAGGTTGTTGGGGAA</td>\n",
       "      <td>CTCCGCGGTGG</td>\n",
       "      <td>ATCTATCTAACCGCCCCCCG</td>\n",
       "      <td>GACGTCGCG</td>\n",
       "      <td>ACTCTGTAAATC</td>\n",
       "    </tr>\n",
       "  </tbody>\n",
       "</table>\n",
       "</div>"
      ],
      "text/plain": [
       "              ID   EcoRI   OrangeForwardPrimer          BC1  \\\n",
       "0  ribozyme_0001  GAATTC  CGGACGTTATGGTTGGGGTT  TAGTCAAGCGC   \n",
       "1  ribozyme_0002  GAATTC  CGGACGTTATGGTTGGGGTT  CATTATATGTC   \n",
       "2  ribozyme_0003  GAATTC  CGGACGTTATGGTTGGGGTT  TCGGCGCGTGA   \n",
       "3  ribozyme_0004  GAATTC  CGGACGTTATGGTTGGGGTT  GGAGATGATAG   \n",
       "4  ribozyme_0005  GAATTC  CGGACGTTATGGTTGGGGTT  AGTGCATGTCC   \n",
       "\n",
       "                                             Variant     PinkForwardPrimer  \\\n",
       "0  CGTTCAGAAGCGCGCGACTGTACCGTCGTTAAGCACCTGACGTACT...  GGTGCAAGGTTGTTGGGGAA   \n",
       "1  TCTTCTATCATAGTTAGGCTACGGATCCTCCTCTAGGACACACCCG...  GGTGCAAGGTTGTTGGGGAA   \n",
       "2  GCTGATTCATTCCAACACTCTTGAGGCCGTTTCTATAAACGGTGAC...  GGTGCAAGGTTGTTGGGGAA   \n",
       "3  CATATCTCTGTTCCTCTGCTGTAATCATGAGTCGGATCACTGGTTG...  GGTGCAAGGTTGTTGGGGAA   \n",
       "4  GCATCCGTTGGTAACTTTCAATTGTTCAGGTCTCTGGCTTATCACG...  GGTGCAAGGTTGTTGGGGAA   \n",
       "\n",
       "           BC2   YellowReversePrimer AatIIPadded         Spacer  \n",
       "0  CTTGTCAGCCC  ATCTATCTAACCGCCCCCCG   GACGTCGCG  CCTAAATTTGGAG  \n",
       "1  CTTTGCTGCCG  ATCTATCTAACCGCCCCCCG   GACGTCGCG            CAG  \n",
       "2  TGGGTAGTAAT  ATCTATCTAACCGCCCCCCG   GACGTCGCG  CCTAAATTTGGAG  \n",
       "3  GCTAGGGCTTT  ATCTATCTAACCGCCCCCCG   GACGTCGCG      GCGCTGAGC  \n",
       "4  CTCCGCGGTGG  ATCTATCTAACCGCCCCCCG   GACGTCGCG   ACTCTGTAAATC  "
      ]
     },
     "execution_count": 81,
     "metadata": {},
     "output_type": "execute_result"
    }
   ],
   "source": [
    "df.head(5)"
   ]
  },
  {
   "cell_type": "markdown",
   "metadata": {},
   "source": [
    "To do this we will observe a couple of things. First, the cleaved reads will only contain BC2 in them. Second, the subsequence specified in the `Variant` column will appear partially in the read. Infact as simulated, the cleaved reads will contain part of the variant, the whole of `PinkForwardPrimer` and `BC2`."
   ]
  },
  {
   "cell_type": "markdown",
   "metadata": {},
   "source": [
    "Both `xcount` and `acount` allows us to use the information from the reads to concurrently do our own calculations on the reads and to signal to the counting algorithm whether to use the read as part of the counting process."
   ]
  },
  {
   "cell_type": "code",
   "execution_count": 82,
   "metadata": {},
   "outputs": [],
   "source": [
    "# Remove previous CC output, if it exists\n",
    "! rm -f CCC.oligopool.xcount.csv"
   ]
  },
  {
   "cell_type": "code",
   "execution_count": 83,
   "metadata": {},
   "outputs": [],
   "source": [
    "# Build memory for our callback below\n",
    "ribozyme_memory = dict(zip(df.ID, df.Variant))"
   ]
  },
  {
   "cell_type": "code",
   "execution_count": 84,
   "metadata": {},
   "outputs": [],
   "source": [
    "# Callback logic\n",
    "def filter_non_cleaved_reads(ribozyme_memory, pink_forward_primer):\n",
    "    '''Outer wrapper to give our method some memory'''\n",
    "\n",
    "    def wrapped(read, ID, count, coreid):\n",
    "        '''Inner closure to filter reads.\n",
    "\n",
    "        Note that `xcount` and `acount` callbacks must have this signature.\n",
    "        See help(op.acount) or help(op.xcount) for details.'''\n",
    "\n",
    "        # If more than one barcode present, we are not going to do anything with it, because\n",
    "        # it implies an uncleaved read. We only want to use BC2-exclusive cleaved reads.\n",
    "        if ID[0] is None and not ID[1] is None:\n",
    "            # The first ID will be None during `xcount` because we will compute BC1 x BC2\n",
    "\n",
    "            # Extract ribozyme ID\n",
    "            ribozyme_id = ID[1]\n",
    "\n",
    "            # The constant primer must be present for acceptance\n",
    "            if pink_forward_primer in read:\n",
    "\n",
    "                # Extract ribozyme fragment\n",
    "                ribozyme_fragment = read[:read.index(pink_forward_primer)]\n",
    "                # Fetch the expected full variant\n",
    "                ribozyme_full = ribozyme_memory[ribozyme_id]\n",
    "\n",
    "                # Figure out where the fragment starts in the variant\n",
    "                if ribozyme_fragment in ribozyme_full:\n",
    "                    ribozyme_start = ribozyme_full.index(ribozyme_fragment)\n",
    "                    # This index must be 10 or greater for cleaved product-based read\n",
    "                    return ribozyme_start >= 10\n",
    "\n",
    "            '''\n",
    "            Note: Here we are using exact matching logic. In reality we might want to do\n",
    "                  some alignment based extraction of our fragments to be error-aware.\n",
    "            '''\n",
    "\n",
    "        # Reject the read for counting ... didn't pass filtering due to one or more reasons\n",
    "        return False\n",
    "\n",
    "    # Return Wrapped Processor\n",
    "    return wrapped"
   ]
  },
  {
   "cell_type": "markdown",
   "metadata": {},
   "source": [
    "Virtually any logic can be executed concurrently with counting, as long as the callback returns a boolean. If a callback function returns `False`, the counting function will not use the reads for counting."
   ]
  },
  {
   "cell_type": "code",
   "execution_count": 85,
   "metadata": {},
   "outputs": [],
   "source": [
    "# Notice that we need to use the outer wrapper as callback\n",
    "cc_callback = filter_non_cleaved_reads(\n",
    "    ribozyme_memory=ribozyme_memory,\n",
    "    pink_forward_primer=df.PinkForwardPrimer.values[0])"
   ]
  },
  {
   "cell_type": "markdown",
   "metadata": {},
   "source": [
    "Don't worry, if our callback fails, the return stats dictionary will contain the inputs for which our callabck failed and we can debug accordingly."
   ]
  },
  {
   "cell_type": "code",
   "execution_count": 86,
   "metadata": {},
   "outputs": [],
   "source": [
    "_, stats = op.xcount(\n",
    "    index_files=['BC1', 'BC2'],\n",
    "    pack_file='NGS.oligopool.pack',\n",
    "    count_file='CCC',\n",
    "    mapping_type=1,\n",
    "    barcode_errors=-1,\n",
    "    callback=cc_callback,\n",
    "    core_count=0,\n",
    "    memory_limit=0.0,\n",
    "    verbose=False) # Silent Mode"
   ]
  },
  {
   "cell_type": "code",
   "execution_count": 87,
   "metadata": {},
   "outputs": [
    {
     "data": {
      "text/plain": [
       "{'status': True,\n",
       " 'basis': 'solved',\n",
       " 'step': 4,\n",
       " 'step_name': 'writing-count-matrix',\n",
       " 'vars': {'callback_error': False,\n",
       "  'failed_inputs': None,\n",
       "  'analyzed_reads': 1000001,\n",
       "  'phiX_reads': 0,\n",
       "  'low_complex_reads': 0,\n",
       "  'callback_false_reads': 333243,\n",
       "  'incalc_reads': 0,\n",
       "  'experiment_reads': 666758},\n",
       " 'warns': {}}"
      ]
     },
     "execution_count": 87,
     "metadata": {},
     "output_type": "execute_result"
    }
   ],
   "source": [
    "stats"
   ]
  },
  {
   "cell_type": "markdown",
   "metadata": {},
   "source": [
    "We can see that our callback filtering function rejected a lot of reads, as recorded in `callback_false_reads` key in the stats dictionary. Rest of the reads were cleaved and were accepted for counting."
   ]
  },
  {
   "cell_type": "markdown",
   "metadata": {},
   "source": [
    "That concludes our `Analysis Mode` walkthrough! Let us remove all the `Analysis Mode` objects."
   ]
  },
  {
   "cell_type": "code",
   "execution_count": 88,
   "metadata": {},
   "outputs": [],
   "source": [
    "! rm -f BC1.oligopool.index BC2.oligopool.index NGS.oligopool.pack AC.oligopool.acount.csv\n",
    "! rm -f CC.oligopool.xcount.csv CCC.oligopool.xcount.csv"
   ]
  },
  {
   "cell_type": "markdown",
   "metadata": {},
   "source": [
    "### Conclusion"
   ]
  },
  {
   "cell_type": "markdown",
   "metadata": {},
   "source": [
    "`Oligopool Calculator` offers a comprehensive solution for designing and analyzing genetic part libraries using oligopools. Its `Design Mode` automates the creation of oligopool architectures for various genetic elements, enabling synthetic biologists to efficiently compose and assemble complex libraries. The `Analysis Mode` provides flexible, barcode-based counting of NGS reads for variant characterization, with options for custom analysis. We hope this tool empowers researchers to fully leverage oligopools in engineering and screening large libraries of functional genetic parts, facilitating the development of accurate models of part function. It is designed to streamline the entire process from design to analysis, and we hope it will be a useful resource for synthetic biology research."
   ]
  },
  {
   "cell_type": "markdown",
   "metadata": {},
   "source": [
    "---"
   ]
  }
 ],
 "metadata": {
  "kernelspec": {
   "display_name": "Python 3 (ipykernel)",
   "language": "python",
   "name": "python3"
  },
  "language_info": {
   "codemirror_mode": {
    "name": "ipython",
    "version": 3
   },
   "file_extension": ".py",
   "mimetype": "text/x-python",
   "name": "python",
   "nbconvert_exporter": "python",
   "pygments_lexer": "ipython3",
   "version": "3.12.6"
  }
 },
 "nbformat": 4,
 "nbformat_minor": 4
}
