{
 "cells": [
  {
   "cell_type": "markdown",
   "metadata": {},
   "source": [
    "## `Oligopool Calculator` in Action!"
   ]
  },
  {
   "cell_type": "markdown",
   "metadata": {},
   "source": [
    "**Author** Ayaan Hossain\n",
    "\n",
    "**Updated** Sepetember 30, 2024"
   ]
  },
  {
   "cell_type": "markdown",
   "metadata": {},
   "source": [
    "This `jupyter` notebook will demonstrate the usage of `Oligopool Calculator` and describe how to use its many functions."
   ]
  },
  {
   "cell_type": "markdown",
   "metadata": {},
   "source": [
    "### Table of Contents"
   ]
  },
  {
   "cell_type": "markdown",
   "metadata": {},
   "source": [
    "* [Notebook Setup](#Notebook-Setup)\n",
    "* [What is Oligopool Calculator?](#What-is-Oligopool-Calculator?)\n",
    "* [Design Mode Walthrough - An oligopool of 6K ribozyme variants](#Design-Mode-Walkthrough---An-oligopool-of-6K-ribozyme-variants)\n",
    "    * [Simulating the problem](#Simulating-the-problem)\n",
    "    * [Reviewing constraints and formulating gameplan](#Reviewing-constraints-and-formulating-gameplan)\n",
    "    * [Primer design review](#Primer-design-review)\n",
    "    * [Storing the plasmid background](#Storing-the-plasmid-background)\n",
    "    * [Designing the three primers](#Designing-the-three-primers)\n",
    "    * [Designing orthogonal barcodes](#Designing-orthogonal-barcodes)\n",
    "    * [Adding neutral motifs, spacers and finalizing library](#Adding-neutral-motifs,-spacers-and-finalizing-library)"
   ]
  },
  {
   "cell_type": "markdown",
   "metadata": {},
   "source": [
    "### Notebook Setup"
   ]
  },
  {
   "cell_type": "markdown",
   "metadata": {},
   "source": [
    "If you [installed](https://github.com/ayaanhossain/oligopool#Installation) `Oligopool Calculator` successfully, you have everything you need to follow along."
   ]
  },
  {
   "cell_type": "markdown",
   "metadata": {},
   "source": [
    "Let's first import `oligopool`."
   ]
  },
  {
   "cell_type": "code",
   "execution_count": 1,
   "metadata": {},
   "outputs": [],
   "source": [
    "import oligopool as op"
   ]
  },
  {
   "cell_type": "markdown",
   "metadata": {},
   "source": [
    "Hopefully, the import worked without throwing up any errors! If you face issues importing, please [open an issue](https://github.com/ayaanhossain/oligopool/issues)."
   ]
  },
  {
   "cell_type": "markdown",
   "metadata": {},
   "source": [
    "Let us also import `numpy` to do some math, and use `pandas` as our central data container."
   ]
  },
  {
   "cell_type": "code",
   "execution_count": 2,
   "metadata": {},
   "outputs": [],
   "source": [
    "import numpy  as np\n",
    "import pandas as pd"
   ]
  },
  {
   "cell_type": "markdown",
   "metadata": {},
   "source": [
    "We will also need `matplotlib`/`seaborn` for plotting."
   ]
  },
  {
   "cell_type": "code",
   "execution_count": 3,
   "metadata": {},
   "outputs": [],
   "source": [
    "import matplotlib.pyplot as plt\n",
    "import seaborn as sns"
   ]
  },
  {
   "cell_type": "markdown",
   "metadata": {},
   "source": [
    "We're all set."
   ]
  },
  {
   "cell_type": "markdown",
   "metadata": {},
   "source": [
    "### What is Oligopool Calculator?"
   ]
  },
  {
   "cell_type": "markdown",
   "metadata": {},
   "source": [
    "Oligonucleotide pools (oligopools) have revolutionized synthetic biology by enabling large-scale, cost-effective synthesis of hundreds of thousands of unique, short single-stranded DNA sequences through semiconductor-based technology, with major providers leading the market."
   ]
  },
  {
   "cell_type": "markdown",
   "metadata": {},
   "source": [
    "These oligopools facilitate the creation and study of various biological components, including de novo promoters, ribozymes, protein scaffolds, and CRISPR libraries. Massively parallel reporter assays (MPRAs) are utilized to clone and assess the functionality of these variants using high-throughput next-generation sequencing (NGS), which can generate billions of short reads per experiment."
   ]
  },
  {
   "cell_type": "markdown",
   "metadata": {},
   "source": [
    "Oligopool technology is shaping up to be a cornerstone of contemporary synthetic biology research."
   ]
  },
  {
   "cell_type": "markdown",
   "metadata": {},
   "source": [
    "Looking ahead, advancements are expected in the number and length of oligos, NGS throughput, and reductions in manufacturing costs. Successful projects would then require not only core functional variants but also essential components like primers for amplification, spacers for structural integrity, and barcodes for accurate quantification via NGS."
   ]
  },
  {
   "cell_type": "markdown",
   "metadata": {},
   "source": [
    "![Oligopool Calculator Workflow](https://raw.githubusercontent.com/ayaanhossain/repfmt/refs/heads/main/oligopool/img/workflow.svg)"
   ]
  },
  {
   "cell_type": "markdown",
   "metadata": {},
   "source": [
    "`Oligopool Calculator` is a comprehensive tool for designing and analyzing large-scale oligonucleotide pools used in synthetic biology research."
   ]
  },
  {
   "cell_type": "markdown",
   "metadata": {},
   "source": [
    "In **(a)** `Design Mode`, the algorithms optimize various elements of the oligopool, including barcodes, primers, spacers, and degenerate motifs. It ensures that these components are maximally distinct, non-repetitive, and free from undesired sequences or structures. The tool also enables the splitting of long oligos into shorter fragments with optimized overlaps for downstream assembly."
   ]
  },
  {
   "cell_type": "markdown",
   "metadata": {},
   "source": [
    "The **(b)** `Analysis Mode` of the Oligopool Calculator facilitates the processing of next-generation sequencing (NGS) data derived from barcoded amplicons. This mode allows for efficient mapping and counting of variants and their associated barcodes, producing count matrices for quantitative assessment of variant functionality. Two types of counting operations are supported: Association counting for assessing synthesis accuracy, and Combinatorial counting for analyzing multiple barcode combinations from sequencing reads."
   ]
  },
  {
   "cell_type": "markdown",
   "metadata": {},
   "source": [
    "Overall `Oligopool Calculator` provides synthetic biologists with a unified platform for oligopool design and characterization, addressing the need for a standardized approach across different projects and labs. This tool eliminates the need for reinventing design scripts or using suboptimal strategies, making it particularly valuable for designing and analyzing pools containing millions of defined variants."
   ]
  },
  {
   "cell_type": "markdown",
   "metadata": {},
   "source": [
    "### Design Mode Walkthrough - An oligopool of 6K ribozyme variants"
   ]
  },
  {
   "cell_type": "markdown",
   "metadata": {},
   "source": [
    "Suppose we want to design and test a library of 6,232 ribozyme variants based on the following architecture."
   ]
  },
  {
   "cell_type": "markdown",
   "metadata": {},
   "source": [
    "![Ribozyme Library Architecture](https://raw.githubusercontent.com/ayaanhossain/repfmt/refs/heads/main/oligopool/img/architecture.svg)"
   ]
  },
  {
   "cell_type": "markdown",
   "metadata": {},
   "source": [
    "To characterize the activity of our ribozyme library in _E. coli_ we want to adopt a two-barcode strategy for designing the oligopool. Because ribozymes are self-cleaving, the two barcodes, BC1 and BC2, placed before and after the core variant would be separated after catalysis. This would allow us to count the ratio of their separation to quantify the efficiency of the ribozymes on a proportional scale (i.e., 0 to 100% cleavage efficiency) and normalize against wildtype ribozyme cleavage efficiencies."
   ]
  },
  {
   "cell_type": "markdown",
   "metadata": {},
   "source": [
    "#### Simulating the problem"
   ]
  },
  {
   "cell_type": "markdown",
   "metadata": {},
   "source": [
    "For the purposes of demonstration, let us first generate a random library of 59-73 mers (designing exact ribozymes is beyond the scope here) and assume that the library will be cloned into a 5kb plasmid backbone for characterization, which we will also generate."
   ]
  },
  {
   "cell_type": "code",
   "execution_count": 4,
   "metadata": {},
   "outputs": [],
   "source": [
    "rng = np.random.default_rng(seed=42)"
   ]
  },
  {
   "cell_type": "code",
   "execution_count": 5,
   "metadata": {},
   "outputs": [],
   "source": [
    "dna = ['A', 'T', 'G', 'C']"
   ]
  },
  {
   "cell_type": "code",
   "execution_count": 6,
   "metadata": {},
   "outputs": [],
   "source": [
    "ribozymes = [''.join(rng.choice(dna, size=rng.integers(low=59, high=74))) for _ in range(6232)]"
   ]
  },
  {
   "cell_type": "code",
   "execution_count": 7,
   "metadata": {},
   "outputs": [
    {
     "data": {
      "image/png": "[encoded data removed]",
      "text/plain": [
       "<Figure size 1200x300 with 1 Axes>"
      ]
     },
     "metadata": {},
     "output_type": "display_data"
    }
   ],
   "source": [
    "fig,ax = plt.subplots(1,1,figsize=(12,3))\n",
    "sns.histplot([len(x) for x in ribozymes], binwidth=1)\n",
    "ax.set_xticks(np.arange(59,74))\n",
    "ax.set_xlabel('Ribozyme Length')\n",
    "plt.show()"
   ]
  },
  {
   "cell_type": "code",
   "execution_count": 8,
   "metadata": {},
   "outputs": [
    {
     "data": {
      "text/plain": [
       "6232"
      ]
     },
     "execution_count": 8,
     "metadata": {},
     "output_type": "execute_result"
    }
   ],
   "source": [
    "len(ribozymes)"
   ]
  },
  {
   "cell_type": "code",
   "execution_count": 9,
   "metadata": {},
   "outputs": [],
   "source": [
    "plasmid = ''.join(rng.choice(dna) for _ in range(5000))"
   ]
  },
  {
   "cell_type": "code",
   "execution_count": 10,
   "metadata": {},
   "outputs": [
    {
     "data": {
      "text/plain": [
       "5000"
      ]
     },
     "execution_count": 10,
     "metadata": {},
     "output_type": "execute_result"
    }
   ],
   "source": [
    "len(plasmid) # 5kbp long plasmid"
   ]
  },
  {
   "cell_type": "markdown",
   "metadata": {},
   "source": [
    "#### Reviewing constraints and formulating gameplan"
   ]
  },
  {
   "cell_type": "markdown",
   "metadata": {},
   "source": [
    "So, we have 6,232 simulated candidates, between 59 to 73bp in length and a plasmid of length 5kbp."
   ]
  },
  {
   "cell_type": "markdown",
   "metadata": {},
   "source": [
    "We have our simulated library, and we know we want to use `EcoRI` and `AatII` as our restriction sites as part of the characterization process. We can now use `Oligopool Calculator` to design the following.\n",
    "* Three primers, each 20bp in length,\n",
    "* The prefix and suffix barcodes each 11bp in length, and\n",
    "* Variable length spacers ranging from 3 to 17bp to pad the oligos to 170bp."
   ]
  },
  {
   "cell_type": "markdown",
   "metadata": {},
   "source": [
    "As constraints, we aim to have the following.\n",
    "* The primers should not have off-target binding within the library or to the backbone,\n",
    "* Addition of primers, barcodes or spacers should not introduce `EcoRI` and `AatII` motifs elsewhere or at the junctions (edge effects), and\n",
    "* The barcodes should all have at least 3 mismatches separating each other."
   ]
  },
  {
   "cell_type": "markdown",
   "metadata": {},
   "source": [
    "Other realistic constraints, such as exclusion of all palindomic hexamers, or polymeric runs such as `'AAAAA'`, ..., `'CCCC'` may be included as they were in the original projects, but we will skip those for this demonstration. In reality, constaints will depend on the design project."
   ]
  },
  {
   "cell_type": "markdown",
   "metadata": {},
   "source": [
    "How do we begin? By asking `help` from `Oligopool Calculator`."
   ]
  },
  {
   "cell_type": "code",
   "execution_count": 11,
   "metadata": {
    "scrolled": false
   },
   "outputs": [
    {
     "name": "stdout",
     "output_type": "stream",
     "text": [
      "Help on package oligopool:\n",
      "\n",
      "NAME\n",
      "    oligopool\n",
      "\n",
      "DESCRIPTION\n",
      "    oligopool v2024.09.29\n",
      "    by ah\n",
      "\n",
      "    Automated design and analysis of oligopool libraries.\n",
      "\n",
      "    The various modules in Oligopool Calculator can be used\n",
      "    interactively in a jupyter notebook, or be used to define\n",
      "    scripts for design and analysis pipelines on the cloud.\n",
      "\n",
      "    Oligopool Calculator offers two modes of operation\n",
      "        -   Design Mode for designing oligopool libraries\n",
      "        - Analysis Mode for analyzing oligopool datasets\n",
      "\n",
      "    Design Mode workflow\n",
      "\n",
      "        1. Initialize a pandas DataFrame with core library elements\n",
      "            a. The DataFrame must contain a unique 'ID' column serving as primary key\n",
      "            b. All other columns in the DataFrame must be DNA sequences\n",
      "        2. Next, define any optional background sequences via the background module\n",
      "        3. Add necessary oligopool elements with constraints via element modules\n",
      "        4. Optionally, split long oligos and pad them via assembly modules\n",
      "        5. Perform length checks as needed and finalize library via auxiliary modules\n",
      "\n",
      "        Background module available\n",
      "            - background\n",
      "\n",
      "        Element modules available\n",
      "            - primer\n",
      "            - barcode\n",
      "            - spacer\n",
      "            - motif\n",
      "\n",
      "        Auxiliary modules available\n",
      "            - lenstat\n",
      "            - final\n",
      "\n",
      "        Assembly modules available\n",
      "            - split\n",
      "            - pad\n",
      "\n",
      "        Worfklow example sketch\n",
      "\n",
      "        >>> import pandas as pd\n",
      "        >>> import oligopool as op\n",
      "        >>>\n",
      "        >>> # Read initial library\n",
      "        >>> init_df = pd.read_csv('initial_library.csv')\n",
      "        >>>\n",
      "        >>> # Add oligo elements one by one\n",
      "        >>> barcode_df, stats = op.barcode(input_data=init_df, ...)\n",
      "        >>> primer_df,  stats = op.primer(input_data=barcode_df, ...)\n",
      "        ...\n",
      "        >>> # Check length statistics when needed\n",
      "        >>> op.lenstat(input_data=further_along_df)\n",
      "        ...\n",
      "        >>> # Finalize the library\n",
      "        >>> final_df, stats = op.final(input_data=ready_to_go_df, ...)\n",
      "        >>>\n",
      "        >>> # Split and pad longer oligos if needed\n",
      "        >>> split_df, stats = op.split(input_data=final_df, ...)\n",
      "        >>> first_pad_df,  stats = op.pad(input_data=split_df, ...)\n",
      "        >>> second_pad_df, stats = op.pad(input_data=split_df, ...)\n",
      "        ...\n",
      "\n",
      "    Analysis Mode workflow\n",
      "\n",
      "        1. Index one or more CSVs containing the barcode information\n",
      "        2. Pack all NGS FastQ files, optionally merging them if required\n",
      "        3. Use acount for association counting of variants and barcodes\n",
      "        4. If multiple barcode combinations are to be counted use xcount\n",
      "        5. Combine count DataFrames and perform stats and ML as necessary\n",
      "\n",
      "        Indexing module available\n",
      "            - index\n",
      "\n",
      "        Packing module available\n",
      "            - pack\n",
      "\n",
      "        Counting modules available\n",
      "            - acount\n",
      "            - xcount\n",
      "\n",
      "        Analysis Mode worfklow example sketch\n",
      "\n",
      "        >>> import pandas as pd\n",
      "        >>> import oligopool as op\n",
      "        >>>\n",
      "        >>> # Read marked up library\n",
      "        >>> df = pd.read_csv('oligo_library.csv')\n",
      "        >>>\n",
      "        >>> # Index the barcodes and save the indexes\n",
      "        >>> bc1_index_stats = op.index(input_data=df, barcode_column='BC1', ...)\n",
      "        >>> bc2_index_stats = op.index(input_data=df, barcode_column='BC2', ...)\n",
      "        ...\n",
      "        >>>\n",
      "        >>> # Pack the FastQ files\n",
      "        >>> sam1_pack_stats = op.pack(r1_file='sample_1_R1.fq.gz', ...)\n",
      "        >>> sam2_pack_stats = op.pack(r1_file='sample_2_R1.fq.gz', ...)\n",
      "        ...\n",
      "        >>>\n",
      "        >>> # Compute and write the barcode combination count matrix\n",
      "        >>> xcount_stats = op.xcount(index_files=['bc1_index', 'bc2_index'],\n",
      "        ...                          pack_file='sample_1_pack', ...)\n",
      "        ...\n",
      "        >>>\n",
      "        >>> # Read the count matrix and continue analysis\n",
      "        >>> count_df = pd.read_csv('sample_1_counts.csv')\n",
      "        ...\n",
      "\n",
      "    You can learn more about each module using help.\n",
      "    >>> import oligopool as op\n",
      "    >>>\n",
      "    >>> help(op)\n",
      "    >>> help(op.primer)\n",
      "    >>> help(op.barcode)\n",
      "    ...\n",
      "    >>> help(op.xcount)\n",
      "\n",
      "    For advanced use cases, the following classes are also available.\n",
      "        - vectorDB\n",
      "        - Scry\n",
      "\n",
      "PACKAGE CONTENTS\n",
      "    acount\n",
      "    background\n",
      "    barcode\n",
      "    final\n",
      "    index\n",
      "    lenstat\n",
      "    motif\n",
      "    pack\n",
      "    pad\n",
      "    primer\n",
      "    spacer\n",
      "    split\n",
      "    xcount\n",
      "\n",
      "SUBMODULES\n",
      "    base\n",
      "\n",
      "VERSION\n",
      "    2024.09.29\n",
      "\n",
      "AUTHOR\n",
      "    Ayaan Hossain\n",
      "\n",
      "FILE\n",
      "    /home/ec2-user/dev/oligopool/oligopool/__init__.py\n",
      "\n",
      "\n"
     ]
    }
   ],
   "source": [
    "help(op)"
   ]
  },
  {
   "cell_type": "markdown",
   "metadata": {},
   "source": [
    "To begin, per the help, will need to use the `barcode`, `primer`, and `spacer` modules to add the library elements."
   ]
  },
  {
   "cell_type": "markdown",
   "metadata": {},
   "source": [
    "#### Primer design review"
   ]
  },
  {
   "cell_type": "markdown",
   "metadata": {},
   "source": [
    "Generally, primers are the most constrained elements in an oligopool library because they have to conform a desired sequence constrain, free of secondary structures, be very specific to the library and have minimal off-targeting to a background. We recommended designing primers first."
   ]
  },
  {
   "cell_type": "markdown",
   "metadata": {},
   "source": [
    "![Primer Design](https://raw.githubusercontent.com/ayaanhossain/repfmt/refs/heads/main/oligopool/img/primer.svg)"
   ]
  },
  {
   "cell_type": "markdown",
   "metadata": {},
   "source": [
    "At any step in the design process if we get stuck, `Oligopool Calculator` will tell us what is preventing it from succeeding and we can relax or modify our constraints accordingly."
   ]
  },
  {
   "cell_type": "markdown",
   "metadata": {},
   "source": [
    "How do we design primers? Let's ask for help!"
   ]
  },
  {
   "cell_type": "code",
   "execution_count": 12,
   "metadata": {
    "scrolled": false
   },
   "outputs": [
    {
     "name": "stdout",
     "output_type": "stream",
     "text": [
      "Help on function primer in module oligopool.primer:\n",
      "\n",
      "primer(input_data: str | pandas.core.frame.DataFrame, oligo_length_limit: int, primer_sequence_constraint: str, primer_type: int, minimum_melting_temperature: float, maximum_melting_temperature: float, maximum_repeat_length: int, primer_column: str, output_file: str | None = None, paired_primer_column: str | None = None, left_context_column: str | None = None, right_context_column: str | None = None, excluded_motifs: list | str | pandas.core.frame.DataFrame | None = None, background_directory: str | None = None, verbose: bool = True) -> Tuple[pandas.core.frame.DataFrame, dict]\n",
      "    Designs constrained primers with specified melting temperature and non-repetitiveness\n",
      "    for all variants in the oligopool. Ensures compatibility with paired primers and minimizes\n",
      "    dimer formation. Returns a DataFrame of designed primers, optionally saving to `output_file`\n",
      "    in CSV format.\n",
      "\n",
      "    Required Parameters:\n",
      "        - `input_data` (`str` / `pd.DataFrame`): Path to a CSV file or DataFrame with annotated oligopool variants.\n",
      "        - `oligo_length_limit` (`int`): Maximum allowed oligo length (≥ 4).\n",
      "        - `primer_sequence_constraint` (`int`): IUPAC degenerate sequence constraint.\n",
      "        - `primer_type` (`int`): Primer type (0 for forward, 1 for reverse).\n",
      "        - `minimum_melting_temperature` (`float`): Minimum Tm (≥ 25°C).\n",
      "        - `maximum_melting_temperature` (`float`): Maximum Tm (≤ 95°C).\n",
      "        - `maximum_repeat_length` (`int`): Max shared repeat length with oligos (≥ 6).\n",
      "        - `primer_column` (`str`): Column name for the designed primer.\n",
      "\n",
      "    Optional Parameters:\n",
      "        - `output_file` (`str` / `None`): Filename for output DataFrame (default: `None`).\n",
      "        - `paired_primer_column` (`str` / `None`): Column for paired primer sequence (default: `None`).\n",
      "        - `left_context_column` (`str` / `None`): Column for left DNA context (default: `None`).\n",
      "        - `right_context_column` (`str` / `None`): Column for right DNA context (default: `None`).\n",
      "        - `excluded_motifs` (`list` / `str` / `pd.DataFrame` / `None`): Motifs to exclude;\n",
      "            can be a CSV path or DataFrame (default: `None`).\n",
      "        - `background_directory` (`str` / `None`): Directory for background k-mer sequences (default: `None`).\n",
      "        - `verbose` (`bool`): If `True`, logs updates to stdout (default: `True`).\n",
      "\n",
      "    Returns:\n",
      "        - A pandas DataFrame of designed primers; saves to `output_file` if specified.\n",
      "        - A dictionary of stats from the last step in pipeline.\n",
      "\n",
      "    Notes:\n",
      "        - `input_data` must contain a unique 'ID' column, all other columns must be non-empty DNA strings.\n",
      "        - Column names in `input_data` must be unique, and exclude `primer_column`.\n",
      "        - At least one of `left_context_column` or `right_context_column` must be specified.\n",
      "        - The paired primer type is inferred based on the current primer type.\n",
      "        - If a paired primer is specified, Tm of the designed primer is optimized within 1°C of it.\n",
      "        - `maximum_repeat_length` controls non-repetitiveness against `input_data` only, not `background`.\n",
      "        - If `excluded_motifs` is a CSV or DataFrame, it must have 'ID' and 'Exmotif' columns.\n",
      "        - Constant motifs in sequence constraint may lead to sub-optimal primers.\n",
      "\n"
     ]
    }
   ],
   "source": [
    "help(op.primer)"
   ]
  },
  {
   "cell_type": "markdown",
   "metadata": {},
   "source": [
    "Two things should stand out here."
   ]
  },
  {
   "cell_type": "markdown",
   "metadata": {},
   "source": [
    "First, primer design involves consideration of background sequences to minimize off-target amplification, such as from the plasmid we set up."
   ]
  },
  {
   "cell_type": "markdown",
   "metadata": {},
   "source": [
    "Second, primer design involves consideration of pairing information. If we only had two primers (one forward and one reverse) the order of their design would not matter. But in our problem, there are two forward primers (pink and orange) both of which are coupled to a single reverse primer (yellow). It will be important to design them in the right order, as we will discuss shortly."
   ]
  },
  {
   "cell_type": "markdown",
   "metadata": {},
   "source": [
    "Let us first solve the background problem."
   ]
  },
  {
   "cell_type": "markdown",
   "metadata": {},
   "source": [
    "#### Storing the plasmid background"
   ]
  },
  {
   "cell_type": "markdown",
   "metadata": {},
   "source": [
    "`Oligopool Calculator` makes it easy to define a background for primer design via the `background` module."
   ]
  },
  {
   "cell_type": "code",
   "execution_count": 13,
   "metadata": {},
   "outputs": [
    {
     "name": "stdout",
     "output_type": "stream",
     "text": [
      "Help on function background in module oligopool.background:\n",
      "\n",
      "background(input_data: list | str | pandas.core.frame.DataFrame, maximum_repeat_length: int, output_directory: str, verbose=True) -> dict\n",
      "    The background function creates a k-mer database from a list or CSV file of background sequences.\n",
      "    This database is used during primer design to ensure primers are non-repetitive to the background,\n",
      "    minimizing off-target amplification. Non-repetitiveness is regulated by the maximum shared repeat\n",
      "    length parameter. The generated database is saved in the specified `output_directory`.\n",
      "\n",
      "    Required Parameters:\n",
      "        - `input_data` (`list` / `str` / `pd.DataFrame`): background for primers; can be a CSV file or a DataFrame.\n",
      "        - `maximum_repeat_length` (`int`): Max repeat length between primers and background (between 6 and 20).\n",
      "        - `output_directory` (`str`): Directory to store the generated background k-mer database.\n",
      "        - `verbose` (`bool`): If `True`, logs updates to stdout (default: `True`).\n",
      "\n",
      "    Returns:\n",
      "        - A dictionary of stats from the last step in pipeline.\n",
      "\n",
      "    Notes:\n",
      "        - If `input_data` is a CSV or DataFrame, must contain 'ID' and a 'Sequence' column with DNA strings.\n",
      "        - `maximum_repeat_length` here controls non-repetitiveness of primers to `background` only.\n",
      "        - For manipulation, use `vectorDB` to operate on the background (see `help(oligopool.vectorDB)`).\n",
      "\n"
     ]
    }
   ],
   "source": [
    "help(op.background)"
   ]
  },
  {
   "cell_type": "markdown",
   "metadata": {},
   "source": [
    "> **Note:** If you want to modify the background post-hoc, or want to define your background using a custom strategy, directly use the `vectorDB` module, which behaves like a dictionary. For details use `help(op.vectorDB)`. The `background` module just wraps around it and offers an one-time use simple interface to `vectorDB`."
   ]
  },
  {
   "cell_type": "code",
   "execution_count": 14,
   "metadata": {},
   "outputs": [],
   "source": [
    "background_directory = 'demo.oligopool.background'"
   ]
  },
  {
   "cell_type": "markdown",
   "metadata": {},
   "source": [
    "Let's remove the background if one exists already, for this demonstration."
   ]
  },
  {
   "cell_type": "code",
   "execution_count": 15,
   "metadata": {},
   "outputs": [],
   "source": [
    "!rm -rf $background_directory"
   ]
  },
  {
   "cell_type": "markdown",
   "metadata": {},
   "source": [
    "Execute the `background` module."
   ]
  },
  {
   "cell_type": "code",
   "execution_count": 16,
   "metadata": {},
   "outputs": [
    {
     "name": "stdout",
     "output_type": "stream",
     "text": [
      "\n",
      "[Oligopool Calculator: Design Mode - Background]\n",
      "                                                  \n",
      " Required Arguments\n",
      " Background      Data: 1 Unique Sequence(s)\n",
      "    Maximum    Repeat: Up to 8 Base Pair(s) Background Repeats\n",
      "     Output Directory: demo.oligopool.background               \n",
      "                                                 \n",
      "[Computing Background]\n",
      " Sequence 1: TGTGCCAACCGACTTCTGAA... Inserted\n",
      " Time Elapsed: 0.02 sec                       \n",
      "                        \n",
      "[Background Statistics]\n",
      " Background Status: Successful\n",
      "      k-mer  Space: 131,072 Unique 9-mers\n",
      "       Fill  Count:   4,860 Unique 9-mers (  3.71 %)\n",
      "       Left  Count: 126,212 Unique 9-mers ( 96.29 %) \n",
      " Time Elapsed: 0.02 sec                              \n",
      "\n"
     ]
    }
   ],
   "source": [
    "background_stats = op.background(\n",
    "    input_data=plasmid,\n",
    "    maximum_repeat_length=8,\n",
    "    output_directory=background_directory)"
   ]
  },
  {
   "cell_type": "code",
   "execution_count": 17,
   "metadata": {},
   "outputs": [
    {
     "data": {
      "text/plain": [
       "{'status': True,\n",
       " 'basis': 'solved',\n",
       " 'step': 1,\n",
       " 'step_name': 'computing-background',\n",
       " 'vars': {'kmer_space': 131072, 'fill_count': 4860, 'left_count': 126212},\n",
       " 'warns': {}}"
      ]
     },
     "execution_count": 17,
     "metadata": {},
     "output_type": "execute_result"
    }
   ],
   "source": [
    "background_stats"
   ]
  },
  {
   "cell_type": "markdown",
   "metadata": {},
   "source": [
    "We've now stored the background, and are ready to design the three primers."
   ]
  },
  {
   "cell_type": "markdown",
   "metadata": {},
   "source": [
    "> **Note**: All `Oligopool Calculator` functions return a pipeline statistics dictionary recapitulating the output from the last step performed in the function. If the operation completed successfully, the `status` key will be marked as `True` and `basis` will be marked as `'solved'`."
   ]
  },
  {
   "cell_type": "markdown",
   "metadata": {},
   "source": [
    "#### Designing the three primers"
   ]
  },
  {
   "cell_type": "markdown",
   "metadata": {},
   "source": [
    "All `Design Mode` input and output is mediated through a `pandas` `DataFrame` to facilitate piplined designs. Let us store the variant candidates in a dataframe and start the design process."
   ]
  },
  {
   "cell_type": "code",
   "execution_count": 18,
   "metadata": {},
   "outputs": [],
   "source": [
    "df = pd.DataFrame({\n",
    "    'ID': [f'ribozyme_{x+1:06d}' for x in range(len(ribozymes))],\n",
    "    'EcoRI': 'GAATTC',\n",
    "    'Variant':ribozymes,\n",
    "    'AatII': 'GACGTC',\n",
    "})"
   ]
  },
  {
   "cell_type": "markdown",
   "metadata": {},
   "source": [
    "Note that defining the placeholder columns is optional. We are doing it to keep track of all the elements we will need to design."
   ]
  },
  {
   "cell_type": "code",
   "execution_count": 19,
   "metadata": {},
   "outputs": [
    {
     "data": {
      "text/html": [
       "<div>\n",
       "<style scoped>\n",
       "    .dataframe tbody tr th:only-of-type {\n",
       "        vertical-align: middle;\n",
       "    }\n",
       "\n",
       "    .dataframe tbody tr th {\n",
       "        vertical-align: top;\n",
       "    }\n",
       "\n",
       "    .dataframe thead th {\n",
       "        text-align: right;\n",
       "    }\n",
       "</style>\n",
       "<table border=\"1\" class=\"dataframe\">\n",
       "  <thead>\n",
       "    <tr style=\"text-align: right;\">\n",
       "      <th></th>\n",
       "      <th>ID</th>\n",
       "      <th>EcoRI</th>\n",
       "      <th>Variant</th>\n",
       "      <th>AatII</th>\n",
       "    </tr>\n",
       "  </thead>\n",
       "  <tbody>\n",
       "    <tr>\n",
       "      <th>0</th>\n",
       "      <td>ribozyme_000001</td>\n",
       "      <td>GAATTC</td>\n",
       "      <td>CGTTCAGAAGCGCGCGACTGTACCGTCGTTAAGCACCTGACGTACT...</td>\n",
       "      <td>GACGTC</td>\n",
       "    </tr>\n",
       "    <tr>\n",
       "      <th>1</th>\n",
       "      <td>ribozyme_000002</td>\n",
       "      <td>GAATTC</td>\n",
       "      <td>TCTTCTATCATAGTTAGGCTACGGATCCTCCTCTAGGACACACCCG...</td>\n",
       "      <td>GACGTC</td>\n",
       "    </tr>\n",
       "    <tr>\n",
       "      <th>2</th>\n",
       "      <td>ribozyme_000003</td>\n",
       "      <td>GAATTC</td>\n",
       "      <td>GCTGATTCATTCCAACACTCTTGAGGCCGTTTCTATAAACGGTGAC...</td>\n",
       "      <td>GACGTC</td>\n",
       "    </tr>\n",
       "    <tr>\n",
       "      <th>3</th>\n",
       "      <td>ribozyme_000004</td>\n",
       "      <td>GAATTC</td>\n",
       "      <td>CATATCTCTGTTCCTCTGCTGTAATCATGAGTCGGATCACTGGTTG...</td>\n",
       "      <td>GACGTC</td>\n",
       "    </tr>\n",
       "    <tr>\n",
       "      <th>4</th>\n",
       "      <td>ribozyme_000005</td>\n",
       "      <td>GAATTC</td>\n",
       "      <td>GCATCCGTTGGTAACTTTCAATTGTTCAGGTCTCTGGCTTATCACG...</td>\n",
       "      <td>GACGTC</td>\n",
       "    </tr>\n",
       "  </tbody>\n",
       "</table>\n",
       "</div>"
      ],
      "text/plain": [
       "                ID   EcoRI                                            Variant  \\\n",
       "0  ribozyme_000001  GAATTC  CGTTCAGAAGCGCGCGACTGTACCGTCGTTAAGCACCTGACGTACT...   \n",
       "1  ribozyme_000002  GAATTC  TCTTCTATCATAGTTAGGCTACGGATCCTCCTCTAGGACACACCCG...   \n",
       "2  ribozyme_000003  GAATTC  GCTGATTCATTCCAACACTCTTGAGGCCGTTTCTATAAACGGTGAC...   \n",
       "3  ribozyme_000004  GAATTC  CATATCTCTGTTCCTCTGCTGTAATCATGAGTCGGATCACTGGTTG...   \n",
       "4  ribozyme_000005  GAATTC  GCATCCGTTGGTAACTTTCAATTGTTCAGGTCTCTGGCTTATCACG...   \n",
       "\n",
       "    AatII  \n",
       "0  GACGTC  \n",
       "1  GACGTC  \n",
       "2  GACGTC  \n",
       "3  GACGTC  \n",
       "4  GACGTC  "
      ]
     },
     "execution_count": 19,
     "metadata": {},
     "output_type": "execute_result"
    }
   ],
   "source": [
    "df.head(5)"
   ]
  },
  {
   "cell_type": "markdown",
   "metadata": {},
   "source": [
    "Given that the primers are coupled, an optimal solution here is to design the innermost (pink) forward primer first, and then design the reverse primer (yellow), followed by designing the outermost (orange) forward primer. This allows all three primers to be compatible with each other."
   ]
  },
  {
   "cell_type": "markdown",
   "metadata": {},
   "source": [
    "An alternate solution would involve designing the (yellow) reverse primer first, and then designing the two forward primers successively."
   ]
  },
  {
   "cell_type": "markdown",
   "metadata": {},
   "source": [
    "However, if we designed the (yellow) reverse primer at the end, it would be difficult to ensure that it is compatible with both the forward primers simultaneously."
   ]
  },
  {
   "cell_type": "code",
   "execution_count": 20,
   "metadata": {},
   "outputs": [],
   "source": [
    "# help(op.primer)"
   ]
  },
  {
   "cell_type": "code",
   "execution_count": 21,
   "metadata": {
    "scrolled": true
   },
   "outputs": [
    {
     "name": "stdout",
     "output_type": "stream",
     "text": [
      "\n",
      "[Oligopool Calculator: Design Mode - Primer]\n",
      "                                              \n",
      " Required Arguments\n",
      "      Input Data       : DataFrame w/ 6,232 Record(s)\n",
      "      Oligo Limit      : At most 170 Base Pair(s)     \n",
      "     Primer Sequence   : A 20 Base Pair IUPAC Constraint\n",
      "     Primer Type       : Forward Primer Design           \n",
      "    Melting Temperature: 53 to 55 °C           \n",
      "     Repeat Length     : Up to 8 Base Pair(s) Oligopool Repeats\n",
      "     Primer Column     : Output in Column 'Pink_Forward_Primer' \n",
      "     Output File       : In-Memory DataFrame                    \n",
      "                                             \n",
      " Optional Arguments\n",
      "     Paired Primer     : None Specified\n",
      "       Left Context    : Input from Column 'Variant'\n",
      "      Right Context    : Input from Column 'AatII'   \n",
      "   Excluded Motifs     : 2 Unique Motif(s)         \n",
      " Background Database   : Contains 4,860 Unique 9-mers\n",
      "                                                      \n",
      "[Step 1: Parsing Oligo Limit]\n",
      " Maximum Oligo Length:  170 Base Pair(s)\n",
      " Input Variant Length:   71 to 85 Base Pair(s)\n",
      "  Reqd. Primer Length:   20 Base Pair(s)       \n",
      " Free Space Available:   85 to 99 Base Pair(s)\n",
      " Time Elapsed: 0.01 sec                        \n",
      " Verdict: Primer Design Possibly Feasible\n",
      "                                          \n",
      "[Step 2: Parsing Excluded Motifs]\n",
      " Sorted and Enqued: 2 Unique Excluded Motif(s)\n",
      " Excluded Motif Length Distribution              \n",
      "   - 2 Motif(s) of Length 6         \n",
      " Time Elapsed: 0.00 sec                         \n",
      " Verdict: Primer Design Possibly Feasible\n",
      "                                          \n",
      "[Step 3: Parsing Primer Sequence]\n",
      " Design Space: 274,877,906,944 Possible Primer(s)\n",
      " Found 0 Excluded Motif(s)                        \n",
      " Found 0 Internal Repeat(s)             \n",
      " Found 0 Palindrome(s)             \n",
      " Found 0 Paired Repeat(s)\n",
      " Time Elapsed: 0.00 sec   \n",
      " Verdict: Primer Design Possibly Feasible\n",
      "                                          \n",
      "[Step 4: Parsing Melting Temperature]\n",
      "  Parameter Source: From Input Argument(s)\n",
      " Required Tm Range: 53.00 to 55.00 °C      \n",
      " Possible Tm Range: 23.22 to 71.74 °C             \n",
      "  Updated Tm Range: 53.00 to 55.00 °C \n",
      " Found 0 Melting Temperature Conflict(s)\n",
      " Time Elapsed: 2.50 sec                  \n",
      " Verdict: Primer Design Possibly Feasible\n",
      "                                          \n",
      "[Step 5: Extracting Context Sequences]\n",
      "  Left Context: 3,179 Unique Sequence(s)            \n",
      " Right Context:     1 Unique Sequence(s) \n",
      "  Time Elapsed: 0.01 sec                 \n",
      "                         \n",
      "[Step 6: Parsing Edge Effects]\n",
      "  Left Context 3,179: ...CCTAAA Prevents 1 Prefix(es)\n",
      " Right Context     1: GACGTC... Prevents 1 Suffix(es)\n",
      " Time Elapsed: 0.88 sec        \n",
      " Verdict: Primer Design Possibly Feasible\n",
      "                                          \n",
      "[Step 7: Parsing Oligopool Repeats]\n",
      " Repeat Source: From Entire Oligopool\n",
      "  k-mer Space : 131,072 Unique 9-mers \n",
      "   Fill Count : 124,619 Unique 9-mers ( 95.08 %)\n",
      "   Free Count :   6,453 Unique 9-mers (  4.92 %) \n",
      " Verdict: Primer Design Possibly Feasible        \n",
      " Time Elapsed: 1.52 sec                   \n",
      "                        \n",
      "[Step 8: Computing Primer]\n",
      " Candidate: Primer ATGAAAGGTGGCGTCGGGTT is Accepted                           \n",
      " Time Elapsed: 3.39 sec\n",
      "                        \n",
      "[Primer Design Statistics]\n",
      "      Design Status     : Successful\n",
      "     Melting Temperature:  54.41 °C  \n",
      "          GC Content    :  55.00 %  \n",
      "     Hairpin MFE        :   0.00 kcal/mol\n",
      "   Homodimer MFE        :  -6.57 kcal/mol \n",
      " Time Elapsed: 8.31 sec                   \n",
      "\n"
     ]
    }
   ],
   "source": [
    "df, stats = op.primer(\n",
    "    input_data=df,\n",
    "    oligo_length_limit=170,                    # Must not exceed 170bp at any stage\n",
    "    primer_sequence_constraint='N'*18 + 'WW',  # The last two bases must be weak\n",
    "    primer_type=0,                             # This is a forward primer\n",
    "    primer_column='Pink_Forward_Primer',       # Store designs in 'Pink_Forward_Primer' column\n",
    "    left_context_column='Variant',             # Next to 'Variant' column\n",
    "    right_context_column='AatII',              # Before 'AatII' column\n",
    "    paired_primer_column=None,                 # No paired primer yet\n",
    "    excluded_motifs=['GAATTC', 'GACGTC'],      # Ensure EcoRI and AatII do not emerge as motifs\n",
    "    minimum_melting_temperature=53,            # Tm = 53°C at least\n",
    "    maximum_melting_temperature=55,            # Tm = 55°C at most\n",
    "    maximum_repeat_length=8,                   # No more than 8-mer repeats allowed\n",
    "    background_directory=background_directory, # As setup before\n",
    "    output_file=None,                          # In-memory return, no CSV written here\n",
    ")"
   ]
  },
  {
   "cell_type": "markdown",
   "metadata": {},
   "source": [
    "The designed primer is predicted to be free from hairpin structures with low homodimer probability."
   ]
  },
  {
   "cell_type": "markdown",
   "metadata": {},
   "source": [
    "Let us now design the two remaining primers in silent mode."
   ]
  },
  {
   "cell_type": "code",
   "execution_count": 22,
   "metadata": {},
   "outputs": [],
   "source": [
    "df, _ = op.primer(\n",
    "    input_data=df,                               # Updated DataFrame along pipeline chain\n",
    "    oligo_length_limit=170,\n",
    "    primer_sequence_constraint='WW' + 'N'*18,    # Last two bases must be weak in reverse complement\n",
    "    primer_type=1,                               # This is a reverse primer\n",
    "    primer_column='Yellow_Reverse_Primer',       # Store designs in 'Yellow_Reverse_Primer' column\n",
    "    left_context_column='Pink_Forward_Primer',   # Next to 'Pink_Forward_Primer' column\n",
    "    right_context_column='AatII',                # Before 'AatII' column\n",
    "    paired_primer_column='Pink_Forward_Primer',  # Yellow reverse primer paired with pink forward primer\n",
    "    minimum_melting_temperature=53,\n",
    "    maximum_melting_temperature=55,\n",
    "    maximum_repeat_length=8,\n",
    "    excluded_motifs=['GAATTC', 'GACGTC'],\n",
    "    background_directory=background_directory,\n",
    "    output_file=None,                            # In-memory return, no CSV written here\n",
    "    verbose=False,\n",
    ")"
   ]
  },
  {
   "cell_type": "code",
   "execution_count": 23,
   "metadata": {},
   "outputs": [],
   "source": [
    "df, _ = op.primer(\n",
    "    input_data=df,                                # Updated DataFrame along pipeline chain\n",
    "    oligo_length_limit=170,\n",
    "    primer_sequence_constraint='N'*18 + 'WW',     # The last two bases must be weak\n",
    "    primer_type=0,                                # This is a forward primer\n",
    "    primer_column='Orange_Forward_Primer',        # Store designs in 'Orange_Forward_Primer' column\n",
    "    left_context_column='EcoRI',                  # Next to 'EcoRI' column\n",
    "    right_context_column='Variant',               # Before 'Variant' column\n",
    "    paired_primer_column='Yellow_Reverse_Primer', # Orange forward primer paired with yellow reverse primer\n",
    "    minimum_melting_temperature=53,\n",
    "    maximum_melting_temperature=55,\n",
    "    maximum_repeat_length=8,\n",
    "    excluded_motifs=['GAATTC', 'GACGTC'],\n",
    "    background_directory=background_directory,\n",
    "    output_file=None,                             # In-memory return, no CSV written here\n",
    "    verbose=False,\n",
    ")"
   ]
  },
  {
   "cell_type": "code",
   "execution_count": 24,
   "metadata": {},
   "outputs": [
    {
     "data": {
      "text/html": [
       "<div>\n",
       "<style scoped>\n",
       "    .dataframe tbody tr th:only-of-type {\n",
       "        vertical-align: middle;\n",
       "    }\n",
       "\n",
       "    .dataframe tbody tr th {\n",
       "        vertical-align: top;\n",
       "    }\n",
       "\n",
       "    .dataframe thead th {\n",
       "        text-align: right;\n",
       "    }\n",
       "</style>\n",
       "<table border=\"1\" class=\"dataframe\">\n",
       "  <thead>\n",
       "    <tr style=\"text-align: right;\">\n",
       "      <th></th>\n",
       "      <th>EcoRI</th>\n",
       "      <th>Orange_Forward_Primer</th>\n",
       "      <th>Variant</th>\n",
       "      <th>Pink_Forward_Primer</th>\n",
       "      <th>Yellow_Reverse_Primer</th>\n",
       "      <th>AatII</th>\n",
       "    </tr>\n",
       "    <tr>\n",
       "      <th>ID</th>\n",
       "      <th></th>\n",
       "      <th></th>\n",
       "      <th></th>\n",
       "      <th></th>\n",
       "      <th></th>\n",
       "      <th></th>\n",
       "    </tr>\n",
       "  </thead>\n",
       "  <tbody>\n",
       "    <tr>\n",
       "      <th>ribozyme_000001</th>\n",
       "      <td>GAATTC</td>\n",
       "      <td>ACAAGGGCGGACAGGCTAAT</td>\n",
       "      <td>CGTTCAGAAGCGCGCGACTGTACCGTCGTTAAGCACCTGACGTACT...</td>\n",
       "      <td>ATGAAAGGTGGCGTCGGGTT</td>\n",
       "      <td>ATATCCACCGCATCCCCGAG</td>\n",
       "      <td>GACGTC</td>\n",
       "    </tr>\n",
       "    <tr>\n",
       "      <th>ribozyme_000002</th>\n",
       "      <td>GAATTC</td>\n",
       "      <td>ACAAGGGCGGACAGGCTAAT</td>\n",
       "      <td>TCTTCTATCATAGTTAGGCTACGGATCCTCCTCTAGGACACACCCG...</td>\n",
       "      <td>ATGAAAGGTGGCGTCGGGTT</td>\n",
       "      <td>ATATCCACCGCATCCCCGAG</td>\n",
       "      <td>GACGTC</td>\n",
       "    </tr>\n",
       "    <tr>\n",
       "      <th>ribozyme_000003</th>\n",
       "      <td>GAATTC</td>\n",
       "      <td>ACAAGGGCGGACAGGCTAAT</td>\n",
       "      <td>GCTGATTCATTCCAACACTCTTGAGGCCGTTTCTATAAACGGTGAC...</td>\n",
       "      <td>ATGAAAGGTGGCGTCGGGTT</td>\n",
       "      <td>ATATCCACCGCATCCCCGAG</td>\n",
       "      <td>GACGTC</td>\n",
       "    </tr>\n",
       "    <tr>\n",
       "      <th>ribozyme_000004</th>\n",
       "      <td>GAATTC</td>\n",
       "      <td>ACAAGGGCGGACAGGCTAAT</td>\n",
       "      <td>CATATCTCTGTTCCTCTGCTGTAATCATGAGTCGGATCACTGGTTG...</td>\n",
       "      <td>ATGAAAGGTGGCGTCGGGTT</td>\n",
       "      <td>ATATCCACCGCATCCCCGAG</td>\n",
       "      <td>GACGTC</td>\n",
       "    </tr>\n",
       "    <tr>\n",
       "      <th>ribozyme_000005</th>\n",
       "      <td>GAATTC</td>\n",
       "      <td>ACAAGGGCGGACAGGCTAAT</td>\n",
       "      <td>GCATCCGTTGGTAACTTTCAATTGTTCAGGTCTCTGGCTTATCACG...</td>\n",
       "      <td>ATGAAAGGTGGCGTCGGGTT</td>\n",
       "      <td>ATATCCACCGCATCCCCGAG</td>\n",
       "      <td>GACGTC</td>\n",
       "    </tr>\n",
       "  </tbody>\n",
       "</table>\n",
       "</div>"
      ],
      "text/plain": [
       "                  EcoRI Orange_Forward_Primer  \\\n",
       "ID                                              \n",
       "ribozyme_000001  GAATTC  ACAAGGGCGGACAGGCTAAT   \n",
       "ribozyme_000002  GAATTC  ACAAGGGCGGACAGGCTAAT   \n",
       "ribozyme_000003  GAATTC  ACAAGGGCGGACAGGCTAAT   \n",
       "ribozyme_000004  GAATTC  ACAAGGGCGGACAGGCTAAT   \n",
       "ribozyme_000005  GAATTC  ACAAGGGCGGACAGGCTAAT   \n",
       "\n",
       "                                                           Variant  \\\n",
       "ID                                                                   \n",
       "ribozyme_000001  CGTTCAGAAGCGCGCGACTGTACCGTCGTTAAGCACCTGACGTACT...   \n",
       "ribozyme_000002  TCTTCTATCATAGTTAGGCTACGGATCCTCCTCTAGGACACACCCG...   \n",
       "ribozyme_000003  GCTGATTCATTCCAACACTCTTGAGGCCGTTTCTATAAACGGTGAC...   \n",
       "ribozyme_000004  CATATCTCTGTTCCTCTGCTGTAATCATGAGTCGGATCACTGGTTG...   \n",
       "ribozyme_000005  GCATCCGTTGGTAACTTTCAATTGTTCAGGTCTCTGGCTTATCACG...   \n",
       "\n",
       "                  Pink_Forward_Primer Yellow_Reverse_Primer   AatII  \n",
       "ID                                                                   \n",
       "ribozyme_000001  ATGAAAGGTGGCGTCGGGTT  ATATCCACCGCATCCCCGAG  GACGTC  \n",
       "ribozyme_000002  ATGAAAGGTGGCGTCGGGTT  ATATCCACCGCATCCCCGAG  GACGTC  \n",
       "ribozyme_000003  ATGAAAGGTGGCGTCGGGTT  ATATCCACCGCATCCCCGAG  GACGTC  \n",
       "ribozyme_000004  ATGAAAGGTGGCGTCGGGTT  ATATCCACCGCATCCCCGAG  GACGTC  \n",
       "ribozyme_000005  ATGAAAGGTGGCGTCGGGTT  ATATCCACCGCATCCCCGAG  GACGTC  "
      ]
     },
     "execution_count": 24,
     "metadata": {},
     "output_type": "execute_result"
    }
   ],
   "source": [
    "df.head(5)"
   ]
  },
  {
   "cell_type": "markdown",
   "metadata": {},
   "source": [
    "All our primers are installed. Barcodes up next!"
   ]
  },
  {
   "cell_type": "markdown",
   "metadata": {},
   "source": [
    "Before that, since we're done with the background let's drop it."
   ]
  },
  {
   "cell_type": "code",
   "execution_count": 25,
   "metadata": {},
   "outputs": [
    {
     "data": {
      "text/plain": [
       "True"
      ]
     },
     "execution_count": 25,
     "metadata": {},
     "output_type": "execute_result"
    }
   ],
   "source": [
    "op.vectorDB(background_directory, maximum_repeat_length=11).drop()"
   ]
  },
  {
   "cell_type": "markdown",
   "metadata": {},
   "source": [
    "#### Designing orthogonal barcodes"
   ]
  },
  {
   "cell_type": "markdown",
   "metadata": {},
   "source": [
    "Barcodes are critical elements that help identify each variant uniquely, especially when the core oligo variants are similar to each other. `Oligopool Calculator` maximizes barcode distinguishability which is useful, for example, when the library is exploring all single substitutions to a template."
   ]
  },
  {
   "cell_type": "markdown",
   "metadata": {},
   "source": [
    "![Barcode Design](https://raw.githubusercontent.com/ayaanhossain/repfmt/refs/heads/main/oligopool/img/barcode.svg)"
   ]
  },
  {
   "cell_type": "code",
   "execution_count": 26,
   "metadata": {},
   "outputs": [
    {
     "name": "stdout",
     "output_type": "stream",
     "text": [
      "Help on function barcode in module oligopool.barcode:\n",
      "\n",
      "barcode(input_data: str | pandas.core.frame.DataFrame, oligo_length_limit: int, barcode_length: int, minimum_hamming_distance: int, maximum_repeat_length: int, barcode_column: str, output_file: str | None = None, barcode_type: int = 0, left_context_column: str | None = None, right_context_column: str | None = None, excluded_motifs: list | str | pandas.core.frame.DataFrame | None = None, verbose: bool = True) -> Tuple[pandas.core.frame.DataFrame, dict]\n",
      "    Generates constrained barcodes, ensuring a minimum Hamming distance between each pair\n",
      "    and excluding specified motifs, even when flanked by context sequences. The output is a\n",
      "    DataFrame of designed barcodes, which can be saved as a CSV file if specified.\n",
      "\n",
      "    Required Parameters:\n",
      "        - `input_data` (`str` / `pd.DataFrame`): Path to a CSV file or DataFrame with annotated oligopool variants.\n",
      "        - `oligo_length_limit` (`int`): Maximum allowed oligo length (≥ 4).\n",
      "        - `barcode_length` (`int`): Length of the designed barcodes (≥ 4).\n",
      "        - `minimum_hamming_distance` (`int`): Minimum pairwise Hamming distance (≥ 1).\n",
      "        - `maximum_repeat_length` (`int`): Max shared repeat length with oligos (≥ 6).\n",
      "        - `barcode_column` (`str`): Column name for the designed barcodes.\n",
      "\n",
      "    Optional Parameters:\n",
      "        - `output_file` (`str` / `None`): Filename for output DataFrame (default: `None`).\n",
      "        - `barcode_type` (`int`): Barcode design type\n",
      "            0 for fast terminus optimized,\n",
      "            1 for slow spectrum optimized.\n",
      "            (default: 0)\n",
      "        - `left_context_column` (`str` / `None`): Column for left DNA context (default: `None`).\n",
      "        - `right_context_column` (`str` / `None`): Column for right DNA context (default: `None`).\n",
      "        - `excluded_motifs` (`list` / `str` / `pd.DataFrame` / `None`): Motifs to exclude;\n",
      "            can be a CSV path or DataFrame (default: `None`).\n",
      "        - `verbose` (`bool`): If `True`, logs updates to stdout (default: `True`).\n",
      "\n",
      "    Returns:\n",
      "        - A pandas DataFrame of generated barcodes; saves to `output_file` if specified.\n",
      "        - A dictionary of stats from the last step in pipeline.\n",
      "\n",
      "    Notes:\n",
      "        - `input_data` must contain a unique 'ID' column, all other columns must be non-empty DNA strings.\n",
      "        - Column names in `input_data` must be unique, and exclude `barcode_column`.\n",
      "        - At least one of `left_context_column` or `right_context_column` must be specified.\n",
      "        - If `excluded_motifs` is a CSV or DataFrame, it must have 'ID' and 'Exmotif' columns.\n",
      "        - If barcode design is challenging, consider\n",
      "            * altering `barcode_length`, or\n",
      "            * reducing `minimum_hamming_distance`, or\n",
      "            * switching to terminus optimized barcodes, or\n",
      "            * increasing `maximum_repeat_length`, or\n",
      "            * reducing `excluded_motifs` to relax the constraints.\n",
      "\n"
     ]
    }
   ],
   "source": [
    "help(op.barcode)"
   ]
  },
  {
   "cell_type": "markdown",
   "metadata": {},
   "source": [
    "Unlike primers which need to satisfy global constraints (a hard problem), barcodes are optimized contextually (relatively easier). So, barcodes may be designed after all the primers have been installed."
   ]
  },
  {
   "cell_type": "markdown",
   "metadata": {},
   "source": [
    "Let us design BC1 first."
   ]
  },
  {
   "cell_type": "code",
   "execution_count": 27,
   "metadata": {},
   "outputs": [
    {
     "data": {
      "text/plain": [
       "Index(['EcoRI', 'Orange_Forward_Primer', 'Variant', 'Pink_Forward_Primer',\n",
       "       'Yellow_Reverse_Primer', 'AatII'],\n",
       "      dtype='object')"
      ]
     },
     "execution_count": 27,
     "metadata": {},
     "output_type": "execute_result"
    }
   ],
   "source": [
    "df.columns"
   ]
  },
  {
   "cell_type": "code",
   "execution_count": 28,
   "metadata": {},
   "outputs": [
    {
     "name": "stdout",
     "output_type": "stream",
     "text": [
      "\n",
      "[Oligopool Calculator: Design Mode - Barcode]\n",
      "                                               \n",
      " Required Arguments\n",
      "    Input Data    : DataFrame w/ 6,232 Record(s)\n",
      "    Oligo Limit   : At most 170 Base Pair(s)     \n",
      "  Barcode Length  : Exactly 11 Base Pair(s)  \n",
      "  Hamming Distance: At least 3 Mismatch(es) per Barcode Pair\n",
      "   Repeat Length  : Up to 6 Base Pair(s) Oligopool Repeats   \n",
      "  Barcode Column  : Output in Column 'BC1'                 \n",
      "   Output File    : In-Memory DataFrame    \n",
      "                                        \n",
      " Optional Arguments\n",
      "  Barcode Type    : Spectrum Optimized Barcodes\n",
      "     Left Context : Input from Column 'Orange_Forward_Primer'\n",
      "    Right Context : Input from Column 'Variant'               \n",
      " Excluded Motifs  : 2 Unique Motif(s)           \n",
      "                                      \n",
      "[Step 1: Parsing Oligo Limit]\n",
      " Maximum Oligo Length:  170 Base Pair(s)\n",
      " Input Variant Length:  131 to 145 Base Pair(s)\n",
      " Reqd. Barcode Length:   11 Base Pair(s)        \n",
      " Free Space Available:   25 to 39 Base Pair(s)\n",
      " Time Elapsed: 0.01 sec                        \n",
      " Verdict: Barcode Design Possibly Feasible\n",
      "                                           \n",
      "[Step 2: Parsing Barcode Length]\n",
      " Required Length: 11 Base Pair(s) \n",
      "   Design Space : 4,194,304 Barcode(s)\n",
      "   Target Count :     6,232 Barcode(s) \n",
      " Time Elapsed: 0.00 sec                \n",
      " Verdict: Barcode Design Possibly Feasible\n",
      "                                           \n",
      "[Step 3: Parsing Excluded Motifs]\n",
      " Sorted and Enqued: 2 Unique Excluded Motif(s)\n",
      " Excluded Motif Length Distribution              \n",
      "   - 2 Motif(s) of Length 6         \n",
      " Time Elapsed: 0.00 sec                         \n",
      " Verdict: Barcode Design Possibly Feasible\n",
      "                                           \n",
      "[Step 4: Extracting Context Sequences]\n",
      "  Left Context:     1 Unique Sequence(s)            \n",
      " Right Context: 3,207 Unique Sequence(s) \n",
      "  Time Elapsed: 0.01 sec                 \n",
      "                         \n",
      "[Step 5: Parsing Oligopool Repeats]\n",
      " Repeat Source: Contextually per Variant\n",
      "  k-mer Space : 8,192 Unique 7-mers      \n",
      "   Fill Count :   139 Unique 7-mers (  1.70 %)\n",
      "   Free Count : 8,053 Unique 7-mers ( 98.30 %) \n",
      " Verdict: Barcode Design Possibly Feasible     \n",
      " Time Elapsed: 1.17 sec                    \n",
      "                        \n",
      "[Step 6: Computing Barcodes]\n",
      " Type Optimization: Activated \n",
      " Candidate 6,232: Barcode CGCTCAACTAC is Accepted                        \n",
      " Time Elapsed: 7.68 sec\n",
      "                        \n",
      "[Step 7: Computing Distance Distribution]\n",
      " Candidate 6,225: Pairwise Distance ≥ 4 Mismatches \n",
      " Time Elapsed: 0.71 sec      \n",
      "                        \n",
      "[Barcode Design Statistics]\n",
      "   Design Status   : Successful\n",
      "   Target Count    : 6,232 Barcode(s)\n",
      "  Barcode Count    : 6,232 Barcode(s) (100.00 %)\n",
      "   Pair-wise Distance Distribution               \n",
      "     -   0.16 % Barcode(s) w/ Distance ≥  9 Mismatch(es)\n",
      "     -   0.16 % Barcode(s) w/ Distance ≥ 11 Mismatch(es) \n",
      "     -   0.32 % Barcode(s) w/ Distance ≥  8 Mismatch(es) \n",
      "     -   0.96 % Barcode(s) w/ Distance ≥  7 Mismatch(es) \n",
      "     -   2.25 % Barcode(s) w/ Distance ≥  6 Mismatch(es) \n",
      "     -  14.13 % Barcode(s) w/ Distance ≥  5 Mismatch(es) \n",
      "     -  32.91 % Barcode(s) w/ Distance ≥  3 Mismatch(es) \n",
      "     -  49.12 % Barcode(s) w/ Distance ≥  4 Mismatch(es) \n",
      " Time Elapsed: 9.60 sec                                  \n",
      "\n"
     ]
    }
   ],
   "source": [
    "df, _ = op.barcode(\n",
    "    input_data=df,\n",
    "    oligo_length_limit=170,\n",
    "    barcode_length=11,\n",
    "    minimum_hamming_distance=3,  # As defined by our goal\n",
    "    maximum_repeat_length=6,     # To prevent internal hairpins, say\n",
    "    barcode_column='BC1',\n",
    "    barcode_type=1,\n",
    "    left_context_column='Orange_Forward_Primer',\n",
    "    right_context_column='Variant',\n",
    "    excluded_motifs=['GAATTC', 'GACGTC'],\n",
    "    output_file=None,\n",
    ")"
   ]
  },
  {
   "cell_type": "markdown",
   "metadata": {},
   "source": [
    "Most of the barcodes have at least 4 mismatches separating them, with all of them being at least 3 mismatches apart, as intended."
   ]
  },
  {
   "cell_type": "markdown",
   "metadata": {},
   "source": [
    "Next, let's add BC2."
   ]
  },
  {
   "cell_type": "code",
   "execution_count": 29,
   "metadata": {},
   "outputs": [],
   "source": [
    "df, _ = op.barcode(\n",
    "    input_data=df,\n",
    "    oligo_length_limit=170,\n",
    "    barcode_length=11,\n",
    "    minimum_hamming_distance=3,\n",
    "    maximum_repeat_length=6,\n",
    "    barcode_column='BC2',\n",
    "    barcode_type=1,\n",
    "    left_context_column='Pink_Forward_Primer',\n",
    "    right_context_column='Yellow_Reverse_Primer',\n",
    "    excluded_motifs=['GAATTC', 'GACGTC'],\n",
    "    output_file=None,\n",
    "    verbose=False  # Silent mode\n",
    ")"
   ]
  },
  {
   "cell_type": "code",
   "execution_count": 30,
   "metadata": {},
   "outputs": [
    {
     "data": {
      "text/html": [
       "<div>\n",
       "<style scoped>\n",
       "    .dataframe tbody tr th:only-of-type {\n",
       "        vertical-align: middle;\n",
       "    }\n",
       "\n",
       "    .dataframe tbody tr th {\n",
       "        vertical-align: top;\n",
       "    }\n",
       "\n",
       "    .dataframe thead th {\n",
       "        text-align: right;\n",
       "    }\n",
       "</style>\n",
       "<table border=\"1\" class=\"dataframe\">\n",
       "  <thead>\n",
       "    <tr style=\"text-align: right;\">\n",
       "      <th></th>\n",
       "      <th>EcoRI</th>\n",
       "      <th>Orange_Forward_Primer</th>\n",
       "      <th>BC1</th>\n",
       "      <th>Variant</th>\n",
       "      <th>Pink_Forward_Primer</th>\n",
       "      <th>BC2</th>\n",
       "      <th>Yellow_Reverse_Primer</th>\n",
       "      <th>AatII</th>\n",
       "    </tr>\n",
       "    <tr>\n",
       "      <th>ID</th>\n",
       "      <th></th>\n",
       "      <th></th>\n",
       "      <th></th>\n",
       "      <th></th>\n",
       "      <th></th>\n",
       "      <th></th>\n",
       "      <th></th>\n",
       "      <th></th>\n",
       "    </tr>\n",
       "  </thead>\n",
       "  <tbody>\n",
       "    <tr>\n",
       "      <th>ribozyme_000001</th>\n",
       "      <td>GAATTC</td>\n",
       "      <td>ACAAGGGCGGACAGGCTAAT</td>\n",
       "      <td>GGGCCTAAGCC</td>\n",
       "      <td>CGTTCAGAAGCGCGCGACTGTACCGTCGTTAAGCACCTGACGTACT...</td>\n",
       "      <td>ATGAAAGGTGGCGTCGGGTT</td>\n",
       "      <td>TTCAATGTACC</td>\n",
       "      <td>ATATCCACCGCATCCCCGAG</td>\n",
       "      <td>GACGTC</td>\n",
       "    </tr>\n",
       "    <tr>\n",
       "      <th>ribozyme_000002</th>\n",
       "      <td>GAATTC</td>\n",
       "      <td>ACAAGGGCGGACAGGCTAAT</td>\n",
       "      <td>CTACTTAAGAG</td>\n",
       "      <td>TCTTCTATCATAGTTAGGCTACGGATCCTCCTCTAGGACACACCCG...</td>\n",
       "      <td>ATGAAAGGTGGCGTCGGGTT</td>\n",
       "      <td>GGACCGTGCAA</td>\n",
       "      <td>ATATCCACCGCATCCCCGAG</td>\n",
       "      <td>GACGTC</td>\n",
       "    </tr>\n",
       "    <tr>\n",
       "      <th>ribozyme_000003</th>\n",
       "      <td>GAATTC</td>\n",
       "      <td>ACAAGGGCGGACAGGCTAAT</td>\n",
       "      <td>AGAAGAGCGGA</td>\n",
       "      <td>GCTGATTCATTCCAACACTCTTGAGGCCGTTTCTATAAACGGTGAC...</td>\n",
       "      <td>ATGAAAGGTGGCGTCGGGTT</td>\n",
       "      <td>TACTCCCTACG</td>\n",
       "      <td>ATATCCACCGCATCCCCGAG</td>\n",
       "      <td>GACGTC</td>\n",
       "    </tr>\n",
       "    <tr>\n",
       "      <th>ribozyme_000004</th>\n",
       "      <td>GAATTC</td>\n",
       "      <td>ACAAGGGCGGACAGGCTAAT</td>\n",
       "      <td>GACGGAGAGGC</td>\n",
       "      <td>CATATCTCTGTTCCTCTGCTGTAATCATGAGTCGGATCACTGGTTG...</td>\n",
       "      <td>ATGAAAGGTGGCGTCGGGTT</td>\n",
       "      <td>TTGGGCATTTC</td>\n",
       "      <td>ATATCCACCGCATCCCCGAG</td>\n",
       "      <td>GACGTC</td>\n",
       "    </tr>\n",
       "    <tr>\n",
       "      <th>ribozyme_000005</th>\n",
       "      <td>GAATTC</td>\n",
       "      <td>ACAAGGGCGGACAGGCTAAT</td>\n",
       "      <td>CTTTGCCGAAG</td>\n",
       "      <td>GCATCCGTTGGTAACTTTCAATTGTTCAGGTCTCTGGCTTATCACG...</td>\n",
       "      <td>ATGAAAGGTGGCGTCGGGTT</td>\n",
       "      <td>GGCGCGAGGAA</td>\n",
       "      <td>ATATCCACCGCATCCCCGAG</td>\n",
       "      <td>GACGTC</td>\n",
       "    </tr>\n",
       "  </tbody>\n",
       "</table>\n",
       "</div>"
      ],
      "text/plain": [
       "                  EcoRI Orange_Forward_Primer          BC1  \\\n",
       "ID                                                           \n",
       "ribozyme_000001  GAATTC  ACAAGGGCGGACAGGCTAAT  GGGCCTAAGCC   \n",
       "ribozyme_000002  GAATTC  ACAAGGGCGGACAGGCTAAT  CTACTTAAGAG   \n",
       "ribozyme_000003  GAATTC  ACAAGGGCGGACAGGCTAAT  AGAAGAGCGGA   \n",
       "ribozyme_000004  GAATTC  ACAAGGGCGGACAGGCTAAT  GACGGAGAGGC   \n",
       "ribozyme_000005  GAATTC  ACAAGGGCGGACAGGCTAAT  CTTTGCCGAAG   \n",
       "\n",
       "                                                           Variant  \\\n",
       "ID                                                                   \n",
       "ribozyme_000001  CGTTCAGAAGCGCGCGACTGTACCGTCGTTAAGCACCTGACGTACT...   \n",
       "ribozyme_000002  TCTTCTATCATAGTTAGGCTACGGATCCTCCTCTAGGACACACCCG...   \n",
       "ribozyme_000003  GCTGATTCATTCCAACACTCTTGAGGCCGTTTCTATAAACGGTGAC...   \n",
       "ribozyme_000004  CATATCTCTGTTCCTCTGCTGTAATCATGAGTCGGATCACTGGTTG...   \n",
       "ribozyme_000005  GCATCCGTTGGTAACTTTCAATTGTTCAGGTCTCTGGCTTATCACG...   \n",
       "\n",
       "                  Pink_Forward_Primer          BC2 Yellow_Reverse_Primer  \\\n",
       "ID                                                                         \n",
       "ribozyme_000001  ATGAAAGGTGGCGTCGGGTT  TTCAATGTACC  ATATCCACCGCATCCCCGAG   \n",
       "ribozyme_000002  ATGAAAGGTGGCGTCGGGTT  GGACCGTGCAA  ATATCCACCGCATCCCCGAG   \n",
       "ribozyme_000003  ATGAAAGGTGGCGTCGGGTT  TACTCCCTACG  ATATCCACCGCATCCCCGAG   \n",
       "ribozyme_000004  ATGAAAGGTGGCGTCGGGTT  TTGGGCATTTC  ATATCCACCGCATCCCCGAG   \n",
       "ribozyme_000005  ATGAAAGGTGGCGTCGGGTT  GGCGCGAGGAA  ATATCCACCGCATCCCCGAG   \n",
       "\n",
       "                  AatII  \n",
       "ID                       \n",
       "ribozyme_000001  GACGTC  \n",
       "ribozyme_000002  GACGTC  \n",
       "ribozyme_000003  GACGTC  \n",
       "ribozyme_000004  GACGTC  \n",
       "ribozyme_000005  GACGTC  "
      ]
     },
     "execution_count": 30,
     "metadata": {},
     "output_type": "execute_result"
    }
   ],
   "source": [
    "df.head(5)"
   ]
  },
  {
   "cell_type": "markdown",
   "metadata": {},
   "source": [
    "Barcodes are done! The only thing left to design are the spacers so that all oligos have the same length of 170bp."
   ]
  },
  {
   "cell_type": "code",
   "execution_count": 31,
   "metadata": {},
   "outputs": [
    {
     "name": "stdout",
     "output_type": "stream",
     "text": [
      "Help on function lenstat in module oligopool.lenstat:\n",
      "\n",
      "lenstat(input_data: str | pandas.core.frame.DataFrame, oligo_length_limit: int, verbose: bool = True) -> Tuple[pandas.core.frame.DataFrame, dict]\n",
      "    Computes the length statistics of the elements and the resulting oligos in `input_data`.\n",
      "    Returns the same input DataFrame (to facilitate pipelining) and the stats dictionary.\n",
      "\n",
      "    Required Parameters:\n",
      "        - `input_data` (`str` / `pd.DataFrame`): Path to a CSV file or DataFrame with annotated oligopool variants.\n",
      "        - `oligo_length_limit` (`int`): Maximum allowed oligo length (≥ 4).\n",
      "\n",
      "    Returns:\n",
      "        - A pandas DataFrame of input data, without altering it.\n",
      "        - A dictionary of stats from the last step in pipeline.\n",
      "\n",
      "    Notes:\n",
      "        - `input_data` must contain a unique 'ID' column, all other columns must be non-empty DNA strings.\n",
      "        - `lenstat` module does not add anything to `input_data`, so there is no `output_file` required.\n",
      "\n"
     ]
    }
   ],
   "source": [
    "help(op.lenstat)"
   ]
  },
  {
   "cell_type": "code",
   "execution_count": 32,
   "metadata": {},
   "outputs": [
    {
     "name": "stdout",
     "output_type": "stream",
     "text": [
      "\n",
      "[Oligopool Calculator: Design Mode - Length Statistics]\n",
      "                                                         \n",
      " Required Arguments\n",
      " Input Data : DataFrame w/ 6,232 Record(s)\n",
      " Oligo Limit: At most 170 Base Pair(s)     \n",
      "                                       \n",
      "[Step 1: Computing Length Statistics]\n",
      " Element AatII: Occupies 6 Base Pair(s)                 \n",
      " Time Elapsed: 0.01 sec\n",
      "                        \n",
      "[Length Statistics]\n",
      "\n",
      "                           Min     Max    Min    Max    Oligo\n",
      "                       Element Element  Oligo  Oligo    Limit\n",
      "                        Length  Length Length Length Overflow\n",
      "                 EcoRI    6 bp    6 bp   6 bp   6 bp       No\n",
      " Orange_Forward_Primer   20 bp   20 bp  26 bp  26 bp       No\n",
      "                   BC1   11 bp   11 bp  37 bp  37 bp       No\n",
      "               Variant   59 bp   73 bp  96 bp 110 bp       No\n",
      "   Pink_Forward_Primer   20 bp   20 bp 116 bp 130 bp       No\n",
      "                   BC2   11 bp   11 bp 127 bp 141 bp       No\n",
      " Yellow_Reverse_Primer   20 bp   20 bp 147 bp 161 bp       No\n",
      "                 AatII    6 bp    6 bp 153 bp 167 bp       No\n",
      "                     \n",
      " Free Space Available: 3 to 17 Base Pair(s)\n",
      " Time Elapsed: 0.01 sec                      \n",
      "\n"
     ]
    }
   ],
   "source": [
    "df, _ = op.lenstat(input_data=df, oligo_length_limit=170);"
   ]
  },
  {
   "cell_type": "markdown",
   "metadata": {},
   "source": [
    "We have between 3 to 17 bases that needed to be filled with neutral spacers."
   ]
  },
  {
   "cell_type": "markdown",
   "metadata": {},
   "source": [
    "#### Adding neutral motifs, spacers and finalizing library"
   ]
  },
  {
   "cell_type": "code",
   "execution_count": 33,
   "metadata": {},
   "outputs": [
    {
     "data": {
      "text/plain": [
       "Index(['EcoRI', 'Orange_Forward_Primer', 'BC1', 'Variant',\n",
       "       'Pink_Forward_Primer', 'BC2', 'Yellow_Reverse_Primer', 'AatII'],\n",
       "      dtype='object')"
      ]
     },
     "execution_count": 33,
     "metadata": {},
     "output_type": "execute_result"
    }
   ],
   "source": [
    "df.columns"
   ]
  },
  {
   "cell_type": "markdown",
   "metadata": {},
   "source": [
    "The last element in our oligo is a `AatII` restriction site, and we want to add 3 to 17 bases of filler next to it. We can do this using the `spacer` module."
   ]
  },
  {
   "cell_type": "markdown",
   "metadata": {},
   "source": [
    "But suppose we wanted to add a filler site based on a degenerate sequence constraint, a motif? We would use the `motif` module instead."
   ]
  },
  {
   "cell_type": "code",
   "execution_count": 34,
   "metadata": {},
   "outputs": [
    {
     "name": "stdout",
     "output_type": "stream",
     "text": [
      "Help on function motif in module oligopool.motif:\n",
      "\n",
      "motif(input_data: str | pandas.core.frame.DataFrame, oligo_length_limit: int, motif_sequence_constraint: str, motif_column: str, output_file: str | None = None, left_context_column: str | None = None, right_context_column: str | None = None, excluded_motifs: list | str | pandas.core.frame.DataFrame | None = None, verbose: bool = True) -> Tuple[pandas.core.frame.DataFrame, dict]\n",
      "    Adds a constant or designs constrained motifs free of edge-effects between the given sequence\n",
      "    contexts. Addition of motifs will not produce excluded motifs unless one was embedded in it.\n",
      "    Returned DataFrame with added motifs can optionally be saved to a CSV.\n",
      "\n",
      "    Required Parameters:\n",
      "        - `input_data` (`str` / `pd.DataFrame`): Path to a CSV file or DataFrame with annotated oligopool variants.\n",
      "        - `oligo_length_limit` (`int`): Maximum allowed oligo length (≥ 4).\n",
      "        - `motif_sequence_constraint` (`int`): IUPAC degenerate sequence constraint, or a constant.\n",
      "        - `motif_column` (`str`): Column name for inserting the designed motifs.\n",
      "\n",
      "    Optional Parameters:\n",
      "        - `output_file` (`str` / `None`): Filename for output DataFrame (default: `None`).\n",
      "        - `left_context_column` (`str` / `None`): Column for left DNA context (default: `None`).\n",
      "        - `right_context_column` (`str` / `None`): Column for right DNA context (default: `None`).\n",
      "        - `excluded_motifs` (`list` / `str` / `pd.DataFrame` / `None`): Motifs to exclude;\n",
      "            can be a CSV path or DataFrame (default: `None`).\n",
      "        - `verbose` (`bool`): If `True`, logs updates to stdout (default: `True`).\n",
      "\n",
      "    Returns:\n",
      "        - A pandas DataFrame of added motifs; saves to `output_file` if specified.\n",
      "        - A dictionary of stats from the last step in pipeline.\n",
      "\n",
      "    Notes:\n",
      "        - `input_data` must contain a unique 'ID' column, all other columns must be non-empty DNA strings.\n",
      "        - Column names in `input_data` must be unique, and exclude `primer_column`.\n",
      "        - At least one of `left_context_column` or `right_context_column` must be specified.\n",
      "        - If `excluded_motifs` is a CSV or DataFrame, it must have 'ID' and 'Exmotif' columns.\n",
      "        - Constants in sequence constraint may lead to `excluded_motifs` and be impossible to solve.\n",
      "\n"
     ]
    }
   ],
   "source": [
    "help(op.motif)"
   ]
  },
  {
   "cell_type": "markdown",
   "metadata": {},
   "source": [
    "We will see this function in action by first removing the `AatII` motif column and replacing with a degenerate motif containing the restriction site but with 3 `'N'`s on its right flank."
   ]
  },
  {
   "cell_type": "code",
   "execution_count": 35,
   "metadata": {},
   "outputs": [],
   "source": [
    "df = df.drop(columns=['AatII'])"
   ]
  },
  {
   "cell_type": "code",
   "execution_count": 36,
   "metadata": {},
   "outputs": [
    {
     "data": {
      "text/plain": [
       "Index(['EcoRI', 'Orange_Forward_Primer', 'BC1', 'Variant',\n",
       "       'Pink_Forward_Primer', 'BC2', 'Yellow_Reverse_Primer'],\n",
       "      dtype='object')"
      ]
     },
     "execution_count": 36,
     "metadata": {},
     "output_type": "execute_result"
    }
   ],
   "source": [
    "df.columns"
   ]
  },
  {
   "cell_type": "code",
   "execution_count": 37,
   "metadata": {},
   "outputs": [
    {
     "name": "stdout",
     "output_type": "stream",
     "text": [
      "\n",
      "[Oligopool Calculator: Design Mode - Motif]\n",
      "                                             \n",
      " Required Arguments\n",
      "    Input Data    : DataFrame w/ 6,232 Record(s)\n",
      "    Oligo Limit   : At most 170 Base Pair(s)     \n",
      "    Motif Sequence: A 9 Base Pair IUPAC Constraint\n",
      "    Motif Column  : Output in Column 'AatII_Padded'\n",
      "   Output File    : In-Memory DataFrame             \n",
      "                                        \n",
      " Optional Arguments\n",
      "     Left Context : Input from Column 'Yellow_Reverse_Primer'\n",
      "    Right Context : None Specified                            \n",
      " Excluded Motifs  : 2 Unique Motif(s)\n",
      "                                      \n",
      "[Step 1: Parsing Oligo Limit]\n",
      " Maximum Oligo Length:  170 Base Pair(s)\n",
      " Input Variant Length:  147 to 161 Base Pair(s)\n",
      "   Reqd. Motif Length:    9 Base Pair(s)        \n",
      " Free Space Available:    9 to 23 Base Pair(s)\n",
      " Time Elapsed: 0.01 sec                        \n",
      " Verdict: Motif Design Possibly Feasible\n",
      "                                         \n",
      "[Step 2: Parsing Excluded Motifs]\n",
      " Sorted and Enqued: 2 Unique Excluded Motif(s)\n",
      " Excluded Motif Length Distribution              \n",
      "   - 2 Motif(s) of Length 6         \n",
      " Time Elapsed: 0.00 sec                         \n",
      " Verdict: Motif Design Possibly Feasible\n",
      "                                         \n",
      "[Step 3: Parsing Motif Sequence]\n",
      " Design Space: 64 Possible Motif(s)\n",
      " Found 1 Excluded Motif(s)          \n",
      "   - Excluded Motif 'GACGTC' Present [WARNING] (Excluded Motif Embedded)\n",
      " Time Elapsed: 0.00 sec                                                  \n",
      " Verdict: Motif Design with Embedded Excluded Motif(s)\n",
      "                                                       \n",
      "[Step 4: Extracting Context Sequences]\n",
      "  Left Context: 1 Unique Sequence(s)               \n",
      " Right Context: 0 Unique Sequence(s) \n",
      "  Time Elapsed: 0.01 sec             \n",
      "                         \n",
      "[Step 5: Parsing Edge Effects]\n",
      "  Left Context 1: ...CCCGAG Prevents 3 Prefix(es)\n",
      " Time Elapsed: 0.00 sec\n",
      " Verdict: Motif Design Possibly Feasible\n",
      "                                         \n",
      "[Step 6: Computing Motifs]\n",
      " Candidate 6,232: Motif GACGTCGTG is Accepted              \n",
      " Time Elapsed: 1.71 sec\n",
      "                        \n",
      "[Motif Design Statistics]\n",
      "  Design Status   : Successful\n",
      "  Target Count    : 6,232 Motif(s)\n",
      "   Motif Count    : 6,232 Motif(s) (100.00 %)\n",
      " Time Elapsed: 1.73 sec                       \n",
      "\n"
     ]
    }
   ],
   "source": [
    "df, _ = op.motif(\n",
    "    input_data=df,\n",
    "    oligo_length_limit=170,\n",
    "    motif_sequence_constraint='GACGTC'+'NNN', # The AatII motif with right flanking Ns\n",
    "    motif_column='AatII_Padded',\n",
    "    left_context_column='Yellow_Reverse_Primer',\n",
    "    right_context_column=None,\n",
    "    excluded_motifs=['GAATTC', 'GACGTC'],     # Notice how we are still forbidding the emergence of AatII here\n",
    "    output_file=None,\n",
    ")"
   ]
  },
  {
   "cell_type": "markdown",
   "metadata": {},
   "source": [
    "Step 3 in the `motif` pipeline warned us about the presence of the `'GACGTC'` in our constraint itself. Nonetheless, the design step was successful."
   ]
  },
  {
   "cell_type": "code",
   "execution_count": 38,
   "metadata": {},
   "outputs": [
    {
     "name": "stdout",
     "output_type": "stream",
     "text": [
      "\n",
      "[Oligopool Calculator: Design Mode - Length Statistics]\n",
      "                                                         \n",
      " Required Arguments\n",
      " Input Data : DataFrame w/ 6,232 Record(s)\n",
      " Oligo Limit: At most 170 Base Pair(s)     \n",
      "                                       \n",
      "[Step 1: Computing Length Statistics]\n",
      " Element AatII_Padded: Occupies 9 Base Pair(s)          \n",
      " Time Elapsed: 0.01 sec\n",
      "                        \n",
      "[Length Statistics]\n",
      "\n",
      "                           Min     Max    Min    Max    Oligo\n",
      "                       Element Element  Oligo  Oligo    Limit\n",
      "                        Length  Length Length Length Overflow\n",
      "                 EcoRI    6 bp    6 bp   6 bp   6 bp       No\n",
      " Orange_Forward_Primer   20 bp   20 bp  26 bp  26 bp       No\n",
      "                   BC1   11 bp   11 bp  37 bp  37 bp       No\n",
      "               Variant   59 bp   73 bp  96 bp 110 bp       No\n",
      "   Pink_Forward_Primer   20 bp   20 bp 116 bp 130 bp       No\n",
      "                   BC2   11 bp   11 bp 127 bp 141 bp       No\n",
      " Yellow_Reverse_Primer   20 bp   20 bp 147 bp 161 bp       No\n",
      "          AatII_Padded    9 bp    9 bp 156 bp 170 bp       No\n",
      "                     \n",
      " Free Space Available: 0 to 14 Base Pair(s)\n",
      " Time Elapsed: 0.01 sec                      \n",
      "\n"
     ]
    }
   ],
   "source": [
    "df, _ = op.lenstat(input_data=df, oligo_length_limit=170)"
   ]
  },
  {
   "cell_type": "markdown",
   "metadata": {},
   "source": [
    "We now only need spacers to pad the oligos to 170 bases. Free space available is between 0 to 14 bases."
   ]
  },
  {
   "cell_type": "code",
   "execution_count": 39,
   "metadata": {},
   "outputs": [
    {
     "name": "stdout",
     "output_type": "stream",
     "text": [
      "Help on function spacer in module oligopool.spacer:\n",
      "\n",
      "spacer(input_data: str | pandas.core.frame.DataFrame, oligo_length_limit: int, spacer_column: str, output_file: str | None = None, spacer_length: int | None = None, left_context_column: str | None = None, right_context_column: str | None = None, excluded_motifs: list | str | pandas.core.frame.DataFrame | None = None, verbose: bool = True) -> Tuple[pandas.core.frame.DataFrame, dict]\n",
      "    Inserts a fixed or variable length neutral spacers free from excluded motifs. If the spacer length\n",
      "    is not specified, then the spacer per oligo is such that the final length of the oligo matches\n",
      "    specified `oligo_length_limit`. Returned DataFrame can be written as a CSV file.\n",
      "\n",
      "    Required Parameters:\n",
      "        - `input_data` (`str` / `pd.DataFrame`): Path to a CSV file or DataFrame with annotated oligopool variants.\n",
      "        - `oligo_length_limit` (`int`): Maximum allowed oligo length (≥ 4).\n",
      "        - `motif_column` (`str`): Column name for inserting the designed spacers.\n",
      "\n",
      "    Optional Parameters:\n",
      "        - `output_file` (`str` / `None`): Filename for output DataFrame (default: `None`).\n",
      "        - `spacer_length` (`int` / `None`): Length of the inserted spacers,\n",
      "            if `None` automatically determine this length per oligo (default: `None`).\n",
      "        - `left_context_column` (`str` / `None`): Column for left DNA context (default: `None`).\n",
      "        - `right_context_column` (`str` / `None`): Column for right DNA context (default: `None`).\n",
      "        - `excluded_motifs` (`list` / `str` / `pd.DataFrame` / `None`): Motifs to exclude;\n",
      "            can be a CSV path or DataFrame (default: `None`).\n",
      "        - `verbose` (`bool`): If `True`, logs updates to stdout (default: `True`).\n",
      "\n",
      "    Returns:\n",
      "        - A pandas DataFrame of inserted spacers; saves to `output_file` if specified.\n",
      "        - A dictionary of stats from the last step in pipeline.\n",
      "\n",
      "    Notes:\n",
      "        - `input_data` must contain a unique 'ID' column, all other columns must be non-empty DNA strings.\n",
      "        - Column names in `input_data` must be unique, and exclude `spacer_column`.\n",
      "        - At least one of `left_context_column` or `right_context_column` must be specified.\n",
      "        - If `excluded_motifs` is a CSV or DataFrame, it must have 'ID' and 'Exmotif' columns.\n",
      "        - Oligo rows already summing to or exceeding `oligo_length_limit` have a `'-'` (dash) as spacer.\n",
      "\n"
     ]
    }
   ],
   "source": [
    "help(op.spacer)"
   ]
  },
  {
   "cell_type": "markdown",
   "metadata": {},
   "source": [
    "`Oligopool Calculator` can flexibly design our variable length spacers."
   ]
  },
  {
   "cell_type": "code",
   "execution_count": 40,
   "metadata": {},
   "outputs": [
    {
     "name": "stdout",
     "output_type": "stream",
     "text": [
      "\n",
      "[Oligopool Calculator: Design Mode - Spacer]\n",
      "                                              \n",
      " Required Arguments\n",
      "    Input Data   : DataFrame w/ 6,232 Record(s)\n",
      "    Oligo Limit  : At most 170 Base Pair(s)     \n",
      "   Spacer Column : Output in Column 'Spacer'\n",
      "   Output File   : In-Memory DataFrame       \n",
      "                                       \n",
      " Optional Arguments\n",
      "   Spacer Length : Computed from Oligo Length (Auto-Inferred)\n",
      "     Left Context: Input from Column 'AatII_Padded'           \n",
      "    Right Context: None Specified                   \n",
      " Excluded Motifs : 2 Unique Motif(s)\n",
      "                                     \n",
      "[Step 1: Extracting Spacer Length]\n",
      " Variant ribozyme_006232: Allows 3 Base Pair Spacer \n",
      " Time Elapsed: 1.64 sec\n",
      "                        \n",
      "[Step 2: Parsing Oligo Limit]\n",
      " Maximum Oligo Length:  170 Base Pair(s)\n",
      " Input Variant Length:  156 to 170 Base Pair(s)\n",
      "  Reqd. Spacer Length:    0 to 14 Base Pair(s)  \n",
      " Free Space Available:    0 to 14 Base Pair(s) \n",
      " Time Elapsed: 0.00 sec                        \n",
      " Verdict: Spacer Design Possibly Feasible\n",
      "                                          \n",
      "[Step 3: Extracting Spacer Groups]\n",
      " Spacer 6,232: Grouped w/ 438 Other Spacers\n",
      " Time Elapsed: 1.68 sec\n",
      "                        \n",
      "[Step 4: Parsing Excluded Motifs]\n",
      " Sorted and Enqued: 2 Unique Excluded Motif(s)\n",
      " Excluded Motif Length Distribution              \n",
      "   - 2 Motif(s) of Length 6         \n",
      " Time Elapsed: 0.00 sec                         \n",
      " Verdict: Spacer Design Possibly Feasible\n",
      "                                          \n",
      "[Step 5: Extracting Context Sequences]\n",
      "  Left Context: 1 Unique Sequence(s)               \n",
      " Right Context: 0 Unique Sequence(s) \n",
      "  Time Elapsed: 0.01 sec             \n",
      "                         \n",
      "[Step 6: Parsing Edge Effects]\n",
      "  Left Context 1: ...GTCGTG Prevents 3 Prefix(es)\n",
      " Time Elapsed: 0.00 sec\n",
      " Verdict: Motif Design Possibly Feasible\n",
      "                                         \n",
      "[Step 7: Computing Spacers]\n",
      " Candidate 6,232: Spacer CAG is Accepted                         \n",
      " Time Elapsed: 1.68 sec\n",
      "                        \n",
      "[Spacer Design Statistics]\n",
      "  Design Status   : Successful\n",
      "  Target Count    : 6,232 Spacer(s)\n",
      "  Spacer Count    : 6,232 Spacer(s) (100.00 %)\n",
      " Time Elapsed: 5.02 sec                        \n",
      "\n"
     ]
    }
   ],
   "source": [
    "df, _ = op.spacer(\n",
    "    input_data=df,\n",
    "    oligo_length_limit=170, # We will automatically add spacers to match this length\n",
    "    spacer_column='Spacer',\n",
    "    left_context_column='AatII_Padded',\n",
    "    right_context_column=None,\n",
    "    excluded_motifs=['GAATTC', 'GACGTC'],\n",
    "    verbose=True)"
   ]
  },
  {
   "cell_type": "code",
   "execution_count": 41,
   "metadata": {},
   "outputs": [
    {
     "name": "stdout",
     "output_type": "stream",
     "text": [
      "\n",
      "[Oligopool Calculator: Design Mode - Length Statistics]\n",
      "                                                         \n",
      " Required Arguments\n",
      " Input Data : DataFrame w/ 6,232 Record(s)\n",
      " Oligo Limit: At most 170 Base Pair(s)     \n",
      "                                       \n",
      "[Step 1: Computing Length Statistics]\n",
      " Element Spacer: Occupies 0 to 14 Base Pair(s)          \n",
      " Time Elapsed: 0.01 sec\n",
      "                        \n",
      "[Length Statistics]\n",
      "\n",
      "                           Min     Max    Min    Max    Oligo\n",
      "                       Element Element  Oligo  Oligo    Limit\n",
      "                        Length  Length Length Length Overflow\n",
      "                 EcoRI    6 bp    6 bp   6 bp   6 bp       No\n",
      " Orange_Forward_Primer   20 bp   20 bp  26 bp  26 bp       No\n",
      "                   BC1   11 bp   11 bp  37 bp  37 bp       No\n",
      "               Variant   59 bp   73 bp  96 bp 110 bp       No\n",
      "   Pink_Forward_Primer   20 bp   20 bp 116 bp 130 bp       No\n",
      "                   BC2   11 bp   11 bp 127 bp 141 bp       No\n",
      " Yellow_Reverse_Primer   20 bp   20 bp 147 bp 161 bp       No\n",
      "          AatII_Padded    9 bp    9 bp 156 bp 170 bp       No\n",
      "                Spacer    0 bp   14 bp 170 bp 170 bp       No\n",
      "                     \n",
      " Free Space Available: 0 Base Pair(s)\n",
      " Time Elapsed: 0.01 sec                \n",
      "\n"
     ]
    }
   ],
   "source": [
    "df, _ = op.lenstat(input_data=df, oligo_length_limit=170)"
   ]
  },
  {
   "cell_type": "markdown",
   "metadata": {},
   "source": [
    "Our library is complete, all elements have been added, and the oligos are all 170 bases. Let's finalize our library usng the `final` module."
   ]
  },
  {
   "cell_type": "code",
   "execution_count": 42,
   "metadata": {},
   "outputs": [],
   "source": [
    "# help(op.final)"
   ]
  },
  {
   "cell_type": "code",
   "execution_count": 43,
   "metadata": {},
   "outputs": [
    {
     "name": "stdout",
     "output_type": "stream",
     "text": [
      "\n",
      "[Oligopool Calculator: Design Mode - Final]\n",
      "                                             \n",
      " Required Arguments\n",
      "  Input Data: DataFrame w/ 6,232 Record(s)\n",
      " Output File: In-Memory DataFrame          \n",
      "                                  \n",
      "[Step 1: Finalizing Oligopool]\n",
      " Finalization Completed         \n",
      " Time Elapsed: 0.01 sec \n",
      "                        \n",
      "[Finalization Statistics]\n",
      " Final Status: Successful  \n",
      " Oligo Length: 170 Base Pair(s)\n",
      " Time Elapsed: 0.01 sec         \n",
      "\n"
     ]
    }
   ],
   "source": [
    "final_df, _ = op.final(input_data=df)"
   ]
  },
  {
   "cell_type": "code",
   "execution_count": 44,
   "metadata": {},
   "outputs": [
    {
     "data": {
      "text/html": [
       "<div>\n",
       "<style scoped>\n",
       "    .dataframe tbody tr th:only-of-type {\n",
       "        vertical-align: middle;\n",
       "    }\n",
       "\n",
       "    .dataframe tbody tr th {\n",
       "        vertical-align: top;\n",
       "    }\n",
       "\n",
       "    .dataframe thead th {\n",
       "        text-align: right;\n",
       "    }\n",
       "</style>\n",
       "<table border=\"1\" class=\"dataframe\">\n",
       "  <thead>\n",
       "    <tr style=\"text-align: right;\">\n",
       "      <th></th>\n",
       "      <th>CompleteOligo</th>\n",
       "      <th>OligoLength</th>\n",
       "    </tr>\n",
       "    <tr>\n",
       "      <th>ID</th>\n",
       "      <th></th>\n",
       "      <th></th>\n",
       "    </tr>\n",
       "  </thead>\n",
       "  <tbody>\n",
       "    <tr>\n",
       "      <th>ribozyme_000001</th>\n",
       "      <td>GAATTCACAAGGGCGGACAGGCTAATGGGCCTAAGCCCGTTCAGAA...</td>\n",
       "      <td>170</td>\n",
       "    </tr>\n",
       "    <tr>\n",
       "      <th>ribozyme_000002</th>\n",
       "      <td>GAATTCACAAGGGCGGACAGGCTAATCTACTTAAGAGTCTTCTATC...</td>\n",
       "      <td>170</td>\n",
       "    </tr>\n",
       "    <tr>\n",
       "      <th>ribozyme_000003</th>\n",
       "      <td>GAATTCACAAGGGCGGACAGGCTAATAGAAGAGCGGAGCTGATTCA...</td>\n",
       "      <td>170</td>\n",
       "    </tr>\n",
       "    <tr>\n",
       "      <th>ribozyme_000004</th>\n",
       "      <td>GAATTCACAAGGGCGGACAGGCTAATGACGGAGAGGCCATATCTCT...</td>\n",
       "      <td>170</td>\n",
       "    </tr>\n",
       "    <tr>\n",
       "      <th>ribozyme_000005</th>\n",
       "      <td>GAATTCACAAGGGCGGACAGGCTAATCTTTGCCGAAGGCATCCGTT...</td>\n",
       "      <td>170</td>\n",
       "    </tr>\n",
       "  </tbody>\n",
       "</table>\n",
       "</div>"
      ],
      "text/plain": [
       "                                                     CompleteOligo  \\\n",
       "ID                                                                   \n",
       "ribozyme_000001  GAATTCACAAGGGCGGACAGGCTAATGGGCCTAAGCCCGTTCAGAA...   \n",
       "ribozyme_000002  GAATTCACAAGGGCGGACAGGCTAATCTACTTAAGAGTCTTCTATC...   \n",
       "ribozyme_000003  GAATTCACAAGGGCGGACAGGCTAATAGAAGAGCGGAGCTGATTCA...   \n",
       "ribozyme_000004  GAATTCACAAGGGCGGACAGGCTAATGACGGAGAGGCCATATCTCT...   \n",
       "ribozyme_000005  GAATTCACAAGGGCGGACAGGCTAATCTTTGCCGAAGGCATCCGTT...   \n",
       "\n",
       "                 OligoLength  \n",
       "ID                            \n",
       "ribozyme_000001          170  \n",
       "ribozyme_000002          170  \n",
       "ribozyme_000003          170  \n",
       "ribozyme_000004          170  \n",
       "ribozyme_000005          170  "
      ]
     },
     "execution_count": 44,
     "metadata": {},
     "output_type": "execute_result"
    }
   ],
   "source": [
    "final_df.head(5)"
   ]
  },
  {
   "cell_type": "markdown",
   "metadata": {},
   "source": [
    "> **Note** All annotations of the individual oligos are lost in this step. So, we saved it to a new DataFrame. In general, it is a good idea to store the result of each step in `Design Mode` to a separate variable if we were designing our pools interactively, and wanted to roll back."
   ]
  },
  {
   "cell_type": "code",
   "execution_count": null,
   "metadata": {},
   "outputs": [],
   "source": []
  },
  {
   "cell_type": "code",
   "execution_count": null,
   "metadata": {},
   "outputs": [],
   "source": []
  },
  {
   "cell_type": "code",
   "execution_count": null,
   "metadata": {},
   "outputs": [],
   "source": []
  },
  {
   "cell_type": "code",
   "execution_count": null,
   "metadata": {},
   "outputs": [],
   "source": []
  },
  {
   "cell_type": "code",
   "execution_count": null,
   "metadata": {},
   "outputs": [],
   "source": []
  },
  {
   "cell_type": "code",
   "execution_count": null,
   "metadata": {},
   "outputs": [],
   "source": []
  },
  {
   "cell_type": "code",
   "execution_count": null,
   "metadata": {},
   "outputs": [],
   "source": []
  },
  {
   "cell_type": "code",
   "execution_count": null,
   "metadata": {},
   "outputs": [],
   "source": []
  },
  {
   "cell_type": "code",
   "execution_count": null,
   "metadata": {},
   "outputs": [],
   "source": []
  }
 ],
 "metadata": {
  "kernelspec": {
   "display_name": "Python 3 (ipykernel)",
   "language": "python",
   "name": "python3"
  },
  "language_info": {
   "codemirror_mode": {
    "name": "ipython",
    "version": 3
   },
   "file_extension": ".py",
   "mimetype": "text/x-python",
   "name": "python",
   "nbconvert_exporter": "python",
   "pygments_lexer": "ipython3",
   "version": "3.12.6"
  }
 },
 "nbformat": 4,
 "nbformat_minor": 4
}
