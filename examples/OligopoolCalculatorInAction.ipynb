{
 "cells": [
  {
   "cell_type": "markdown",
   "metadata": {},
   "source": [
    "## `Oligopool Calculator` in Action!"
   ]
  },
  {
   "cell_type": "markdown",
   "metadata": {},
   "source": [
    "**Author** Ayaan Hossain\n",
    "\n",
    "**Updated** Sepetember 30, 2024"
   ]
  },
  {
   "cell_type": "markdown",
   "metadata": {},
   "source": [
    "This `jupyter` notebook will demonstrate the usage of `Oligopool Calculator` and describe how to use its many functions."
   ]
  },
  {
   "cell_type": "markdown",
   "metadata": {},
   "source": [
    "### Table of Contents"
   ]
  },
  {
   "cell_type": "markdown",
   "metadata": {},
   "source": [
    "* [Notebook Setup](#Notebook-Setup)\n",
    "\n",
    "* [What is Oligopool Calculator?](#What-is-Oligopool-Calculator?)\n",
    "\n",
    "* [Design Mode Walthrough - An oligopool of 100K ribozyme variants](#Design-Mode-Walkthrough---An-oligopool-of-100K-ribozyme-variants)\n",
    "    * [Simulate the problem](#Simulate-the-problem)\n",
    "    * [Review constraints and formulate gameplan](#Review-constraints-and-formulate-gameplan)\n",
    "    * [Primer design review](#Primer-design-review)\n",
    "    * [Storing the plasmid background](#Storing-the-plasmid-background)\n",
    "    * [Designing the three primers](#Designing-the-three-primers)"
   ]
  },
  {
   "cell_type": "markdown",
   "metadata": {},
   "source": [
    "### Notebook Setup"
   ]
  },
  {
   "cell_type": "markdown",
   "metadata": {},
   "source": [
    "If you [installed](https://github.com/ayaanhossain/oligopool#Installation) `Oligopool Calculator` successfully, you have everything you need to follow along."
   ]
  },
  {
   "cell_type": "markdown",
   "metadata": {},
   "source": [
    "Let's first import `oligopool`."
   ]
  },
  {
   "cell_type": "code",
   "execution_count": 1,
   "metadata": {},
   "outputs": [],
   "source": [
    "import oligopool as op"
   ]
  },
  {
   "cell_type": "markdown",
   "metadata": {},
   "source": [
    "Hopefully, the import worked without throwing up any errors! If you face issues importing, please [open an issue](https://github.com/ayaanhossain/oligopool/issues)."
   ]
  },
  {
   "cell_type": "markdown",
   "metadata": {},
   "source": [
    "Let us also import `numpy` to do some math, and use `pandas` as our central data container."
   ]
  },
  {
   "cell_type": "code",
   "execution_count": 2,
   "metadata": {},
   "outputs": [],
   "source": [
    "import numpy  as np\n",
    "import pandas as pd"
   ]
  },
  {
   "cell_type": "markdown",
   "metadata": {},
   "source": [
    "We will also need `matplotlib`/`seaborn` for plotting."
   ]
  },
  {
   "cell_type": "code",
   "execution_count": 3,
   "metadata": {},
   "outputs": [],
   "source": [
    "import matplotlib.pyplot as plt\n",
    "import seaborn as sns"
   ]
  },
  {
   "cell_type": "markdown",
   "metadata": {},
   "source": [
    "Lastly, we will need to use some operating system functions to manipulate files and directories."
   ]
  },
  {
   "cell_type": "code",
   "execution_count": 4,
   "metadata": {},
   "outputs": [],
   "source": [
    "import os"
   ]
  },
  {
   "cell_type": "markdown",
   "metadata": {},
   "source": [
    "We're all set."
   ]
  },
  {
   "cell_type": "markdown",
   "metadata": {},
   "source": [
    "### What is Oligopool Calculator?"
   ]
  },
  {
   "cell_type": "markdown",
   "metadata": {},
   "source": [
    "Oligonucleotide pools (oligopools) have revolutionized synthetic biology by enabling large-scale, cost-effective synthesis of hundreds of thousands of unique, short single-stranded DNA sequences through semiconductor-based technology, with major providers leading the market."
   ]
  },
  {
   "cell_type": "markdown",
   "metadata": {},
   "source": [
    "These oligopools facilitate the creation and study of various biological components, including de novo promoters, ribozymes, protein scaffolds, and CRISPR libraries. Massively parallel reporter assays (MPRAs) are utilized to clone and assess the functionality of these variants using high-throughput next-generation sequencing (NGS), which can generate billions of short reads per experiment."
   ]
  },
  {
   "cell_type": "markdown",
   "metadata": {},
   "source": [
    "Oligopool technology is shaping up to be a cornerstone of contemporary synthetic biology research."
   ]
  },
  {
   "cell_type": "markdown",
   "metadata": {},
   "source": [
    "Looking ahead, advancements are expected in the number and length of oligos, NGS throughput, and reductions in manufacturing costs. Successful projects would then require not only core functional variants but also essential components like primers for amplification, spacers for structural integrity, and barcodes for accurate quantification via NGS."
   ]
  },
  {
   "cell_type": "markdown",
   "metadata": {},
   "source": [
    "![Oligopool Calculator Workflow](https://raw.githubusercontent.com/ayaanhossain/repfmt/refs/heads/main/oligopool/img/workflow.svg)"
   ]
  },
  {
   "cell_type": "markdown",
   "metadata": {},
   "source": [
    "`Oligopool Calculator` is a comprehensive tool for designing and analyzing large-scale oligonucleotide pools used in synthetic biology research."
   ]
  },
  {
   "cell_type": "markdown",
   "metadata": {},
   "source": [
    "In **(a)** `Design Mode`, the algorithms optimize various elements of the oligopool, including barcodes, primers, spacers, and degenerate motifs. It ensures that these components are maximally distinct, non-repetitive, and free from undesired sequences or structures. The tool also enables the splitting of long oligos into shorter fragments with optimized overlaps for downstream assembly."
   ]
  },
  {
   "cell_type": "markdown",
   "metadata": {},
   "source": [
    "The **(b)** `Analysis Mode` of the Oligopool Calculator facilitates the processing of next-generation sequencing (NGS) data derived from barcoded amplicons. This mode allows for efficient mapping and counting of variants and their associated barcodes, producing count matrices for quantitative assessment of variant functionality. Two types of counting operations are supported: Association counting for assessing synthesis accuracy, and Combinatorial counting for analyzing multiple barcode combinations from sequencing reads."
   ]
  },
  {
   "cell_type": "markdown",
   "metadata": {},
   "source": [
    "Overall `Oligopool Calculator` provides synthetic biologists with a unified platform for oligopool design and characterization, addressing the need for a standardized approach across different projects and labs. This tool eliminates the need for reinventing design scripts or using suboptimal strategies, making it particularly valuable for designing and analyzing pools containing millions of defined variants."
   ]
  },
  {
   "cell_type": "markdown",
   "metadata": {},
   "source": [
    "### Design Mode Walkthrough - An oligopool of 6K ribozyme variants"
   ]
  },
  {
   "cell_type": "markdown",
   "metadata": {},
   "source": [
    "Suppose we want to design and test a library of 6,232 ribozyme variants based on the following architecture, which we characterized as part of our paper."
   ]
  },
  {
   "cell_type": "markdown",
   "metadata": {},
   "source": [
    "![Ribozyme Library Architecture](https://raw.githubusercontent.com/ayaanhossain/repfmt/refs/heads/main/oligopool/img/architecture.svg)"
   ]
  },
  {
   "cell_type": "markdown",
   "metadata": {},
   "source": [
    "In the actual experiment, we designed them to be highly non-repetitive hammerhead ribozymes with a maximum shared repeat length of 16 bases using [`Non-Repetitive Parts Calculator`](https://github.com/ayaanhossain/nrpcalc), for simultaneous use as insulators in engineering large genetic system designs."
   ]
  },
  {
   "cell_type": "markdown",
   "metadata": {},
   "source": [
    "To characterize the activity of our ribozyme library in _E. coli_ we adopted a two-barcode strategy for designing the oligopool. Because ribozymes are self-cleaving, the two barcodes, BC1 and BC2, placed before and after the core variant would be separated after catalysis. This allowed us to count the ratio of their separation to quantify the efficiency of the ribozymes on a proportional scale (i.e., 0 to 100% cleavage efficiency) and normalize against wildtype ribozyme cleavage efficiencies."
   ]
  },
  {
   "cell_type": "markdown",
   "metadata": {},
   "source": [
    "#### Simulate the problem"
   ]
  },
  {
   "cell_type": "markdown",
   "metadata": {},
   "source": [
    "For the purposes of demonstration, let us first generate a random library of 59-73 mers (designing exact ribozymes is beyond the scope here) and assume that the library will be cloned into a 5kb plasmid backbone for characterization, which we will also generate."
   ]
  },
  {
   "cell_type": "code",
   "execution_count": 5,
   "metadata": {},
   "outputs": [],
   "source": [
    "rng = np.random.default_rng(seed=42)"
   ]
  },
  {
   "cell_type": "code",
   "execution_count": 6,
   "metadata": {},
   "outputs": [],
   "source": [
    "dna = ['A', 'T', 'G', 'C']"
   ]
  },
  {
   "cell_type": "code",
   "execution_count": 7,
   "metadata": {},
   "outputs": [],
   "source": [
    "ribozymes = [''.join(rng.choice(dna, size=rng.integers(low=59, high=74))) for _ in range(6232)]"
   ]
  },
  {
   "cell_type": "code",
   "execution_count": 8,
   "metadata": {},
   "outputs": [
    {
     "data": {
      "image/png": "[encoded data removed]",
      "text/plain": [
       "<Figure size 1200x300 with 1 Axes>"
      ]
     },
     "metadata": {},
     "output_type": "display_data"
    }
   ],
   "source": [
    "fig,ax = plt.subplots(1,1,figsize=(12,3))\n",
    "sns.histplot([len(x) for x in ribozymes], binwidth=1)\n",
    "ax.set_xticks(np.arange(59,74))\n",
    "ax.set_xlabel('Ribozyme Length')\n",
    "plt.show()"
   ]
  },
  {
   "cell_type": "code",
   "execution_count": 9,
   "metadata": {},
   "outputs": [
    {
     "data": {
      "text/plain": [
       "6232"
      ]
     },
     "execution_count": 9,
     "metadata": {},
     "output_type": "execute_result"
    }
   ],
   "source": [
    "len(ribozymes)"
   ]
  },
  {
   "cell_type": "code",
   "execution_count": 10,
   "metadata": {},
   "outputs": [],
   "source": [
    "plasmid = ''.join(rng.choice(dna) for _ in range(5000))"
   ]
  },
  {
   "cell_type": "code",
   "execution_count": 11,
   "metadata": {},
   "outputs": [
    {
     "data": {
      "text/plain": [
       "5000"
      ]
     },
     "execution_count": 11,
     "metadata": {},
     "output_type": "execute_result"
    }
   ],
   "source": [
    "len(plasmid) # 5kbp long plasmid"
   ]
  },
  {
   "cell_type": "markdown",
   "metadata": {},
   "source": [
    "#### Review constraints and formulate gameplan"
   ]
  },
  {
   "cell_type": "markdown",
   "metadata": {},
   "source": [
    "So, we have 6,232 simulated candidates, between 59 to 73bp in length and a plasmid of length 5kbp."
   ]
  },
  {
   "cell_type": "markdown",
   "metadata": {},
   "source": [
    "The design goal is straightforward. We have our simulated ribozyme library to start, and we know we want to use `EcoRI` and `AatII` as our restriction sites as part of the characterization process. What we can do now is use `Oligopool Calculator` to design the following.\n",
    "* Three primers, each 20bp in length,\n",
    "* The prefix and suffix barcodes each 11bp in length, and\n",
    "* Variable length spacers ranging from 3 to 17bp to pad the oligos to 170bp."
   ]
  },
  {
   "cell_type": "markdown",
   "metadata": {},
   "source": [
    "As constraints, we aim to have the following.\n",
    "* The primers should not have off-target binding within the library or to the backbone,\n",
    "* Addition of primers, barcodes or spacers should not introduce `EcoRI` and `AatII` motifs elsewhere, and\n",
    "* The barcodes should all have at least 3 mismatches separating each other."
   ]
  },
  {
   "cell_type": "markdown",
   "metadata": {},
   "source": [
    "Other realistic constraints, such as exclusion of all palindomic hexamers, or polymeric runs such as `'AAAAA'`, ..., `'CCCC'` may be included as they were in the original projects, but we will skip those for this demonstration. In reality, multiple constaints will depend on the design goals."
   ]
  },
  {
   "cell_type": "markdown",
   "metadata": {},
   "source": [
    "How do we begin? By asking `help` from `Oligopool Calculator`."
   ]
  },
  {
   "cell_type": "code",
   "execution_count": 12,
   "metadata": {
    "scrolled": false
   },
   "outputs": [
    {
     "name": "stdout",
     "output_type": "stream",
     "text": [
      "Help on package oligopool:\n",
      "\n",
      "NAME\n",
      "    oligopool\n",
      "\n",
      "DESCRIPTION\n",
      "    oligopool v2024.09.29\n",
      "    by ah\n",
      "\n",
      "    Automated design and analysis of oligopool libraries.\n",
      "\n",
      "    The various modules in Oligopool Calculator can be used\n",
      "    interactively in a jupyter notebook, or be used to define\n",
      "    scripts for design and analysis pipelines on the cloud.\n",
      "\n",
      "    Oligopool Calculator offers two modes of operation\n",
      "        -   Design Mode for designing oligopool library\n",
      "        - Analysis Mode for analyzing oligopool datasets\n",
      "\n",
      "    Design Mode workflow\n",
      "\n",
      "        1. Initialize a pandas DataFrame with core library elements\n",
      "            a. The DataFrame must contain a unique 'ID' column serving as primary key\n",
      "            b. All other columns in the DataFrame must be DNA sequences or a - (dash)\n",
      "        2. Next, define any optional background sequences via the background module\n",
      "        3. Add necessary oligopool elements with constraints via design modules\n",
      "        4. Optionally, split long oligos and pad them via assembly modules\n",
      "        5. Perform length checks as needed and finalize library via auxiliary modules\n",
      "\n",
      "        Example:\n",
      "        >>> import oligopool as op\n",
      "        >>>\n",
      "        >>> # Read initial library\n",
      "        >>> init_df = pd.read_csv('initial_library.csv')\n",
      "        >>>\n",
      "        >>> # Add oligo elements\n",
      "        >>> barcode_df, barcod_stats = op.barcode(input_data=init_df, ...)\n",
      "        >>> primer_df,  primer_stats = op.primer(input_data=barcode_df, ...)\n",
      "        >>>\n",
      "        >>> # Check length statistics\n",
      "        >>> op.lenstat(input_data=primer_df)\n",
      "        >>>\n",
      "        >>> # Split and pad longer oligos if needed\n",
      "        >>> split_df, split_stats = op.split(input_data=primer_df, ...)\n",
      "        >>> pad_df, pad_stats     = op.pad(input_data=split_df, ...)\n",
      "        >>>\n",
      "        >>> # Finalize and export library\n",
      "        >>> final_df, final_stats = op.final(input_data=split_df, ...)\n",
      "        >>> final_df.to_csv('final_library.csv')\n",
      "\n",
      "        Background module available\n",
      "            - background\n",
      "\n",
      "        Design modules available\n",
      "            - primer\n",
      "            - barcode\n",
      "            - spacer\n",
      "            - motif\n",
      "\n",
      "        Assembly modules available\n",
      "            - split\n",
      "            - pad\n",
      "\n",
      "        Auxiliary modules available\n",
      "            - lenstat\n",
      "            - final\n",
      "\n",
      "    Analysis Mode workflow\n",
      "\n",
      "        1. Index one or more CSVs containing the barcode and anchor information\n",
      "        2. Pack all NGS FastQ files, optionally merging them if required\n",
      "        3. If a barcode and its association with the core variant is to be counted use acount\n",
      "        4. If multiple barcode combinations are to be counted use xcount\n",
      "        5. Combine count matrices and perform stats and ML as necessary\n",
      "\n",
      "        Example:\n",
      "        >>> import oligopool as op\n",
      "        >>>\n",
      "        >>> # Read marked up library\n",
      "        >>> final_df = pd.read_csv('final_library.csv')\n",
      "        >>>\n",
      "        >>> # Index the barcodes and save the indexes\n",
      "        >>> bc1_index_stats = op.index(input_data=final_df, barcode_column='BC1', ...)\n",
      "        >>> bc2_index_stats = op.index(input_data=final_df, barcode_column='BC2', ...)\n",
      "        >>>\n",
      "        >>> # Pack the FastQ files\n",
      "        >>> sam1_pack_stats = op.pack(r1_file='sample_1_R1.fq.gz', ...)\n",
      "        >>> sam2_pack_stats = op.pack(r1_file='sample_2_R1.fq.gz', ...)\n",
      "        >>>\n",
      "        >>> # Compute and write the barcode combination count matrix\n",
      "        >>> xount_stats = op.xcount(index_files=['bc1_index', 'bc2_index'],\n",
      "        ...                         pack_file='sample_1_pack', ...)\n",
      "        >>>\n",
      "        >>> # Read the count matrix and continue analysis\n",
      "        >>> count_df = pd.read_csv('library_count_matrix')\n",
      "\n",
      "        Indexing module available\n",
      "            - index\n",
      "\n",
      "        Packing module available\n",
      "            - pack\n",
      "\n",
      "        Counting modules available\n",
      "            - acount\n",
      "            - xcount\n",
      "\n",
      "    You can learn more about each module using help.\n",
      "    >>> import oligopool as op\n",
      "    >>>\n",
      "    >>> help(op)\n",
      "    >>> help(op.primer)\n",
      "    >>> help(op.barcode)\n",
      "    ...\n",
      "    >>> help(op.xcount)\n",
      "\n",
      "PACKAGE CONTENTS\n",
      "    acount\n",
      "    background\n",
      "    barcode\n",
      "    final\n",
      "    index\n",
      "    lenstat\n",
      "    motif\n",
      "    pack\n",
      "    pad\n",
      "    primer\n",
      "    spacer\n",
      "    split\n",
      "    xcount\n",
      "\n",
      "SUBMODULES\n",
      "    base\n",
      "\n",
      "VERSION\n",
      "    2024.09.29\n",
      "\n",
      "AUTHOR\n",
      "    Ayaan Hossain\n",
      "\n",
      "FILE\n",
      "    /home/ec2-user/dev/oligopool/oligopool/__init__.py\n",
      "\n",
      "\n"
     ]
    }
   ],
   "source": [
    "help(op)"
   ]
  },
  {
   "cell_type": "markdown",
   "metadata": {},
   "source": [
    "To begin, per the help, will need to use the `barcode`, `primer`, `motif` and `spacer` modules to add the library elements."
   ]
  },
  {
   "cell_type": "markdown",
   "metadata": {},
   "source": [
    "#### Primer design review"
   ]
  },
  {
   "cell_type": "markdown",
   "metadata": {},
   "source": [
    "Generally, the primers for a library are the most constrained elements in the library because they have to be very specific to the library with minimal off-targeting. For oligopool libraries, it is recommended to design the primers first and get them out of the way. At any step in the design process if we get stuck, `Oligopool Calculator` will tell us what is preventing it from succeeding and we can relax or modify any constraints accordingly."
   ]
  },
  {
   "cell_type": "markdown",
   "metadata": {},
   "source": [
    "How do we design primers? Let's ask for help!"
   ]
  },
  {
   "cell_type": "code",
   "execution_count": 13,
   "metadata": {
    "scrolled": false
   },
   "outputs": [
    {
     "name": "stdout",
     "output_type": "stream",
     "text": [
      "Help on function primer in module oligopool.primer:\n",
      "\n",
      "primer(input_data: str | pandas.core.frame.DataFrame, oligo_length_limit: int, primer_sequence_constraint: str, primer_type: int, minimum_melting_temperature: float, maximum_melting_temperature: float, maximum_repeat_length: int, primer_column: str, output_file: str | None = None, paired_primer_column: str | None = None, left_context_column: str | None = None, right_context_column: str | None = None, excluded_motifs: list | str | pandas.core.frame.DataFrame | None = None, background_directory: str | None = None, verbose: bool = True) -> Tuple[pandas.core.frame.DataFrame, dict]\n",
      "    Designs constrained primers with specified melting temperature and non-repetitiveness\n",
      "    for all variants in the oligopool. Ensures compatibility with paired primers and minimizes\n",
      "    dimer formation. Returns a DataFrame of designed primers, optionally saving to <output_file>\n",
      "    in CSV format.\n",
      "\n",
      "    Required Parameters:\n",
      "        - input_data (str / pd.DataFrame): Path to a CSV file or DataFrame with annotated oligopool variants.\n",
      "        - oligo_length_limit (int): Maximum allowed oligo length (≥ 4).\n",
      "        - primer_sequence_constraint (int): IUPAC degenerate sequence constraint.\n",
      "        - primer_type (int): Primer type (0 for forward, 1 for reverse).\n",
      "        - minimum_melting_temperature (float): Minimum Tm (≥ 25°C).\n",
      "        - maximum_melting_temperature (float): Maximum Tm (≤ 95°C).\n",
      "        - maximum_repeat_length (int): Max shared repeat length with oligos (≥ 6).\n",
      "        - primer_column (str): Column name for the designed primer.\n",
      "\n",
      "    Optional Parameters:\n",
      "        - output_file (str / None): Filename for output DataFrame (default: None).\n",
      "        - paired_primer_column (str / None): Column for paired primer sequence (default: None).\n",
      "        - left_context_column (str / None): Column for left DNA context (default: None).\n",
      "        - right_context_column (str / None): Column for right DNA context (default: None).\n",
      "        - excluded_motifs (list / str / pd.DataFrame / None): Motifs to exclude;\n",
      "            can be a CSV path or DataFrame (default: None).\n",
      "        - background_directory (str / None): Directory for background k-mer sequences (default: None).\n",
      "        - verbose (bool): If True, logs updates to stdout (default: True).\n",
      "\n",
      "    Returns:\n",
      "        - A pandas DataFrame of designed primers; saves to <output_file> if specified.\n",
      "        - A dictionary of stats from pipeline steps.\n",
      "\n",
      "    Notes:\n",
      "        - <input_data> must contain a unique 'ID' column.\n",
      "        - All other columns be non-empty DNA strings or a single dash ('-').\n",
      "        - Column names in <input_data> must be unique, excluding <primer_column>.\n",
      "        - At least one of <left_context_column> or <right_context_column> must be specified.\n",
      "        - The paired primer type is inferred based on the current primer type.\n",
      "        - If a paired primer is specified, Tm of the designed primer is optimized within 1°C of it.\n",
      "        - <maximum_repeat_length> controls non-repetitiveness against <input_data> only, not <background>.\n",
      "        - If <excluded_motifs> is a CSV or DataFrame, it must have 'ID' and 'Exmotif' columns.\n",
      "        - Constant motifs in sequence constraint may lead to sub-optimal primers.\n",
      "\n"
     ]
    }
   ],
   "source": [
    "help(op.primer)"
   ]
  },
  {
   "cell_type": "markdown",
   "metadata": {},
   "source": [
    "Two things should stand out here. First, the primer design involves consideration of background sequences to minimize off-target amplification, such as from the plasmid we set up. Second, primer design involves consideration of pairing information -- this implies primers need to be designed in pairs in a particular order. If we only had two primers (one forward and one reverse) the order would not matter. But in our problem, there are two forward primers (pink and orange) for both of which we have a single reverse primer (yellow)."
   ]
  },
  {
   "cell_type": "markdown",
   "metadata": {},
   "source": [
    "Let us first solve the background problem."
   ]
  },
  {
   "cell_type": "markdown",
   "metadata": {},
   "source": [
    "#### Storing the plasmid background"
   ]
  },
  {
   "cell_type": "markdown",
   "metadata": {},
   "source": [
    "`Oligopool Calculator` makes it easy to define a background for primer design via the `background` module."
   ]
  },
  {
   "cell_type": "code",
   "execution_count": 14,
   "metadata": {},
   "outputs": [
    {
     "name": "stdout",
     "output_type": "stream",
     "text": [
      "Help on function background in module oligopool.background:\n",
      "\n",
      "background(input_data: list | str | pandas.core.frame.DataFrame, maximum_repeat_length: int, output_directory: str, verbose=True) -> dict\n",
      "    The background function creates a k-mer database from a list or CSV file of background sequences.\n",
      "    This database is used during primer design to ensure primers are non-repetitive to the background,\n",
      "    minimizing off-target amplification. Non-repetitiveness is regulated by the maximum shared repeat\n",
      "    length parameter. The generated database is saved in the specified <output_directory>.\n",
      "\n",
      "    Required Parameters:\n",
      "        - input_data (list / str / pd.DataFrame): background for primers; can be a CSV file or a DataFrame.\n",
      "        - maximum_repeat_length (int): Max repeat length between primers and background (between 6 and 20).\n",
      "        - output_directory (str): Directory to store the generated background k-mer database.\n",
      "        - verbose (bool): If True, logs updates to stdout (default: True).\n",
      "\n",
      "    Returns:\n",
      "        - A dictionary of stats from pipeline steps.\n",
      "\n",
      "    Notes:\n",
      "        - If <input_data> is a CSV or DataFrame, must contain 'ID' and a 'Sequence' column with DNA strings.\n",
      "        - <maximum_repeat_length> here controls non-repetitiveness of primers to <background> only.\n",
      "        - For manipulation, use vectorDB to operate on the background (see help(oligopool.vectorDB)).\n",
      "\n"
     ]
    }
   ],
   "source": [
    "help(op.background)"
   ]
  },
  {
   "cell_type": "markdown",
   "metadata": {},
   "source": [
    "> **Note:** If you want to modify the background post-hoc, or want to define your background using a custom strategy, directly use the `vectorDB` module, which behaves like a dictionary. For details use `help(op.vectorDB)`. The `background` module just wraps around it and offers an one-time use simple interface to `vectorDB`."
   ]
  },
  {
   "cell_type": "code",
   "execution_count": 15,
   "metadata": {},
   "outputs": [],
   "source": [
    "background_directory = 'demo.oligopool.background'"
   ]
  },
  {
   "cell_type": "code",
   "execution_count": 16,
   "metadata": {},
   "outputs": [],
   "source": [
    "# Remove the background if one exists already -- for demo\n",
    "if os.path.exists(background_directory):\n",
    "    op.vectorDB(background_directory, maxreplen=11, mode=1).drop()"
   ]
  },
  {
   "cell_type": "code",
   "execution_count": 17,
   "metadata": {},
   "outputs": [
    {
     "name": "stdout",
     "output_type": "stream",
     "text": [
      "\n",
      "[Oligopool Calculator: Design Mode - Background]\n",
      "                                                  \n",
      " Required Arguments\n",
      " Background      Data: 1 Unique Sequence(s)\n",
      "    Maximum    Repeat: Up to 10 Base Pair(s) Background Repeats\n",
      "     Output Directory: demo.oligopool.background                \n",
      "                                                 \n",
      "[Computing Background]\n",
      " Sequence 1: TGTGCCAACCGACTTCTGAA... Inserted\n",
      " Time Elapsed: 0.02 sec                       \n",
      "                        \n",
      "[Background Statistics]\n",
      " Background Status: Successful\n",
      "      k-mer  Space: 2,097,152 Unique 11-mers\n",
      "       Fill  Count:     4,973 Unique 11-mers (  0.24 %)\n",
      "       Left  Count: 2,092,179 Unique 11-mers ( 99.76 %) \n",
      " Time Elapsed: 0.03 sec                                 \n",
      "\n"
     ]
    }
   ],
   "source": [
    "background_stats = op.background(\n",
    "    input_data=plasmid,\n",
    "    maximum_repeat_length=10,\n",
    "    output_directory=background_directory)"
   ]
  },
  {
   "cell_type": "code",
   "execution_count": 18,
   "metadata": {},
   "outputs": [
    {
     "data": {
      "text/plain": [
       "{'status': True,\n",
       " 'basis': 'solved',\n",
       " 'step': 1,\n",
       " 'step_name': 'computing-background',\n",
       " 'vars': {'kmer_space': 2097152, 'fill_count': 4973, 'left_count': 2092179},\n",
       " 'warns': {}}"
      ]
     },
     "execution_count": 18,
     "metadata": {},
     "output_type": "execute_result"
    }
   ],
   "source": [
    "background_stats"
   ]
  },
  {
   "cell_type": "markdown",
   "metadata": {},
   "source": [
    "We've now stored the background, and are ready to design the three primers."
   ]
  },
  {
   "cell_type": "markdown",
   "metadata": {},
   "source": [
    "> **Note**: All `Oligopool Calculator` functions return a pipeline statistics dictionary recapitulating the steps performed in the function."
   ]
  },
  {
   "cell_type": "markdown",
   "metadata": {},
   "source": [
    "#### Designing the three primers"
   ]
  },
  {
   "cell_type": "markdown",
   "metadata": {},
   "source": [
    "All `Design Mode` input and output is chained via a `pandas` `DataFrame` to facilitate piplined designs. Let us store the ribozyme candidates in a dataframe and start the design process."
   ]
  },
  {
   "cell_type": "code",
   "execution_count": 19,
   "metadata": {},
   "outputs": [],
   "source": [
    "init_df = pd.DataFrame({\n",
    "    'ID': [f'ribozyme_{x+1:06d}' for x in range(len(ribozymes))],\n",
    "    'EcoRI': 'GAATTC',\n",
    "    'Variant':ribozymes,\n",
    "    'AatII': 'GACGTC',\n",
    "})"
   ]
  },
  {
   "cell_type": "code",
   "execution_count": 20,
   "metadata": {},
   "outputs": [
    {
     "data": {
      "text/html": [
       "<div>\n",
       "<style scoped>\n",
       "    .dataframe tbody tr th:only-of-type {\n",
       "        vertical-align: middle;\n",
       "    }\n",
       "\n",
       "    .dataframe tbody tr th {\n",
       "        vertical-align: top;\n",
       "    }\n",
       "\n",
       "    .dataframe thead th {\n",
       "        text-align: right;\n",
       "    }\n",
       "</style>\n",
       "<table border=\"1\" class=\"dataframe\">\n",
       "  <thead>\n",
       "    <tr style=\"text-align: right;\">\n",
       "      <th></th>\n",
       "      <th>ID</th>\n",
       "      <th>EcoRI</th>\n",
       "      <th>Variant</th>\n",
       "      <th>AatII</th>\n",
       "    </tr>\n",
       "  </thead>\n",
       "  <tbody>\n",
       "    <tr>\n",
       "      <th>0</th>\n",
       "      <td>ribozyme_000001</td>\n",
       "      <td>GAATTC</td>\n",
       "      <td>CGTTCAGAAGCGCGCGACTGTACCGTCGTTAAGCACCTGACGTACT...</td>\n",
       "      <td>GACGTC</td>\n",
       "    </tr>\n",
       "    <tr>\n",
       "      <th>1</th>\n",
       "      <td>ribozyme_000002</td>\n",
       "      <td>GAATTC</td>\n",
       "      <td>TCTTCTATCATAGTTAGGCTACGGATCCTCCTCTAGGACACACCCG...</td>\n",
       "      <td>GACGTC</td>\n",
       "    </tr>\n",
       "    <tr>\n",
       "      <th>2</th>\n",
       "      <td>ribozyme_000003</td>\n",
       "      <td>GAATTC</td>\n",
       "      <td>GCTGATTCATTCCAACACTCTTGAGGCCGTTTCTATAAACGGTGAC...</td>\n",
       "      <td>GACGTC</td>\n",
       "    </tr>\n",
       "    <tr>\n",
       "      <th>3</th>\n",
       "      <td>ribozyme_000004</td>\n",
       "      <td>GAATTC</td>\n",
       "      <td>CATATCTCTGTTCCTCTGCTGTAATCATGAGTCGGATCACTGGTTG...</td>\n",
       "      <td>GACGTC</td>\n",
       "    </tr>\n",
       "    <tr>\n",
       "      <th>4</th>\n",
       "      <td>ribozyme_000005</td>\n",
       "      <td>GAATTC</td>\n",
       "      <td>GCATCCGTTGGTAACTTTCAATTGTTCAGGTCTCTGGCTTATCACG...</td>\n",
       "      <td>GACGTC</td>\n",
       "    </tr>\n",
       "  </tbody>\n",
       "</table>\n",
       "</div>"
      ],
      "text/plain": [
       "                ID   EcoRI                                            Variant  \\\n",
       "0  ribozyme_000001  GAATTC  CGTTCAGAAGCGCGCGACTGTACCGTCGTTAAGCACCTGACGTACT...   \n",
       "1  ribozyme_000002  GAATTC  TCTTCTATCATAGTTAGGCTACGGATCCTCCTCTAGGACACACCCG...   \n",
       "2  ribozyme_000003  GAATTC  GCTGATTCATTCCAACACTCTTGAGGCCGTTTCTATAAACGGTGAC...   \n",
       "3  ribozyme_000004  GAATTC  CATATCTCTGTTCCTCTGCTGTAATCATGAGTCGGATCACTGGTTG...   \n",
       "4  ribozyme_000005  GAATTC  GCATCCGTTGGTAACTTTCAATTGTTCAGGTCTCTGGCTTATCACG...   \n",
       "\n",
       "    AatII  \n",
       "0  GACGTC  \n",
       "1  GACGTC  \n",
       "2  GACGTC  \n",
       "3  GACGTC  \n",
       "4  GACGTC  "
      ]
     },
     "execution_count": 20,
     "metadata": {},
     "output_type": "execute_result"
    }
   ],
   "source": [
    "init_df.head(5)"
   ]
  },
  {
   "cell_type": "markdown",
   "metadata": {},
   "source": [
    "The optimal solution here is to design the innermost (pink) forward primer first, and then design the reverse primer (yellow), followed by designing the outermost (orange) forward primer. This is allows all three primers to be compatible with each other."
   ]
  },
  {
   "cell_type": "code",
   "execution_count": 21,
   "metadata": {},
   "outputs": [],
   "source": [
    "# help(op.primer)"
   ]
  },
  {
   "cell_type": "code",
   "execution_count": 22,
   "metadata": {
    "scrolled": true
   },
   "outputs": [
    {
     "name": "stdout",
     "output_type": "stream",
     "text": [
      "\n",
      "[Oligopool Calculator: Design Mode - Primer]\n",
      "                                              \n",
      " Required Arguments\n",
      "      Input Data       : DataFrame w/ 6,232 Record(s)\n",
      "      Oligo Limit      : At most 170 Base Pair(s)     \n",
      "     Primer Sequence   : A 20 Base Pair IUPAC Constraint\n",
      "     Primer Type       : Forward Primer Design           \n",
      "    Melting Temperature: 53 to 55 °C           \n",
      "     Repeat Length     : Up to 8 Base Pair(s) Oligopool Repeats\n",
      "     Primer Column     : Output in Column 'PinkForward'         \n",
      "     Output File       : In-Memory DataFrame            \n",
      "                                             \n",
      " Optional Arguments\n",
      "     Paired Primer     : None Specified\n",
      "       Left Context    : Input from Column 'Variant'\n",
      "      Right Context    : None Specified              \n",
      "   Excluded Motifs     : 2 Unique Motif(s)\n",
      " Background Database   : Contains 4,973 Unique 11-mers\n",
      "                                                       \n",
      "[Step 1: Parsing Oligo Limit]\n",
      " Maximum Oligo Length:  170 Base Pair(s)\n",
      " Input Variant Length:   71 to 85 Base Pair(s)\n",
      "  Reqd. Primer Length:   20 Base Pair(s)       \n",
      " Free Space Available:   85 to 99 Base Pair(s)\n",
      " Time Elapsed: 0.01 sec                        \n",
      " Verdict: Primer Design Possibly Feasible\n",
      "                                          \n",
      "[Step 2: Parsing Excluded Motifs]\n",
      " Sorted and Enqued: 2 Unique Excluded Motif(s)\n",
      " Excluded Motif Length Distribution              \n",
      "   - 2 Motif(s) of Length 6         \n",
      " Time Elapsed: 0.00 sec                         \n",
      " Verdict: Primer Design Possibly Feasible\n",
      "                                          \n",
      "[Step 3: Parsing Primer Sequence]\n",
      " Design Space: 274,877,906,944 Possible Primer(s)\n",
      " Found 0 Excluded Motif(s)                        \n",
      " Found 0 Internal Repeat(s)             \n",
      " Found 0 Palindrome(s)             \n",
      " Found 0 Paired Repeat(s)\n",
      " Time Elapsed: 0.00 sec   \n",
      " Verdict: Primer Design Possibly Feasible\n",
      "                                          \n",
      "[Step 4: Parsing Melting Temperature]\n",
      "  Parameter Source: From Input Argument(s)\n",
      " Required Tm Range: 53.00 to 55.00 °C      \n",
      " Possible Tm Range: 22.62 to 71.50 °C             \n",
      "  Updated Tm Range: 53.00 to 55.00 °C \n",
      " Found 0 Melting Temperature Conflict(s)\n",
      " Time Elapsed: 2.25 sec                  \n",
      " Verdict: Primer Design Possibly Feasible\n",
      "                                          \n",
      "[Step 5: Extracting Context Sequences]\n",
      "  Left Context: 3,179 Unique Sequence(s)           \n",
      " Right Context:     0 Unique Sequence(s) \n",
      "  Time Elapsed: 0.00 sec                 \n",
      "                         \n",
      "[Step 6: Parsing Edge Effects]\n",
      "  Left Context 3,179: ...GCCGTT Prevents 1 Prefix(es)\n",
      " Time Elapsed: 0.87 sec        \n",
      " Verdict: Primer Design Possibly Feasible\n",
      "                                          \n",
      "[Step 7: Parsing Oligopool Repeats]\n",
      " Repeat Source: From Entire Oligopool\n",
      "  k-mer Space : 131,072 Unique 9-mers \n",
      "   Fill Count : 124,619 Unique 9-mers ( 95.08 %)\n",
      "   Free Count :   6,453 Unique 9-mers (  4.92 %) \n",
      " Verdict: Primer Design Possibly Feasible        \n",
      " Time Elapsed: 1.65 sec                   \n",
      "                        \n",
      "[Step 8: Computing Primer]\n",
      " Candidate: Primer GTACCCCACCTATCCGCCTT is Accepted                           \n",
      " Time Elapsed: 0.65 sec\n",
      "                        \n",
      "[Primer Design Statistics]\n",
      "      Design Status     : Successful\n",
      "     Melting Temperature:  53.02 °C  \n",
      "          GC Content    :  60.00 %  \n",
      "     Hairpin MFE        :   0.00 kcal/mol\n",
      "   Homodimer MFE        :  -5.67 kcal/mol \n",
      " Time Elapsed: 5.44 sec                   \n",
      "\n"
     ]
    }
   ],
   "source": [
    "pink_primer_df, pink_primer_stats = op.primer(\n",
    "    input_data=init_df,\n",
    "    oligo_length_limit=170,                    # Must not exceed 170bp at any stage\n",
    "    primer_sequence_constraint='N'*18 + 'WW',  # The last two bases must be weak\n",
    "    primer_type=0,                             # This is a forward primer\n",
    "    paired_primer_column=None,                 # No paired primer yet\n",
    "    minimum_melting_temperature=53,            # Tm = 53°C at least\n",
    "    maximum_melting_temperature=55,            # Tm = 55°C at most\n",
    "    maximum_repeat_length=8,                  # No more than 14-mer repeats\n",
    "    primer_column='PinkForward',               # Store designs in 'PinkForward' column\n",
    "    left_context_column='Variant',             # Next to 'Variant' column\n",
    "    right_context_column=None,                 # Before 'AatII' column\n",
    "    excluded_motifs=['GAATTC', 'GACGTC'],      # Ensure EcoRI and AatII do not emerge as motifs\n",
    "    background_directory=background_directory, # As setup before\n",
    "    output_file=None,                          # In-memory return, no CSV written here\n",
    ")"
   ]
  },
  {
   "cell_type": "markdown",
   "metadata": {},
   "source": [
    "Let us now design the two remaining primers in silent mode."
   ]
  },
  {
   "cell_type": "code",
   "execution_count": 23,
   "metadata": {},
   "outputs": [],
   "source": [
    "yellow_primer_df, _ = op.primer(\n",
    "    input_data=pink_primer_df,                 # Updated DataFrame along pipeline chain\n",
    "    oligo_length_limit=170,\n",
    "    primer_sequence_constraint='WW' + 'N'*18,  # Last two bases must be weak in reverse complement\n",
    "    primer_type=1,                             # This is a reverse primer\n",
    "    paired_primer_column='PinkForward',        # Yellow reverse primer paired with pink forward primer\n",
    "    minimum_melting_temperature=53,\n",
    "    maximum_melting_temperature=55,\n",
    "    maximum_repeat_length=8,\n",
    "    primer_column='YellowReverse',             # Store designs in 'YellowReverse' column\n",
    "    left_context_column='PinkForward',         # Next to 'PinkForward' column\n",
    "    right_context_column='AatII',              # Before 'AatII' column\n",
    "    excluded_motifs=['GAATTC', 'GACGTC'],\n",
    "    background_directory=background_directory,\n",
    "    output_file=None,                          # In-memory return, no CSV written here\n",
    "    verbose=False,\n",
    ")"
   ]
  },
  {
   "cell_type": "code",
   "execution_count": 24,
   "metadata": {},
   "outputs": [],
   "source": [
    "orange_primer_df, _ = op.primer(\n",
    "    input_data=yellow_primer_df,               # Updated DataFrame along pipeline chain\n",
    "    oligo_length_limit=170,\n",
    "    primer_sequence_constraint='N'*18 + 'WW',  # The last two bases must be weak\n",
    "    primer_type=0,                             # This is a forward primer\n",
    "    paired_primer_column='YellowReverse',      # Orange forward primer paired with yellow reverse primer\n",
    "    minimum_melting_temperature=53,\n",
    "    maximum_melting_temperature=55,\n",
    "    maximum_repeat_length=8,\n",
    "    primer_column='OrangeForward',             # Store designs in 'OrangeForward' column\n",
    "    left_context_column='EcoRI',               # Next to 'EcoRI' column\n",
    "    right_context_column='Variant',            # Before 'AatII' column\n",
    "    excluded_motifs=['GAATTC', 'GACGTC'],\n",
    "    background_directory=background_directory,\n",
    "    output_file=None,                          # In-memory return, no CSV written here\n",
    "    verbose=False,\n",
    ")"
   ]
  },
  {
   "cell_type": "code",
   "execution_count": 25,
   "metadata": {},
   "outputs": [
    {
     "data": {
      "text/html": [
       "<div>\n",
       "<style scoped>\n",
       "    .dataframe tbody tr th:only-of-type {\n",
       "        vertical-align: middle;\n",
       "    }\n",
       "\n",
       "    .dataframe tbody tr th {\n",
       "        vertical-align: top;\n",
       "    }\n",
       "\n",
       "    .dataframe thead th {\n",
       "        text-align: right;\n",
       "    }\n",
       "</style>\n",
       "<table border=\"1\" class=\"dataframe\">\n",
       "  <thead>\n",
       "    <tr style=\"text-align: right;\">\n",
       "      <th></th>\n",
       "      <th>EcoRI</th>\n",
       "      <th>OrangeForward</th>\n",
       "      <th>Variant</th>\n",
       "      <th>PinkForward</th>\n",
       "      <th>YellowReverse</th>\n",
       "      <th>AatII</th>\n",
       "    </tr>\n",
       "    <tr>\n",
       "      <th>ID</th>\n",
       "      <th></th>\n",
       "      <th></th>\n",
       "      <th></th>\n",
       "      <th></th>\n",
       "      <th></th>\n",
       "      <th></th>\n",
       "    </tr>\n",
       "  </thead>\n",
       "  <tbody>\n",
       "    <tr>\n",
       "      <th>ribozyme_000001</th>\n",
       "      <td>GAATTC</td>\n",
       "      <td>CCCTCCATCGCTTCCTGTTT</td>\n",
       "      <td>CGTTCAGAAGCGCGCGACTGTACCGTCGTTAAGCACCTGACGTACT...</td>\n",
       "      <td>GTACCCCACCTATCCGCCTT</td>\n",
       "      <td>AAGTCGTCGGTAATCGGGGT</td>\n",
       "      <td>GACGTC</td>\n",
       "    </tr>\n",
       "    <tr>\n",
       "      <th>ribozyme_000002</th>\n",
       "      <td>GAATTC</td>\n",
       "      <td>CCCTCCATCGCTTCCTGTTT</td>\n",
       "      <td>TCTTCTATCATAGTTAGGCTACGGATCCTCCTCTAGGACACACCCG...</td>\n",
       "      <td>GTACCCCACCTATCCGCCTT</td>\n",
       "      <td>AAGTCGTCGGTAATCGGGGT</td>\n",
       "      <td>GACGTC</td>\n",
       "    </tr>\n",
       "    <tr>\n",
       "      <th>ribozyme_000003</th>\n",
       "      <td>GAATTC</td>\n",
       "      <td>CCCTCCATCGCTTCCTGTTT</td>\n",
       "      <td>GCTGATTCATTCCAACACTCTTGAGGCCGTTTCTATAAACGGTGAC...</td>\n",
       "      <td>GTACCCCACCTATCCGCCTT</td>\n",
       "      <td>AAGTCGTCGGTAATCGGGGT</td>\n",
       "      <td>GACGTC</td>\n",
       "    </tr>\n",
       "    <tr>\n",
       "      <th>ribozyme_000004</th>\n",
       "      <td>GAATTC</td>\n",
       "      <td>CCCTCCATCGCTTCCTGTTT</td>\n",
       "      <td>CATATCTCTGTTCCTCTGCTGTAATCATGAGTCGGATCACTGGTTG...</td>\n",
       "      <td>GTACCCCACCTATCCGCCTT</td>\n",
       "      <td>AAGTCGTCGGTAATCGGGGT</td>\n",
       "      <td>GACGTC</td>\n",
       "    </tr>\n",
       "    <tr>\n",
       "      <th>ribozyme_000005</th>\n",
       "      <td>GAATTC</td>\n",
       "      <td>CCCTCCATCGCTTCCTGTTT</td>\n",
       "      <td>GCATCCGTTGGTAACTTTCAATTGTTCAGGTCTCTGGCTTATCACG...</td>\n",
       "      <td>GTACCCCACCTATCCGCCTT</td>\n",
       "      <td>AAGTCGTCGGTAATCGGGGT</td>\n",
       "      <td>GACGTC</td>\n",
       "    </tr>\n",
       "  </tbody>\n",
       "</table>\n",
       "</div>"
      ],
      "text/plain": [
       "                  EcoRI         OrangeForward  \\\n",
       "ID                                              \n",
       "ribozyme_000001  GAATTC  CCCTCCATCGCTTCCTGTTT   \n",
       "ribozyme_000002  GAATTC  CCCTCCATCGCTTCCTGTTT   \n",
       "ribozyme_000003  GAATTC  CCCTCCATCGCTTCCTGTTT   \n",
       "ribozyme_000004  GAATTC  CCCTCCATCGCTTCCTGTTT   \n",
       "ribozyme_000005  GAATTC  CCCTCCATCGCTTCCTGTTT   \n",
       "\n",
       "                                                           Variant  \\\n",
       "ID                                                                   \n",
       "ribozyme_000001  CGTTCAGAAGCGCGCGACTGTACCGTCGTTAAGCACCTGACGTACT...   \n",
       "ribozyme_000002  TCTTCTATCATAGTTAGGCTACGGATCCTCCTCTAGGACACACCCG...   \n",
       "ribozyme_000003  GCTGATTCATTCCAACACTCTTGAGGCCGTTTCTATAAACGGTGAC...   \n",
       "ribozyme_000004  CATATCTCTGTTCCTCTGCTGTAATCATGAGTCGGATCACTGGTTG...   \n",
       "ribozyme_000005  GCATCCGTTGGTAACTTTCAATTGTTCAGGTCTCTGGCTTATCACG...   \n",
       "\n",
       "                          PinkForward         YellowReverse   AatII  \n",
       "ID                                                                   \n",
       "ribozyme_000001  GTACCCCACCTATCCGCCTT  AAGTCGTCGGTAATCGGGGT  GACGTC  \n",
       "ribozyme_000002  GTACCCCACCTATCCGCCTT  AAGTCGTCGGTAATCGGGGT  GACGTC  \n",
       "ribozyme_000003  GTACCCCACCTATCCGCCTT  AAGTCGTCGGTAATCGGGGT  GACGTC  \n",
       "ribozyme_000004  GTACCCCACCTATCCGCCTT  AAGTCGTCGGTAATCGGGGT  GACGTC  \n",
       "ribozyme_000005  GTACCCCACCTATCCGCCTT  AAGTCGTCGGTAATCGGGGT  GACGTC  "
      ]
     },
     "execution_count": 25,
     "metadata": {},
     "output_type": "execute_result"
    }
   ],
   "source": [
    "orange_primer_df.head(5)"
   ]
  },
  {
   "cell_type": "markdown",
   "metadata": {},
   "source": [
    "We are done with primers. Barcodes up next!"
   ]
  },
  {
   "cell_type": "code",
   "execution_count": null,
   "metadata": {},
   "outputs": [],
   "source": []
  },
  {
   "cell_type": "code",
   "execution_count": null,
   "metadata": {},
   "outputs": [],
   "source": []
  },
  {
   "cell_type": "code",
   "execution_count": null,
   "metadata": {},
   "outputs": [],
   "source": []
  },
  {
   "cell_type": "code",
   "execution_count": null,
   "metadata": {},
   "outputs": [],
   "source": []
  }
 ],
 "metadata": {
  "kernelspec": {
   "display_name": "Python 3 (ipykernel)",
   "language": "python",
   "name": "python3"
  },
  "language_info": {
   "codemirror_mode": {
    "name": "ipython",
    "version": 3
   },
   "file_extension": ".py",
   "mimetype": "text/x-python",
   "name": "python",
   "nbconvert_exporter": "python",
   "pygments_lexer": "ipython3",
   "version": "3.12.6"
  }
 },
 "nbformat": 4,
 "nbformat_minor": 4
}
