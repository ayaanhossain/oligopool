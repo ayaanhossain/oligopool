{
 "cells": [
  {
   "cell_type": "markdown",
   "id": "1732223f-ba3d-4cf7-9c7c-3d502a18de9b",
   "metadata": {},
   "source": [
    "#### Load Libraries"
   ]
  },
  {
   "cell_type": "code",
   "execution_count": 1,
   "id": "17fe4dce-f529-43df-93f5-8de0a0e5be6a",
   "metadata": {},
   "outputs": [],
   "source": [
    "import numpy as np\n",
    "import pandas as pd"
   ]
  },
  {
   "cell_type": "markdown",
   "id": "2b753c33-2206-45d9-b848-a16572229f2f",
   "metadata": {},
   "source": [
    "#### Simulate Ribozyme Experiment"
   ]
  },
  {
   "cell_type": "code",
   "execution_count": 2,
   "id": "8261a1b1-7a54-4708-b376-a2e6d55975cd",
   "metadata": {},
   "outputs": [],
   "source": [
    "df = pd.read_csv('ribozyme_architecture.csv')"
   ]
  },
  {
   "cell_type": "code",
   "execution_count": 3,
   "id": "867cfd14-3882-4f49-b507-d463ba07f16f",
   "metadata": {},
   "outputs": [
    {
     "data": {
      "text/html": [
       "<div>\n",
       "<style scoped>\n",
       "    .dataframe tbody tr th:only-of-type {\n",
       "        vertical-align: middle;\n",
       "    }\n",
       "\n",
       "    .dataframe tbody tr th {\n",
       "        vertical-align: top;\n",
       "    }\n",
       "\n",
       "    .dataframe thead th {\n",
       "        text-align: right;\n",
       "    }\n",
       "</style>\n",
       "<table border=\"1\" class=\"dataframe\">\n",
       "  <thead>\n",
       "    <tr style=\"text-align: right;\">\n",
       "      <th></th>\n",
       "      <th>ID</th>\n",
       "      <th>EcoRI</th>\n",
       "      <th>OrangeForwardPrimer</th>\n",
       "      <th>BC1</th>\n",
       "      <th>Variant</th>\n",
       "      <th>PinkForwardPrimer</th>\n",
       "      <th>BC2</th>\n",
       "      <th>YellowReversePrimer</th>\n",
       "      <th>AatIIPadded</th>\n",
       "      <th>Spacer</th>\n",
       "    </tr>\n",
       "  </thead>\n",
       "  <tbody>\n",
       "    <tr>\n",
       "      <th>0</th>\n",
       "      <td>ribozyme_0001</td>\n",
       "      <td>GAATTC</td>\n",
       "      <td>CGGACGTTATGGTTGGGGTT</td>\n",
       "      <td>TAGTCAAGCGC</td>\n",
       "      <td>CGTTCAGAAGCGCGCGACTGTACCGTCGTTAAGCACCTGACGTACT...</td>\n",
       "      <td>GGTGCAAGGTTGTTGGGGAA</td>\n",
       "      <td>CTTGTCAGCCC</td>\n",
       "      <td>ATCTATCTAACCGCCCCCCG</td>\n",
       "      <td>GACGTCGCG</td>\n",
       "      <td>CCTAAATTTGGAG</td>\n",
       "    </tr>\n",
       "    <tr>\n",
       "      <th>1</th>\n",
       "      <td>ribozyme_0002</td>\n",
       "      <td>GAATTC</td>\n",
       "      <td>CGGACGTTATGGTTGGGGTT</td>\n",
       "      <td>CATTATATGTC</td>\n",
       "      <td>TCTTCTATCATAGTTAGGCTACGGATCCTCCTCTAGGACACACCCG...</td>\n",
       "      <td>GGTGCAAGGTTGTTGGGGAA</td>\n",
       "      <td>CTTTGCTGCCG</td>\n",
       "      <td>ATCTATCTAACCGCCCCCCG</td>\n",
       "      <td>GACGTCGCG</td>\n",
       "      <td>CAG</td>\n",
       "    </tr>\n",
       "    <tr>\n",
       "      <th>2</th>\n",
       "      <td>ribozyme_0003</td>\n",
       "      <td>GAATTC</td>\n",
       "      <td>CGGACGTTATGGTTGGGGTT</td>\n",
       "      <td>TCGGCGCGTGA</td>\n",
       "      <td>GCTGATTCATTCCAACACTCTTGAGGCCGTTTCTATAAACGGTGAC...</td>\n",
       "      <td>GGTGCAAGGTTGTTGGGGAA</td>\n",
       "      <td>TGGGTAGTAAT</td>\n",
       "      <td>ATCTATCTAACCGCCCCCCG</td>\n",
       "      <td>GACGTCGCG</td>\n",
       "      <td>CCTAAATTTGGAG</td>\n",
       "    </tr>\n",
       "    <tr>\n",
       "      <th>3</th>\n",
       "      <td>ribozyme_0004</td>\n",
       "      <td>GAATTC</td>\n",
       "      <td>CGGACGTTATGGTTGGGGTT</td>\n",
       "      <td>GGAGATGATAG</td>\n",
       "      <td>CATATCTCTGTTCCTCTGCTGTAATCATGAGTCGGATCACTGGTTG...</td>\n",
       "      <td>GGTGCAAGGTTGTTGGGGAA</td>\n",
       "      <td>GCTAGGGCTTT</td>\n",
       "      <td>ATCTATCTAACCGCCCCCCG</td>\n",
       "      <td>GACGTCGCG</td>\n",
       "      <td>GCGCTGAGC</td>\n",
       "    </tr>\n",
       "    <tr>\n",
       "      <th>4</th>\n",
       "      <td>ribozyme_0005</td>\n",
       "      <td>GAATTC</td>\n",
       "      <td>CGGACGTTATGGTTGGGGTT</td>\n",
       "      <td>AGTGCATGTCC</td>\n",
       "      <td>GCATCCGTTGGTAACTTTCAATTGTTCAGGTCTCTGGCTTATCACG...</td>\n",
       "      <td>GGTGCAAGGTTGTTGGGGAA</td>\n",
       "      <td>CTCCGCGGTGG</td>\n",
       "      <td>ATCTATCTAACCGCCCCCCG</td>\n",
       "      <td>GACGTCGCG</td>\n",
       "      <td>ACTCTGTAAATC</td>\n",
       "    </tr>\n",
       "  </tbody>\n",
       "</table>\n",
       "</div>"
      ],
      "text/plain": [
       "              ID   EcoRI   OrangeForwardPrimer          BC1  \\\n",
       "0  ribozyme_0001  GAATTC  CGGACGTTATGGTTGGGGTT  TAGTCAAGCGC   \n",
       "1  ribozyme_0002  GAATTC  CGGACGTTATGGTTGGGGTT  CATTATATGTC   \n",
       "2  ribozyme_0003  GAATTC  CGGACGTTATGGTTGGGGTT  TCGGCGCGTGA   \n",
       "3  ribozyme_0004  GAATTC  CGGACGTTATGGTTGGGGTT  GGAGATGATAG   \n",
       "4  ribozyme_0005  GAATTC  CGGACGTTATGGTTGGGGTT  AGTGCATGTCC   \n",
       "\n",
       "                                             Variant     PinkForwardPrimer  \\\n",
       "0  CGTTCAGAAGCGCGCGACTGTACCGTCGTTAAGCACCTGACGTACT...  GGTGCAAGGTTGTTGGGGAA   \n",
       "1  TCTTCTATCATAGTTAGGCTACGGATCCTCCTCTAGGACACACCCG...  GGTGCAAGGTTGTTGGGGAA   \n",
       "2  GCTGATTCATTCCAACACTCTTGAGGCCGTTTCTATAAACGGTGAC...  GGTGCAAGGTTGTTGGGGAA   \n",
       "3  CATATCTCTGTTCCTCTGCTGTAATCATGAGTCGGATCACTGGTTG...  GGTGCAAGGTTGTTGGGGAA   \n",
       "4  GCATCCGTTGGTAACTTTCAATTGTTCAGGTCTCTGGCTTATCACG...  GGTGCAAGGTTGTTGGGGAA   \n",
       "\n",
       "           BC2   YellowReversePrimer AatIIPadded         Spacer  \n",
       "0  CTTGTCAGCCC  ATCTATCTAACCGCCCCCCG   GACGTCGCG  CCTAAATTTGGAG  \n",
       "1  CTTTGCTGCCG  ATCTATCTAACCGCCCCCCG   GACGTCGCG            CAG  \n",
       "2  TGGGTAGTAAT  ATCTATCTAACCGCCCCCCG   GACGTCGCG  CCTAAATTTGGAG  \n",
       "3  GCTAGGGCTTT  ATCTATCTAACCGCCCCCCG   GACGTCGCG      GCGCTGAGC  \n",
       "4  CTCCGCGGTGG  ATCTATCTAACCGCCCCCCG   GACGTCGCG   ACTCTGTAAATC  "
      ]
     },
     "execution_count": 3,
     "metadata": {},
     "output_type": "execute_result"
    }
   ],
   "source": [
    "df.head(5)"
   ]
  },
  {
   "cell_type": "code",
   "execution_count": 4,
   "id": "1051cdd5-04c5-414d-84a0-fe6f75728bf7",
   "metadata": {},
   "outputs": [
    {
     "data": {
      "text/plain": [
       "6232"
      ]
     },
     "execution_count": 4,
     "metadata": {},
     "output_type": "execute_result"
    }
   ],
   "source": [
    "len(df)"
   ]
  },
  {
   "cell_type": "markdown",
   "id": "8b1abce4-9a1d-4f8d-9363-eadc157f6390",
   "metadata": {},
   "source": [
    "We will assume our core molecule spans from `OrangeForwardPrimer` through to `YellowReversePrimer`. If the ribozymes are cleaved, we will assume it is cleaved after the first 10 bases into the sequences specified in the `Variant` column. We will also assume that our ribozyme activities will be linearly correlated with their rank -- the higher the rank, the more the activity in this simulation."
   ]
  },
  {
   "cell_type": "code",
   "execution_count": 5,
   "id": "a250a39d-1f56-4ca1-9a7c-fb663b77ff10",
   "metadata": {},
   "outputs": [],
   "source": [
    "ctab = str.maketrans('ATGC', 'TACG')"
   ]
  },
  {
   "cell_type": "code",
   "execution_count": 6,
   "id": "f45a9f16-aaf0-45c5-a5d6-6786c8a84283",
   "metadata": {},
   "outputs": [],
   "source": [
    "def revcomp(seq):\n",
    "    '''Return reverse complement of seq.'''\n",
    "    return seq.translate(ctab)[::-1]"
   ]
  },
  {
   "cell_type": "code",
   "execution_count": 7,
   "id": "0a1161f6-dbdf-46cd-a2e9-a10a6fab24f1",
   "metadata": {},
   "outputs": [],
   "source": [
    "def simulate_paired_end_reads(seq, read_length):\n",
    "    '''Simulate paired-end reads from seq.'''\n",
    "    r1 = seq[:read_length]\n",
    "    r2 = seq[-read_length:]\n",
    "    return r1,revcomp(r2)"
   ]
  },
  {
   "cell_type": "code",
   "execution_count": 8,
   "id": "af83f874-7f59-4e9d-a758-5585d636dca0",
   "metadata": {},
   "outputs": [],
   "source": [
    "def attach_qualities(read, rng, q):\n",
    "    '''Attach qualities to reads'''\n",
    "    return ''.join(rng.choice(q, size=len(read)))"
   ]
  },
  {
   "cell_type": "code",
   "execution_count": 9,
   "id": "e0047e42-c0c3-4b57-ac3b-643dc592eca4",
   "metadata": {},
   "outputs": [
    {
     "data": {
      "text/html": [
       "<div>\n",
       "<style scoped>\n",
       "    .dataframe tbody tr th:only-of-type {\n",
       "        vertical-align: middle;\n",
       "    }\n",
       "\n",
       "    .dataframe tbody tr th {\n",
       "        vertical-align: top;\n",
       "    }\n",
       "\n",
       "    .dataframe thead th {\n",
       "        text-align: right;\n",
       "    }\n",
       "</style>\n",
       "<table border=\"1\" class=\"dataframe\">\n",
       "  <thead>\n",
       "    <tr style=\"text-align: right;\">\n",
       "      <th></th>\n",
       "      <th>ID</th>\n",
       "      <th>EcoRI</th>\n",
       "      <th>OrangeForwardPrimer</th>\n",
       "      <th>BC1</th>\n",
       "      <th>Variant</th>\n",
       "      <th>PinkForwardPrimer</th>\n",
       "      <th>BC2</th>\n",
       "      <th>YellowReversePrimer</th>\n",
       "      <th>AatIIPadded</th>\n",
       "      <th>Spacer</th>\n",
       "    </tr>\n",
       "  </thead>\n",
       "  <tbody>\n",
       "    <tr>\n",
       "      <th>0</th>\n",
       "      <td>ribozyme_0001</td>\n",
       "      <td>GAATTC</td>\n",
       "      <td>CGGACGTTATGGTTGGGGTT</td>\n",
       "      <td>TAGTCAAGCGC</td>\n",
       "      <td>CGTTCAGAAGCGCGCGACTGTACCGTCGTTAAGCACCTGACGTACT...</td>\n",
       "      <td>GGTGCAAGGTTGTTGGGGAA</td>\n",
       "      <td>CTTGTCAGCCC</td>\n",
       "      <td>ATCTATCTAACCGCCCCCCG</td>\n",
       "      <td>GACGTCGCG</td>\n",
       "      <td>CCTAAATTTGGAG</td>\n",
       "    </tr>\n",
       "    <tr>\n",
       "      <th>1</th>\n",
       "      <td>ribozyme_0002</td>\n",
       "      <td>GAATTC</td>\n",
       "      <td>CGGACGTTATGGTTGGGGTT</td>\n",
       "      <td>CATTATATGTC</td>\n",
       "      <td>TCTTCTATCATAGTTAGGCTACGGATCCTCCTCTAGGACACACCCG...</td>\n",
       "      <td>GGTGCAAGGTTGTTGGGGAA</td>\n",
       "      <td>CTTTGCTGCCG</td>\n",
       "      <td>ATCTATCTAACCGCCCCCCG</td>\n",
       "      <td>GACGTCGCG</td>\n",
       "      <td>CAG</td>\n",
       "    </tr>\n",
       "    <tr>\n",
       "      <th>2</th>\n",
       "      <td>ribozyme_0003</td>\n",
       "      <td>GAATTC</td>\n",
       "      <td>CGGACGTTATGGTTGGGGTT</td>\n",
       "      <td>TCGGCGCGTGA</td>\n",
       "      <td>GCTGATTCATTCCAACACTCTTGAGGCCGTTTCTATAAACGGTGAC...</td>\n",
       "      <td>GGTGCAAGGTTGTTGGGGAA</td>\n",
       "      <td>TGGGTAGTAAT</td>\n",
       "      <td>ATCTATCTAACCGCCCCCCG</td>\n",
       "      <td>GACGTCGCG</td>\n",
       "      <td>CCTAAATTTGGAG</td>\n",
       "    </tr>\n",
       "    <tr>\n",
       "      <th>3</th>\n",
       "      <td>ribozyme_0004</td>\n",
       "      <td>GAATTC</td>\n",
       "      <td>CGGACGTTATGGTTGGGGTT</td>\n",
       "      <td>GGAGATGATAG</td>\n",
       "      <td>CATATCTCTGTTCCTCTGCTGTAATCATGAGTCGGATCACTGGTTG...</td>\n",
       "      <td>GGTGCAAGGTTGTTGGGGAA</td>\n",
       "      <td>GCTAGGGCTTT</td>\n",
       "      <td>ATCTATCTAACCGCCCCCCG</td>\n",
       "      <td>GACGTCGCG</td>\n",
       "      <td>GCGCTGAGC</td>\n",
       "    </tr>\n",
       "    <tr>\n",
       "      <th>4</th>\n",
       "      <td>ribozyme_0005</td>\n",
       "      <td>GAATTC</td>\n",
       "      <td>CGGACGTTATGGTTGGGGTT</td>\n",
       "      <td>AGTGCATGTCC</td>\n",
       "      <td>GCATCCGTTGGTAACTTTCAATTGTTCAGGTCTCTGGCTTATCACG...</td>\n",
       "      <td>GGTGCAAGGTTGTTGGGGAA</td>\n",
       "      <td>CTCCGCGGTGG</td>\n",
       "      <td>ATCTATCTAACCGCCCCCCG</td>\n",
       "      <td>GACGTCGCG</td>\n",
       "      <td>ACTCTGTAAATC</td>\n",
       "    </tr>\n",
       "  </tbody>\n",
       "</table>\n",
       "</div>"
      ],
      "text/plain": [
       "              ID   EcoRI   OrangeForwardPrimer          BC1  \\\n",
       "0  ribozyme_0001  GAATTC  CGGACGTTATGGTTGGGGTT  TAGTCAAGCGC   \n",
       "1  ribozyme_0002  GAATTC  CGGACGTTATGGTTGGGGTT  CATTATATGTC   \n",
       "2  ribozyme_0003  GAATTC  CGGACGTTATGGTTGGGGTT  TCGGCGCGTGA   \n",
       "3  ribozyme_0004  GAATTC  CGGACGTTATGGTTGGGGTT  GGAGATGATAG   \n",
       "4  ribozyme_0005  GAATTC  CGGACGTTATGGTTGGGGTT  AGTGCATGTCC   \n",
       "\n",
       "                                             Variant     PinkForwardPrimer  \\\n",
       "0  CGTTCAGAAGCGCGCGACTGTACCGTCGTTAAGCACCTGACGTACT...  GGTGCAAGGTTGTTGGGGAA   \n",
       "1  TCTTCTATCATAGTTAGGCTACGGATCCTCCTCTAGGACACACCCG...  GGTGCAAGGTTGTTGGGGAA   \n",
       "2  GCTGATTCATTCCAACACTCTTGAGGCCGTTTCTATAAACGGTGAC...  GGTGCAAGGTTGTTGGGGAA   \n",
       "3  CATATCTCTGTTCCTCTGCTGTAATCATGAGTCGGATCACTGGTTG...  GGTGCAAGGTTGTTGGGGAA   \n",
       "4  GCATCCGTTGGTAACTTTCAATTGTTCAGGTCTCTGGCTTATCACG...  GGTGCAAGGTTGTTGGGGAA   \n",
       "\n",
       "           BC2   YellowReversePrimer AatIIPadded         Spacer  \n",
       "0  CTTGTCAGCCC  ATCTATCTAACCGCCCCCCG   GACGTCGCG  CCTAAATTTGGAG  \n",
       "1  CTTTGCTGCCG  ATCTATCTAACCGCCCCCCG   GACGTCGCG            CAG  \n",
       "2  TGGGTAGTAAT  ATCTATCTAACCGCCCCCCG   GACGTCGCG  CCTAAATTTGGAG  \n",
       "3  GCTAGGGCTTT  ATCTATCTAACCGCCCCCCG   GACGTCGCG      GCGCTGAGC  \n",
       "4  CTCCGCGGTGG  ATCTATCTAACCGCCCCCCG   GACGTCGCG   ACTCTGTAAATC  "
      ]
     },
     "execution_count": 9,
     "metadata": {},
     "output_type": "execute_result"
    }
   ],
   "source": [
    "df.head()"
   ]
  },
  {
   "cell_type": "code",
   "execution_count": 10,
   "id": "5d92f1fe-781e-477c-8a24-cf6b2fa86c1a",
   "metadata": {},
   "outputs": [],
   "source": [
    "def simulate_experiment(df, num_reads, read_length,fastq_prefix, seed=42):\n",
    "    '''Naive ribozyme experiment simulator.'''\n",
    "\n",
    "    # RNG Setup\n",
    "    rng = np.random.default_rng(seed=seed)\n",
    "    count = 0\n",
    "\n",
    "    # Quality Setup\n",
    "    q = np.array([\n",
    "        '!', '\"', '#', '$', '%', '&', \"'\", '(', ')', '*', '+', ',', '-',\n",
    "        '.', '/', '0', '1', '2', '3', '4', '5', '6', '7', '8', '9', ':',\n",
    "        ';', '<', '=', '>', '?', '@', 'A', 'B', 'C', 'D', 'E', 'F', 'G',\n",
    "        'H', 'I'], dtype='<U1')\n",
    "\n",
    "    # File IO Setup\n",
    "    r1_file = open(f'{fastq_prefix}_R1.fq', 'w')\n",
    "    r2_file = open(f'{fastq_prefix}_R2.fq', 'w')\n",
    "    clx = 10\n",
    "\n",
    "    # Prepare Products\n",
    "    products = []\n",
    "    for ix,row in df.iterrows():\n",
    "        idx = row['ID']\n",
    "        activity = ix+1\n",
    "        full_seq = row['OrangeForwardPrimer'] + row['BC1'] + row['Variant'] + row['PinkForwardPrimer'] + row['BC2'] + row['YellowReversePrimer']\n",
    "        cleaved_seq = (row['Variant'] + row['PinkForwardPrimer'] + row['BC2'] + row['YellowReversePrimer'])[clx:]\n",
    "        assert full_seq.index(cleaved_seq) == len(row['OrangeForwardPrimer']) + len(row['BC1']) + clx\n",
    "        products.append((idx, int(activity), full_seq, cleaved_seq))\n",
    "    weights = np.arange(len(products)) + 1\n",
    "    index = np.arange(len(products))\n",
    "\n",
    "    # Simulation Loop\n",
    "    reach  = 1\n",
    "    target = 10**3\n",
    "    while count <= num_reads:\n",
    "\n",
    "        # Show Update\n",
    "        if reach == target:\n",
    "            reach = 0\n",
    "            print(f'Simulating Read {count+1}', end='\\r')\n",
    "        reach += 1\n",
    "\n",
    "        # Select Ribozyme\n",
    "        (idx,\n",
    "         activity,\n",
    "         full_seq,\n",
    "         cleaved_seq) = products[rng.choice(index, p=weights/weights.sum())]\n",
    "\n",
    "        # Simulate Cleavage\n",
    "        roll = int(rng.integers(low=1, high=len(df)+1))\n",
    "\n",
    "        # Build Reads\n",
    "        if roll < activity:\n",
    "            r1,r2 = simulate_paired_end_reads(seq=cleaved_seq, read_length=read_length)\n",
    "        else:\n",
    "            r1,r2 = simulate_paired_end_reads(seq=full_seq, read_length=read_length)\n",
    "\n",
    "        # Attach Qualities\n",
    "        # q1 = attach_qualities(read=r1, rng=rng, q=q)\n",
    "        # q2 = attach_qualities(read=r2, rng=rng, q=q)\n",
    "        q1 = \"I\"*len(r1)\n",
    "        q2 = \"I\"*len(r2)\n",
    "\n",
    "        # Write Reads\n",
    "        r1_file.write(f'@SimRead_{idx}_R1\\n{r1}\\n+\\n{q1}\\n')\n",
    "        r2_file.write(f'@SimRead_{idx}_R2\\n{r2}\\n+\\n{q2}\\n')\n",
    "\n",
    "        # Update Counter\n",
    "        count += 1\n",
    "\n",
    "    # Close FD\n",
    "    r1_file.close()\n",
    "    r2_file.close()"
   ]
  },
  {
   "cell_type": "markdown",
   "id": "08e44e3b-019b-45a8-bdbd-bcc6bdb5a6ce",
   "metadata": {},
   "source": [
    "Simulating 100K reads."
   ]
  },
  {
   "cell_type": "code",
   "execution_count": 11,
   "id": "c43b727a-dc46-4627-8c86-2446e622dae5",
   "metadata": {},
   "outputs": [
    {
     "name": "stdout",
     "output_type": "stream",
     "text": [
      "Simulating Read 1000000\r"
     ]
    }
   ],
   "source": [
    "simulate_experiment(\n",
    "    df=df,\n",
    "    num_reads=10**6,\n",
    "    read_length=150,\n",
    "    fastq_prefix='ribozyme_1M',\n",
    "    seed=42)"
   ]
  },
  {
   "cell_type": "markdown",
   "id": "31599d20-34de-4864-b83d-92139affa677",
   "metadata": {},
   "source": [
    "Compress the files."
   ]
  },
  {
   "cell_type": "code",
   "execution_count": 12,
   "id": "ba6381a0-2837-4d4c-95f5-38fbdc36e5bc",
   "metadata": {},
   "outputs": [],
   "source": [
    "! pigz -f -11 -p48  *.fq"
   ]
  },
  {
   "cell_type": "markdown",
   "id": "5208a36e-2dea-4b9d-a5cf-0f9ec200a6ff",
   "metadata": {},
   "source": [
    "And we're done!"
   ]
  },
  {
   "cell_type": "markdown",
   "id": "cfa2390f-1e33-4a38-9ea0-cf7bc52e7d62",
   "metadata": {},
   "source": [
    "---"
   ]
  }
 ],
 "metadata": {
  "kernelspec": {
   "display_name": "Python 3 (ipykernel)",
   "language": "python",
   "name": "python3"
  },
  "language_info": {
   "codemirror_mode": {
    "name": "ipython",
    "version": 3
   },
   "file_extension": ".py",
   "mimetype": "text/x-python",
   "name": "python",
   "nbconvert_exporter": "python",
   "pygments_lexer": "ipython3",
   "version": "3.12.6"
  }
 },
 "nbformat": 4,
 "nbformat_minor": 5
}
